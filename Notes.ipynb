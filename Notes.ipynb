{
 "cells": [
  {
   "cell_type": "markdown",
   "id": "00142d8b",
   "metadata": {},
   "source": [
    "# gitpush"
   ]
  },
  {
   "cell_type": "code",
   "execution_count": 47,
   "id": "6c930d72",
   "metadata": {},
   "outputs": [],
   "source": [
    "#best way to great a list of consecutive intergers\n",
    "#is it \n",
    "list(range(1,13))\n",
    "#or \n",
    "months = [i for i in range(1,13)]"
   ]
  },
  {
   "cell_type": "code",
   "execution_count": 48,
   "id": "ec0cb6ad",
   "metadata": {},
   "outputs": [
    {
     "name": "stdout",
     "output_type": "stream",
     "text": [
      "1 2 3 4 5 6 7 8 9 10 11 12\n"
     ]
    }
   ],
   "source": [
    "print(*months)"
   ]
  },
  {
   "cell_type": "code",
   "execution_count": 49,
   "id": "6f478566",
   "metadata": {},
   "outputs": [
    {
     "data": {
      "text/plain": [
       "[12, 1, 2]"
      ]
     },
     "execution_count": 49,
     "metadata": {},
     "output_type": "execute_result"
    }
   ],
   "source": [
    "# how to handy do this round-up?\n",
    "months[-1:]+months[0:2]"
   ]
  },
  {
   "cell_type": "code",
   "execution_count": 50,
   "id": "8ba3d61c",
   "metadata": {},
   "outputs": [
    {
     "name": "stdout",
     "output_type": "stream",
     "text": [
      "[1, 2, 3, 4, 5, 6, 7, 8, 9, 10, 11, 12]\n",
      "['Jan', 2, 3, 4, 5, 6, 7, 8, 9, 10, 11, 12]\n",
      "['Janmuted', 2, 3, 4, 5, 6, 7, 8, 9, 10, 11, 12]\n"
     ]
    }
   ],
   "source": [
    "# = in python is like pointer...\n",
    "print(months)\n",
    "\n",
    "refer = months\n",
    "refer[0] = 'Jan'\n",
    "print(months)\n",
    "\n",
    "def mut(ls):\n",
    "    ref = ls\n",
    "    ref[0] = ref[0] +'muted'\n",
    "mut(months)\n",
    "print(months)"
   ]
  },
  {
   "cell_type": "code",
   "execution_count": 51,
   "id": "9dd0b621",
   "metadata": {},
   "outputs": [
    {
     "name": "stdout",
     "output_type": "stream",
     "text": [
      "['Jan', 2, 3, 4, 5, 6, 7, 8, 9, 10, 11, 12]\n"
     ]
    }
   ],
   "source": [
    "# list copy lists\n",
    "refert = list(months)\n",
    "refer[0] = 'Jan'\n",
    "print(months)"
   ]
  },
  {
   "cell_type": "code",
   "execution_count": 29,
   "id": "45d165f7",
   "metadata": {},
   "outputs": [
    {
     "name": "stdout",
     "output_type": "stream",
     "text": [
      "['u', 'n', 'i', 'v', 'e', 'r', 's', 'i', 't', 'y', ' ', 'o', 'f', ' ', 'I', 'l', 'l', 'i', 'n', 'o', 'i', 's']\n"
     ]
    },
    {
     "data": {
      "text/plain": [
       "'University of Illinois'"
      ]
     },
     "execution_count": 29,
     "metadata": {},
     "output_type": "execute_result"
    }
   ],
   "source": [
    "# string is unmutable\n",
    "university_name = \"university of Illinois\"\n",
    "unl = list(university_name)\n",
    "print(unl)\n",
    "unl[0]='U'\n",
    "''.join(unl)"
   ]
  },
  {
   "cell_type": "code",
   "execution_count": 57,
   "id": "eb239f93",
   "metadata": {},
   "outputs": [
    {
     "data": {
      "text/plain": [
       "False"
      ]
     },
     "execution_count": 57,
     "metadata": {},
     "output_type": "execute_result"
    }
   ],
   "source": [
    "5 not in [1,3,4] # how much time it takes\n",
    "5 not in (1,3,5)\n",
    "5 not in {1,3,5}"
   ]
  },
  {
   "cell_type": "code",
   "execution_count": 58,
   "id": "bf3fa304",
   "metadata": {},
   "outputs": [
    {
     "data": {
      "text/plain": [
       "False"
      ]
     },
     "execution_count": 58,
     "metadata": {},
     "output_type": "execute_result"
    }
   ],
   "source": [
    "# \"is\" is something\n",
    "type('') == str\n",
    "type('') is str\n",
    "[] is None"
   ]
  },
  {
   "cell_type": "code",
   "execution_count": 59,
   "id": "453f4504",
   "metadata": {},
   "outputs": [
    {
     "name": "stdout",
     "output_type": "stream",
     "text": [
      "No\n"
     ]
    }
   ],
   "source": [
    "if []:\n",
    "    print('Yes')\n",
    "else:\n",
    "    print('No')"
   ]
  },
  {
   "cell_type": "code",
   "execution_count": 80,
   "id": "e9e1a26a",
   "metadata": {},
   "outputs": [
    {
     "name": "stdout",
     "output_type": "stream",
     "text": [
      "[('Jan', 12), (2, 11), (3, 10), (4, 9), (5, 8), (6, 7), (7, 6), (8, 5), (9, 4), (10, 3), (11, 2), (12, 1)]\n",
      "[(0, 12), (1, 11), (2, 10), (3, 9), (4, 8), (5, 7), (6, 6), (7, 5), (8, 4), (9, 3), (10, 2), (11, 1)]\n"
     ]
    }
   ],
   "source": [
    "# is zip literable?\n",
    "ls = [1,2,3]\n",
    "inverse_count = list(range(12,0,-1))\n",
    "zipped = zip(months,inverse_count)\n",
    "enum = enumerate(inverse_count)\n",
    "print(list(zipped))\n",
    "print(list(enum))"
   ]
  },
  {
   "cell_type": "code",
   "execution_count": 76,
   "id": "da4f5f11",
   "metadata": {},
   "outputs": [
    {
     "name": "stdout",
     "output_type": "stream",
     "text": [
      "Yeah\n"
     ]
    }
   ],
   "source": [
    "if type('') is str:\n",
    "    print('Yeah')"
   ]
  },
  {
   "cell_type": "code",
   "execution_count": 2,
   "id": "b0773a57",
   "metadata": {},
   "outputs": [
    {
     "name": "stdout",
     "output_type": "stream",
     "text": [
      "not found\n"
     ]
    }
   ],
   "source": [
    "for i in list(range(1,4)):\n",
    "    if i % 5 == 0:\n",
    "        print('found',i)\n",
    "        break\n",
    "else:\n",
    "    print('not found')"
   ]
  },
  {
   "cell_type": "code",
   "execution_count": 28,
   "id": "28dac927",
   "metadata": {},
   "outputs": [
    {
     "data": {
      "text/plain": [
       "'price:    13.140'"
      ]
     },
     "execution_count": 28,
     "metadata": {},
     "output_type": "execute_result"
    }
   ],
   "source": [
    "'price:{price:10.3f}'.format(price=13.14)"
   ]
  },
  {
   "cell_type": "markdown",
   "id": "f07cbad7",
   "metadata": {},
   "source": [
    "String formats: https://www.w3schools.com/python/ref_string_format.asp"
   ]
  },
  {
   "cell_type": "code",
   "execution_count": null,
   "id": "03fd7048",
   "metadata": {},
   "outputs": [],
   "source": []
  }
 ],
 "metadata": {
  "kernelspec": {
   "display_name": "Python 3 (ipykernel)",
   "language": "python",
   "name": "python3"
  },
  "language_info": {
   "codemirror_mode": {
    "name": "ipython",
    "version": 3
   },
   "file_extension": ".py",
   "mimetype": "text/x-python",
   "name": "python",
   "nbconvert_exporter": "python",
   "pygments_lexer": "ipython3",
   "version": "3.9.13"
  }
 },
 "nbformat": 4,
 "nbformat_minor": 5
}

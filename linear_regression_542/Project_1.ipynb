{
 "cells": [
  {
   "cell_type": "code",
   "execution_count": 68,
   "metadata": {
    "id": "ed4zzH4Q_8BK"
   },
   "outputs": [],
   "source": [
    "import pandas as pd\n",
    "import numpy as np\n",
    "\n",
    "from sklearn.preprocessing import OneHotEncoder\n",
    "from sklearn.preprocessing import StandardScaler\n",
    "\n",
    "from xgboost import XGBRegressor\n",
    "from sklearn.linear_model import ElasticNet\n",
    "from sklearn.model_selection import GridSearchCV, cross_val_score, KFold\n",
    "\n",
    "from scipy.stats import skew\n",
    "\n",
    "import warnings\n",
    "\n",
    "warnings.filterwarnings('ignore')"
   ]
  },
  {
   "cell_type": "code",
   "execution_count": null,
   "metadata": {
    "id": "32moD3xUubek"
   },
   "outputs": [],
   "source": []
  },
  {
   "cell_type": "code",
   "execution_count": 46,
   "metadata": {
    "id": "cuqXruHJubkf"
   },
   "outputs": [],
   "source": [
    "def preprocessing(train_url, test_url, test_y_url):\n",
    "\n",
    "    df_train = pd.read_csv(train_url)\n",
    "    df_train['Garage_Yr_Blt'] = df_train['Garage_Yr_Blt'].fillna(0)\n",
    "    y = np.log(df_train['Sale_Price'])\n",
    "    df_train = df_train.drop(['PID','Sale_Price'],axis = 1)\n",
    "\n",
    "    features_to_remove = ['Street', 'Utilities', 'Condition_2', 'Roof_Matl', 'Heating', 'Pool_QC', 'Misc_Feature', 'Low_Qual_Fin_SF', 'Pool_Area', 'Longitude','Latitude']\n",
    "    df_train = df_train.drop(features_to_remove,axis = 1)\n",
    "\n",
    "    features_to_winsor = [\"Lot_Frontage\", \"Lot_Area\", \"Mas_Vnr_Area\", \"BsmtFin_SF_2\", \"Bsmt_Unf_SF\", \"Total_Bsmt_SF\", \"Second_Flr_SF\", 'First_Flr_SF', \"Gr_Liv_Area\", \"Garage_Area\", \"Wood_Deck_SF\", \"Open_Porch_SF\", \"Enclosed_Porch\", \"Three_season_porch\", \"Screen_Porch\", \"Misc_Val\"]\n",
    "\n",
    "    def revalue_column(x, M):\n",
    "        if x < M:\n",
    "            return x\n",
    "        else:\n",
    "            return M\n",
    "\n",
    "    percentile = 0.95\n",
    "    Winzorization_M = []\n",
    "    for column in features_to_winsor:\n",
    "        M = df_train[column].quantile(percentile)\n",
    "        df_train[column] = df_train[column].apply(lambda x: revalue_column(x, M))\n",
    "        Winzorization_M.append(M)\n",
    "\n",
    "    categorical_features = df_train.select_dtypes(include=['object', 'category'])\n",
    "    numerical_features = df_train.select_dtypes(exclude=['object', 'category'])\n",
    "\n",
    "    scaler = StandardScaler()\n",
    "    scaled_numerical_features = scaler.fit_transform(numerical_features)\n",
    "    scaled_numerical_df = pd.DataFrame(scaled_numerical_features, columns=numerical_features.columns)\n",
    "\n",
    "    encoder = OneHotEncoder(sparse=False,handle_unknown='ignore')\n",
    "    encoded_categorical_features = encoder.fit_transform(categorical_features)\n",
    "    encoded_categorical_df = pd.DataFrame(encoded_categorical_features, columns=encoder.get_feature_names_out(input_features=categorical_features.columns))\n",
    "\n",
    "    df_encoded = pd.concat([scaled_numerical_df, encoded_categorical_df], axis=1)\n",
    "\n",
    "\n",
    "\n",
    "    df_test = pd.read_csv(test_url)\n",
    "    y_test = pd.read_csv(test_y_url)\n",
    "    y_test_log = np.log(y_test['Sale_Price'])\n",
    "\n",
    "    df_test['Garage_Yr_Blt'] = df_test['Garage_Yr_Blt'].fillna(0)\n",
    "    df_test = df_test.drop(['PID'],axis = 1)\n",
    "    df_test = df_test.drop(features_to_remove,axis = 1)\n",
    "    for column, M in zip(features_to_winsor,Winzorization_M):\n",
    "        df_test[column] = df_test[column].apply(lambda x: revalue_column(x, M))\n",
    "\n",
    "    categorical_features_test = df_test.select_dtypes(include=['object', 'category'])\n",
    "    numerical_features_test = df_test.select_dtypes(exclude=['object', 'category'])\n",
    "    scaled_numerical_features_test = scaler.transform(numerical_features_test)\n",
    "    scaled_numerical_df_test = pd.DataFrame(scaled_numerical_features_test, columns=numerical_features.columns)\n",
    "    encoded_categorical_features_test = encoder.transform(categorical_features_test)\n",
    "    encoded_categorical_df_test = pd.DataFrame(encoded_categorical_features_test, columns=encoder.get_feature_names_out(input_features=categorical_features.columns))\n",
    "    df_encoded_test = pd.concat([scaled_numerical_df_test, encoded_categorical_df_test], axis=1)\n",
    "\n",
    "    return df_encoded, y, df_encoded_test, y_test_log"
   ]
  },
  {
   "cell_type": "code",
   "execution_count": null,
   "metadata": {},
   "outputs": [],
   "source": []
  },
  {
   "cell_type": "code",
   "execution_count": 125,
   "metadata": {},
   "outputs": [],
   "source": [
    "def preprocessing2(train_url, test_url, test_y_url):\n",
    "\n",
    "    df_train = pd.read_csv(train_url)\n",
    "    df_train['Garage_Yr_Blt'] = df_train['Garage_Yr_Blt'].fillna(0)\n",
    "    y = np.log(df_train['Sale_Price'])\n",
    "    df_train = df_train.drop(['PID','Sale_Price'],axis = 1)\n",
    "\n",
    "    \n",
    "    imbalance_threshold = 0.95  # For example, 95% of the samples belonging to one category\n",
    "    imbalanced_columns = []\n",
    "    for column in df_train.columns:\n",
    "        value_counts = df_train[column].value_counts(normalize=True)\n",
    "        most_common_category = value_counts.idxmax()\n",
    "        most_common_category_percentage = value_counts.max()    \n",
    "    if most_common_category_percentage >= imbalance_threshold:\n",
    "        imbalanced_columns.append(column)\n",
    "    df_train = df_train.drop(imbalanced_columns,axis = 1)\n",
    "\n",
    "    numeric_feats = df_train.dtypes[df_train.dtypes != \"object\"].index\n",
    "#     skewed_feats = df_train[numeric_feats].apply(lambda x: skew(x.dropna())) #compute skewness\n",
    "#     skewed_feats = skewed_feats[skewed_feats > 0.75]\n",
    "#     skewed_feats = skewed_feats.index\n",
    "#     df_train[skewed_feats] = np.log1p(df_train[skewed_feats])\n",
    "\n",
    "#    features_to_winsor = [\"Lot_Frontage\", \"Lot_Area\", \"Mas_Vnr_Area\", \"BsmtFin_SF_2\", \"Bsmt_Unf_SF\", \"Total_Bsmt_SF\", \"Second_Flr_SF\", 'First_Flr_SF', \"Gr_Liv_Area\", \"Garage_Area\", \"Wood_Deck_SF\", \"Open_Porch_SF\", \"Enclosed_Porch\", \"Three_season_porch\", \"Screen_Porch\", \"Misc_Val\"]\n",
    "    features_to_winsor = numeric_feats\n",
    "    def revalue_column(x, M):\n",
    "        if x < M:\n",
    "            return x\n",
    "        else:\n",
    "            return M\n",
    "\n",
    "    percentile = 0.95\n",
    "    Winzorization_M = []\n",
    "    for column in features_to_winsor:\n",
    "        M = df_train[column].quantile(percentile)\n",
    "        df_train[column] = df_train[column].apply(lambda x: revalue_column(x, M))\n",
    "        Winzorization_M.append(M)\n",
    "        \n",
    "#     skewed_feats = df_train[numeric_feats].apply(lambda x: skew(x.dropna())) #compute skewness\n",
    "#     skewed_feats = skewed_feats[skewed_feats > 0.75]\n",
    "#     skewed_feats = skewed_feats.index\n",
    "#     df_train[skewed_feats] = np.log1p(df_train[skewed_feats])\n",
    "    \n",
    "\n",
    "    categorical_features = df_train.select_dtypes(include=['object', 'category'])\n",
    "    numerical_features = df_train.select_dtypes(exclude=['object', 'category'])\n",
    "\n",
    "    scaler = StandardScaler()\n",
    "    scaled_numerical_features = scaler.fit_transform(numerical_features)\n",
    "    scaled_numerical_df = pd.DataFrame(scaled_numerical_features, columns=numerical_features.columns)\n",
    "\n",
    "    encoder = OneHotEncoder(sparse=False,handle_unknown='ignore')\n",
    "    encoded_categorical_features = encoder.fit_transform(categorical_features)\n",
    "    encoded_categorical_df = pd.DataFrame(encoded_categorical_features, columns=encoder.get_feature_names_out(input_features=categorical_features.columns))\n",
    "\n",
    "    df_encoded = pd.concat([scaled_numerical_df, encoded_categorical_df], axis=1)\n",
    "\n",
    "\n",
    "\n",
    "    df_test = pd.read_csv(test_url)\n",
    "    y_test = pd.read_csv(test_y_url)\n",
    "    y_test_log = np.log(y_test['Sale_Price'])\n",
    "\n",
    "    df_test['Garage_Yr_Blt'] = df_test['Garage_Yr_Blt'].fillna(0)\n",
    "    df_test = df_test.drop(['PID'],axis = 1)\n",
    "    df_test = df_test.drop(imbalanced_columns,axis = 1)\n",
    "#    df_test[skewed_feats] = np.log1p(df_test[skewed_feats])\n",
    "    for column, M in zip(features_to_winsor, Winzorization_M):\n",
    "        df_test[column] = df_test[column].apply(lambda x: revalue_column(x, M))\n",
    "#    df_test[skewed_feats] = np.log1p(df_test[skewed_feats])\n",
    "\n",
    "    categorical_features_test = df_test.select_dtypes(include=['object', 'category'])\n",
    "    numerical_features_test = df_test.select_dtypes(exclude=['object', 'category'])\n",
    "    scaled_numerical_features_test = scaler.transform(numerical_features_test)\n",
    "    scaled_numerical_df_test = pd.DataFrame(scaled_numerical_features_test, columns=numerical_features.columns)\n",
    "    encoded_categorical_features_test = encoder.transform(categorical_features_test)\n",
    "    encoded_categorical_df_test = pd.DataFrame(encoded_categorical_features_test, columns=encoder.get_feature_names_out(input_features=categorical_features.columns))\n",
    "    df_encoded_test = pd.concat([scaled_numerical_df_test, encoded_categorical_df_test], axis=1)\n",
    "\n",
    "    return df_encoded, y, df_encoded_test, y_test_log"
   ]
  },
  {
   "cell_type": "code",
   "execution_count": null,
   "metadata": {},
   "outputs": [],
   "source": []
  },
  {
   "cell_type": "code",
   "execution_count": 136,
   "metadata": {},
   "outputs": [],
   "source": [
    "def rmse(y, y_pred):\n",
    "    n = len(y)\n",
    "    return np.sqrt(sum((y-y_pred)**2) / n)\n",
    "\n",
    "\n",
    "def model_fit(model, df_encoded, y, df_encoded_test, y_test_log, random_state = 0):\n",
    "\n",
    "    if model == 'elastic_net':\n",
    "        elastic_net = ElasticNet(l1_ratio = 0.5)\n",
    "        alphas = np.logspace(-4, 3, 15)\n",
    "        param_grid = {'alpha': alphas}\n",
    "        kfold = KFold(n_splits=5, shuffle=True, random_state=0)  # Example 5-fold cross-validation\n",
    "\n",
    "        grid_search = GridSearchCV(elastic_net, param_grid, cv=kfold, scoring='neg_mean_squared_error', n_jobs=-1)\n",
    "        grid_search.fit(df_encoded, y)\n",
    "\n",
    "        best_alpha = grid_search.best_params_['alpha']\n",
    "        best_elastic_net = ElasticNet(alpha=best_alpha, l1_ratio = 0.5, random_state = random_state)\n",
    "        best_elastic_net.fit(df_encoded, y)\n",
    "\n",
    "        y_pred = best_elastic_net.predict(df_encoded_test)\n",
    "        \n",
    "        return rmse(y_pred, y_test_log)\n",
    "\n",
    "    \n",
    "\n",
    "    \n",
    "    if model == 'xgboost':\n",
    "        xgb_model = XGBRegressor(n_estimators=5000, learning_rate=0.05, max_depth=6, subsample = 0.5, random_state=random_state)\n",
    "        xgb_model.fit(df_encoded, y)\n",
    "        y_pred = xgb_model.predict(df_encoded_test)\n",
    "\n",
    "        return rmse(y_pred, y_test_log)"
   ]
  },
  {
   "cell_type": "code",
   "execution_count": 112,
   "metadata": {
    "id": "lY_-ldmdzhVu"
   },
   "outputs": [],
   "source": [
    "folder_path = 'proj1/fold'+str(1) + '/'\n",
    "train_url =folder_path +'train.csv'\n",
    "test_url = folder_path+'test.csv'\n",
    "test_y_url = folder_path+'test_y.csv'"
   ]
  },
  {
   "cell_type": "code",
   "execution_count": 113,
   "metadata": {},
   "outputs": [],
   "source": [
    "df_encoded, y, df_encoded_test, y_test_log  = preprocessing2(train_url, test_url, test_y_url)"
   ]
  },
  {
   "cell_type": "code",
   "execution_count": 139,
   "metadata": {},
   "outputs": [],
   "source": [
    "elastic_net = ElasticNet(l1_ratio = 0.5)\n",
    "alphas = np.logspace(-4, 3, 15)\n",
    "param_grid = {'alpha': alphas}\n",
    "kfold = KFold(n_splits=5, shuffle=True, random_state=0)  # Example 5-fold cross-validation\n",
    "\n",
    "grid_search = GridSearchCV(elastic_net, param_grid, cv=kfold, scoring='neg_mean_squared_error', n_jobs=-1)\n",
    "grid_search.fit(df_encoded, y)\n",
    "\n",
    "best_alpha = grid_search.best_params_['alpha']\n",
    "best_elastic_net = ElasticNet(alpha=best_alpha, l1_ratio = 0.5, random_state = 0)\n",
    "best_elastic_net.fit(df_encoded, y)\n",
    "\n",
    "y_pred = best_elastic_net.predict(df_encoded_test)"
   ]
  },
  {
   "cell_type": "code",
   "execution_count": 142,
   "metadata": {},
   "outputs": [],
   "source": [
    "df_test = pd.read_csv(test_url)"
   ]
  },
  {
   "cell_type": "code",
   "execution_count": 145,
   "metadata": {},
   "outputs": [],
   "source": [
    "df_PID = df_test[['PID']]"
   ]
  },
  {
   "cell_type": "code",
   "execution_count": 147,
   "metadata": {},
   "outputs": [],
   "source": [
    "df_PID['Sale_Price'] = y_pred"
   ]
  },
  {
   "cell_type": "code",
   "execution_count": 150,
   "metadata": {},
   "outputs": [],
   "source": [
    "df_PID.to_csv('data.txt', index=False)"
   ]
  },
  {
   "cell_type": "code",
   "execution_count": null,
   "metadata": {},
   "outputs": [],
   "source": []
  },
  {
   "cell_type": "code",
   "execution_count": null,
   "metadata": {},
   "outputs": [],
   "source": []
  },
  {
   "cell_type": "code",
   "execution_count": 114,
   "metadata": {},
   "outputs": [
    {
     "data": {
      "text/plain": [
       "0.120418471337646"
      ]
     },
     "execution_count": 114,
     "metadata": {},
     "output_type": "execute_result"
    }
   ],
   "source": [
    "model_fit('elastic_net', df_encoded, y, df_encoded_test, y_test_log)"
   ]
  },
  {
   "cell_type": "code",
   "execution_count": 115,
   "metadata": {},
   "outputs": [
    {
     "data": {
      "text/plain": [
       "0.11732956032094531"
      ]
     },
     "execution_count": 115,
     "metadata": {},
     "output_type": "execute_result"
    }
   ],
   "source": [
    "model_fit('xgboost', df_encoded, y, df_encoded_test, y_test_log)"
   ]
  },
  {
   "cell_type": "code",
   "execution_count": null,
   "metadata": {},
   "outputs": [],
   "source": []
  },
  {
   "cell_type": "code",
   "execution_count": 137,
   "metadata": {},
   "outputs": [
    {
     "name": "stdout",
     "output_type": "stream",
     "text": [
      "fold1 is processed\n",
      "eln_rmse: 0.1204; xgb_rmse: 0.1173\n",
      "time eclapsed: 11.90 seconds\n",
      "fold2 is processed\n",
      "eln_rmse: 0.1167; xgb_rmse: 0.1202\n",
      "time eclapsed: 24.47 seconds\n",
      "fold3 is processed\n",
      "eln_rmse: 0.1169; xgb_rmse: 0.1121\n",
      "time eclapsed: 36.38 seconds\n",
      "fold4 is processed\n",
      "eln_rmse: 0.1190; xgb_rmse: 0.1187\n",
      "time eclapsed: 48.32 seconds\n",
      "fold5 is processed\n",
      "eln_rmse: 0.1100; xgb_rmse: 0.1082\n",
      "time eclapsed: 59.26 seconds\n",
      "fold6 is processed\n",
      "eln_rmse: 0.1344; xgb_rmse: 0.1263\n",
      "time eclapsed: 71.80 seconds\n",
      "fold7 is processed\n",
      "eln_rmse: 0.1346; xgb_rmse: 0.1337\n",
      "time eclapsed: 84.40 seconds\n",
      "fold8 is processed\n",
      "eln_rmse: 0.1317; xgb_rmse: 0.1258\n",
      "time eclapsed: 96.08 seconds\n",
      "fold9 is processed\n",
      "eln_rmse: 0.1342; xgb_rmse: 0.1342\n",
      "time eclapsed: 107.70 seconds\n",
      "fold10 is processed\n",
      "eln_rmse: 0.1257; xgb_rmse: 0.1172\n",
      "time eclapsed: 122.14 seconds\n"
     ]
    }
   ],
   "source": [
    "import time\n",
    "eln_rmses = []\n",
    "xgb_rmses = []\n",
    "start = time.time()\n",
    "for i in range(1, 11):\n",
    "    folder_path = 'proj1/fold' + str(i) + '/'\n",
    "    train_url = folder_path +'train.csv'\n",
    "    test_url = folder_path +'test.csv'\n",
    "    test_y_url = folder_path+'test_y.csv'\n",
    "    df_encoded, y, df_encoded_test, y_test_log  = preprocessing2(train_url, test_url, test_y_url)\n",
    "    eln_rmse = model_fit('elastic_net', df_encoded, y, df_encoded_test, y_test_log)\n",
    "    xgb_rmse = model_fit('xgboost', df_encoded, y, df_encoded_test, y_test_log)\n",
    "    eln_rmses.append(eln_rmse)\n",
    "    xgb_rmses.append(xgb_rmse)\n",
    "    print('fold%i is processed'%i)\n",
    "    print('eln_rmse: %0.4f; xgb_rmse: %0.4f'%(eln_rmse,xgb_rmse))\n",
    "    end = time.time()\n",
    "    print('time eclapsed: %0.2f seconds'%(end - start))"
   ]
  },
  {
   "cell_type": "code",
   "execution_count": 133,
   "metadata": {},
   "outputs": [
    {
     "data": {
      "text/plain": [
       "[0.12072248178924753,\n",
       " 0.11633318961225038,\n",
       " 0.11255926425295261,\n",
       " 0.11743469806470508,\n",
       " 0.10960988690287644,\n",
       " 0.13491271115423845,\n",
       " 0.13293956054909162,\n",
       " 0.13389810631405274,\n",
       " 0.13188625697097178,\n",
       " 0.12386253372623444]"
      ]
     },
     "execution_count": 133,
     "metadata": {},
     "output_type": "execute_result"
    }
   ],
   "source": [
    "eln_rmses"
   ]
  },
  {
   "cell_type": "code",
   "execution_count": 130,
   "metadata": {},
   "outputs": [
    {
     "data": {
      "text/plain": [
       "[0.120418471337646,\n",
       " 0.11666886892240716,\n",
       " 0.11692502547780458,\n",
       " 0.11898300292600848,\n",
       " 0.10998529498473042,\n",
       " 0.13443988501751325,\n",
       " 0.13458532311350888,\n",
       " 0.13167427127322787,\n",
       " 0.1341872395086161,\n",
       " 0.12570331901397372]"
      ]
     },
     "execution_count": 130,
     "metadata": {},
     "output_type": "execute_result"
    }
   ],
   "source": [
    "eln_rmses"
   ]
  },
  {
   "cell_type": "code",
   "execution_count": 128,
   "metadata": {},
   "outputs": [
    {
     "data": {
      "text/plain": [
       "[0.12069066581966756,\n",
       " 0.11902959662452446,\n",
       " 0.11502475387016499,\n",
       " 0.11697840041219981,\n",
       " 0.1088991384088278,\n",
       " 0.1351791936474391,\n",
       " 0.1344472506779932,\n",
       " 0.13033436174513743,\n",
       " 0.13417875497262374,\n",
       " 0.12368109290158238]"
      ]
     },
     "execution_count": 128,
     "metadata": {},
     "output_type": "execute_result"
    }
   ],
   "source": [
    "eln_rmses"
   ]
  },
  {
   "cell_type": "code",
   "execution_count": 123,
   "metadata": {},
   "outputs": [
    {
     "data": {
      "text/plain": [
       "[0.1211615943289207,\n",
       " 0.1209208942003242,\n",
       " 0.11153898855056284,\n",
       " 0.1158000473091199,\n",
       " 0.10900082225430156,\n",
       " 0.1357887975112798,\n",
       " 0.13191338841275926,\n",
       " 0.1263647849793146,\n",
       " 0.13105938373445072,\n",
       " 0.12392414411441534]"
      ]
     },
     "execution_count": 123,
     "metadata": {},
     "output_type": "execute_result"
    },
    {
     "name": "stderr",
     "output_type": "stream",
     "text": [
      "/Users/wenbofu/miniforge3/envs/torch_m1/lib/python3.8/site-packages/sklearn/linear_model/_coordinate_descent.py:647: ConvergenceWarning: Objective did not converge. You might want to increase the number of iterations, check the scale of the features or consider increasing regularisation. Duality gap: 2.724e+00, tolerance: 2.864e-02\n",
      "  model = cd_fast.enet_coordinate_descent(\n",
      "/Users/wenbofu/miniforge3/envs/torch_m1/lib/python3.8/site-packages/sklearn/linear_model/_coordinate_descent.py:647: ConvergenceWarning: Objective did not converge. You might want to increase the number of iterations, check the scale of the features or consider increasing regularisation. Duality gap: 4.148e-01, tolerance: 2.847e-02\n",
      "  model = cd_fast.enet_coordinate_descent(\n",
      "/Users/wenbofu/miniforge3/envs/torch_m1/lib/python3.8/site-packages/sklearn/linear_model/_coordinate_descent.py:647: ConvergenceWarning: Objective did not converge. You might want to increase the number of iterations, check the scale of the features or consider increasing regularisation. Duality gap: 9.133e-02, tolerance: 2.883e-02\n",
      "  model = cd_fast.enet_coordinate_descent(\n",
      "/Users/wenbofu/miniforge3/envs/torch_m1/lib/python3.8/site-packages/sklearn/linear_model/_coordinate_descent.py:647: ConvergenceWarning: Objective did not converge. You might want to increase the number of iterations, check the scale of the features or consider increasing regularisation. Duality gap: 1.070e+00, tolerance: 2.696e-02\n",
      "  model = cd_fast.enet_coordinate_descent(\n",
      "/Users/wenbofu/miniforge3/envs/torch_m1/lib/python3.8/site-packages/sklearn/linear_model/_coordinate_descent.py:647: ConvergenceWarning: Objective did not converge. You might want to increase the number of iterations, check the scale of the features or consider increasing regularisation. Duality gap: 1.144e+00, tolerance: 2.890e-02\n",
      "  model = cd_fast.enet_coordinate_descent(\n",
      "/Users/wenbofu/miniforge3/envs/torch_m1/lib/python3.8/site-packages/sklearn/linear_model/_coordinate_descent.py:647: ConvergenceWarning: Objective did not converge. You might want to increase the number of iterations, check the scale of the features or consider increasing regularisation. Duality gap: 1.890e-01, tolerance: 2.657e-02\n",
      "  model = cd_fast.enet_coordinate_descent(\n",
      "/Users/wenbofu/miniforge3/envs/torch_m1/lib/python3.8/site-packages/sklearn/linear_model/_coordinate_descent.py:647: ConvergenceWarning: Objective did not converge. You might want to increase the number of iterations, check the scale of the features or consider increasing regularisation. Duality gap: 1.852e+00, tolerance: 2.678e-02\n",
      "  model = cd_fast.enet_coordinate_descent(\n",
      "/Users/wenbofu/miniforge3/envs/torch_m1/lib/python3.8/site-packages/sklearn/linear_model/_coordinate_descent.py:647: ConvergenceWarning: Objective did not converge. You might want to increase the number of iterations, check the scale of the features or consider increasing regularisation. Duality gap: 2.206e-01, tolerance: 2.863e-02\n",
      "  model = cd_fast.enet_coordinate_descent(\n",
      "/Users/wenbofu/miniforge3/envs/torch_m1/lib/python3.8/site-packages/sklearn/linear_model/_coordinate_descent.py:647: ConvergenceWarning: Objective did not converge. You might want to increase the number of iterations, check the scale of the features or consider increasing regularisation. Duality gap: 7.488e-01, tolerance: 2.657e-02\n",
      "  model = cd_fast.enet_coordinate_descent(\n",
      "/Users/wenbofu/miniforge3/envs/torch_m1/lib/python3.8/site-packages/sklearn/linear_model/_coordinate_descent.py:647: ConvergenceWarning: Objective did not converge. You might want to increase the number of iterations, check the scale of the features or consider increasing regularisation. Duality gap: 2.321e+00, tolerance: 2.824e-02\n",
      "  model = cd_fast.enet_coordinate_descent(\n",
      "/Users/wenbofu/miniforge3/envs/torch_m1/lib/python3.8/site-packages/sklearn/linear_model/_coordinate_descent.py:647: ConvergenceWarning: Objective did not converge. You might want to increase the number of iterations, check the scale of the features or consider increasing regularisation. Duality gap: 4.082e-01, tolerance: 2.784e-02\n",
      "  model = cd_fast.enet_coordinate_descent(\n",
      "/Users/wenbofu/miniforge3/envs/torch_m1/lib/python3.8/site-packages/sklearn/linear_model/_coordinate_descent.py:647: ConvergenceWarning: Objective did not converge. You might want to increase the number of iterations, check the scale of the features or consider increasing regularisation. Duality gap: 7.046e-01, tolerance: 2.950e-02\n",
      "  model = cd_fast.enet_coordinate_descent(\n",
      "/Users/wenbofu/miniforge3/envs/torch_m1/lib/python3.8/site-packages/sklearn/linear_model/_coordinate_descent.py:647: ConvergenceWarning: Objective did not converge. You might want to increase the number of iterations, check the scale of the features or consider increasing regularisation. Duality gap: 2.013e+00, tolerance: 2.946e-02\n",
      "  model = cd_fast.enet_coordinate_descent(\n",
      "/Users/wenbofu/miniforge3/envs/torch_m1/lib/python3.8/site-packages/sklearn/linear_model/_coordinate_descent.py:647: ConvergenceWarning: Objective did not converge. You might want to increase the number of iterations, check the scale of the features or consider increasing regularisation. Duality gap: 3.301e-02, tolerance: 2.820e-02\n",
      "  model = cd_fast.enet_coordinate_descent(\n",
      "/Users/wenbofu/miniforge3/envs/torch_m1/lib/python3.8/site-packages/sklearn/linear_model/_coordinate_descent.py:647: ConvergenceWarning: Objective did not converge. You might want to increase the number of iterations, check the scale of the features or consider increasing regularisation. Duality gap: 4.714e-01, tolerance: 2.633e-02\n",
      "  model = cd_fast.enet_coordinate_descent(\n",
      "/Users/wenbofu/miniforge3/envs/torch_m1/lib/python3.8/site-packages/sklearn/linear_model/_coordinate_descent.py:647: ConvergenceWarning: Objective did not converge. You might want to increase the number of iterations, check the scale of the features or consider increasing regularisation. Duality gap: 1.084e+00, tolerance: 2.824e-02\n",
      "  model = cd_fast.enet_coordinate_descent(\n",
      "/Users/wenbofu/miniforge3/envs/torch_m1/lib/python3.8/site-packages/sklearn/linear_model/_coordinate_descent.py:647: ConvergenceWarning: Objective did not converge. You might want to increase the number of iterations, check the scale of the features or consider increasing regularisation. Duality gap: 2.200e+00, tolerance: 3.007e-02\n",
      "  model = cd_fast.enet_coordinate_descent(\n",
      "/Users/wenbofu/miniforge3/envs/torch_m1/lib/python3.8/site-packages/sklearn/linear_model/_coordinate_descent.py:647: ConvergenceWarning: Objective did not converge. You might want to increase the number of iterations, check the scale of the features or consider increasing regularisation. Duality gap: 1.625e+00, tolerance: 2.798e-02\n",
      "  model = cd_fast.enet_coordinate_descent(\n",
      "/Users/wenbofu/miniforge3/envs/torch_m1/lib/python3.8/site-packages/sklearn/linear_model/_coordinate_descent.py:647: ConvergenceWarning: Objective did not converge. You might want to increase the number of iterations, check the scale of the features or consider increasing regularisation. Duality gap: 3.070e-01, tolerance: 2.619e-02\n",
      "  model = cd_fast.enet_coordinate_descent(\n",
      "/Users/wenbofu/miniforge3/envs/torch_m1/lib/python3.8/site-packages/sklearn/linear_model/_coordinate_descent.py:647: ConvergenceWarning: Objective did not converge. You might want to increase the number of iterations, check the scale of the features or consider increasing regularisation. Duality gap: 4.217e-01, tolerance: 2.765e-02\n",
      "  model = cd_fast.enet_coordinate_descent(\n",
      "/Users/wenbofu/miniforge3/envs/torch_m1/lib/python3.8/site-packages/sklearn/linear_model/_coordinate_descent.py:647: ConvergenceWarning: Objective did not converge. You might want to increase the number of iterations, check the scale of the features or consider increasing regularisation. Duality gap: 2.678e-01, tolerance: 2.756e-02\n",
      "  model = cd_fast.enet_coordinate_descent(\n",
      "/Users/wenbofu/miniforge3/envs/torch_m1/lib/python3.8/site-packages/sklearn/linear_model/_coordinate_descent.py:647: ConvergenceWarning: Objective did not converge. You might want to increase the number of iterations, check the scale of the features or consider increasing regularisation. Duality gap: 1.863e+00, tolerance: 2.751e-02\n",
      "  model = cd_fast.enet_coordinate_descent(\n",
      "/Users/wenbofu/miniforge3/envs/torch_m1/lib/python3.8/site-packages/sklearn/linear_model/_coordinate_descent.py:647: ConvergenceWarning: Objective did not converge. You might want to increase the number of iterations, check the scale of the features or consider increasing regularisation. Duality gap: 1.589e+00, tolerance: 2.852e-02\n",
      "  model = cd_fast.enet_coordinate_descent(\n",
      "/Users/wenbofu/miniforge3/envs/torch_m1/lib/python3.8/site-packages/sklearn/linear_model/_coordinate_descent.py:647: ConvergenceWarning: Objective did not converge. You might want to increase the number of iterations, check the scale of the features or consider increasing regularisation. Duality gap: 9.834e-02, tolerance: 2.651e-02\n",
      "  model = cd_fast.enet_coordinate_descent(\n",
      "/Users/wenbofu/miniforge3/envs/torch_m1/lib/python3.8/site-packages/sklearn/linear_model/_coordinate_descent.py:647: ConvergenceWarning: Objective did not converge. You might want to increase the number of iterations, check the scale of the features or consider increasing regularisation. Duality gap: 8.321e-01, tolerance: 2.811e-02\n",
      "  model = cd_fast.enet_coordinate_descent(\n",
      "/Users/wenbofu/miniforge3/envs/torch_m1/lib/python3.8/site-packages/sklearn/linear_model/_coordinate_descent.py:647: ConvergenceWarning: Objective did not converge. You might want to increase the number of iterations, check the scale of the features or consider increasing regularisation. Duality gap: 7.728e-01, tolerance: 2.751e-02\n",
      "  model = cd_fast.enet_coordinate_descent(\n",
      "/Users/wenbofu/miniforge3/envs/torch_m1/lib/python3.8/site-packages/sklearn/linear_model/_coordinate_descent.py:647: ConvergenceWarning: Objective did not converge. You might want to increase the number of iterations, check the scale of the features or consider increasing regularisation. Duality gap: 3.230e+00, tolerance: 2.917e-02\n",
      "  model = cd_fast.enet_coordinate_descent(\n",
      "/Users/wenbofu/miniforge3/envs/torch_m1/lib/python3.8/site-packages/sklearn/linear_model/_coordinate_descent.py:647: ConvergenceWarning: Objective did not converge. You might want to increase the number of iterations, check the scale of the features or consider increasing regularisation. Duality gap: 1.140e-01, tolerance: 2.734e-02\n",
      "  model = cd_fast.enet_coordinate_descent(\n",
      "/Users/wenbofu/miniforge3/envs/torch_m1/lib/python3.8/site-packages/sklearn/linear_model/_coordinate_descent.py:647: ConvergenceWarning: Objective did not converge. You might want to increase the number of iterations, check the scale of the features or consider increasing regularisation. Duality gap: 2.320e-01, tolerance: 2.757e-02\n",
      "  model = cd_fast.enet_coordinate_descent(\n",
      "/Users/wenbofu/miniforge3/envs/torch_m1/lib/python3.8/site-packages/sklearn/linear_model/_coordinate_descent.py:647: ConvergenceWarning: Objective did not converge. You might want to increase the number of iterations, check the scale of the features or consider increasing regularisation. Duality gap: 2.663e+00, tolerance: 2.731e-02\n",
      "  model = cd_fast.enet_coordinate_descent(\n",
      "/Users/wenbofu/miniforge3/envs/torch_m1/lib/python3.8/site-packages/sklearn/linear_model/_coordinate_descent.py:647: ConvergenceWarning: Objective did not converge. You might want to increase the number of iterations, check the scale of the features or consider increasing regularisation. Duality gap: 2.509e+00, tolerance: 2.827e-02\n",
      "  model = cd_fast.enet_coordinate_descent(\n"
     ]
    },
    {
     "name": "stderr",
     "output_type": "stream",
     "text": [
      "/Users/wenbofu/miniforge3/envs/torch_m1/lib/python3.8/site-packages/sklearn/linear_model/_coordinate_descent.py:647: ConvergenceWarning: Objective did not converge. You might want to increase the number of iterations, check the scale of the features or consider increasing regularisation. Duality gap: 8.464e-01, tolerance: 2.712e-02\n",
      "  model = cd_fast.enet_coordinate_descent(\n",
      "/Users/wenbofu/miniforge3/envs/torch_m1/lib/python3.8/site-packages/sklearn/linear_model/_coordinate_descent.py:647: ConvergenceWarning: Objective did not converge. You might want to increase the number of iterations, check the scale of the features or consider increasing regularisation. Duality gap: 1.476e+00, tolerance: 2.686e-02\n",
      "  model = cd_fast.enet_coordinate_descent(\n",
      "/Users/wenbofu/miniforge3/envs/torch_m1/lib/python3.8/site-packages/sklearn/linear_model/_coordinate_descent.py:647: ConvergenceWarning: Objective did not converge. You might want to increase the number of iterations, check the scale of the features or consider increasing regularisation. Duality gap: 1.261e-01, tolerance: 2.782e-02\n",
      "  model = cd_fast.enet_coordinate_descent(\n",
      "/Users/wenbofu/miniforge3/envs/torch_m1/lib/python3.8/site-packages/sklearn/linear_model/_coordinate_descent.py:647: ConvergenceWarning: Objective did not converge. You might want to increase the number of iterations, check the scale of the features or consider increasing regularisation. Duality gap: 2.615e-01, tolerance: 2.654e-02\n",
      "  model = cd_fast.enet_coordinate_descent(\n",
      "/Users/wenbofu/miniforge3/envs/torch_m1/lib/python3.8/site-packages/sklearn/linear_model/_coordinate_descent.py:647: ConvergenceWarning: Objective did not converge. You might want to increase the number of iterations, check the scale of the features or consider increasing regularisation. Duality gap: 2.732e-01, tolerance: 2.745e-02\n",
      "  model = cd_fast.enet_coordinate_descent(\n",
      "/Users/wenbofu/miniforge3/envs/torch_m1/lib/python3.8/site-packages/sklearn/linear_model/_coordinate_descent.py:647: ConvergenceWarning: Objective did not converge. You might want to increase the number of iterations, check the scale of the features or consider increasing regularisation. Duality gap: 4.222e-01, tolerance: 2.826e-02\n",
      "  model = cd_fast.enet_coordinate_descent(\n",
      "/Users/wenbofu/miniforge3/envs/torch_m1/lib/python3.8/site-packages/sklearn/linear_model/_coordinate_descent.py:647: ConvergenceWarning: Objective did not converge. You might want to increase the number of iterations, check the scale of the features or consider increasing regularisation. Duality gap: 4.485e-01, tolerance: 2.801e-02\n",
      "  model = cd_fast.enet_coordinate_descent(\n",
      "/Users/wenbofu/miniforge3/envs/torch_m1/lib/python3.8/site-packages/sklearn/linear_model/_coordinate_descent.py:647: ConvergenceWarning: Objective did not converge. You might want to increase the number of iterations, check the scale of the features or consider increasing regularisation. Duality gap: 2.227e+00, tolerance: 2.791e-02\n",
      "  model = cd_fast.enet_coordinate_descent(\n",
      "/Users/wenbofu/miniforge3/envs/torch_m1/lib/python3.8/site-packages/sklearn/linear_model/_coordinate_descent.py:647: ConvergenceWarning: Objective did not converge. You might want to increase the number of iterations, check the scale of the features or consider increasing regularisation. Duality gap: 1.127e+00, tolerance: 2.729e-02\n",
      "  model = cd_fast.enet_coordinate_descent(\n",
      "/Users/wenbofu/miniforge3/envs/torch_m1/lib/python3.8/site-packages/sklearn/linear_model/_coordinate_descent.py:647: ConvergenceWarning: Objective did not converge. You might want to increase the number of iterations, check the scale of the features or consider increasing regularisation. Duality gap: 2.767e-01, tolerance: 2.865e-02\n",
      "  model = cd_fast.enet_coordinate_descent(\n"
     ]
    }
   ],
   "source": [
    "eln_rmses"
   ]
  },
  {
   "cell_type": "code",
   "execution_count": 121,
   "metadata": {},
   "outputs": [
    {
     "data": {
      "text/plain": [
       "[0.12072248178924753,\n",
       " 0.11633318961225038,\n",
       " 0.11255926425295261,\n",
       " 0.11743469806470508,\n",
       " 0.10960988690287644,\n",
       " 0.13491271115423845,\n",
       " 0.13293956054909162,\n",
       " 0.13389810631405274,\n",
       " 0.13188625697097178,\n",
       " 0.12386253372623444]"
      ]
     },
     "execution_count": 121,
     "metadata": {},
     "output_type": "execute_result"
    }
   ],
   "source": [
    "eln_rmses"
   ]
  },
  {
   "cell_type": "code",
   "execution_count": 117,
   "metadata": {},
   "outputs": [
    {
     "data": {
      "text/plain": [
       "[0.120418471337646,\n",
       " 0.11666886892240716,\n",
       " 0.11692502547780458,\n",
       " 0.11898300292600848,\n",
       " 0.10998529498473042,\n",
       " 0.13443988501751325,\n",
       " 0.13458532311350888,\n",
       " 0.13167427127322787,\n",
       " 0.1341872395086161,\n",
       " 0.12570331901397372]"
      ]
     },
     "execution_count": 117,
     "metadata": {},
     "output_type": "execute_result"
    }
   ],
   "source": [
    "eln_rmses"
   ]
  },
  {
   "cell_type": "code",
   "execution_count": 97,
   "metadata": {},
   "outputs": [
    {
     "data": {
      "text/plain": [
       "[0.12117906825137706,\n",
       " 0.11806604146802802,\n",
       " 0.11255926425295261,\n",
       " 0.11743469806470508,\n",
       " 0.11107018559263114,\n",
       " 0.13431090809867519,\n",
       " 0.13271771215242636,\n",
       " 0.12686393231411497,\n",
       " 0.13188625697097178,\n",
       " 0.12386253372623444]"
      ]
     },
     "execution_count": 97,
     "metadata": {},
     "output_type": "execute_result"
    }
   ],
   "source": [
    "eln_rmses"
   ]
  },
  {
   "cell_type": "code",
   "execution_count": 108,
   "metadata": {},
   "outputs": [
    {
     "data": {
      "text/plain": [
       "[0.12111503755535953,\n",
       " 0.11780625016047122,\n",
       " 0.11288599993081909,\n",
       " 0.11912189231238829,\n",
       " 0.1114042935701811,\n",
       " 0.13447403936311234,\n",
       " 0.13230734164845728,\n",
       " 0.12712197432196867,\n",
       " 0.13170810230854502,\n",
       " 0.12418013178693559]"
      ]
     },
     "execution_count": 108,
     "metadata": {},
     "output_type": "execute_result"
    }
   ],
   "source": [
    "eln_rmses"
   ]
  },
  {
   "cell_type": "code",
   "execution_count": 63,
   "metadata": {},
   "outputs": [
    {
     "data": {
      "text/plain": [
       "[0.11521064825100598,\n",
       " 0.12083709578120248,\n",
       " 0.1114245994361075,\n",
       " 0.11753014559583687,\n",
       " 0.10920187545843645,\n",
       " 0.128620731930087,\n",
       " 0.13382469074812803,\n",
       " 0.12404221889504212,\n",
       " 0.13139080806414577,\n",
       " 0.11799568097986832]"
      ]
     },
     "execution_count": 63,
     "metadata": {},
     "output_type": "execute_result"
    }
   ],
   "source": [
    "xgb_rmses"
   ]
  },
  {
   "cell_type": "code",
   "execution_count": 98,
   "metadata": {
    "id": "NDSoZXQLzrEm"
   },
   "outputs": [
    {
     "data": {
      "text/plain": [
       "[0.11732956032094531,\n",
       " 0.12016572767739202,\n",
       " 0.11212499820355673,\n",
       " 0.1186715010588801,\n",
       " 0.10820671969446001,\n",
       " 0.1262689839057414,\n",
       " 0.13374288384177183,\n",
       " 0.1258002162404412,\n",
       " 0.134228976749172,\n",
       " 0.11723192465346849]"
      ]
     },
     "execution_count": 98,
     "metadata": {},
     "output_type": "execute_result"
    }
   ],
   "source": [
    "xgb_rmses"
   ]
  },
  {
   "cell_type": "code",
   "execution_count": 109,
   "metadata": {
    "id": "PgVvJo9nzvFk"
   },
   "outputs": [
    {
     "data": {
      "text/plain": [
       "[0.11732956032094531,\n",
       " 0.12016572767739202,\n",
       " 0.11212499820355673,\n",
       " 0.1186715010588801,\n",
       " 0.10820671969446001,\n",
       " 0.1262689839057414,\n",
       " 0.13374288384177183,\n",
       " 0.1258002162404412,\n",
       " 0.134228976749172,\n",
       " 0.11723192465346849]"
      ]
     },
     "execution_count": 109,
     "metadata": {},
     "output_type": "execute_result"
    },
    {
     "name": "stderr",
     "output_type": "stream",
     "text": [
      "/Users/wenbofu/miniforge3/envs/torch_m1/lib/python3.8/site-packages/sklearn/linear_model/_coordinate_descent.py:647: ConvergenceWarning: Objective did not converge. You might want to increase the number of iterations, check the scale of the features or consider increasing regularisation. Duality gap: 4.685e-02, tolerance: 2.745e-02\n",
      "  model = cd_fast.enet_coordinate_descent(\n",
      "/Users/wenbofu/miniforge3/envs/torch_m1/lib/python3.8/site-packages/sklearn/linear_model/_coordinate_descent.py:647: ConvergenceWarning: Objective did not converge. You might want to increase the number of iterations, check the scale of the features or consider increasing regularisation. Duality gap: 9.302e-02, tolerance: 2.712e-02\n",
      "  model = cd_fast.enet_coordinate_descent(\n",
      "/Users/wenbofu/miniforge3/envs/torch_m1/lib/python3.8/site-packages/sklearn/linear_model/_coordinate_descent.py:647: ConvergenceWarning: Objective did not converge. You might want to increase the number of iterations, check the scale of the features or consider increasing regularisation. Duality gap: 5.917e-02, tolerance: 2.820e-02\n",
      "  model = cd_fast.enet_coordinate_descent(\n",
      "/Users/wenbofu/miniforge3/envs/torch_m1/lib/python3.8/site-packages/sklearn/linear_model/_coordinate_descent.py:647: ConvergenceWarning: Objective did not converge. You might want to increase the number of iterations, check the scale of the features or consider increasing regularisation. Duality gap: 3.053e-02, tolerance: 2.915e-02\n",
      "  model = cd_fast.enet_coordinate_descent(\n",
      "/Users/wenbofu/miniforge3/envs/torch_m1/lib/python3.8/site-packages/sklearn/linear_model/_coordinate_descent.py:647: ConvergenceWarning: Objective did not converge. You might want to increase the number of iterations, check the scale of the features or consider increasing regularisation. Duality gap: 3.382e-02, tolerance: 2.696e-02\n",
      "  model = cd_fast.enet_coordinate_descent(\n",
      "/Users/wenbofu/miniforge3/envs/torch_m1/lib/python3.8/site-packages/sklearn/linear_model/_coordinate_descent.py:647: ConvergenceWarning: Objective did not converge. You might want to increase the number of iterations, check the scale of the features or consider increasing regularisation. Duality gap: 6.255e-02, tolerance: 2.712e-02\n",
      "  model = cd_fast.enet_coordinate_descent(\n",
      "/Users/wenbofu/miniforge3/envs/torch_m1/lib/python3.8/site-packages/sklearn/linear_model/_coordinate_descent.py:647: ConvergenceWarning: Objective did not converge. You might want to increase the number of iterations, check the scale of the features or consider increasing regularisation. Duality gap: 9.779e-02, tolerance: 3.007e-02\n",
      "  model = cd_fast.enet_coordinate_descent(\n",
      "/Users/wenbofu/miniforge3/envs/torch_m1/lib/python3.8/site-packages/sklearn/linear_model/_coordinate_descent.py:647: ConvergenceWarning: Objective did not converge. You might want to increase the number of iterations, check the scale of the features or consider increasing regularisation. Duality gap: 5.891e-02, tolerance: 2.798e-02\n",
      "  model = cd_fast.enet_coordinate_descent(\n",
      "/Users/wenbofu/miniforge3/envs/torch_m1/lib/python3.8/site-packages/sklearn/linear_model/_coordinate_descent.py:647: ConvergenceWarning: Objective did not converge. You might want to increase the number of iterations, check the scale of the features or consider increasing regularisation. Duality gap: 4.425e-02, tolerance: 2.654e-02\n",
      "  model = cd_fast.enet_coordinate_descent(\n",
      "/Users/wenbofu/miniforge3/envs/torch_m1/lib/python3.8/site-packages/sklearn/linear_model/_coordinate_descent.py:647: ConvergenceWarning: Objective did not converge. You might want to increase the number of iterations, check the scale of the features or consider increasing regularisation. Duality gap: 7.565e-02, tolerance: 2.824e-02\n",
      "  model = cd_fast.enet_coordinate_descent(\n",
      "/Users/wenbofu/miniforge3/envs/torch_m1/lib/python3.8/site-packages/sklearn/linear_model/_coordinate_descent.py:647: ConvergenceWarning: Objective did not converge. You might want to increase the number of iterations, check the scale of the features or consider increasing regularisation. Duality gap: 9.971e-02, tolerance: 2.905e-02\n",
      "  model = cd_fast.enet_coordinate_descent(\n",
      "/Users/wenbofu/miniforge3/envs/torch_m1/lib/python3.8/site-packages/sklearn/linear_model/_coordinate_descent.py:647: ConvergenceWarning: Objective did not converge. You might want to increase the number of iterations, check the scale of the features or consider increasing regularisation. Duality gap: 5.709e-02, tolerance: 2.798e-02\n",
      "  model = cd_fast.enet_coordinate_descent(\n",
      "/Users/wenbofu/miniforge3/envs/torch_m1/lib/python3.8/site-packages/sklearn/linear_model/_coordinate_descent.py:647: ConvergenceWarning: Objective did not converge. You might want to increase the number of iterations, check the scale of the features or consider increasing regularisation. Duality gap: 5.738e-02, tolerance: 2.883e-02\n",
      "  model = cd_fast.enet_coordinate_descent(\n",
      "/Users/wenbofu/miniforge3/envs/torch_m1/lib/python3.8/site-packages/sklearn/linear_model/_coordinate_descent.py:647: ConvergenceWarning: Objective did not converge. You might want to increase the number of iterations, check the scale of the features or consider increasing regularisation. Duality gap: 8.493e-02, tolerance: 2.729e-02\n",
      "  model = cd_fast.enet_coordinate_descent(\n",
      "/Users/wenbofu/miniforge3/envs/torch_m1/lib/python3.8/site-packages/sklearn/linear_model/_coordinate_descent.py:647: ConvergenceWarning: Objective did not converge. You might want to increase the number of iterations, check the scale of the features or consider increasing regularisation. Duality gap: 8.859e-02, tolerance: 2.730e-02\n",
      "  model = cd_fast.enet_coordinate_descent(\n",
      "/Users/wenbofu/miniforge3/envs/torch_m1/lib/python3.8/site-packages/sklearn/linear_model/_coordinate_descent.py:647: ConvergenceWarning: Objective did not converge. You might want to increase the number of iterations, check the scale of the features or consider increasing regularisation. Duality gap: 7.360e-02, tolerance: 2.824e-02\n",
      "  model = cd_fast.enet_coordinate_descent(\n",
      "/Users/wenbofu/miniforge3/envs/torch_m1/lib/python3.8/site-packages/sklearn/linear_model/_coordinate_descent.py:647: ConvergenceWarning: Objective did not converge. You might want to increase the number of iterations, check the scale of the features or consider increasing regularisation. Duality gap: 1.419e-01, tolerance: 3.007e-02\n",
      "  model = cd_fast.enet_coordinate_descent(\n",
      "/Users/wenbofu/miniforge3/envs/torch_m1/lib/python3.8/site-packages/sklearn/linear_model/_coordinate_descent.py:647: ConvergenceWarning: Objective did not converge. You might want to increase the number of iterations, check the scale of the features or consider increasing regularisation. Duality gap: 9.080e-02, tolerance: 2.712e-02\n",
      "  model = cd_fast.enet_coordinate_descent(\n",
      "/Users/wenbofu/miniforge3/envs/torch_m1/lib/python3.8/site-packages/sklearn/linear_model/_coordinate_descent.py:647: ConvergenceWarning: Objective did not converge. You might want to increase the number of iterations, check the scale of the features or consider increasing regularisation. Duality gap: 5.641e-02, tolerance: 2.765e-02\n",
      "  model = cd_fast.enet_coordinate_descent(\n",
      "/Users/wenbofu/miniforge3/envs/torch_m1/lib/python3.8/site-packages/sklearn/linear_model/_coordinate_descent.py:647: ConvergenceWarning: Objective did not converge. You might want to increase the number of iterations, check the scale of the features or consider increasing regularisation. Duality gap: 5.978e-02, tolerance: 2.852e-02\n",
      "  model = cd_fast.enet_coordinate_descent(\n",
      "/Users/wenbofu/miniforge3/envs/torch_m1/lib/python3.8/site-packages/sklearn/linear_model/_coordinate_descent.py:647: ConvergenceWarning: Objective did not converge. You might want to increase the number of iterations, check the scale of the features or consider increasing regularisation. Duality gap: 4.562e-02, tolerance: 2.678e-02\n",
      "  model = cd_fast.enet_coordinate_descent(\n",
      "/Users/wenbofu/miniforge3/envs/torch_m1/lib/python3.8/site-packages/sklearn/linear_model/_coordinate_descent.py:647: ConvergenceWarning: Objective did not converge. You might want to increase the number of iterations, check the scale of the features or consider increasing regularisation. Duality gap: 5.479e-02, tolerance: 2.905e-02\n",
      "  model = cd_fast.enet_coordinate_descent(\n",
      "/Users/wenbofu/miniforge3/envs/torch_m1/lib/python3.8/site-packages/sklearn/linear_model/_coordinate_descent.py:647: ConvergenceWarning: Objective did not converge. You might want to increase the number of iterations, check the scale of the features or consider increasing regularisation. Duality gap: 6.026e-02, tolerance: 2.883e-02\n",
      "  model = cd_fast.enet_coordinate_descent(\n",
      "/Users/wenbofu/miniforge3/envs/torch_m1/lib/python3.8/site-packages/sklearn/linear_model/_coordinate_descent.py:647: ConvergenceWarning: Objective did not converge. You might want to increase the number of iterations, check the scale of the features or consider increasing regularisation. Duality gap: 3.592e-02, tolerance: 2.696e-02\n",
      "  model = cd_fast.enet_coordinate_descent(\n",
      "/Users/wenbofu/miniforge3/envs/torch_m1/lib/python3.8/site-packages/sklearn/linear_model/_coordinate_descent.py:647: ConvergenceWarning: Objective did not converge. You might want to increase the number of iterations, check the scale of the features or consider increasing regularisation. Duality gap: 5.163e-02, tolerance: 2.734e-02\n",
      "  model = cd_fast.enet_coordinate_descent(\n",
      "/Users/wenbofu/miniforge3/envs/torch_m1/lib/python3.8/site-packages/sklearn/linear_model/_coordinate_descent.py:647: ConvergenceWarning: Objective did not converge. You might want to increase the number of iterations, check the scale of the features or consider increasing regularisation. Duality gap: 3.625e-02, tolerance: 2.865e-02\n",
      "  model = cd_fast.enet_coordinate_descent(\n",
      "/Users/wenbofu/miniforge3/envs/torch_m1/lib/python3.8/site-packages/sklearn/linear_model/_coordinate_descent.py:647: ConvergenceWarning: Objective did not converge. You might want to increase the number of iterations, check the scale of the features or consider increasing regularisation. Duality gap: 9.971e-02, tolerance: 2.905e-02\n",
      "  model = cd_fast.enet_coordinate_descent(\n",
      "/Users/wenbofu/miniforge3/envs/torch_m1/lib/python3.8/site-packages/sklearn/linear_model/_coordinate_descent.py:647: ConvergenceWarning: Objective did not converge. You might want to increase the number of iterations, check the scale of the features or consider increasing regularisation. Duality gap: 4.588e-02, tolerance: 2.745e-02\n",
      "  model = cd_fast.enet_coordinate_descent(\n",
      "/Users/wenbofu/miniforge3/envs/torch_m1/lib/python3.8/site-packages/sklearn/linear_model/_coordinate_descent.py:647: ConvergenceWarning: Objective did not converge. You might want to increase the number of iterations, check the scale of the features or consider increasing regularisation. Duality gap: 4.181e-02, tolerance: 2.784e-02\n",
      "  model = cd_fast.enet_coordinate_descent(\n",
      "/Users/wenbofu/miniforge3/envs/torch_m1/lib/python3.8/site-packages/sklearn/linear_model/_coordinate_descent.py:647: ConvergenceWarning: Objective did not converge. You might want to increase the number of iterations, check the scale of the features or consider increasing regularisation. Duality gap: 7.841e-02, tolerance: 2.946e-02\n",
      "  model = cd_fast.enet_coordinate_descent(\n",
      "/Users/wenbofu/miniforge3/envs/torch_m1/lib/python3.8/site-packages/sklearn/linear_model/_coordinate_descent.py:647: ConvergenceWarning: Objective did not converge. You might want to increase the number of iterations, check the scale of the features or consider increasing regularisation. Duality gap: 5.299e-02, tolerance: 2.654e-02\n",
      "  model = cd_fast.enet_coordinate_descent(\n",
      "/Users/wenbofu/miniforge3/envs/torch_m1/lib/python3.8/site-packages/sklearn/linear_model/_coordinate_descent.py:647: ConvergenceWarning: Objective did not converge. You might want to increase the number of iterations, check the scale of the features or consider increasing regularisation. Duality gap: 3.640e-02, tolerance: 2.745e-02\n",
      "  model = cd_fast.enet_coordinate_descent(\n",
      "/Users/wenbofu/miniforge3/envs/torch_m1/lib/python3.8/site-packages/sklearn/linear_model/_coordinate_descent.py:647: ConvergenceWarning: Objective did not converge. You might want to increase the number of iterations, check the scale of the features or consider increasing regularisation. Duality gap: 9.302e-02, tolerance: 2.712e-02\n",
      "  model = cd_fast.enet_coordinate_descent(\n",
      "/Users/wenbofu/miniforge3/envs/torch_m1/lib/python3.8/site-packages/sklearn/linear_model/_coordinate_descent.py:647: ConvergenceWarning: Objective did not converge. You might want to increase the number of iterations, check the scale of the features or consider increasing regularisation. Duality gap: 4.685e-02, tolerance: 2.745e-02\n",
      "  model = cd_fast.enet_coordinate_descent(\n",
      "/Users/wenbofu/miniforge3/envs/torch_m1/lib/python3.8/site-packages/sklearn/linear_model/_coordinate_descent.py:647: ConvergenceWarning: Objective did not converge. You might want to increase the number of iterations, check the scale of the features or consider increasing regularisation. Duality gap: 5.809e-02, tolerance: 2.847e-02\n",
      "  model = cd_fast.enet_coordinate_descent(\n",
      "/Users/wenbofu/miniforge3/envs/torch_m1/lib/python3.8/site-packages/sklearn/linear_model/_coordinate_descent.py:647: ConvergenceWarning: Objective did not converge. You might want to increase the number of iterations, check the scale of the features or consider increasing regularisation. Duality gap: 6.281e-02, tolerance: 2.852e-02\n",
      "  model = cd_fast.enet_coordinate_descent(\n",
      "/Users/wenbofu/miniforge3/envs/torch_m1/lib/python3.8/site-packages/sklearn/linear_model/_coordinate_descent.py:647: ConvergenceWarning: Objective did not converge. You might want to increase the number of iterations, check the scale of the features or consider increasing regularisation. Duality gap: 8.786e-02, tolerance: 2.729e-02\n",
      "  model = cd_fast.enet_coordinate_descent(\n",
      "/Users/wenbofu/miniforge3/envs/torch_m1/lib/python3.8/site-packages/sklearn/linear_model/_coordinate_descent.py:647: ConvergenceWarning: Objective did not converge. You might want to increase the number of iterations, check the scale of the features or consider increasing regularisation. Duality gap: 5.185e-02, tolerance: 2.727e-02\n",
      "  model = cd_fast.enet_coordinate_descent(\n",
      "/Users/wenbofu/miniforge3/envs/torch_m1/lib/python3.8/site-packages/sklearn/linear_model/_coordinate_descent.py:647: ConvergenceWarning: Objective did not converge. You might want to increase the number of iterations, check the scale of the features or consider increasing regularisation. Duality gap: 4.281e-01, tolerance: 2.820e-02\n",
      "  model = cd_fast.enet_coordinate_descent(\n"
     ]
    },
    {
     "name": "stderr",
     "output_type": "stream",
     "text": [
      "/Users/wenbofu/miniforge3/envs/torch_m1/lib/python3.8/site-packages/sklearn/linear_model/_coordinate_descent.py:647: ConvergenceWarning: Objective did not converge. You might want to increase the number of iterations, check the scale of the features or consider increasing regularisation. Duality gap: 3.111e-02, tolerance: 2.864e-02\n",
      "  model = cd_fast.enet_coordinate_descent(\n",
      "/Users/wenbofu/miniforge3/envs/torch_m1/lib/python3.8/site-packages/sklearn/linear_model/_coordinate_descent.py:647: ConvergenceWarning: Objective did not converge. You might want to increase the number of iterations, check the scale of the features or consider increasing regularisation. Duality gap: 6.387e-02, tolerance: 2.782e-02\n",
      "  model = cd_fast.enet_coordinate_descent(\n",
      "/Users/wenbofu/miniforge3/envs/torch_m1/lib/python3.8/site-packages/sklearn/linear_model/_coordinate_descent.py:647: ConvergenceWarning: Objective did not converge. You might want to increase the number of iterations, check the scale of the features or consider increasing regularisation. Duality gap: 6.032e-02, tolerance: 2.765e-02\n",
      "  model = cd_fast.enet_coordinate_descent(\n",
      "/Users/wenbofu/miniforge3/envs/torch_m1/lib/python3.8/site-packages/sklearn/linear_model/_coordinate_descent.py:647: ConvergenceWarning: Objective did not converge. You might want to increase the number of iterations, check the scale of the features or consider increasing regularisation. Duality gap: 4.588e-02, tolerance: 2.745e-02\n",
      "  model = cd_fast.enet_coordinate_descent(\n",
      "/Users/wenbofu/miniforge3/envs/torch_m1/lib/python3.8/site-packages/sklearn/linear_model/_coordinate_descent.py:647: ConvergenceWarning: Objective did not converge. You might want to increase the number of iterations, check the scale of the features or consider increasing regularisation. Duality gap: 1.438e-01, tolerance: 3.007e-02\n",
      "  model = cd_fast.enet_coordinate_descent(\n",
      "/Users/wenbofu/miniforge3/envs/torch_m1/lib/python3.8/site-packages/sklearn/linear_model/_coordinate_descent.py:647: ConvergenceWarning: Objective did not converge. You might want to increase the number of iterations, check the scale of the features or consider increasing regularisation. Duality gap: 7.760e-02, tolerance: 2.782e-02\n",
      "  model = cd_fast.enet_coordinate_descent(\n",
      "/Users/wenbofu/miniforge3/envs/torch_m1/lib/python3.8/site-packages/sklearn/linear_model/_coordinate_descent.py:647: ConvergenceWarning: Objective did not converge. You might want to increase the number of iterations, check the scale of the features or consider increasing regularisation. Duality gap: 9.549e-02, tolerance: 2.737e-02\n",
      "  model = cd_fast.enet_coordinate_descent(\n",
      "/Users/wenbofu/miniforge3/envs/torch_m1/lib/python3.8/site-packages/sklearn/linear_model/_coordinate_descent.py:647: ConvergenceWarning: Objective did not converge. You might want to increase the number of iterations, check the scale of the features or consider increasing regularisation. Duality gap: 4.944e-02, tolerance: 2.727e-02\n",
      "  model = cd_fast.enet_coordinate_descent(\n",
      "/Users/wenbofu/miniforge3/envs/torch_m1/lib/python3.8/site-packages/sklearn/linear_model/_coordinate_descent.py:647: ConvergenceWarning: Objective did not converge. You might want to increase the number of iterations, check the scale of the features or consider increasing regularisation. Duality gap: 5.884e-02, tolerance: 3.007e-02\n",
      "  model = cd_fast.enet_coordinate_descent(\n",
      "/Users/wenbofu/miniforge3/envs/torch_m1/lib/python3.8/site-packages/sklearn/linear_model/_coordinate_descent.py:647: ConvergenceWarning: Objective did not converge. You might want to increase the number of iterations, check the scale of the features or consider increasing regularisation. Duality gap: 5.204e-02, tolerance: 2.745e-02\n",
      "  model = cd_fast.enet_coordinate_descent(\n",
      "/Users/wenbofu/miniforge3/envs/torch_m1/lib/python3.8/site-packages/sklearn/linear_model/_coordinate_descent.py:647: ConvergenceWarning: Objective did not converge. You might want to increase the number of iterations, check the scale of the features or consider increasing regularisation. Duality gap: 1.419e-01, tolerance: 3.007e-02\n",
      "  model = cd_fast.enet_coordinate_descent(\n",
      "/Users/wenbofu/miniforge3/envs/torch_m1/lib/python3.8/site-packages/sklearn/linear_model/_coordinate_descent.py:647: ConvergenceWarning: Objective did not converge. You might want to increase the number of iterations, check the scale of the features or consider increasing regularisation. Duality gap: 4.343e-02, tolerance: 2.950e-02\n",
      "  model = cd_fast.enet_coordinate_descent(\n",
      "/Users/wenbofu/miniforge3/envs/torch_m1/lib/python3.8/site-packages/sklearn/linear_model/_coordinate_descent.py:647: ConvergenceWarning: Objective did not converge. You might want to increase the number of iterations, check the scale of the features or consider increasing regularisation. Duality gap: 4.407e-02, tolerance: 2.651e-02\n",
      "  model = cd_fast.enet_coordinate_descent(\n",
      "/Users/wenbofu/miniforge3/envs/torch_m1/lib/python3.8/site-packages/sklearn/linear_model/_coordinate_descent.py:647: ConvergenceWarning: Objective did not converge. You might want to increase the number of iterations, check the scale of the features or consider increasing regularisation. Duality gap: 1.438e-01, tolerance: 3.007e-02\n",
      "  model = cd_fast.enet_coordinate_descent(\n",
      "/Users/wenbofu/miniforge3/envs/torch_m1/lib/python3.8/site-packages/sklearn/linear_model/_coordinate_descent.py:647: ConvergenceWarning: Objective did not converge. You might want to increase the number of iterations, check the scale of the features or consider increasing regularisation. Duality gap: 6.990e-02, tolerance: 2.847e-02\n",
      "  model = cd_fast.enet_coordinate_descent(\n",
      "/Users/wenbofu/miniforge3/envs/torch_m1/lib/python3.8/site-packages/sklearn/linear_model/_coordinate_descent.py:647: ConvergenceWarning: Objective did not converge. You might want to increase the number of iterations, check the scale of the features or consider increasing regularisation. Duality gap: 6.221e-02, tolerance: 2.734e-02\n",
      "  model = cd_fast.enet_coordinate_descent(\n",
      "/Users/wenbofu/miniforge3/envs/torch_m1/lib/python3.8/site-packages/sklearn/linear_model/_coordinate_descent.py:647: ConvergenceWarning: Objective did not converge. You might want to increase the number of iterations, check the scale of the features or consider increasing regularisation. Duality gap: 3.689e-02, tolerance: 2.863e-02\n",
      "  model = cd_fast.enet_coordinate_descent(\n",
      "/Users/wenbofu/miniforge3/envs/torch_m1/lib/python3.8/site-packages/sklearn/linear_model/_coordinate_descent.py:647: ConvergenceWarning: Objective did not converge. You might want to increase the number of iterations, check the scale of the features or consider increasing regularisation. Duality gap: 3.357e-02, tolerance: 2.784e-02\n",
      "  model = cd_fast.enet_coordinate_descent(\n",
      "/Users/wenbofu/miniforge3/envs/torch_m1/lib/python3.8/site-packages/sklearn/linear_model/_coordinate_descent.py:647: ConvergenceWarning: Objective did not converge. You might want to increase the number of iterations, check the scale of the features or consider increasing regularisation. Duality gap: 4.737e-02, tolerance: 2.678e-02\n",
      "  model = cd_fast.enet_coordinate_descent(\n",
      "/Users/wenbofu/miniforge3/envs/torch_m1/lib/python3.8/site-packages/sklearn/linear_model/_coordinate_descent.py:647: ConvergenceWarning: Objective did not converge. You might want to increase the number of iterations, check the scale of the features or consider increasing regularisation. Duality gap: 9.017e-02, tolerance: 2.730e-02\n",
      "  model = cd_fast.enet_coordinate_descent(\n",
      "/Users/wenbofu/miniforge3/envs/torch_m1/lib/python3.8/site-packages/sklearn/linear_model/_coordinate_descent.py:647: ConvergenceWarning: Objective did not converge. You might want to increase the number of iterations, check the scale of the features or consider increasing regularisation. Duality gap: 9.080e-02, tolerance: 2.712e-02\n",
      "  model = cd_fast.enet_coordinate_descent(\n",
      "/Users/wenbofu/miniforge3/envs/torch_m1/lib/python3.8/site-packages/sklearn/linear_model/_coordinate_descent.py:647: ConvergenceWarning: Objective did not converge. You might want to increase the number of iterations, check the scale of the features or consider increasing regularisation. Duality gap: 5.341e-02, tolerance: 2.950e-02\n",
      "  model = cd_fast.enet_coordinate_descent(\n",
      "/Users/wenbofu/miniforge3/envs/torch_m1/lib/python3.8/site-packages/sklearn/linear_model/_coordinate_descent.py:647: ConvergenceWarning: Objective did not converge. You might want to increase the number of iterations, check the scale of the features or consider increasing regularisation. Duality gap: 3.436e-02, tolerance: 2.619e-02\n",
      "  model = cd_fast.enet_coordinate_descent(\n",
      "/Users/wenbofu/miniforge3/envs/torch_m1/lib/python3.8/site-packages/sklearn/linear_model/_coordinate_descent.py:647: ConvergenceWarning: Objective did not converge. You might want to increase the number of iterations, check the scale of the features or consider increasing regularisation. Duality gap: 4.343e-02, tolerance: 2.651e-02\n",
      "  model = cd_fast.enet_coordinate_descent(\n",
      "/Users/wenbofu/miniforge3/envs/torch_m1/lib/python3.8/site-packages/sklearn/linear_model/_coordinate_descent.py:647: ConvergenceWarning: Objective did not converge. You might want to increase the number of iterations, check the scale of the features or consider increasing regularisation. Duality gap: 4.736e-02, tolerance: 2.865e-02\n",
      "  model = cd_fast.enet_coordinate_descent(\n"
     ]
    }
   ],
   "source": [
    "xgb_rmses"
   ]
  },
  {
   "cell_type": "code",
   "execution_count": null,
   "metadata": {
    "id": "rXah-ZzkTUfD"
   },
   "outputs": [],
   "source": []
  },
  {
   "cell_type": "code",
   "execution_count": null,
   "metadata": {
    "id": "n4XuoTtQTUjo"
   },
   "outputs": [],
   "source": []
  },
  {
   "cell_type": "code",
   "execution_count": null,
   "metadata": {
    "id": "rsPgyVtLTUp0"
   },
   "outputs": [],
   "source": []
  },
  {
   "cell_type": "code",
   "execution_count": 97,
   "metadata": {
    "id": "KMjIp6AQAK99"
   },
   "outputs": [],
   "source": [
    "df_train = pd.read_csv('train.csv')\n",
    "y= np.log(df_train['Sale_Price'])"
   ]
  },
  {
   "cell_type": "code",
   "execution_count": 18,
   "metadata": {
    "id": "BzJb61pc9e1z"
   },
   "outputs": [],
   "source": []
  },
  {
   "cell_type": "code",
   "execution_count": null,
   "metadata": {
    "id": "2z4Vtqj0TQKC"
   },
   "outputs": [],
   "source": []
  },
  {
   "cell_type": "code",
   "execution_count": null,
   "metadata": {
    "id": "wIkxY8METQQK"
   },
   "outputs": [],
   "source": []
  },
  {
   "cell_type": "code",
   "execution_count": 98,
   "metadata": {
    "colab": {
     "base_uri": "https://localhost:8080/"
    },
    "id": "wumQkIIR9c7Y",
    "outputId": "e44e4cd3-1254-4c55-efe1-387c759ff2db"
   },
   "outputs": [
    {
     "data": {
      "text/plain": [
       "Index(['Garage_Yr_Blt'], dtype='object')"
      ]
     },
     "execution_count": 98,
     "metadata": {},
     "output_type": "execute_result"
    }
   ],
   "source": [
    "df_train.columns[df_train.isnull().any()]"
   ]
  },
  {
   "cell_type": "code",
   "execution_count": 99,
   "metadata": {
    "id": "emCfbLDl9qbB"
   },
   "outputs": [],
   "source": [
    "df_train['Garage_Yr_Blt'] = df_train['Garage_Yr_Blt'].fillna(0)"
   ]
  },
  {
   "cell_type": "code",
   "execution_count": 100,
   "metadata": {
    "id": "YOklCsUr-CE-"
   },
   "outputs": [],
   "source": [
    "y = np.log(df_train['Sale_Price'])"
   ]
  },
  {
   "cell_type": "code",
   "execution_count": 101,
   "metadata": {
    "id": "zHho72mwcrhk"
   },
   "outputs": [],
   "source": [
    "df_train = df_train.drop(['PID','Sale_Price'],axis = 1)"
   ]
  },
  {
   "cell_type": "code",
   "execution_count": null,
   "metadata": {
    "id": "grDhF2xMcrlp"
   },
   "outputs": [],
   "source": []
  },
  {
   "cell_type": "code",
   "execution_count": null,
   "metadata": {
    "id": "rHQUE-cJcrqd"
   },
   "outputs": [],
   "source": []
  },
  {
   "cell_type": "code",
   "execution_count": 102,
   "metadata": {
    "id": "UiC-oPusAVZa"
   },
   "outputs": [],
   "source": [
    "features_to_remove = ['Street', 'Utilities', 'Condition_2', 'Roof_Matl', 'Heating', 'Pool_QC', 'Misc_Feature', 'Low_Qual_Fin_SF', 'Pool_Area', 'Longitude','Latitude']"
   ]
  },
  {
   "cell_type": "code",
   "execution_count": 103,
   "metadata": {
    "id": "F-oZqLZ45N6k"
   },
   "outputs": [],
   "source": [
    "df_train = df_train.drop(features_to_remove,axis = 1)"
   ]
  },
  {
   "cell_type": "code",
   "execution_count": null,
   "metadata": {
    "id": "pr3VovBNhINH"
   },
   "outputs": [],
   "source": []
  },
  {
   "cell_type": "code",
   "execution_count": 107,
   "metadata": {
    "id": "7DY1JiqGhISg"
   },
   "outputs": [],
   "source": []
  },
  {
   "cell_type": "code",
   "execution_count": 108,
   "metadata": {
    "id": "BeD6GR-MhIWm"
   },
   "outputs": [],
   "source": []
  },
  {
   "cell_type": "code",
   "execution_count": 46,
   "metadata": {
    "id": "w7M3iO7c-Hlm"
   },
   "outputs": [],
   "source": []
  },
  {
   "cell_type": "code",
   "execution_count": 111,
   "metadata": {
    "id": "Le3HgY_65L4w"
   },
   "outputs": [],
   "source": [
    "features_to_winsor = [\"Lot_Frontage\", \"Lot_Area\", \"Mas_Vnr_Area\", \"BsmtFin_SF_2\", \"Bsmt_Unf_SF\", \"Total_Bsmt_SF\", \"Second_Flr_SF\", 'First_Flr_SF', \"Gr_Liv_Area\", \"Garage_Area\", \"Wood_Deck_SF\", \"Open_Porch_SF\", \"Enclosed_Porch\", \"Three_season_porch\", \"Screen_Porch\", \"Misc_Val\"]"
   ]
  },
  {
   "cell_type": "code",
   "execution_count": 112,
   "metadata": {
    "id": "TAqR9NHu5L8s"
   },
   "outputs": [],
   "source": [
    "def revalue_column(x, M):\n",
    "    if x < M:\n",
    "        return x\n",
    "    else:\n",
    "        return M\n",
    "\n",
    "\n",
    "percentile = 0.95\n",
    "Winzorization_M = []\n",
    "\n",
    "for column in features_to_winsor:\n",
    "  M = df_train[column].quantile(percentile)\n",
    "  df_train[column] = df_train[column].apply(lambda x: revalue_column(x, M))\n",
    "  Winzorization_M.append(M)"
   ]
  },
  {
   "cell_type": "code",
   "execution_count": 49,
   "metadata": {
    "colab": {
     "base_uri": "https://localhost:8080/"
    },
    "id": "Km05QtHv5L-9",
    "outputId": "1029c37d-2990-4eb4-9cc6-9d77b75c4778"
   },
   "outputs": [
    {
     "data": {
      "text/plain": [
       "[104.0,\n",
       " 16971.5,\n",
       " 472.0,\n",
       " 445.0,\n",
       " 1452.0,\n",
       " 1756.5,\n",
       " 1130.0,\n",
       " 1813.5,\n",
       " 2466.0,\n",
       " 852.5,\n",
       " 324.0,\n",
       " 179.0,\n",
       " 174.5,\n",
       " 0.0,\n",
       " 168.0,\n",
       " 0.0]"
      ]
     },
     "execution_count": 49,
     "metadata": {},
     "output_type": "execute_result"
    }
   ],
   "source": [
    "Winzorization_M"
   ]
  },
  {
   "cell_type": "code",
   "execution_count": 72,
   "metadata": {
    "id": "55bcecNM78YD"
   },
   "outputs": [],
   "source": []
  },
  {
   "cell_type": "code",
   "execution_count": 113,
   "metadata": {
    "id": "pCCyggqmhwu1"
   },
   "outputs": [],
   "source": [
    "categorical_features = df_train.select_dtypes(include=['object', 'category'])\n",
    "numerical_features = df_train.select_dtypes(exclude=['object', 'category'])"
   ]
  },
  {
   "cell_type": "code",
   "execution_count": 118,
   "metadata": {
    "id": "SBMkhfw1hwzn"
   },
   "outputs": [],
   "source": [
    "scaler = StandardScaler()\n",
    "scaled_numerical_features = scaler.fit_transform(numerical_features)\n",
    "scaled_numerical_df = pd.DataFrame(scaled_numerical_features, columns=numerical_features.columns)"
   ]
  },
  {
   "cell_type": "code",
   "execution_count": 118,
   "metadata": {
    "id": "aqIuLfm1hw4c"
   },
   "outputs": [],
   "source": [
    "\n"
   ]
  },
  {
   "cell_type": "code",
   "execution_count": 119,
   "metadata": {
    "id": "LJ4ILlUROEwv"
   },
   "outputs": [],
   "source": [
    "encoder = OneHotEncoder(sparse_output=False,handle_unknown='ignore')\n",
    "encoded_categorical_features = encoder.fit_transform(categorical_features)\n",
    "encoded_categorical_df = pd.DataFrame(encoded_categorical_features, columns=encoder.get_feature_names_out(input_features=categorical_features.columns))"
   ]
  },
  {
   "cell_type": "code",
   "execution_count": 120,
   "metadata": {
    "id": "5Pqa8yZIOE1I"
   },
   "outputs": [],
   "source": [
    "df_encoded = pd.concat([scaled_numerical_df, encoded_categorical_df], axis=1)"
   ]
  },
  {
   "cell_type": "code",
   "execution_count": 121,
   "metadata": {
    "colab": {
     "base_uri": "https://localhost:8080/"
    },
    "id": "38O5vN3QOE3g",
    "outputId": "3723c7f1-a96b-4015-843e-59b7d365d0b9"
   },
   "outputs": [
    {
     "data": {
      "text/plain": [
       "Index(['Lot_Frontage', 'Lot_Area', 'Year_Built', 'Year_Remod_Add',\n",
       "       'Mas_Vnr_Area', 'BsmtFin_SF_1', 'BsmtFin_SF_2', 'Bsmt_Unf_SF',\n",
       "       'Total_Bsmt_SF', 'First_Flr_SF',\n",
       "       ...\n",
       "       'Sale_Type_New', 'Sale_Type_Oth', 'Sale_Type_VWD', 'Sale_Type_WD ',\n",
       "       'Sale_Condition_Abnorml', 'Sale_Condition_AdjLand',\n",
       "       'Sale_Condition_Alloca', 'Sale_Condition_Family',\n",
       "       'Sale_Condition_Normal', 'Sale_Condition_Partial'],\n",
       "      dtype='object', length=309)"
      ]
     },
     "execution_count": 121,
     "metadata": {},
     "output_type": "execute_result"
    }
   ],
   "source": [
    "df_encoded.columns"
   ]
  },
  {
   "cell_type": "code",
   "execution_count": 53,
   "metadata": {
    "id": "6xROGPM2SOPV"
   },
   "outputs": [],
   "source": []
  },
  {
   "cell_type": "code",
   "execution_count": 146,
   "metadata": {
    "id": "CWN3yFLQOGU_"
   },
   "outputs": [],
   "source": [
    "from sklearn.linear_model import ElasticNet"
   ]
  },
  {
   "cell_type": "code",
   "execution_count": 160,
   "metadata": {
    "id": "VPnN9r_iOXYt"
   },
   "outputs": [],
   "source": [
    "elastic_net = ElasticNet(alpha=0.005, l1_ratio = 0.2,random_state= 0)"
   ]
  },
  {
   "cell_type": "code",
   "execution_count": 161,
   "metadata": {
    "colab": {
     "base_uri": "https://localhost:8080/",
     "height": 74
    },
    "id": "H3-yXpGqOXcN",
    "outputId": "ade23e8f-a49f-4da4-d946-897b180eef60"
   },
   "outputs": [
    {
     "data": {
      "text/html": [
       "<style>#sk-container-id-8 {color: black;}#sk-container-id-8 pre{padding: 0;}#sk-container-id-8 div.sk-toggleable {background-color: white;}#sk-container-id-8 label.sk-toggleable__label {cursor: pointer;display: block;width: 100%;margin-bottom: 0;padding: 0.3em;box-sizing: border-box;text-align: center;}#sk-container-id-8 label.sk-toggleable__label-arrow:before {content: \"▸\";float: left;margin-right: 0.25em;color: #696969;}#sk-container-id-8 label.sk-toggleable__label-arrow:hover:before {color: black;}#sk-container-id-8 div.sk-estimator:hover label.sk-toggleable__label-arrow:before {color: black;}#sk-container-id-8 div.sk-toggleable__content {max-height: 0;max-width: 0;overflow: hidden;text-align: left;background-color: #f0f8ff;}#sk-container-id-8 div.sk-toggleable__content pre {margin: 0.2em;color: black;border-radius: 0.25em;background-color: #f0f8ff;}#sk-container-id-8 input.sk-toggleable__control:checked~div.sk-toggleable__content {max-height: 200px;max-width: 100%;overflow: auto;}#sk-container-id-8 input.sk-toggleable__control:checked~label.sk-toggleable__label-arrow:before {content: \"▾\";}#sk-container-id-8 div.sk-estimator input.sk-toggleable__control:checked~label.sk-toggleable__label {background-color: #d4ebff;}#sk-container-id-8 div.sk-label input.sk-toggleable__control:checked~label.sk-toggleable__label {background-color: #d4ebff;}#sk-container-id-8 input.sk-hidden--visually {border: 0;clip: rect(1px 1px 1px 1px);clip: rect(1px, 1px, 1px, 1px);height: 1px;margin: -1px;overflow: hidden;padding: 0;position: absolute;width: 1px;}#sk-container-id-8 div.sk-estimator {font-family: monospace;background-color: #f0f8ff;border: 1px dotted black;border-radius: 0.25em;box-sizing: border-box;margin-bottom: 0.5em;}#sk-container-id-8 div.sk-estimator:hover {background-color: #d4ebff;}#sk-container-id-8 div.sk-parallel-item::after {content: \"\";width: 100%;border-bottom: 1px solid gray;flex-grow: 1;}#sk-container-id-8 div.sk-label:hover label.sk-toggleable__label {background-color: #d4ebff;}#sk-container-id-8 div.sk-serial::before {content: \"\";position: absolute;border-left: 1px solid gray;box-sizing: border-box;top: 0;bottom: 0;left: 50%;z-index: 0;}#sk-container-id-8 div.sk-serial {display: flex;flex-direction: column;align-items: center;background-color: white;padding-right: 0.2em;padding-left: 0.2em;position: relative;}#sk-container-id-8 div.sk-item {position: relative;z-index: 1;}#sk-container-id-8 div.sk-parallel {display: flex;align-items: stretch;justify-content: center;background-color: white;position: relative;}#sk-container-id-8 div.sk-item::before, #sk-container-id-8 div.sk-parallel-item::before {content: \"\";position: absolute;border-left: 1px solid gray;box-sizing: border-box;top: 0;bottom: 0;left: 50%;z-index: -1;}#sk-container-id-8 div.sk-parallel-item {display: flex;flex-direction: column;z-index: 1;position: relative;background-color: white;}#sk-container-id-8 div.sk-parallel-item:first-child::after {align-self: flex-end;width: 50%;}#sk-container-id-8 div.sk-parallel-item:last-child::after {align-self: flex-start;width: 50%;}#sk-container-id-8 div.sk-parallel-item:only-child::after {width: 0;}#sk-container-id-8 div.sk-dashed-wrapped {border: 1px dashed gray;margin: 0 0.4em 0.5em 0.4em;box-sizing: border-box;padding-bottom: 0.4em;background-color: white;}#sk-container-id-8 div.sk-label label {font-family: monospace;font-weight: bold;display: inline-block;line-height: 1.2em;}#sk-container-id-8 div.sk-label-container {text-align: center;}#sk-container-id-8 div.sk-container {/* jupyter's `normalize.less` sets `[hidden] { display: none; }` but bootstrap.min.css set `[hidden] { display: none !important; }` so we also need the `!important` here to be able to override the default hidden behavior on the sphinx rendered scikit-learn.org. See: https://github.com/scikit-learn/scikit-learn/issues/21755 */display: inline-block !important;position: relative;}#sk-container-id-8 div.sk-text-repr-fallback {display: none;}</style><div id=\"sk-container-id-8\" class=\"sk-top-container\"><div class=\"sk-text-repr-fallback\"><pre>ElasticNet(alpha=0.005, l1_ratio=0.2, random_state=0)</pre><b>In a Jupyter environment, please rerun this cell to show the HTML representation or trust the notebook. <br />On GitHub, the HTML representation is unable to render, please try loading this page with nbviewer.org.</b></div><div class=\"sk-container\" hidden><div class=\"sk-item\"><div class=\"sk-estimator sk-toggleable\"><input class=\"sk-toggleable__control sk-hidden--visually\" id=\"sk-estimator-id-8\" type=\"checkbox\" checked><label for=\"sk-estimator-id-8\" class=\"sk-toggleable__label sk-toggleable__label-arrow\">ElasticNet</label><div class=\"sk-toggleable__content\"><pre>ElasticNet(alpha=0.005, l1_ratio=0.2, random_state=0)</pre></div></div></div></div></div>"
      ],
      "text/plain": [
       "ElasticNet(alpha=0.005, l1_ratio=0.2, random_state=0)"
      ]
     },
     "execution_count": 161,
     "metadata": {},
     "output_type": "execute_result"
    }
   ],
   "source": [
    "elastic_net.fit(df_encoded,y)"
   ]
  },
  {
   "cell_type": "code",
   "execution_count": 162,
   "metadata": {
    "id": "3jxtU1fHmR7a"
   },
   "outputs": [],
   "source": [
    "y_pred = elastic_net.predict(df_encoded_test)"
   ]
  },
  {
   "cell_type": "code",
   "execution_count": 163,
   "metadata": {
    "colab": {
     "base_uri": "https://localhost:8080/"
    },
    "id": "uhgOyCuymZ6m",
    "outputId": "983bb10d-fcf8-4729-ed1c-155390480381"
   },
   "outputs": [
    {
     "data": {
      "text/plain": [
       "0.12748864364177825"
      ]
     },
     "execution_count": 163,
     "metadata": {},
     "output_type": "execute_result"
    }
   ],
   "source": [
    "rmse(y_pred, y_test_log)"
   ]
  },
  {
   "cell_type": "code",
   "execution_count": null,
   "metadata": {
    "id": "WAO7ltf4mZ-t"
   },
   "outputs": [],
   "source": []
  },
  {
   "cell_type": "code",
   "execution_count": 175,
   "metadata": {
    "id": "W3pHIqQWqGZQ"
   },
   "outputs": [],
   "source": [
    "elastic_net = ElasticNet(l1_ratio = 0.2)\n",
    "alphas = np.logspace(-4, 3, 15)"
   ]
  },
  {
   "cell_type": "code",
   "execution_count": 178,
   "metadata": {
    "id": "56D3RXIWqGeP"
   },
   "outputs": [],
   "source": [
    "from sklearn.model_selection import GridSearchCV, cross_val_score, KFold"
   ]
  },
  {
   "cell_type": "code",
   "execution_count": 179,
   "metadata": {
    "colab": {
     "base_uri": "https://localhost:8080/",
     "height": 115
    },
    "id": "6QH5hin9qGiT",
    "outputId": "c7ccd8fb-5160-4461-9669-431f4a38250b"
   },
   "outputs": [
    {
     "data": {
      "text/html": [
       "<style>#sk-container-id-12 {color: black;}#sk-container-id-12 pre{padding: 0;}#sk-container-id-12 div.sk-toggleable {background-color: white;}#sk-container-id-12 label.sk-toggleable__label {cursor: pointer;display: block;width: 100%;margin-bottom: 0;padding: 0.3em;box-sizing: border-box;text-align: center;}#sk-container-id-12 label.sk-toggleable__label-arrow:before {content: \"▸\";float: left;margin-right: 0.25em;color: #696969;}#sk-container-id-12 label.sk-toggleable__label-arrow:hover:before {color: black;}#sk-container-id-12 div.sk-estimator:hover label.sk-toggleable__label-arrow:before {color: black;}#sk-container-id-12 div.sk-toggleable__content {max-height: 0;max-width: 0;overflow: hidden;text-align: left;background-color: #f0f8ff;}#sk-container-id-12 div.sk-toggleable__content pre {margin: 0.2em;color: black;border-radius: 0.25em;background-color: #f0f8ff;}#sk-container-id-12 input.sk-toggleable__control:checked~div.sk-toggleable__content {max-height: 200px;max-width: 100%;overflow: auto;}#sk-container-id-12 input.sk-toggleable__control:checked~label.sk-toggleable__label-arrow:before {content: \"▾\";}#sk-container-id-12 div.sk-estimator input.sk-toggleable__control:checked~label.sk-toggleable__label {background-color: #d4ebff;}#sk-container-id-12 div.sk-label input.sk-toggleable__control:checked~label.sk-toggleable__label {background-color: #d4ebff;}#sk-container-id-12 input.sk-hidden--visually {border: 0;clip: rect(1px 1px 1px 1px);clip: rect(1px, 1px, 1px, 1px);height: 1px;margin: -1px;overflow: hidden;padding: 0;position: absolute;width: 1px;}#sk-container-id-12 div.sk-estimator {font-family: monospace;background-color: #f0f8ff;border: 1px dotted black;border-radius: 0.25em;box-sizing: border-box;margin-bottom: 0.5em;}#sk-container-id-12 div.sk-estimator:hover {background-color: #d4ebff;}#sk-container-id-12 div.sk-parallel-item::after {content: \"\";width: 100%;border-bottom: 1px solid gray;flex-grow: 1;}#sk-container-id-12 div.sk-label:hover label.sk-toggleable__label {background-color: #d4ebff;}#sk-container-id-12 div.sk-serial::before {content: \"\";position: absolute;border-left: 1px solid gray;box-sizing: border-box;top: 0;bottom: 0;left: 50%;z-index: 0;}#sk-container-id-12 div.sk-serial {display: flex;flex-direction: column;align-items: center;background-color: white;padding-right: 0.2em;padding-left: 0.2em;position: relative;}#sk-container-id-12 div.sk-item {position: relative;z-index: 1;}#sk-container-id-12 div.sk-parallel {display: flex;align-items: stretch;justify-content: center;background-color: white;position: relative;}#sk-container-id-12 div.sk-item::before, #sk-container-id-12 div.sk-parallel-item::before {content: \"\";position: absolute;border-left: 1px solid gray;box-sizing: border-box;top: 0;bottom: 0;left: 50%;z-index: -1;}#sk-container-id-12 div.sk-parallel-item {display: flex;flex-direction: column;z-index: 1;position: relative;background-color: white;}#sk-container-id-12 div.sk-parallel-item:first-child::after {align-self: flex-end;width: 50%;}#sk-container-id-12 div.sk-parallel-item:last-child::after {align-self: flex-start;width: 50%;}#sk-container-id-12 div.sk-parallel-item:only-child::after {width: 0;}#sk-container-id-12 div.sk-dashed-wrapped {border: 1px dashed gray;margin: 0 0.4em 0.5em 0.4em;box-sizing: border-box;padding-bottom: 0.4em;background-color: white;}#sk-container-id-12 div.sk-label label {font-family: monospace;font-weight: bold;display: inline-block;line-height: 1.2em;}#sk-container-id-12 div.sk-label-container {text-align: center;}#sk-container-id-12 div.sk-container {/* jupyter's `normalize.less` sets `[hidden] { display: none; }` but bootstrap.min.css set `[hidden] { display: none !important; }` so we also need the `!important` here to be able to override the default hidden behavior on the sphinx rendered scikit-learn.org. See: https://github.com/scikit-learn/scikit-learn/issues/21755 */display: inline-block !important;position: relative;}#sk-container-id-12 div.sk-text-repr-fallback {display: none;}</style><div id=\"sk-container-id-12\" class=\"sk-top-container\"><div class=\"sk-text-repr-fallback\"><pre>GridSearchCV(cv=KFold(n_splits=5, random_state=0, shuffle=True),\n",
       "             estimator=ElasticNet(l1_ratio=0.2), n_jobs=-1,\n",
       "             param_grid={&#x27;alpha&#x27;: array([1.00000000e-04, 3.16227766e-04, 1.00000000e-03, 3.16227766e-03,\n",
       "       1.00000000e-02, 3.16227766e-02, 1.00000000e-01, 3.16227766e-01,\n",
       "       1.00000000e+00, 3.16227766e+00, 1.00000000e+01, 3.16227766e+01,\n",
       "       1.00000000e+02, 3.16227766e+02, 1.00000000e+03])},\n",
       "             scoring=&#x27;neg_mean_squared_error&#x27;)</pre><b>In a Jupyter environment, please rerun this cell to show the HTML representation or trust the notebook. <br />On GitHub, the HTML representation is unable to render, please try loading this page with nbviewer.org.</b></div><div class=\"sk-container\" hidden><div class=\"sk-item sk-dashed-wrapped\"><div class=\"sk-label-container\"><div class=\"sk-label sk-toggleable\"><input class=\"sk-toggleable__control sk-hidden--visually\" id=\"sk-estimator-id-16\" type=\"checkbox\" ><label for=\"sk-estimator-id-16\" class=\"sk-toggleable__label sk-toggleable__label-arrow\">GridSearchCV</label><div class=\"sk-toggleable__content\"><pre>GridSearchCV(cv=KFold(n_splits=5, random_state=0, shuffle=True),\n",
       "             estimator=ElasticNet(l1_ratio=0.2), n_jobs=-1,\n",
       "             param_grid={&#x27;alpha&#x27;: array([1.00000000e-04, 3.16227766e-04, 1.00000000e-03, 3.16227766e-03,\n",
       "       1.00000000e-02, 3.16227766e-02, 1.00000000e-01, 3.16227766e-01,\n",
       "       1.00000000e+00, 3.16227766e+00, 1.00000000e+01, 3.16227766e+01,\n",
       "       1.00000000e+02, 3.16227766e+02, 1.00000000e+03])},\n",
       "             scoring=&#x27;neg_mean_squared_error&#x27;)</pre></div></div></div><div class=\"sk-parallel\"><div class=\"sk-parallel-item\"><div class=\"sk-item\"><div class=\"sk-label-container\"><div class=\"sk-label sk-toggleable\"><input class=\"sk-toggleable__control sk-hidden--visually\" id=\"sk-estimator-id-17\" type=\"checkbox\" ><label for=\"sk-estimator-id-17\" class=\"sk-toggleable__label sk-toggleable__label-arrow\">estimator: ElasticNet</label><div class=\"sk-toggleable__content\"><pre>ElasticNet(l1_ratio=0.2)</pre></div></div></div><div class=\"sk-serial\"><div class=\"sk-item\"><div class=\"sk-estimator sk-toggleable\"><input class=\"sk-toggleable__control sk-hidden--visually\" id=\"sk-estimator-id-18\" type=\"checkbox\" ><label for=\"sk-estimator-id-18\" class=\"sk-toggleable__label sk-toggleable__label-arrow\">ElasticNet</label><div class=\"sk-toggleable__content\"><pre>ElasticNet(l1_ratio=0.2)</pre></div></div></div></div></div></div></div></div></div></div>"
      ],
      "text/plain": [
       "GridSearchCV(cv=KFold(n_splits=5, random_state=0, shuffle=True),\n",
       "             estimator=ElasticNet(l1_ratio=0.2), n_jobs=-1,\n",
       "             param_grid={'alpha': array([1.00000000e-04, 3.16227766e-04, 1.00000000e-03, 3.16227766e-03,\n",
       "       1.00000000e-02, 3.16227766e-02, 1.00000000e-01, 3.16227766e-01,\n",
       "       1.00000000e+00, 3.16227766e+00, 1.00000000e+01, 3.16227766e+01,\n",
       "       1.00000000e+02, 3.16227766e+02, 1.00000000e+03])},\n",
       "             scoring='neg_mean_squared_error')"
      ]
     },
     "execution_count": 179,
     "metadata": {},
     "output_type": "execute_result"
    }
   ],
   "source": [
    "param_grid = {'alpha': alphas}\n",
    "kfold = KFold(n_splits=5, shuffle=True, random_state=0)  # Example 5-fold cross-validation\n",
    "\n",
    "grid_search = GridSearchCV(elastic_net, param_grid, cv=kfold, scoring='neg_mean_squared_error', n_jobs=-1)\n",
    "grid_search.fit(df_encoded, y)"
   ]
  },
  {
   "cell_type": "code",
   "execution_count": 180,
   "metadata": {
    "id": "37BfezD_qVYF"
   },
   "outputs": [],
   "source": [
    "best_alpha = grid_search.best_params_['alpha']"
   ]
  },
  {
   "cell_type": "code",
   "execution_count": 181,
   "metadata": {
    "colab": {
     "base_uri": "https://localhost:8080/"
    },
    "id": "_n3hnWPxqVcB",
    "outputId": "fed75d78-f9ed-4fb7-fc9b-1410992da534"
   },
   "outputs": [
    {
     "data": {
      "text/plain": [
       "0.001"
      ]
     },
     "execution_count": 181,
     "metadata": {},
     "output_type": "execute_result"
    }
   ],
   "source": [
    "best_alpha"
   ]
  },
  {
   "cell_type": "code",
   "execution_count": 182,
   "metadata": {
    "colab": {
     "base_uri": "https://localhost:8080/",
     "height": 74
    },
    "id": "r3Ph4vrHqVfu",
    "outputId": "1a8ebc0d-f7b3-4834-d3ea-32ab5b7883c1"
   },
   "outputs": [
    {
     "data": {
      "text/html": [
       "<style>#sk-container-id-13 {color: black;}#sk-container-id-13 pre{padding: 0;}#sk-container-id-13 div.sk-toggleable {background-color: white;}#sk-container-id-13 label.sk-toggleable__label {cursor: pointer;display: block;width: 100%;margin-bottom: 0;padding: 0.3em;box-sizing: border-box;text-align: center;}#sk-container-id-13 label.sk-toggleable__label-arrow:before {content: \"▸\";float: left;margin-right: 0.25em;color: #696969;}#sk-container-id-13 label.sk-toggleable__label-arrow:hover:before {color: black;}#sk-container-id-13 div.sk-estimator:hover label.sk-toggleable__label-arrow:before {color: black;}#sk-container-id-13 div.sk-toggleable__content {max-height: 0;max-width: 0;overflow: hidden;text-align: left;background-color: #f0f8ff;}#sk-container-id-13 div.sk-toggleable__content pre {margin: 0.2em;color: black;border-radius: 0.25em;background-color: #f0f8ff;}#sk-container-id-13 input.sk-toggleable__control:checked~div.sk-toggleable__content {max-height: 200px;max-width: 100%;overflow: auto;}#sk-container-id-13 input.sk-toggleable__control:checked~label.sk-toggleable__label-arrow:before {content: \"▾\";}#sk-container-id-13 div.sk-estimator input.sk-toggleable__control:checked~label.sk-toggleable__label {background-color: #d4ebff;}#sk-container-id-13 div.sk-label input.sk-toggleable__control:checked~label.sk-toggleable__label {background-color: #d4ebff;}#sk-container-id-13 input.sk-hidden--visually {border: 0;clip: rect(1px 1px 1px 1px);clip: rect(1px, 1px, 1px, 1px);height: 1px;margin: -1px;overflow: hidden;padding: 0;position: absolute;width: 1px;}#sk-container-id-13 div.sk-estimator {font-family: monospace;background-color: #f0f8ff;border: 1px dotted black;border-radius: 0.25em;box-sizing: border-box;margin-bottom: 0.5em;}#sk-container-id-13 div.sk-estimator:hover {background-color: #d4ebff;}#sk-container-id-13 div.sk-parallel-item::after {content: \"\";width: 100%;border-bottom: 1px solid gray;flex-grow: 1;}#sk-container-id-13 div.sk-label:hover label.sk-toggleable__label {background-color: #d4ebff;}#sk-container-id-13 div.sk-serial::before {content: \"\";position: absolute;border-left: 1px solid gray;box-sizing: border-box;top: 0;bottom: 0;left: 50%;z-index: 0;}#sk-container-id-13 div.sk-serial {display: flex;flex-direction: column;align-items: center;background-color: white;padding-right: 0.2em;padding-left: 0.2em;position: relative;}#sk-container-id-13 div.sk-item {position: relative;z-index: 1;}#sk-container-id-13 div.sk-parallel {display: flex;align-items: stretch;justify-content: center;background-color: white;position: relative;}#sk-container-id-13 div.sk-item::before, #sk-container-id-13 div.sk-parallel-item::before {content: \"\";position: absolute;border-left: 1px solid gray;box-sizing: border-box;top: 0;bottom: 0;left: 50%;z-index: -1;}#sk-container-id-13 div.sk-parallel-item {display: flex;flex-direction: column;z-index: 1;position: relative;background-color: white;}#sk-container-id-13 div.sk-parallel-item:first-child::after {align-self: flex-end;width: 50%;}#sk-container-id-13 div.sk-parallel-item:last-child::after {align-self: flex-start;width: 50%;}#sk-container-id-13 div.sk-parallel-item:only-child::after {width: 0;}#sk-container-id-13 div.sk-dashed-wrapped {border: 1px dashed gray;margin: 0 0.4em 0.5em 0.4em;box-sizing: border-box;padding-bottom: 0.4em;background-color: white;}#sk-container-id-13 div.sk-label label {font-family: monospace;font-weight: bold;display: inline-block;line-height: 1.2em;}#sk-container-id-13 div.sk-label-container {text-align: center;}#sk-container-id-13 div.sk-container {/* jupyter's `normalize.less` sets `[hidden] { display: none; }` but bootstrap.min.css set `[hidden] { display: none !important; }` so we also need the `!important` here to be able to override the default hidden behavior on the sphinx rendered scikit-learn.org. See: https://github.com/scikit-learn/scikit-learn/issues/21755 */display: inline-block !important;position: relative;}#sk-container-id-13 div.sk-text-repr-fallback {display: none;}</style><div id=\"sk-container-id-13\" class=\"sk-top-container\"><div class=\"sk-text-repr-fallback\"><pre>ElasticNet(alpha=0.001, l1_ratio=0.2, random_state=0)</pre><b>In a Jupyter environment, please rerun this cell to show the HTML representation or trust the notebook. <br />On GitHub, the HTML representation is unable to render, please try loading this page with nbviewer.org.</b></div><div class=\"sk-container\" hidden><div class=\"sk-item\"><div class=\"sk-estimator sk-toggleable\"><input class=\"sk-toggleable__control sk-hidden--visually\" id=\"sk-estimator-id-19\" type=\"checkbox\" checked><label for=\"sk-estimator-id-19\" class=\"sk-toggleable__label sk-toggleable__label-arrow\">ElasticNet</label><div class=\"sk-toggleable__content\"><pre>ElasticNet(alpha=0.001, l1_ratio=0.2, random_state=0)</pre></div></div></div></div></div>"
      ],
      "text/plain": [
       "ElasticNet(alpha=0.001, l1_ratio=0.2, random_state=0)"
      ]
     },
     "execution_count": 182,
     "metadata": {},
     "output_type": "execute_result"
    }
   ],
   "source": [
    "best_elastic_net = ElasticNet(alpha=best_alpha, l1_ratio = 0.2, random_state = 0)\n",
    "best_elastic_net.fit(df_encoded, y)"
   ]
  },
  {
   "cell_type": "code",
   "execution_count": 183,
   "metadata": {
    "id": "6oNgJc0_qVj4"
   },
   "outputs": [],
   "source": [
    "y_pred = best_elastic_net.predict(df_encoded_test)"
   ]
  },
  {
   "cell_type": "code",
   "execution_count": 184,
   "metadata": {
    "colab": {
     "base_uri": "https://localhost:8080/"
    },
    "id": "8s0P4pi_q17u",
    "outputId": "35c0aa17-15c0-4b95-d15f-f5f2559684cf"
   },
   "outputs": [
    {
     "data": {
      "text/plain": [
       "0.12116167243607291"
      ]
     },
     "execution_count": 184,
     "metadata": {},
     "output_type": "execute_result"
    }
   ],
   "source": [
    "rmse(y_pred, y_test_log)"
   ]
  },
  {
   "cell_type": "code",
   "execution_count": null,
   "metadata": {
    "id": "eVtpA2T6q2A-"
   },
   "outputs": [],
   "source": []
  },
  {
   "cell_type": "code",
   "execution_count": null,
   "metadata": {
    "id": "9BpLWbQBqVnJ"
   },
   "outputs": [],
   "source": []
  },
  {
   "cell_type": "code",
   "execution_count": 141,
   "metadata": {
    "id": "57dXxKQsOXfh"
   },
   "outputs": [],
   "source": [
    "from xgboost import XGBRegressor"
   ]
  },
  {
   "cell_type": "code",
   "execution_count": 142,
   "metadata": {
    "id": "8DyECm6fOGYW"
   },
   "outputs": [],
   "source": [
    "xgb = XGBRegressor(n_estimators=5000, learning_rate=0.05, max_depth=6, subsample = 0.5, random_state=0)"
   ]
  },
  {
   "cell_type": "code",
   "execution_count": 143,
   "metadata": {
    "colab": {
     "base_uri": "https://localhost:8080/",
     "height": 244
    },
    "id": "ZqAAg3RB78bf",
    "outputId": "53df2f3e-09ff-463b-8d50-2d7e62ab4a33"
   },
   "outputs": [
    {
     "data": {
      "text/html": [
       "<style>#sk-container-id-4 {color: black;}#sk-container-id-4 pre{padding: 0;}#sk-container-id-4 div.sk-toggleable {background-color: white;}#sk-container-id-4 label.sk-toggleable__label {cursor: pointer;display: block;width: 100%;margin-bottom: 0;padding: 0.3em;box-sizing: border-box;text-align: center;}#sk-container-id-4 label.sk-toggleable__label-arrow:before {content: \"▸\";float: left;margin-right: 0.25em;color: #696969;}#sk-container-id-4 label.sk-toggleable__label-arrow:hover:before {color: black;}#sk-container-id-4 div.sk-estimator:hover label.sk-toggleable__label-arrow:before {color: black;}#sk-container-id-4 div.sk-toggleable__content {max-height: 0;max-width: 0;overflow: hidden;text-align: left;background-color: #f0f8ff;}#sk-container-id-4 div.sk-toggleable__content pre {margin: 0.2em;color: black;border-radius: 0.25em;background-color: #f0f8ff;}#sk-container-id-4 input.sk-toggleable__control:checked~div.sk-toggleable__content {max-height: 200px;max-width: 100%;overflow: auto;}#sk-container-id-4 input.sk-toggleable__control:checked~label.sk-toggleable__label-arrow:before {content: \"▾\";}#sk-container-id-4 div.sk-estimator input.sk-toggleable__control:checked~label.sk-toggleable__label {background-color: #d4ebff;}#sk-container-id-4 div.sk-label input.sk-toggleable__control:checked~label.sk-toggleable__label {background-color: #d4ebff;}#sk-container-id-4 input.sk-hidden--visually {border: 0;clip: rect(1px 1px 1px 1px);clip: rect(1px, 1px, 1px, 1px);height: 1px;margin: -1px;overflow: hidden;padding: 0;position: absolute;width: 1px;}#sk-container-id-4 div.sk-estimator {font-family: monospace;background-color: #f0f8ff;border: 1px dotted black;border-radius: 0.25em;box-sizing: border-box;margin-bottom: 0.5em;}#sk-container-id-4 div.sk-estimator:hover {background-color: #d4ebff;}#sk-container-id-4 div.sk-parallel-item::after {content: \"\";width: 100%;border-bottom: 1px solid gray;flex-grow: 1;}#sk-container-id-4 div.sk-label:hover label.sk-toggleable__label {background-color: #d4ebff;}#sk-container-id-4 div.sk-serial::before {content: \"\";position: absolute;border-left: 1px solid gray;box-sizing: border-box;top: 0;bottom: 0;left: 50%;z-index: 0;}#sk-container-id-4 div.sk-serial {display: flex;flex-direction: column;align-items: center;background-color: white;padding-right: 0.2em;padding-left: 0.2em;position: relative;}#sk-container-id-4 div.sk-item {position: relative;z-index: 1;}#sk-container-id-4 div.sk-parallel {display: flex;align-items: stretch;justify-content: center;background-color: white;position: relative;}#sk-container-id-4 div.sk-item::before, #sk-container-id-4 div.sk-parallel-item::before {content: \"\";position: absolute;border-left: 1px solid gray;box-sizing: border-box;top: 0;bottom: 0;left: 50%;z-index: -1;}#sk-container-id-4 div.sk-parallel-item {display: flex;flex-direction: column;z-index: 1;position: relative;background-color: white;}#sk-container-id-4 div.sk-parallel-item:first-child::after {align-self: flex-end;width: 50%;}#sk-container-id-4 div.sk-parallel-item:last-child::after {align-self: flex-start;width: 50%;}#sk-container-id-4 div.sk-parallel-item:only-child::after {width: 0;}#sk-container-id-4 div.sk-dashed-wrapped {border: 1px dashed gray;margin: 0 0.4em 0.5em 0.4em;box-sizing: border-box;padding-bottom: 0.4em;background-color: white;}#sk-container-id-4 div.sk-label label {font-family: monospace;font-weight: bold;display: inline-block;line-height: 1.2em;}#sk-container-id-4 div.sk-label-container {text-align: center;}#sk-container-id-4 div.sk-container {/* jupyter's `normalize.less` sets `[hidden] { display: none; }` but bootstrap.min.css set `[hidden] { display: none !important; }` so we also need the `!important` here to be able to override the default hidden behavior on the sphinx rendered scikit-learn.org. See: https://github.com/scikit-learn/scikit-learn/issues/21755 */display: inline-block !important;position: relative;}#sk-container-id-4 div.sk-text-repr-fallback {display: none;}</style><div id=\"sk-container-id-4\" class=\"sk-top-container\"><div class=\"sk-text-repr-fallback\"><pre>XGBRegressor(base_score=None, booster=None, callbacks=None,\n",
       "             colsample_bylevel=None, colsample_bynode=None,\n",
       "             colsample_bytree=None, device=None, early_stopping_rounds=None,\n",
       "             enable_categorical=False, eval_metric=None, feature_types=None,\n",
       "             gamma=None, grow_policy=None, importance_type=None,\n",
       "             interaction_constraints=None, learning_rate=0.05, max_bin=None,\n",
       "             max_cat_threshold=None, max_cat_to_onehot=None,\n",
       "             max_delta_step=None, max_depth=6, max_leaves=None,\n",
       "             min_child_weight=None, missing=nan, monotone_constraints=None,\n",
       "             multi_strategy=None, n_estimators=5000, n_jobs=None,\n",
       "             num_parallel_tree=None, random_state=0, ...)</pre><b>In a Jupyter environment, please rerun this cell to show the HTML representation or trust the notebook. <br />On GitHub, the HTML representation is unable to render, please try loading this page with nbviewer.org.</b></div><div class=\"sk-container\" hidden><div class=\"sk-item\"><div class=\"sk-estimator sk-toggleable\"><input class=\"sk-toggleable__control sk-hidden--visually\" id=\"sk-estimator-id-4\" type=\"checkbox\" checked><label for=\"sk-estimator-id-4\" class=\"sk-toggleable__label sk-toggleable__label-arrow\">XGBRegressor</label><div class=\"sk-toggleable__content\"><pre>XGBRegressor(base_score=None, booster=None, callbacks=None,\n",
       "             colsample_bylevel=None, colsample_bynode=None,\n",
       "             colsample_bytree=None, device=None, early_stopping_rounds=None,\n",
       "             enable_categorical=False, eval_metric=None, feature_types=None,\n",
       "             gamma=None, grow_policy=None, importance_type=None,\n",
       "             interaction_constraints=None, learning_rate=0.05, max_bin=None,\n",
       "             max_cat_threshold=None, max_cat_to_onehot=None,\n",
       "             max_delta_step=None, max_depth=6, max_leaves=None,\n",
       "             min_child_weight=None, missing=nan, monotone_constraints=None,\n",
       "             multi_strategy=None, n_estimators=5000, n_jobs=None,\n",
       "             num_parallel_tree=None, random_state=0, ...)</pre></div></div></div></div></div>"
      ],
      "text/plain": [
       "XGBRegressor(base_score=None, booster=None, callbacks=None,\n",
       "             colsample_bylevel=None, colsample_bynode=None,\n",
       "             colsample_bytree=None, device=None, early_stopping_rounds=None,\n",
       "             enable_categorical=False, eval_metric=None, feature_types=None,\n",
       "             gamma=None, grow_policy=None, importance_type=None,\n",
       "             interaction_constraints=None, learning_rate=0.05, max_bin=None,\n",
       "             max_cat_threshold=None, max_cat_to_onehot=None,\n",
       "             max_delta_step=None, max_depth=6, max_leaves=None,\n",
       "             min_child_weight=None, missing=nan, monotone_constraints=None,\n",
       "             multi_strategy=None, n_estimators=5000, n_jobs=None,\n",
       "             num_parallel_tree=None, random_state=0, ...)"
      ]
     },
     "execution_count": 143,
     "metadata": {},
     "output_type": "execute_result"
    }
   ],
   "source": [
    "xgb.fit(df_encoded, y)"
   ]
  },
  {
   "cell_type": "code",
   "execution_count": 144,
   "metadata": {
    "id": "IWitMC6kdW0U"
   },
   "outputs": [],
   "source": [
    "y_pred = xgb.predict(df_encoded_test)"
   ]
  },
  {
   "cell_type": "code",
   "execution_count": 145,
   "metadata": {
    "colab": {
     "base_uri": "https://localhost:8080/"
    },
    "id": "bwRaKP5Flu47",
    "outputId": "085c2d61-b689-4dc5-b89d-de73d88548f2"
   },
   "outputs": [
    {
     "data": {
      "text/plain": [
       "0.11521064825100598"
      ]
     },
     "execution_count": 145,
     "metadata": {},
     "output_type": "execute_result"
    }
   ],
   "source": [
    "rmse(y_pred, y_test_log)"
   ]
  },
  {
   "cell_type": "code",
   "execution_count": null,
   "metadata": {
    "id": "y5480p1clvEI"
   },
   "outputs": [],
   "source": []
  },
  {
   "cell_type": "code",
   "execution_count": null,
   "metadata": {
    "id": "pOweWwm2-Pfm"
   },
   "outputs": [],
   "source": []
  },
  {
   "cell_type": "code",
   "execution_count": 186,
   "metadata": {
    "id": "43_YAf0f-Pi5"
   },
   "outputs": [],
   "source": [
    "df_test = pd.read_csv('test.csv')\n",
    "y_test = pd.read_csv('test_y.csv')"
   ]
  },
  {
   "cell_type": "code",
   "execution_count": 187,
   "metadata": {
    "id": "LEc8gd9zfFJS"
   },
   "outputs": [],
   "source": [
    "y_test_log = np.log(y_test['Sale_Price'])"
   ]
  },
  {
   "cell_type": "code",
   "execution_count": 188,
   "metadata": {
    "id": "UA2QYc_886ft"
   },
   "outputs": [],
   "source": [
    "df_test['Garage_Yr_Blt'] = df_test['Garage_Yr_Blt'].fillna(0)"
   ]
  },
  {
   "cell_type": "code",
   "execution_count": 189,
   "metadata": {
    "colab": {
     "base_uri": "https://localhost:8080/",
     "height": 439
    },
    "id": "ndDWotMSdIrl",
    "outputId": "aac12a0d-148e-494e-a897-2174364a8c30"
   },
   "outputs": [
    {
     "data": {
      "text/html": [
       "\n",
       "  <div id=\"df-de8b1d92-dfed-42c9-8f07-d0f8a70479ed\" class=\"colab-df-container\">\n",
       "    <div>\n",
       "<style scoped>\n",
       "    .dataframe tbody tr th:only-of-type {\n",
       "        vertical-align: middle;\n",
       "    }\n",
       "\n",
       "    .dataframe tbody tr th {\n",
       "        vertical-align: top;\n",
       "    }\n",
       "\n",
       "    .dataframe thead th {\n",
       "        text-align: right;\n",
       "    }\n",
       "</style>\n",
       "<table border=\"1\" class=\"dataframe\">\n",
       "  <thead>\n",
       "    <tr style=\"text-align: right;\">\n",
       "      <th></th>\n",
       "      <th>MS_SubClass</th>\n",
       "      <th>MS_Zoning</th>\n",
       "      <th>Lot_Frontage</th>\n",
       "      <th>Lot_Area</th>\n",
       "      <th>Street</th>\n",
       "      <th>Alley</th>\n",
       "      <th>Lot_Shape</th>\n",
       "      <th>Land_Contour</th>\n",
       "      <th>Utilities</th>\n",
       "      <th>Lot_Config</th>\n",
       "      <th>...</th>\n",
       "      <th>Pool_QC</th>\n",
       "      <th>Fence</th>\n",
       "      <th>Misc_Feature</th>\n",
       "      <th>Misc_Val</th>\n",
       "      <th>Mo_Sold</th>\n",
       "      <th>Year_Sold</th>\n",
       "      <th>Sale_Type</th>\n",
       "      <th>Sale_Condition</th>\n",
       "      <th>Longitude</th>\n",
       "      <th>Latitude</th>\n",
       "    </tr>\n",
       "  </thead>\n",
       "  <tbody>\n",
       "    <tr>\n",
       "      <th>0</th>\n",
       "      <td>One_Story_1946_and_Newer_All_Styles</td>\n",
       "      <td>Residential_Low_Density</td>\n",
       "      <td>0</td>\n",
       "      <td>8926</td>\n",
       "      <td>Pave</td>\n",
       "      <td>No_Alley_Access</td>\n",
       "      <td>Slightly_Irregular</td>\n",
       "      <td>Lvl</td>\n",
       "      <td>AllPub</td>\n",
       "      <td>Corner</td>\n",
       "      <td>...</td>\n",
       "      <td>No_Pool</td>\n",
       "      <td>Minimum_Privacy</td>\n",
       "      <td>None</td>\n",
       "      <td>0</td>\n",
       "      <td>10</td>\n",
       "      <td>2009</td>\n",
       "      <td>COD</td>\n",
       "      <td>Abnorml</td>\n",
       "      <td>-93.663302</td>\n",
       "      <td>42.018592</td>\n",
       "    </tr>\n",
       "    <tr>\n",
       "      <th>1</th>\n",
       "      <td>Two_Story_1945_and_Older</td>\n",
       "      <td>Residential_Medium_Density</td>\n",
       "      <td>57</td>\n",
       "      <td>6876</td>\n",
       "      <td>Pave</td>\n",
       "      <td>No_Alley_Access</td>\n",
       "      <td>Regular</td>\n",
       "      <td>Lvl</td>\n",
       "      <td>AllPub</td>\n",
       "      <td>Inside</td>\n",
       "      <td>...</td>\n",
       "      <td>No_Pool</td>\n",
       "      <td>Minimum_Privacy</td>\n",
       "      <td>None</td>\n",
       "      <td>0</td>\n",
       "      <td>8</td>\n",
       "      <td>2009</td>\n",
       "      <td>WD</td>\n",
       "      <td>Normal</td>\n",
       "      <td>-93.628299</td>\n",
       "      <td>42.025306</td>\n",
       "    </tr>\n",
       "    <tr>\n",
       "      <th>2</th>\n",
       "      <td>Two_Story_1946_and_Newer</td>\n",
       "      <td>Residential_Low_Density</td>\n",
       "      <td>0</td>\n",
       "      <td>13869</td>\n",
       "      <td>Pave</td>\n",
       "      <td>No_Alley_Access</td>\n",
       "      <td>Moderately_Irregular</td>\n",
       "      <td>Lvl</td>\n",
       "      <td>AllPub</td>\n",
       "      <td>Corner</td>\n",
       "      <td>...</td>\n",
       "      <td>No_Pool</td>\n",
       "      <td>No_Fence</td>\n",
       "      <td>None</td>\n",
       "      <td>0</td>\n",
       "      <td>7</td>\n",
       "      <td>2007</td>\n",
       "      <td>WD</td>\n",
       "      <td>Normal</td>\n",
       "      <td>-93.636146</td>\n",
       "      <td>42.061664</td>\n",
       "    </tr>\n",
       "    <tr>\n",
       "      <th>3</th>\n",
       "      <td>One_Story_1946_and_Newer_All_Styles</td>\n",
       "      <td>Residential_Low_Density</td>\n",
       "      <td>87</td>\n",
       "      <td>10000</td>\n",
       "      <td>Pave</td>\n",
       "      <td>No_Alley_Access</td>\n",
       "      <td>Slightly_Irregular</td>\n",
       "      <td>Lvl</td>\n",
       "      <td>AllPub</td>\n",
       "      <td>Corner</td>\n",
       "      <td>...</td>\n",
       "      <td>No_Pool</td>\n",
       "      <td>No_Fence</td>\n",
       "      <td>None</td>\n",
       "      <td>0</td>\n",
       "      <td>2</td>\n",
       "      <td>2010</td>\n",
       "      <td>WD</td>\n",
       "      <td>Normal</td>\n",
       "      <td>-93.605943</td>\n",
       "      <td>42.034748</td>\n",
       "    </tr>\n",
       "    <tr>\n",
       "      <th>4</th>\n",
       "      <td>One_and_Half_Story_Finished_All_Ages</td>\n",
       "      <td>Residential_Medium_Density</td>\n",
       "      <td>60</td>\n",
       "      <td>10320</td>\n",
       "      <td>Pave</td>\n",
       "      <td>Gravel</td>\n",
       "      <td>Regular</td>\n",
       "      <td>Lvl</td>\n",
       "      <td>AllPub</td>\n",
       "      <td>Inside</td>\n",
       "      <td>...</td>\n",
       "      <td>No_Pool</td>\n",
       "      <td>Minimum_Privacy</td>\n",
       "      <td>None</td>\n",
       "      <td>0</td>\n",
       "      <td>6</td>\n",
       "      <td>2008</td>\n",
       "      <td>WD</td>\n",
       "      <td>Normal</td>\n",
       "      <td>-93.624580</td>\n",
       "      <td>42.023716</td>\n",
       "    </tr>\n",
       "    <tr>\n",
       "      <th>...</th>\n",
       "      <td>...</td>\n",
       "      <td>...</td>\n",
       "      <td>...</td>\n",
       "      <td>...</td>\n",
       "      <td>...</td>\n",
       "      <td>...</td>\n",
       "      <td>...</td>\n",
       "      <td>...</td>\n",
       "      <td>...</td>\n",
       "      <td>...</td>\n",
       "      <td>...</td>\n",
       "      <td>...</td>\n",
       "      <td>...</td>\n",
       "      <td>...</td>\n",
       "      <td>...</td>\n",
       "      <td>...</td>\n",
       "      <td>...</td>\n",
       "      <td>...</td>\n",
       "      <td>...</td>\n",
       "      <td>...</td>\n",
       "      <td>...</td>\n",
       "    </tr>\n",
       "    <tr>\n",
       "      <th>874</th>\n",
       "      <td>Two_Story_1946_and_Newer</td>\n",
       "      <td>Residential_Low_Density</td>\n",
       "      <td>80</td>\n",
       "      <td>11584</td>\n",
       "      <td>Pave</td>\n",
       "      <td>No_Alley_Access</td>\n",
       "      <td>Regular</td>\n",
       "      <td>Lvl</td>\n",
       "      <td>AllPub</td>\n",
       "      <td>Inside</td>\n",
       "      <td>...</td>\n",
       "      <td>No_Pool</td>\n",
       "      <td>No_Fence</td>\n",
       "      <td>None</td>\n",
       "      <td>0</td>\n",
       "      <td>11</td>\n",
       "      <td>2007</td>\n",
       "      <td>WD</td>\n",
       "      <td>Normal</td>\n",
       "      <td>-93.638554</td>\n",
       "      <td>42.052353</td>\n",
       "    </tr>\n",
       "    <tr>\n",
       "      <th>875</th>\n",
       "      <td>Two_Story_1946_and_Newer</td>\n",
       "      <td>Residential_Low_Density</td>\n",
       "      <td>72</td>\n",
       "      <td>7200</td>\n",
       "      <td>Pave</td>\n",
       "      <td>No_Alley_Access</td>\n",
       "      <td>Regular</td>\n",
       "      <td>Lvl</td>\n",
       "      <td>AllPub</td>\n",
       "      <td>Inside</td>\n",
       "      <td>...</td>\n",
       "      <td>No_Pool</td>\n",
       "      <td>Minimum_Privacy</td>\n",
       "      <td>None</td>\n",
       "      <td>0</td>\n",
       "      <td>2</td>\n",
       "      <td>2008</td>\n",
       "      <td>WD</td>\n",
       "      <td>Normal</td>\n",
       "      <td>-93.675173</td>\n",
       "      <td>42.018912</td>\n",
       "    </tr>\n",
       "    <tr>\n",
       "      <th>876</th>\n",
       "      <td>One_Story_1946_and_Newer_All_Styles</td>\n",
       "      <td>Residential_Low_Density</td>\n",
       "      <td>84</td>\n",
       "      <td>11670</td>\n",
       "      <td>Pave</td>\n",
       "      <td>No_Alley_Access</td>\n",
       "      <td>Slightly_Irregular</td>\n",
       "      <td>Lvl</td>\n",
       "      <td>AllPub</td>\n",
       "      <td>Corner</td>\n",
       "      <td>...</td>\n",
       "      <td>No_Pool</td>\n",
       "      <td>No_Fence</td>\n",
       "      <td>None</td>\n",
       "      <td>0</td>\n",
       "      <td>3</td>\n",
       "      <td>2007</td>\n",
       "      <td>WD</td>\n",
       "      <td>Normal</td>\n",
       "      <td>-93.642069</td>\n",
       "      <td>42.054318</td>\n",
       "    </tr>\n",
       "    <tr>\n",
       "      <th>877</th>\n",
       "      <td>Two_Story_PUD_1946_and_Newer</td>\n",
       "      <td>Floating_Village_Residential</td>\n",
       "      <td>30</td>\n",
       "      <td>3215</td>\n",
       "      <td>Pave</td>\n",
       "      <td>Paved</td>\n",
       "      <td>Regular</td>\n",
       "      <td>Lvl</td>\n",
       "      <td>AllPub</td>\n",
       "      <td>Inside</td>\n",
       "      <td>...</td>\n",
       "      <td>No_Pool</td>\n",
       "      <td>No_Fence</td>\n",
       "      <td>None</td>\n",
       "      <td>0</td>\n",
       "      <td>4</td>\n",
       "      <td>2010</td>\n",
       "      <td>ConLD</td>\n",
       "      <td>Normal</td>\n",
       "      <td>-93.645599</td>\n",
       "      <td>42.048566</td>\n",
       "    </tr>\n",
       "    <tr>\n",
       "      <th>878</th>\n",
       "      <td>One_and_Half_Story_Finished_All_Ages</td>\n",
       "      <td>Residential_Low_Density</td>\n",
       "      <td>152</td>\n",
       "      <td>12134</td>\n",
       "      <td>Pave</td>\n",
       "      <td>No_Alley_Access</td>\n",
       "      <td>Slightly_Irregular</td>\n",
       "      <td>Bnk</td>\n",
       "      <td>AllPub</td>\n",
       "      <td>Inside</td>\n",
       "      <td>...</td>\n",
       "      <td>No_Pool</td>\n",
       "      <td>No_Fence</td>\n",
       "      <td>None</td>\n",
       "      <td>0</td>\n",
       "      <td>6</td>\n",
       "      <td>2010</td>\n",
       "      <td>WD</td>\n",
       "      <td>Normal</td>\n",
       "      <td>-93.623595</td>\n",
       "      <td>42.060351</td>\n",
       "    </tr>\n",
       "  </tbody>\n",
       "</table>\n",
       "<p>879 rows × 81 columns</p>\n",
       "</div>\n",
       "    <div class=\"colab-df-buttons\">\n",
       "\n",
       "  <div class=\"colab-df-container\">\n",
       "    <button class=\"colab-df-convert\" onclick=\"convertToInteractive('df-de8b1d92-dfed-42c9-8f07-d0f8a70479ed')\"\n",
       "            title=\"Convert this dataframe to an interactive table.\"\n",
       "            style=\"display:none;\">\n",
       "\n",
       "  <svg xmlns=\"http://www.w3.org/2000/svg\" height=\"24px\" viewBox=\"0 -960 960 960\">\n",
       "    <path d=\"M120-120v-720h720v720H120Zm60-500h600v-160H180v160Zm220 220h160v-160H400v160Zm0 220h160v-160H400v160ZM180-400h160v-160H180v160Zm440 0h160v-160H620v160ZM180-180h160v-160H180v160Zm440 0h160v-160H620v160Z\"/>\n",
       "  </svg>\n",
       "    </button>\n",
       "\n",
       "  <style>\n",
       "    .colab-df-container {\n",
       "      display:flex;\n",
       "      gap: 12px;\n",
       "    }\n",
       "\n",
       "    .colab-df-convert {\n",
       "      background-color: #E8F0FE;\n",
       "      border: none;\n",
       "      border-radius: 50%;\n",
       "      cursor: pointer;\n",
       "      display: none;\n",
       "      fill: #1967D2;\n",
       "      height: 32px;\n",
       "      padding: 0 0 0 0;\n",
       "      width: 32px;\n",
       "    }\n",
       "\n",
       "    .colab-df-convert:hover {\n",
       "      background-color: #E2EBFA;\n",
       "      box-shadow: 0px 1px 2px rgba(60, 64, 67, 0.3), 0px 1px 3px 1px rgba(60, 64, 67, 0.15);\n",
       "      fill: #174EA6;\n",
       "    }\n",
       "\n",
       "    .colab-df-buttons div {\n",
       "      margin-bottom: 4px;\n",
       "    }\n",
       "\n",
       "    [theme=dark] .colab-df-convert {\n",
       "      background-color: #3B4455;\n",
       "      fill: #D2E3FC;\n",
       "    }\n",
       "\n",
       "    [theme=dark] .colab-df-convert:hover {\n",
       "      background-color: #434B5C;\n",
       "      box-shadow: 0px 1px 3px 1px rgba(0, 0, 0, 0.15);\n",
       "      filter: drop-shadow(0px 1px 2px rgba(0, 0, 0, 0.3));\n",
       "      fill: #FFFFFF;\n",
       "    }\n",
       "  </style>\n",
       "\n",
       "    <script>\n",
       "      const buttonEl =\n",
       "        document.querySelector('#df-de8b1d92-dfed-42c9-8f07-d0f8a70479ed button.colab-df-convert');\n",
       "      buttonEl.style.display =\n",
       "        google.colab.kernel.accessAllowed ? 'block' : 'none';\n",
       "\n",
       "      async function convertToInteractive(key) {\n",
       "        const element = document.querySelector('#df-de8b1d92-dfed-42c9-8f07-d0f8a70479ed');\n",
       "        const dataTable =\n",
       "          await google.colab.kernel.invokeFunction('convertToInteractive',\n",
       "                                                    [key], {});\n",
       "        if (!dataTable) return;\n",
       "\n",
       "        const docLinkHtml = 'Like what you see? Visit the ' +\n",
       "          '<a target=\"_blank\" href=https://colab.research.google.com/notebooks/data_table.ipynb>data table notebook</a>'\n",
       "          + ' to learn more about interactive tables.';\n",
       "        element.innerHTML = '';\n",
       "        dataTable['output_type'] = 'display_data';\n",
       "        await google.colab.output.renderOutput(dataTable, element);\n",
       "        const docLink = document.createElement('div');\n",
       "        docLink.innerHTML = docLinkHtml;\n",
       "        element.appendChild(docLink);\n",
       "      }\n",
       "    </script>\n",
       "  </div>\n",
       "\n",
       "\n",
       "<div id=\"df-e005b572-f4fc-4095-b6a8-a6bebd964af2\">\n",
       "  <button class=\"colab-df-quickchart\" onclick=\"quickchart('df-e005b572-f4fc-4095-b6a8-a6bebd964af2')\"\n",
       "            title=\"Suggest charts.\"\n",
       "            style=\"display:none;\">\n",
       "\n",
       "<svg xmlns=\"http://www.w3.org/2000/svg\" height=\"24px\"viewBox=\"0 0 24 24\"\n",
       "     width=\"24px\">\n",
       "    <g>\n",
       "        <path d=\"M19 3H5c-1.1 0-2 .9-2 2v14c0 1.1.9 2 2 2h14c1.1 0 2-.9 2-2V5c0-1.1-.9-2-2-2zM9 17H7v-7h2v7zm4 0h-2V7h2v10zm4 0h-2v-4h2v4z\"/>\n",
       "    </g>\n",
       "</svg>\n",
       "  </button>\n",
       "\n",
       "<style>\n",
       "  .colab-df-quickchart {\n",
       "      --bg-color: #E8F0FE;\n",
       "      --fill-color: #1967D2;\n",
       "      --hover-bg-color: #E2EBFA;\n",
       "      --hover-fill-color: #174EA6;\n",
       "      --disabled-fill-color: #AAA;\n",
       "      --disabled-bg-color: #DDD;\n",
       "  }\n",
       "\n",
       "  [theme=dark] .colab-df-quickchart {\n",
       "      --bg-color: #3B4455;\n",
       "      --fill-color: #D2E3FC;\n",
       "      --hover-bg-color: #434B5C;\n",
       "      --hover-fill-color: #FFFFFF;\n",
       "      --disabled-bg-color: #3B4455;\n",
       "      --disabled-fill-color: #666;\n",
       "  }\n",
       "\n",
       "  .colab-df-quickchart {\n",
       "    background-color: var(--bg-color);\n",
       "    border: none;\n",
       "    border-radius: 50%;\n",
       "    cursor: pointer;\n",
       "    display: none;\n",
       "    fill: var(--fill-color);\n",
       "    height: 32px;\n",
       "    padding: 0;\n",
       "    width: 32px;\n",
       "  }\n",
       "\n",
       "  .colab-df-quickchart:hover {\n",
       "    background-color: var(--hover-bg-color);\n",
       "    box-shadow: 0 1px 2px rgba(60, 64, 67, 0.3), 0 1px 3px 1px rgba(60, 64, 67, 0.15);\n",
       "    fill: var(--button-hover-fill-color);\n",
       "  }\n",
       "\n",
       "  .colab-df-quickchart-complete:disabled,\n",
       "  .colab-df-quickchart-complete:disabled:hover {\n",
       "    background-color: var(--disabled-bg-color);\n",
       "    fill: var(--disabled-fill-color);\n",
       "    box-shadow: none;\n",
       "  }\n",
       "\n",
       "  .colab-df-spinner {\n",
       "    border: 2px solid var(--fill-color);\n",
       "    border-color: transparent;\n",
       "    border-bottom-color: var(--fill-color);\n",
       "    animation:\n",
       "      spin 1s steps(1) infinite;\n",
       "  }\n",
       "\n",
       "  @keyframes spin {\n",
       "    0% {\n",
       "      border-color: transparent;\n",
       "      border-bottom-color: var(--fill-color);\n",
       "      border-left-color: var(--fill-color);\n",
       "    }\n",
       "    20% {\n",
       "      border-color: transparent;\n",
       "      border-left-color: var(--fill-color);\n",
       "      border-top-color: var(--fill-color);\n",
       "    }\n",
       "    30% {\n",
       "      border-color: transparent;\n",
       "      border-left-color: var(--fill-color);\n",
       "      border-top-color: var(--fill-color);\n",
       "      border-right-color: var(--fill-color);\n",
       "    }\n",
       "    40% {\n",
       "      border-color: transparent;\n",
       "      border-right-color: var(--fill-color);\n",
       "      border-top-color: var(--fill-color);\n",
       "    }\n",
       "    60% {\n",
       "      border-color: transparent;\n",
       "      border-right-color: var(--fill-color);\n",
       "    }\n",
       "    80% {\n",
       "      border-color: transparent;\n",
       "      border-right-color: var(--fill-color);\n",
       "      border-bottom-color: var(--fill-color);\n",
       "    }\n",
       "    90% {\n",
       "      border-color: transparent;\n",
       "      border-bottom-color: var(--fill-color);\n",
       "    }\n",
       "  }\n",
       "</style>\n",
       "\n",
       "  <script>\n",
       "    async function quickchart(key) {\n",
       "      const quickchartButtonEl =\n",
       "        document.querySelector('#' + key + ' button');\n",
       "      quickchartButtonEl.disabled = true;  // To prevent multiple clicks.\n",
       "      quickchartButtonEl.classList.add('colab-df-spinner');\n",
       "      try {\n",
       "        const charts = await google.colab.kernel.invokeFunction(\n",
       "            'suggestCharts', [key], {});\n",
       "      } catch (error) {\n",
       "        console.error('Error during call to suggestCharts:', error);\n",
       "      }\n",
       "      quickchartButtonEl.classList.remove('colab-df-spinner');\n",
       "      quickchartButtonEl.classList.add('colab-df-quickchart-complete');\n",
       "    }\n",
       "    (() => {\n",
       "      let quickchartButtonEl =\n",
       "        document.querySelector('#df-e005b572-f4fc-4095-b6a8-a6bebd964af2 button');\n",
       "      quickchartButtonEl.style.display =\n",
       "        google.colab.kernel.accessAllowed ? 'block' : 'none';\n",
       "    })();\n",
       "  </script>\n",
       "</div>\n",
       "    </div>\n",
       "  </div>\n"
      ],
      "text/plain": [
       "                              MS_SubClass                     MS_Zoning  \\\n",
       "0     One_Story_1946_and_Newer_All_Styles       Residential_Low_Density   \n",
       "1                Two_Story_1945_and_Older    Residential_Medium_Density   \n",
       "2                Two_Story_1946_and_Newer       Residential_Low_Density   \n",
       "3     One_Story_1946_and_Newer_All_Styles       Residential_Low_Density   \n",
       "4    One_and_Half_Story_Finished_All_Ages    Residential_Medium_Density   \n",
       "..                                    ...                           ...   \n",
       "874              Two_Story_1946_and_Newer       Residential_Low_Density   \n",
       "875              Two_Story_1946_and_Newer       Residential_Low_Density   \n",
       "876   One_Story_1946_and_Newer_All_Styles       Residential_Low_Density   \n",
       "877          Two_Story_PUD_1946_and_Newer  Floating_Village_Residential   \n",
       "878  One_and_Half_Story_Finished_All_Ages       Residential_Low_Density   \n",
       "\n",
       "     Lot_Frontage  Lot_Area Street            Alley             Lot_Shape  \\\n",
       "0               0      8926   Pave  No_Alley_Access    Slightly_Irregular   \n",
       "1              57      6876   Pave  No_Alley_Access               Regular   \n",
       "2               0     13869   Pave  No_Alley_Access  Moderately_Irregular   \n",
       "3              87     10000   Pave  No_Alley_Access    Slightly_Irregular   \n",
       "4              60     10320   Pave           Gravel               Regular   \n",
       "..            ...       ...    ...              ...                   ...   \n",
       "874            80     11584   Pave  No_Alley_Access               Regular   \n",
       "875            72      7200   Pave  No_Alley_Access               Regular   \n",
       "876            84     11670   Pave  No_Alley_Access    Slightly_Irregular   \n",
       "877            30      3215   Pave            Paved               Regular   \n",
       "878           152     12134   Pave  No_Alley_Access    Slightly_Irregular   \n",
       "\n",
       "    Land_Contour Utilities Lot_Config  ...  Pool_QC            Fence  \\\n",
       "0            Lvl    AllPub     Corner  ...  No_Pool  Minimum_Privacy   \n",
       "1            Lvl    AllPub     Inside  ...  No_Pool  Minimum_Privacy   \n",
       "2            Lvl    AllPub     Corner  ...  No_Pool         No_Fence   \n",
       "3            Lvl    AllPub     Corner  ...  No_Pool         No_Fence   \n",
       "4            Lvl    AllPub     Inside  ...  No_Pool  Minimum_Privacy   \n",
       "..           ...       ...        ...  ...      ...              ...   \n",
       "874          Lvl    AllPub     Inside  ...  No_Pool         No_Fence   \n",
       "875          Lvl    AllPub     Inside  ...  No_Pool  Minimum_Privacy   \n",
       "876          Lvl    AllPub     Corner  ...  No_Pool         No_Fence   \n",
       "877          Lvl    AllPub     Inside  ...  No_Pool         No_Fence   \n",
       "878          Bnk    AllPub     Inside  ...  No_Pool         No_Fence   \n",
       "\n",
       "    Misc_Feature Misc_Val Mo_Sold Year_Sold Sale_Type Sale_Condition  \\\n",
       "0           None        0      10      2009       COD        Abnorml   \n",
       "1           None        0       8      2009       WD          Normal   \n",
       "2           None        0       7      2007       WD          Normal   \n",
       "3           None        0       2      2010       WD          Normal   \n",
       "4           None        0       6      2008       WD          Normal   \n",
       "..           ...      ...     ...       ...       ...            ...   \n",
       "874         None        0      11      2007       WD          Normal   \n",
       "875         None        0       2      2008       WD          Normal   \n",
       "876         None        0       3      2007       WD          Normal   \n",
       "877         None        0       4      2010     ConLD         Normal   \n",
       "878         None        0       6      2010       WD          Normal   \n",
       "\n",
       "     Longitude   Latitude  \n",
       "0   -93.663302  42.018592  \n",
       "1   -93.628299  42.025306  \n",
       "2   -93.636146  42.061664  \n",
       "3   -93.605943  42.034748  \n",
       "4   -93.624580  42.023716  \n",
       "..         ...        ...  \n",
       "874 -93.638554  42.052353  \n",
       "875 -93.675173  42.018912  \n",
       "876 -93.642069  42.054318  \n",
       "877 -93.645599  42.048566  \n",
       "878 -93.623595  42.060351  \n",
       "\n",
       "[879 rows x 81 columns]"
      ]
     },
     "execution_count": 189,
     "metadata": {},
     "output_type": "execute_result"
    }
   ],
   "source": [
    "df_test.drop(['PID'],axis = 1)"
   ]
  },
  {
   "cell_type": "code",
   "execution_count": 129,
   "metadata": {
    "id": "BPWDQkHZ-WBj"
   },
   "outputs": [],
   "source": [
    "df_test = df_test.drop(features_to_remove,axis = 1)"
   ]
  },
  {
   "cell_type": "code",
   "execution_count": 130,
   "metadata": {
    "id": "utbbadH8-WEo"
   },
   "outputs": [],
   "source": [
    "for column, M in zip(features_to_winsor,Winzorization_M):\n",
    "  df_test[column] = df_test[column].apply(lambda x: revalue_column(x, M))"
   ]
  },
  {
   "cell_type": "code",
   "execution_count": null,
   "metadata": {
    "id": "yVBV87iniZCp"
   },
   "outputs": [],
   "source": []
  },
  {
   "cell_type": "code",
   "execution_count": 132,
   "metadata": {
    "id": "tkm83LMXiZGg"
   },
   "outputs": [],
   "source": [
    "categorical_features_test = df_test.select_dtypes(include=['object', 'category'])\n",
    "numerical_features_test = df_test.select_dtypes(exclude=['object', 'category'])"
   ]
  },
  {
   "cell_type": "code",
   "execution_count": 133,
   "metadata": {
    "id": "hML484p-iZKu"
   },
   "outputs": [],
   "source": [
    "scaled_numerical_features_test = scaler.transform(numerical_features_test)\n",
    "scaled_numerical_df_test = pd.DataFrame(scaled_numerical_features_test, columns=numerical_features.columns)"
   ]
  },
  {
   "cell_type": "code",
   "execution_count": 86,
   "metadata": {
    "id": "EnTpTl0ndH5R"
   },
   "outputs": [],
   "source": []
  },
  {
   "cell_type": "code",
   "execution_count": 134,
   "metadata": {
    "id": "7dV_7OGydH8c"
   },
   "outputs": [],
   "source": [
    "encoded_categorical_features_test = encoder.transform(categorical_features_test)\n",
    "encoded_categorical_df_test = pd.DataFrame(encoded_categorical_features_test, columns=encoder.get_feature_names_out(input_features=categorical_features.columns))"
   ]
  },
  {
   "cell_type": "code",
   "execution_count": 138,
   "metadata": {
    "id": "vCcYZjfOdH_V"
   },
   "outputs": [],
   "source": [
    "df_encoded_test = pd.concat([scaled_numerical_df_test, encoded_categorical_df_test], axis=1)"
   ]
  },
  {
   "cell_type": "code",
   "execution_count": 149,
   "metadata": {
    "id": "IWlKMgn9fD3P"
   },
   "outputs": [],
   "source": [
    "y_pred = elastic_net.predict(df_encoded_test)"
   ]
  },
  {
   "cell_type": "code",
   "execution_count": 150,
   "metadata": {
    "colab": {
     "base_uri": "https://localhost:8080/"
    },
    "id": "EnnXYlNvfD7g",
    "outputId": "c6c08f7e-ddbc-4b5a-f80c-0cf843275d28"
   },
   "outputs": [
    {
     "data": {
      "text/plain": [
       "0.35515043960755166"
      ]
     },
     "execution_count": 150,
     "metadata": {},
     "output_type": "execute_result"
    }
   ],
   "source": [
    "def rmse(y, y_pred):\n",
    "  n = len(y)\n",
    "  return np.sqrt(sum((y-y_pred)**2) / n)\n",
    "\n",
    "rmse(y_pred, y_test_log)"
   ]
  },
  {
   "cell_type": "code",
   "execution_count": null,
   "metadata": {
    "id": "UotV99b_fO9Z"
   },
   "outputs": [],
   "source": []
  },
  {
   "cell_type": "code",
   "execution_count": null,
   "metadata": {
    "id": "DtA-1GH9fPCC"
   },
   "outputs": [],
   "source": []
  },
  {
   "cell_type": "code",
   "execution_count": null,
   "metadata": {
    "id": "EiIKB4I7fPGI"
   },
   "outputs": [],
   "source": []
  },
  {
   "cell_type": "code",
   "execution_count": 142,
   "metadata": {
    "id": "Si2ldwPD-scb"
   },
   "outputs": [],
   "source": [
    "df_test_encoded = pd.get_dummies(df_test)"
   ]
  },
  {
   "cell_type": "code",
   "execution_count": 143,
   "metadata": {
    "id": "pQg_2-ox--U9"
   },
   "outputs": [],
   "source": [
    "missing_columns = set(X.columns)-set(df_test_encoded.columns)"
   ]
  },
  {
   "cell_type": "code",
   "execution_count": 145,
   "metadata": {
    "id": "d-xRwDS9_HjO"
   },
   "outputs": [],
   "source": [
    "for column in missing_columns:\n",
    "  df_test_encoded[column] = 0"
   ]
  },
  {
   "cell_type": "code",
   "execution_count": null,
   "metadata": {
    "id": "U6jZggWJ_YnS"
   },
   "outputs": [],
   "source": []
  },
  {
   "cell_type": "code",
   "execution_count": null,
   "metadata": {
    "id": "RtExAv8r_ZCS"
   },
   "outputs": [],
   "source": []
  },
  {
   "cell_type": "code",
   "execution_count": 147,
   "metadata": {
    "id": "3_wsFv_a_Hm0"
   },
   "outputs": [],
   "source": [
    "X_test = df_test_encoded[X.columns]"
   ]
  },
  {
   "cell_type": "code",
   "execution_count": 148,
   "metadata": {
    "id": "y19dXi4Z_p9p"
   },
   "outputs": [],
   "source": [
    "y_pred = elastic_net.predict(X_test)"
   ]
  },
  {
   "cell_type": "code",
   "execution_count": 151,
   "metadata": {
    "id": "_vvxV75u_qAu"
   },
   "outputs": [],
   "source": [
    "y_test_log = np.log(y_test['Sale_Price'])"
   ]
  },
  {
   "cell_type": "code",
   "execution_count": 159,
   "metadata": {
    "colab": {
     "base_uri": "https://localhost:8080/"
    },
    "id": "3KAENymAAKLP",
    "outputId": "4891fdc4-1399-47b9-c425-3d25e9e16023"
   },
   "outputs": [
    {
     "data": {
      "text/plain": [
       "11.626254150277232"
      ]
     },
     "execution_count": 159,
     "metadata": {},
     "output_type": "execute_result"
    }
   ],
   "source": [
    "y_test_log[0]"
   ]
  },
  {
   "cell_type": "code",
   "execution_count": 152,
   "metadata": {
    "id": "cO8gxfgyAKOb"
   },
   "outputs": [],
   "source": [
    "def rmse(y, y_pred):\n",
    "  n = len(y)\n",
    "  return np.sqrt(sum((y-y_pred)**2) / n)\n",
    "\n",
    "rmse(y_pred, y_test_log)"
   ]
  },
  {
   "cell_type": "code",
   "execution_count": 153,
   "metadata": {
    "colab": {
     "base_uri": "https://localhost:8080/"
    },
    "id": "HmGVBa5-_vgW",
    "outputId": "491c4eb3-b7a0-41ac-e990-0030a503cc3b"
   },
   "outputs": [
    {
     "data": {
      "text/plain": [
       "0.16816170225577526"
      ]
     },
     "execution_count": 153,
     "metadata": {},
     "output_type": "execute_result"
    }
   ],
   "source": []
  },
  {
   "cell_type": "code",
   "execution_count": 163,
   "metadata": {
    "id": "MDx4Zz3oBnoo"
   },
   "outputs": [],
   "source": []
  },
  {
   "cell_type": "code",
   "execution_count": 156,
   "metadata": {
    "colab": {
     "base_uri": "https://localhost:8080/"
    },
    "id": "j_WLAH4H_vju",
    "outputId": "49b2e962-ac25-4779-e168-c2300d0e0814"
   },
   "outputs": [
    {
     "data": {
      "text/plain": [
       "0     -0.059820\n",
       "1     -0.070267\n",
       "2     -0.040957\n",
       "3     -0.173000\n",
       "4     -0.092588\n",
       "         ...   \n",
       "874   -0.131018\n",
       "875   -0.068497\n",
       "876   -0.103668\n",
       "877   -0.021169\n",
       "878    0.203320\n",
       "Name: Sale_Price, Length: 879, dtype: float64"
      ]
     },
     "execution_count": 156,
     "metadata": {},
     "output_type": "execute_result"
    }
   ],
   "source": [
    "y_pred - y_test_log"
   ]
  },
  {
   "cell_type": "code",
   "execution_count": 155,
   "metadata": {
    "colab": {
     "base_uri": "https://localhost:8080/"
    },
    "id": "bivtBFKp_qEH",
    "outputId": "27e041d1-37d7-4fe0-bb03-5648a62ec806"
   },
   "outputs": [
    {
     "data": {
      "text/plain": [
       "0      11.626254\n",
       "1      11.911702\n",
       "2      12.083905\n",
       "3      11.982929\n",
       "4      11.813030\n",
       "         ...    \n",
       "874    12.190959\n",
       "875    11.986049\n",
       "876    12.676076\n",
       "877    11.951180\n",
       "878    12.007622\n",
       "Name: Sale_Price, Length: 879, dtype: float64"
      ]
     },
     "execution_count": 155,
     "metadata": {},
     "output_type": "execute_result"
    }
   ],
   "source": [
    "y_test_log"
   ]
  },
  {
   "cell_type": "code",
   "execution_count": null,
   "metadata": {
    "id": "eminShTn-sfx"
   },
   "outputs": [],
   "source": []
  },
  {
   "cell_type": "code",
   "execution_count": 33,
   "metadata": {
    "colab": {
     "base_uri": "https://localhost:8080/"
    },
    "id": "wuRKozkfEgh0",
    "outputId": "c17fff63-7423-4ed0-8a7d-7ddb88743da4"
   },
   "outputs": [
    {
     "name": "stdout",
     "output_type": "stream",
     "text": [
      "Imbalanced columns:\n",
      "Column 'Street' has 99.46% of samples in category 'Pave'\n",
      "Column 'Utilities' has 99.90% of samples in category 'AllPub'\n",
      "Column 'Land_Slope' has 95.08% of samples in category 'Gtl'\n",
      "Column 'Condition_2' has 98.73% of samples in category 'Norm'\n",
      "Column 'Roof_Matl' has 98.54% of samples in category 'CompShg'\n",
      "Column 'Heating' has 98.54% of samples in category 'GasA'\n",
      "Column 'Low_Qual_Fin_SF' has 98.59% of samples in category '0'\n",
      "Column 'Kitchen_AbvGr' has 95.76% of samples in category '1'\n",
      "Column 'Three_season_porch' has 98.78% of samples in category '0'\n",
      "Column 'Pool_Area' has 99.66% of samples in category '0'\n",
      "Column 'Pool_QC' has 99.66% of samples in category 'No_Pool'\n",
      "Column 'Misc_Feature' has 96.29% of samples in category 'None'\n",
      "Column 'Misc_Val' has 96.44% of samples in category '0'\n"
     ]
    }
   ],
   "source": [
    "imbalance_threshold = 0.95  # For example, 95% of the samples belonging to one category\n",
    "\n",
    "# Iterate through columns to check for imbalance\n",
    "imbalanced_columns = []\n",
    "imbalanced_columns_info = []\n",
    "\n",
    "for column in df_train.columns:\n",
    "  value_counts = df_train[column].value_counts(normalize=True)\n",
    "  most_common_category = value_counts.idxmax()\n",
    "  most_common_category_percentage = value_counts.max()\n",
    "\n",
    "  if most_common_category_percentage >= imbalance_threshold:\n",
    "    imbalanced_columns.append(column)\n",
    "    imbalanced_columns_info.append((column, most_common_category, most_common_category_percentage))\n",
    "\n",
    "print(\"Imbalanced columns:\")\n",
    "for col, category, percentage in imbalanced_columns_info:\n",
    "  print(f\"Column '{col}' has {percentage * 100:.2f}% of samples in category '{category}'\")"
   ]
  },
  {
   "cell_type": "code",
   "execution_count": 34,
   "metadata": {
    "id": "G4slynffFJqv"
   },
   "outputs": [],
   "source": [
    "df_new = df_train.drop(columns=imbalanced_columns)"
   ]
  },
  {
   "cell_type": "code",
   "execution_count": 35,
   "metadata": {
    "colab": {
     "base_uri": "https://localhost:8080/"
    },
    "id": "ZsyOpxu3FRqx",
    "outputId": "1e7830f4-5333-42b6-9efb-218753d6b472"
   },
   "outputs": [
    {
     "data": {
      "text/plain": [
       "Index(['PID', 'MS_SubClass', 'MS_Zoning', 'Lot_Frontage', 'Lot_Area', 'Alley',\n",
       "       'Lot_Shape', 'Land_Contour', 'Lot_Config', 'Neighborhood',\n",
       "       'Condition_1', 'Bldg_Type', 'House_Style', 'Overall_Qual',\n",
       "       'Overall_Cond', 'Year_Built', 'Year_Remod_Add', 'Roof_Style',\n",
       "       'Exterior_1st', 'Exterior_2nd', 'Mas_Vnr_Type', 'Mas_Vnr_Area',\n",
       "       'Exter_Qual', 'Exter_Cond', 'Foundation', 'Bsmt_Qual', 'Bsmt_Cond',\n",
       "       'Bsmt_Exposure', 'BsmtFin_Type_1', 'BsmtFin_SF_1', 'BsmtFin_Type_2',\n",
       "       'BsmtFin_SF_2', 'Bsmt_Unf_SF', 'Total_Bsmt_SF', 'Heating_QC',\n",
       "       'Central_Air', 'Electrical', 'First_Flr_SF', 'Second_Flr_SF',\n",
       "       'Gr_Liv_Area', 'Bsmt_Full_Bath', 'Bsmt_Half_Bath', 'Full_Bath',\n",
       "       'Half_Bath', 'Bedroom_AbvGr', 'Kitchen_Qual', 'TotRms_AbvGrd',\n",
       "       'Functional', 'Fireplaces', 'Fireplace_Qu', 'Garage_Type',\n",
       "       'Garage_Yr_Blt', 'Garage_Finish', 'Garage_Cars', 'Garage_Area',\n",
       "       'Garage_Qual', 'Garage_Cond', 'Paved_Drive', 'Wood_Deck_SF',\n",
       "       'Open_Porch_SF', 'Enclosed_Porch', 'Screen_Porch', 'Fence', 'Mo_Sold',\n",
       "       'Year_Sold', 'Sale_Type', 'Sale_Condition', 'Longitude', 'Latitude',\n",
       "       'Sale_Price'],\n",
       "      dtype='object')"
      ]
     },
     "execution_count": 35,
     "metadata": {},
     "output_type": "execute_result"
    }
   ],
   "source": [
    "df_new.columns"
   ]
  },
  {
   "cell_type": "code",
   "execution_count": 35,
   "metadata": {
    "id": "FiVkOyf1GLZ1"
   },
   "outputs": [],
   "source": []
  },
  {
   "cell_type": "code",
   "execution_count": 36,
   "metadata": {
    "id": "iJkcMduUIBGg"
   },
   "outputs": [],
   "source": [
    "from scipy.stats import skew\n",
    "\n",
    "df_new[\"Sale_Price\"] = np.log(df_new[\"Sale_Price\"])\n",
    "\n",
    "#log transform skewed numeric features:\n",
    "numeric_feats = df_new.dtypes[df_new.dtypes != \"object\"].index\n",
    "\n",
    "skewed_feats = df_new[numeric_feats].apply(lambda x: skew(x.dropna())) #compute skewness\n",
    "skewed_feats = skewed_feats[skewed_feats > 0.75]\n",
    "skewed_feats = skewed_feats.index\n",
    "\n",
    "df_new[skewed_feats] = np.log1p(df_new[skewed_feats])"
   ]
  },
  {
   "cell_type": "code",
   "execution_count": 37,
   "metadata": {
    "id": "F-J5A3N0JMgd"
   },
   "outputs": [],
   "source": [
    "df_encoded = pd.get_dummies(df_new)"
   ]
  },
  {
   "cell_type": "code",
   "execution_count": 39,
   "metadata": {
    "id": "vD1hdUtIJgSZ"
   },
   "outputs": [],
   "source": [
    "y = df_encoded['Sale_Price']"
   ]
  },
  {
   "cell_type": "code",
   "execution_count": 40,
   "metadata": {
    "id": "owwED6nlMGlb"
   },
   "outputs": [],
   "source": [
    "X = df_encoded.drop(['Sale_Price','PID'],axis = 1)"
   ]
  },
  {
   "cell_type": "code",
   "execution_count": 41,
   "metadata": {
    "id": "iE0SA7-Bw1ol"
   },
   "outputs": [],
   "source": [
    "train_columns = set(X.columns)"
   ]
  },
  {
   "cell_type": "code",
   "execution_count": 24,
   "metadata": {
    "id": "TGNHR0iaumve"
   },
   "outputs": [],
   "source": []
  },
  {
   "cell_type": "code",
   "execution_count": 75,
   "metadata": {
    "id": "aeaBQJEjMHAd"
   },
   "outputs": [],
   "source": [
    "from sklearn.linear_model import Ridge, RidgeCV, ElasticNet, Lasso, LassoCV, LassoLarsCV\n",
    "from sklearn.model_selection import cross_val_score\n",
    "\n",
    "def rmse_cv(model):\n",
    "    rmse= np.sqrt(-cross_val_score(model, X, y, scoring=\"neg_mean_squared_error\", cv = 5))\n",
    "    return(rmse)"
   ]
  },
  {
   "cell_type": "code",
   "execution_count": 44,
   "metadata": {
    "id": "WEMpdqyyMcjn"
   },
   "outputs": [],
   "source": [
    "model_ridge = Ridge()"
   ]
  },
  {
   "cell_type": "code",
   "execution_count": 45,
   "metadata": {
    "id": "Jkv4ZRakMs3o"
   },
   "outputs": [],
   "source": [
    "alphas = [0.05, 0.1, 0.3, 1, 3, 5, 10, 15, 30, 50, 75]\n",
    "cv_ridge = [rmse_cv(Ridge(alpha = alpha)).mean()\n",
    "            for alpha in alphas]"
   ]
  },
  {
   "cell_type": "code",
   "execution_count": 73,
   "metadata": {
    "colab": {
     "base_uri": "https://localhost:8080/"
    },
    "id": "VvYbozWJ2r_9",
    "outputId": "a58ce732-9380-4088-a5ee-1d5d9500eaae"
   },
   "outputs": [
    {
     "data": {
      "text/plain": [
       "0.05     0.139059\n",
       "0.10     0.137327\n",
       "0.30     0.133783\n",
       "1.00     0.130003\n",
       "3.00     0.127648\n",
       "5.00     0.127168\n",
       "10.00    0.127387\n",
       "15.00    0.128076\n",
       "30.00    0.130461\n",
       "50.00    0.133393\n",
       "75.00    0.136500\n",
       "dtype: float64"
      ]
     },
     "execution_count": 73,
     "metadata": {},
     "output_type": "execute_result"
    }
   ],
   "source": [
    "cv_ridge"
   ]
  },
  {
   "cell_type": "code",
   "execution_count": 46,
   "metadata": {
    "colab": {
     "base_uri": "https://localhost:8080/",
     "height": 489
    },
    "id": "-EebffFlMxPK",
    "outputId": "7227ee43-1d46-43b4-d8ec-025bcdf5ce1e"
   },
   "outputs": [
    {
     "data": {
      "text/plain": [
       "Text(0, 0.5, 'rmse')"
      ]
     },
     "execution_count": 46,
     "metadata": {},
     "output_type": "execute_result"
    },
    {
     "data": {
      "image/png": "[encoded data removed]",
      "text/plain": [
       "<Figure size 640x480 with 1 Axes>"
      ]
     },
     "metadata": {},
     "output_type": "display_data"
    }
   ],
   "source": [
    "import matplotlib.pyplot as plt\n",
    "\n",
    "cv_ridge = pd.Series(cv_ridge, index = alphas)\n",
    "cv_ridge.plot(title = \"Validation - Just Do It\")\n",
    "plt.xlabel(\"alpha\")\n",
    "plt.ylabel(\"rmse\")"
   ]
  },
  {
   "cell_type": "code",
   "execution_count": 47,
   "metadata": {
    "colab": {
     "base_uri": "https://localhost:8080/"
    },
    "id": "6Xq6HDyOM53n",
    "outputId": "bb4ca220-a5cd-4238-9123-59a74650fb68"
   },
   "outputs": [
    {
     "data": {
      "text/plain": [
       "0.12716763726093866"
      ]
     },
     "execution_count": 47,
     "metadata": {},
     "output_type": "execute_result"
    }
   ],
   "source": [
    "cv_ridge.min()"
   ]
  },
  {
   "cell_type": "code",
   "execution_count": 77,
   "metadata": {
    "id": "XWMSzF9ENI37"
   },
   "outputs": [],
   "source": [
    "model_lasso = LassoCV(alphas = [1, 0.1, 0.001, 0.0005]).fit(X, y)"
   ]
  },
  {
   "cell_type": "code",
   "execution_count": 79,
   "metadata": {
    "id": "S--JL5BC28uS"
   },
   "outputs": [],
   "source": [
    "y_pred = model_lasso.predict(X_test)"
   ]
  },
  {
   "cell_type": "code",
   "execution_count": 81,
   "metadata": {
    "colab": {
     "base_uri": "https://localhost:8080/"
    },
    "id": "TGo-XwpJ39pG",
    "outputId": "059a8ecb-ee43-4509-96b2-d38fd7d1347d"
   },
   "outputs": [
    {
     "data": {
      "text/plain": [
       "0      11.626254\n",
       "1      11.911702\n",
       "2      12.083905\n",
       "3      11.982929\n",
       "4      11.813030\n",
       "         ...    \n",
       "874    12.190959\n",
       "875    11.986049\n",
       "876    12.676076\n",
       "877    11.951180\n",
       "878    12.007622\n",
       "Name: Sale_Price, Length: 879, dtype: float64"
      ]
     },
     "execution_count": 81,
     "metadata": {},
     "output_type": "execute_result"
    }
   ],
   "source": [
    "y_test_new"
   ]
  },
  {
   "cell_type": "code",
   "execution_count": 84,
   "metadata": {
    "colab": {
     "base_uri": "https://localhost:8080/"
    },
    "id": "eM7DEN1f36xH",
    "outputId": "db683e84-0d82-4c86-80a0-a3811c190c6a"
   },
   "outputs": [
    {
     "data": {
      "text/plain": [
       "0.2917366702819464"
      ]
     },
     "execution_count": 84,
     "metadata": {},
     "output_type": "execute_result"
    }
   ],
   "source": [
    "np.sqrt(sum((y_pred - y_test_new)**2)/len(y_pred))"
   ]
  },
  {
   "cell_type": "code",
   "execution_count": 85,
   "metadata": {
    "id": "r2x0YbrR4Xmc"
   },
   "outputs": [],
   "source": []
  },
  {
   "cell_type": "code",
   "execution_count": 69,
   "metadata": {
    "colab": {
     "base_uri": "https://localhost:8080/"
    },
    "id": "NVFxF6ZWNMr0",
    "outputId": "26278918-283d-452b-ad92-94fe4b96a98f"
   },
   "outputs": [
    {
     "data": {
      "text/plain": [
       "array([0.14594604, 0.11708004, 0.14004829, 0.12519862, 0.10891928])"
      ]
     },
     "execution_count": 69,
     "metadata": {},
     "output_type": "execute_result"
    }
   ],
   "source": [
    "rmse_cv(model_lasso)"
   ]
  },
  {
   "cell_type": "code",
   "execution_count": 51,
   "metadata": {
    "colab": {
     "base_uri": "https://localhost:8080/"
    },
    "id": "KAJDjCWkNnJz",
    "outputId": "ffa1902f-fa5f-461b-962c-50c2373ac3a8"
   },
   "outputs": [
    {
     "data": {
      "text/plain": [
       "Index(['Garage_Yr_Blt'], dtype='object')"
      ]
     },
     "execution_count": 51,
     "metadata": {},
     "output_type": "execute_result"
    }
   ],
   "source": [
    "df_test.columns[df_test.isnull().any()]"
   ]
  },
  {
   "cell_type": "code",
   "execution_count": 53,
   "metadata": {
    "id": "vHCxauGRxa6b"
   },
   "outputs": [],
   "source": [
    "df_test['Garage_Yr_Blt'] = df_test['Garage_Yr_Blt'].fillna(0)"
   ]
  },
  {
   "cell_type": "code",
   "execution_count": 54,
   "metadata": {
    "id": "02-LKw66xkZH"
   },
   "outputs": [],
   "source": [
    "df_test = df_test.drop(columns=imbalanced_columns)"
   ]
  },
  {
   "cell_type": "code",
   "execution_count": 55,
   "metadata": {
    "id": "Z5vEanNNx2b6"
   },
   "outputs": [],
   "source": [
    "df_test[skewed_feats] = np.log1p(df_test[skewed_feats])"
   ]
  },
  {
   "cell_type": "code",
   "execution_count": 56,
   "metadata": {
    "id": "Mle0fdzkx8tJ"
   },
   "outputs": [],
   "source": [
    "df_test_encoded = pd.get_dummies(df_test)"
   ]
  },
  {
   "cell_type": "code",
   "execution_count": 57,
   "metadata": {
    "id": "nflU4bMvyrJ1"
   },
   "outputs": [],
   "source": [
    "X_test = df_test.drop(['PID'],axis = 1)"
   ]
  },
  {
   "cell_type": "code",
   "execution_count": 58,
   "metadata": {
    "id": "LtqEgnHuyyC5"
   },
   "outputs": [],
   "source": [
    "test_columns = set(X_test.columns)"
   ]
  },
  {
   "cell_type": "code",
   "execution_count": 61,
   "metadata": {
    "colab": {
     "base_uri": "https://localhost:8080/"
    },
    "id": "OFGDX-dKy6di",
    "outputId": "30cb3777-604a-4624-de36-025acc22cb33"
   },
   "outputs": [
    {
     "data": {
      "text/plain": [
       "68"
      ]
     },
     "execution_count": 61,
     "metadata": {},
     "output_type": "execute_result"
    }
   ],
   "source": [
    "len(test_columns)"
   ]
  },
  {
   "cell_type": "code",
   "execution_count": 62,
   "metadata": {
    "colab": {
     "base_uri": "https://localhost:8080/"
    },
    "id": "3z7-VjnDy3xA",
    "outputId": "81ad0b26-f4ed-458b-a1c4-fd7b2d1f0bce"
   },
   "outputs": [
    {
     "data": {
      "text/plain": [
       "83"
      ]
     },
     "execution_count": 62,
     "metadata": {},
     "output_type": "execute_result"
    }
   ],
   "source": [
    "len(df_train.columns)"
   ]
  },
  {
   "cell_type": "code",
   "execution_count": 63,
   "metadata": {
    "colab": {
     "base_uri": "https://localhost:8080/"
    },
    "id": "a77DKoSIy4dD",
    "outputId": "9108c06c-653f-45f2-d549-7962d4c39952"
   },
   "outputs": [
    {
     "data": {
      "text/plain": [
       "69"
      ]
     },
     "execution_count": 63,
     "metadata": {},
     "output_type": "execute_result"
    }
   ],
   "source": [
    "len(df_test.columns)"
   ]
  },
  {
   "cell_type": "code",
   "execution_count": 64,
   "metadata": {
    "id": "zgYRnKBVzJU2"
   },
   "outputs": [],
   "source": [
    "missing_columns = train_columns - test_columns"
   ]
  },
  {
   "cell_type": "code",
   "execution_count": 66,
   "metadata": {
    "colab": {
     "base_uri": "https://localhost:8080/"
    },
    "id": "f_n1_Oe0zQMf",
    "outputId": "f264e118-e159-4c59-ffc9-76d5676de579"
   },
   "outputs": [
    {
     "name": "stderr",
     "output_type": "stream",
     "text": [
      "<ipython-input-66-8eab85f2b3ab>:2: PerformanceWarning: DataFrame is highly fragmented.  This is usually the result of calling `frame.insert` many times, which has poor performance.  Consider joining all columns at once using pd.concat(axis=1) instead. To get a de-fragmented frame, use `newframe = frame.copy()`\n",
      "  X_test[column] = 0\n",
      "<ipython-input-66-8eab85f2b3ab>:2: PerformanceWarning: DataFrame is highly fragmented.  This is usually the result of calling `frame.insert` many times, which has poor performance.  Consider joining all columns at once using pd.concat(axis=1) instead. To get a de-fragmented frame, use `newframe = frame.copy()`\n",
      "  X_test[column] = 0\n",
      "<ipython-input-66-8eab85f2b3ab>:2: PerformanceWarning: DataFrame is highly fragmented.  This is usually the result of calling `frame.insert` many times, which has poor performance.  Consider joining all columns at once using pd.concat(axis=1) instead. To get a de-fragmented frame, use `newframe = frame.copy()`\n",
      "  X_test[column] = 0\n",
      "<ipython-input-66-8eab85f2b3ab>:2: PerformanceWarning: DataFrame is highly fragmented.  This is usually the result of calling `frame.insert` many times, which has poor performance.  Consider joining all columns at once using pd.concat(axis=1) instead. To get a de-fragmented frame, use `newframe = frame.copy()`\n",
      "  X_test[column] = 0\n",
      "<ipython-input-66-8eab85f2b3ab>:2: PerformanceWarning: DataFrame is highly fragmented.  This is usually the result of calling `frame.insert` many times, which has poor performance.  Consider joining all columns at once using pd.concat(axis=1) instead. To get a de-fragmented frame, use `newframe = frame.copy()`\n",
      "  X_test[column] = 0\n",
      "<ipython-input-66-8eab85f2b3ab>:2: PerformanceWarning: DataFrame is highly fragmented.  This is usually the result of calling `frame.insert` many times, which has poor performance.  Consider joining all columns at once using pd.concat(axis=1) instead. To get a de-fragmented frame, use `newframe = frame.copy()`\n",
      "  X_test[column] = 0\n",
      "<ipython-input-66-8eab85f2b3ab>:2: PerformanceWarning: DataFrame is highly fragmented.  This is usually the result of calling `frame.insert` many times, which has poor performance.  Consider joining all columns at once using pd.concat(axis=1) instead. To get a de-fragmented frame, use `newframe = frame.copy()`\n",
      "  X_test[column] = 0\n",
      "<ipython-input-66-8eab85f2b3ab>:2: PerformanceWarning: DataFrame is highly fragmented.  This is usually the result of calling `frame.insert` many times, which has poor performance.  Consider joining all columns at once using pd.concat(axis=1) instead. To get a de-fragmented frame, use `newframe = frame.copy()`\n",
      "  X_test[column] = 0\n",
      "<ipython-input-66-8eab85f2b3ab>:2: PerformanceWarning: DataFrame is highly fragmented.  This is usually the result of calling `frame.insert` many times, which has poor performance.  Consider joining all columns at once using pd.concat(axis=1) instead. To get a de-fragmented frame, use `newframe = frame.copy()`\n",
      "  X_test[column] = 0\n",
      "<ipython-input-66-8eab85f2b3ab>:2: PerformanceWarning: DataFrame is highly fragmented.  This is usually the result of calling `frame.insert` many times, which has poor performance.  Consider joining all columns at once using pd.concat(axis=1) instead. To get a de-fragmented frame, use `newframe = frame.copy()`\n",
      "  X_test[column] = 0\n",
      "<ipython-input-66-8eab85f2b3ab>:2: PerformanceWarning: DataFrame is highly fragmented.  This is usually the result of calling `frame.insert` many times, which has poor performance.  Consider joining all columns at once using pd.concat(axis=1) instead. To get a de-fragmented frame, use `newframe = frame.copy()`\n",
      "  X_test[column] = 0\n",
      "<ipython-input-66-8eab85f2b3ab>:2: PerformanceWarning: DataFrame is highly fragmented.  This is usually the result of calling `frame.insert` many times, which has poor performance.  Consider joining all columns at once using pd.concat(axis=1) instead. To get a de-fragmented frame, use `newframe = frame.copy()`\n",
      "  X_test[column] = 0\n",
      "<ipython-input-66-8eab85f2b3ab>:2: PerformanceWarning: DataFrame is highly fragmented.  This is usually the result of calling `frame.insert` many times, which has poor performance.  Consider joining all columns at once using pd.concat(axis=1) instead. To get a de-fragmented frame, use `newframe = frame.copy()`\n",
      "  X_test[column] = 0\n",
      "<ipython-input-66-8eab85f2b3ab>:2: PerformanceWarning: DataFrame is highly fragmented.  This is usually the result of calling `frame.insert` many times, which has poor performance.  Consider joining all columns at once using pd.concat(axis=1) instead. To get a de-fragmented frame, use `newframe = frame.copy()`\n",
      "  X_test[column] = 0\n",
      "<ipython-input-66-8eab85f2b3ab>:2: PerformanceWarning: DataFrame is highly fragmented.  This is usually the result of calling `frame.insert` many times, which has poor performance.  Consider joining all columns at once using pd.concat(axis=1) instead. To get a de-fragmented frame, use `newframe = frame.copy()`\n",
      "  X_test[column] = 0\n",
      "<ipython-input-66-8eab85f2b3ab>:2: PerformanceWarning: DataFrame is highly fragmented.  This is usually the result of calling `frame.insert` many times, which has poor performance.  Consider joining all columns at once using pd.concat(axis=1) instead. To get a de-fragmented frame, use `newframe = frame.copy()`\n",
      "  X_test[column] = 0\n",
      "<ipython-input-66-8eab85f2b3ab>:2: PerformanceWarning: DataFrame is highly fragmented.  This is usually the result of calling `frame.insert` many times, which has poor performance.  Consider joining all columns at once using pd.concat(axis=1) instead. To get a de-fragmented frame, use `newframe = frame.copy()`\n",
      "  X_test[column] = 0\n",
      "<ipython-input-66-8eab85f2b3ab>:2: PerformanceWarning: DataFrame is highly fragmented.  This is usually the result of calling `frame.insert` many times, which has poor performance.  Consider joining all columns at once using pd.concat(axis=1) instead. To get a de-fragmented frame, use `newframe = frame.copy()`\n",
      "  X_test[column] = 0\n",
      "<ipython-input-66-8eab85f2b3ab>:2: PerformanceWarning: DataFrame is highly fragmented.  This is usually the result of calling `frame.insert` many times, which has poor performance.  Consider joining all columns at once using pd.concat(axis=1) instead. To get a de-fragmented frame, use `newframe = frame.copy()`\n",
      "  X_test[column] = 0\n",
      "<ipython-input-66-8eab85f2b3ab>:2: PerformanceWarning: DataFrame is highly fragmented.  This is usually the result of calling `frame.insert` many times, which has poor performance.  Consider joining all columns at once using pd.concat(axis=1) instead. To get a de-fragmented frame, use `newframe = frame.copy()`\n",
      "  X_test[column] = 0\n",
      "<ipython-input-66-8eab85f2b3ab>:2: PerformanceWarning: DataFrame is highly fragmented.  This is usually the result of calling `frame.insert` many times, which has poor performance.  Consider joining all columns at once using pd.concat(axis=1) instead. To get a de-fragmented frame, use `newframe = frame.copy()`\n",
      "  X_test[column] = 0\n",
      "<ipython-input-66-8eab85f2b3ab>:2: PerformanceWarning: DataFrame is highly fragmented.  This is usually the result of calling `frame.insert` many times, which has poor performance.  Consider joining all columns at once using pd.concat(axis=1) instead. To get a de-fragmented frame, use `newframe = frame.copy()`\n",
      "  X_test[column] = 0\n",
      "<ipython-input-66-8eab85f2b3ab>:2: PerformanceWarning: DataFrame is highly fragmented.  This is usually the result of calling `frame.insert` many times, which has poor performance.  Consider joining all columns at once using pd.concat(axis=1) instead. To get a de-fragmented frame, use `newframe = frame.copy()`\n",
      "  X_test[column] = 0\n",
      "<ipython-input-66-8eab85f2b3ab>:2: PerformanceWarning: DataFrame is highly fragmented.  This is usually the result of calling `frame.insert` many times, which has poor performance.  Consider joining all columns at once using pd.concat(axis=1) instead. To get a de-fragmented frame, use `newframe = frame.copy()`\n",
      "  X_test[column] = 0\n",
      "<ipython-input-66-8eab85f2b3ab>:2: PerformanceWarning: DataFrame is highly fragmented.  This is usually the result of calling `frame.insert` many times, which has poor performance.  Consider joining all columns at once using pd.concat(axis=1) instead. To get a de-fragmented frame, use `newframe = frame.copy()`\n",
      "  X_test[column] = 0\n",
      "<ipython-input-66-8eab85f2b3ab>:2: PerformanceWarning: DataFrame is highly fragmented.  This is usually the result of calling `frame.insert` many times, which has poor performance.  Consider joining all columns at once using pd.concat(axis=1) instead. To get a de-fragmented frame, use `newframe = frame.copy()`\n",
      "  X_test[column] = 0\n",
      "<ipython-input-66-8eab85f2b3ab>:2: PerformanceWarning: DataFrame is highly fragmented.  This is usually the result of calling `frame.insert` many times, which has poor performance.  Consider joining all columns at once using pd.concat(axis=1) instead. To get a de-fragmented frame, use `newframe = frame.copy()`\n",
      "  X_test[column] = 0\n",
      "<ipython-input-66-8eab85f2b3ab>:2: PerformanceWarning: DataFrame is highly fragmented.  This is usually the result of calling `frame.insert` many times, which has poor performance.  Consider joining all columns at once using pd.concat(axis=1) instead. To get a de-fragmented frame, use `newframe = frame.copy()`\n",
      "  X_test[column] = 0\n",
      "<ipython-input-66-8eab85f2b3ab>:2: PerformanceWarning: DataFrame is highly fragmented.  This is usually the result of calling `frame.insert` many times, which has poor performance.  Consider joining all columns at once using pd.concat(axis=1) instead. To get a de-fragmented frame, use `newframe = frame.copy()`\n",
      "  X_test[column] = 0\n",
      "<ipython-input-66-8eab85f2b3ab>:2: PerformanceWarning: DataFrame is highly fragmented.  This is usually the result of calling `frame.insert` many times, which has poor performance.  Consider joining all columns at once using pd.concat(axis=1) instead. To get a de-fragmented frame, use `newframe = frame.copy()`\n",
      "  X_test[column] = 0\n",
      "<ipython-input-66-8eab85f2b3ab>:2: PerformanceWarning: DataFrame is highly fragmented.  This is usually the result of calling `frame.insert` many times, which has poor performance.  Consider joining all columns at once using pd.concat(axis=1) instead. To get a de-fragmented frame, use `newframe = frame.copy()`\n",
      "  X_test[column] = 0\n",
      "<ipython-input-66-8eab85f2b3ab>:2: PerformanceWarning: DataFrame is highly fragmented.  This is usually the result of calling `frame.insert` many times, which has poor performance.  Consider joining all columns at once using pd.concat(axis=1) instead. To get a de-fragmented frame, use `newframe = frame.copy()`\n",
      "  X_test[column] = 0\n",
      "<ipython-input-66-8eab85f2b3ab>:2: PerformanceWarning: DataFrame is highly fragmented.  This is usually the result of calling `frame.insert` many times, which has poor performance.  Consider joining all columns at once using pd.concat(axis=1) instead. To get a de-fragmented frame, use `newframe = frame.copy()`\n",
      "  X_test[column] = 0\n",
      "<ipython-input-66-8eab85f2b3ab>:2: PerformanceWarning: DataFrame is highly fragmented.  This is usually the result of calling `frame.insert` many times, which has poor performance.  Consider joining all columns at once using pd.concat(axis=1) instead. To get a de-fragmented frame, use `newframe = frame.copy()`\n",
      "  X_test[column] = 0\n",
      "<ipython-input-66-8eab85f2b3ab>:2: PerformanceWarning: DataFrame is highly fragmented.  This is usually the result of calling `frame.insert` many times, which has poor performance.  Consider joining all columns at once using pd.concat(axis=1) instead. To get a de-fragmented frame, use `newframe = frame.copy()`\n",
      "  X_test[column] = 0\n",
      "<ipython-input-66-8eab85f2b3ab>:2: PerformanceWarning: DataFrame is highly fragmented.  This is usually the result of calling `frame.insert` many times, which has poor performance.  Consider joining all columns at once using pd.concat(axis=1) instead. To get a de-fragmented frame, use `newframe = frame.copy()`\n",
      "  X_test[column] = 0\n",
      "<ipython-input-66-8eab85f2b3ab>:2: PerformanceWarning: DataFrame is highly fragmented.  This is usually the result of calling `frame.insert` many times, which has poor performance.  Consider joining all columns at once using pd.concat(axis=1) instead. To get a de-fragmented frame, use `newframe = frame.copy()`\n",
      "  X_test[column] = 0\n",
      "<ipython-input-66-8eab85f2b3ab>:2: PerformanceWarning: DataFrame is highly fragmented.  This is usually the result of calling `frame.insert` many times, which has poor performance.  Consider joining all columns at once using pd.concat(axis=1) instead. To get a de-fragmented frame, use `newframe = frame.copy()`\n",
      "  X_test[column] = 0\n",
      "<ipython-input-66-8eab85f2b3ab>:2: PerformanceWarning: DataFrame is highly fragmented.  This is usually the result of calling `frame.insert` many times, which has poor performance.  Consider joining all columns at once using pd.concat(axis=1) instead. To get a de-fragmented frame, use `newframe = frame.copy()`\n",
      "  X_test[column] = 0\n",
      "<ipython-input-66-8eab85f2b3ab>:2: PerformanceWarning: DataFrame is highly fragmented.  This is usually the result of calling `frame.insert` many times, which has poor performance.  Consider joining all columns at once using pd.concat(axis=1) instead. To get a de-fragmented frame, use `newframe = frame.copy()`\n",
      "  X_test[column] = 0\n",
      "<ipython-input-66-8eab85f2b3ab>:2: PerformanceWarning: DataFrame is highly fragmented.  This is usually the result of calling `frame.insert` many times, which has poor performance.  Consider joining all columns at once using pd.concat(axis=1) instead. To get a de-fragmented frame, use `newframe = frame.copy()`\n",
      "  X_test[column] = 0\n",
      "<ipython-input-66-8eab85f2b3ab>:2: PerformanceWarning: DataFrame is highly fragmented.  This is usually the result of calling `frame.insert` many times, which has poor performance.  Consider joining all columns at once using pd.concat(axis=1) instead. To get a de-fragmented frame, use `newframe = frame.copy()`\n",
      "  X_test[column] = 0\n",
      "<ipython-input-66-8eab85f2b3ab>:2: PerformanceWarning: DataFrame is highly fragmented.  This is usually the result of calling `frame.insert` many times, which has poor performance.  Consider joining all columns at once using pd.concat(axis=1) instead. To get a de-fragmented frame, use `newframe = frame.copy()`\n",
      "  X_test[column] = 0\n",
      "<ipython-input-66-8eab85f2b3ab>:2: PerformanceWarning: DataFrame is highly fragmented.  This is usually the result of calling `frame.insert` many times, which has poor performance.  Consider joining all columns at once using pd.concat(axis=1) instead. To get a de-fragmented frame, use `newframe = frame.copy()`\n",
      "  X_test[column] = 0\n",
      "<ipython-input-66-8eab85f2b3ab>:2: PerformanceWarning: DataFrame is highly fragmented.  This is usually the result of calling `frame.insert` many times, which has poor performance.  Consider joining all columns at once using pd.concat(axis=1) instead. To get a de-fragmented frame, use `newframe = frame.copy()`\n",
      "  X_test[column] = 0\n",
      "<ipython-input-66-8eab85f2b3ab>:2: PerformanceWarning: DataFrame is highly fragmented.  This is usually the result of calling `frame.insert` many times, which has poor performance.  Consider joining all columns at once using pd.concat(axis=1) instead. To get a de-fragmented frame, use `newframe = frame.copy()`\n",
      "  X_test[column] = 0\n",
      "<ipython-input-66-8eab85f2b3ab>:2: PerformanceWarning: DataFrame is highly fragmented.  This is usually the result of calling `frame.insert` many times, which has poor performance.  Consider joining all columns at once using pd.concat(axis=1) instead. To get a de-fragmented frame, use `newframe = frame.copy()`\n",
      "  X_test[column] = 0\n",
      "<ipython-input-66-8eab85f2b3ab>:2: PerformanceWarning: DataFrame is highly fragmented.  This is usually the result of calling `frame.insert` many times, which has poor performance.  Consider joining all columns at once using pd.concat(axis=1) instead. To get a de-fragmented frame, use `newframe = frame.copy()`\n",
      "  X_test[column] = 0\n",
      "<ipython-input-66-8eab85f2b3ab>:2: PerformanceWarning: DataFrame is highly fragmented.  This is usually the result of calling `frame.insert` many times, which has poor performance.  Consider joining all columns at once using pd.concat(axis=1) instead. To get a de-fragmented frame, use `newframe = frame.copy()`\n",
      "  X_test[column] = 0\n",
      "<ipython-input-66-8eab85f2b3ab>:2: PerformanceWarning: DataFrame is highly fragmented.  This is usually the result of calling `frame.insert` many times, which has poor performance.  Consider joining all columns at once using pd.concat(axis=1) instead. To get a de-fragmented frame, use `newframe = frame.copy()`\n",
      "  X_test[column] = 0\n",
      "<ipython-input-66-8eab85f2b3ab>:2: PerformanceWarning: DataFrame is highly fragmented.  This is usually the result of calling `frame.insert` many times, which has poor performance.  Consider joining all columns at once using pd.concat(axis=1) instead. To get a de-fragmented frame, use `newframe = frame.copy()`\n",
      "  X_test[column] = 0\n",
      "<ipython-input-66-8eab85f2b3ab>:2: PerformanceWarning: DataFrame is highly fragmented.  This is usually the result of calling `frame.insert` many times, which has poor performance.  Consider joining all columns at once using pd.concat(axis=1) instead. To get a de-fragmented frame, use `newframe = frame.copy()`\n",
      "  X_test[column] = 0\n",
      "<ipython-input-66-8eab85f2b3ab>:2: PerformanceWarning: DataFrame is highly fragmented.  This is usually the result of calling `frame.insert` many times, which has poor performance.  Consider joining all columns at once using pd.concat(axis=1) instead. To get a de-fragmented frame, use `newframe = frame.copy()`\n",
      "  X_test[column] = 0\n",
      "<ipython-input-66-8eab85f2b3ab>:2: PerformanceWarning: DataFrame is highly fragmented.  This is usually the result of calling `frame.insert` many times, which has poor performance.  Consider joining all columns at once using pd.concat(axis=1) instead. To get a de-fragmented frame, use `newframe = frame.copy()`\n",
      "  X_test[column] = 0\n",
      "<ipython-input-66-8eab85f2b3ab>:2: PerformanceWarning: DataFrame is highly fragmented.  This is usually the result of calling `frame.insert` many times, which has poor performance.  Consider joining all columns at once using pd.concat(axis=1) instead. To get a de-fragmented frame, use `newframe = frame.copy()`\n",
      "  X_test[column] = 0\n",
      "<ipython-input-66-8eab85f2b3ab>:2: PerformanceWarning: DataFrame is highly fragmented.  This is usually the result of calling `frame.insert` many times, which has poor performance.  Consider joining all columns at once using pd.concat(axis=1) instead. To get a de-fragmented frame, use `newframe = frame.copy()`\n",
      "  X_test[column] = 0\n",
      "<ipython-input-66-8eab85f2b3ab>:2: PerformanceWarning: DataFrame is highly fragmented.  This is usually the result of calling `frame.insert` many times, which has poor performance.  Consider joining all columns at once using pd.concat(axis=1) instead. To get a de-fragmented frame, use `newframe = frame.copy()`\n",
      "  X_test[column] = 0\n",
      "<ipython-input-66-8eab85f2b3ab>:2: PerformanceWarning: DataFrame is highly fragmented.  This is usually the result of calling `frame.insert` many times, which has poor performance.  Consider joining all columns at once using pd.concat(axis=1) instead. To get a de-fragmented frame, use `newframe = frame.copy()`\n",
      "  X_test[column] = 0\n",
      "<ipython-input-66-8eab85f2b3ab>:2: PerformanceWarning: DataFrame is highly fragmented.  This is usually the result of calling `frame.insert` many times, which has poor performance.  Consider joining all columns at once using pd.concat(axis=1) instead. To get a de-fragmented frame, use `newframe = frame.copy()`\n",
      "  X_test[column] = 0\n",
      "<ipython-input-66-8eab85f2b3ab>:2: PerformanceWarning: DataFrame is highly fragmented.  This is usually the result of calling `frame.insert` many times, which has poor performance.  Consider joining all columns at once using pd.concat(axis=1) instead. To get a de-fragmented frame, use `newframe = frame.copy()`\n",
      "  X_test[column] = 0\n",
      "<ipython-input-66-8eab85f2b3ab>:2: PerformanceWarning: DataFrame is highly fragmented.  This is usually the result of calling `frame.insert` many times, which has poor performance.  Consider joining all columns at once using pd.concat(axis=1) instead. To get a de-fragmented frame, use `newframe = frame.copy()`\n",
      "  X_test[column] = 0\n",
      "<ipython-input-66-8eab85f2b3ab>:2: PerformanceWarning: DataFrame is highly fragmented.  This is usually the result of calling `frame.insert` many times, which has poor performance.  Consider joining all columns at once using pd.concat(axis=1) instead. To get a de-fragmented frame, use `newframe = frame.copy()`\n",
      "  X_test[column] = 0\n",
      "<ipython-input-66-8eab85f2b3ab>:2: PerformanceWarning: DataFrame is highly fragmented.  This is usually the result of calling `frame.insert` many times, which has poor performance.  Consider joining all columns at once using pd.concat(axis=1) instead. To get a de-fragmented frame, use `newframe = frame.copy()`\n",
      "  X_test[column] = 0\n",
      "<ipython-input-66-8eab85f2b3ab>:2: PerformanceWarning: DataFrame is highly fragmented.  This is usually the result of calling `frame.insert` many times, which has poor performance.  Consider joining all columns at once using pd.concat(axis=1) instead. To get a de-fragmented frame, use `newframe = frame.copy()`\n",
      "  X_test[column] = 0\n",
      "<ipython-input-66-8eab85f2b3ab>:2: PerformanceWarning: DataFrame is highly fragmented.  This is usually the result of calling `frame.insert` many times, which has poor performance.  Consider joining all columns at once using pd.concat(axis=1) instead. To get a de-fragmented frame, use `newframe = frame.copy()`\n",
      "  X_test[column] = 0\n",
      "<ipython-input-66-8eab85f2b3ab>:2: PerformanceWarning: DataFrame is highly fragmented.  This is usually the result of calling `frame.insert` many times, which has poor performance.  Consider joining all columns at once using pd.concat(axis=1) instead. To get a de-fragmented frame, use `newframe = frame.copy()`\n",
      "  X_test[column] = 0\n",
      "<ipython-input-66-8eab85f2b3ab>:2: PerformanceWarning: DataFrame is highly fragmented.  This is usually the result of calling `frame.insert` many times, which has poor performance.  Consider joining all columns at once using pd.concat(axis=1) instead. To get a de-fragmented frame, use `newframe = frame.copy()`\n",
      "  X_test[column] = 0\n",
      "<ipython-input-66-8eab85f2b3ab>:2: PerformanceWarning: DataFrame is highly fragmented.  This is usually the result of calling `frame.insert` many times, which has poor performance.  Consider joining all columns at once using pd.concat(axis=1) instead. To get a de-fragmented frame, use `newframe = frame.copy()`\n",
      "  X_test[column] = 0\n",
      "<ipython-input-66-8eab85f2b3ab>:2: PerformanceWarning: DataFrame is highly fragmented.  This is usually the result of calling `frame.insert` many times, which has poor performance.  Consider joining all columns at once using pd.concat(axis=1) instead. To get a de-fragmented frame, use `newframe = frame.copy()`\n",
      "  X_test[column] = 0\n",
      "<ipython-input-66-8eab85f2b3ab>:2: PerformanceWarning: DataFrame is highly fragmented.  This is usually the result of calling `frame.insert` many times, which has poor performance.  Consider joining all columns at once using pd.concat(axis=1) instead. To get a de-fragmented frame, use `newframe = frame.copy()`\n",
      "  X_test[column] = 0\n",
      "<ipython-input-66-8eab85f2b3ab>:2: PerformanceWarning: DataFrame is highly fragmented.  This is usually the result of calling `frame.insert` many times, which has poor performance.  Consider joining all columns at once using pd.concat(axis=1) instead. To get a de-fragmented frame, use `newframe = frame.copy()`\n",
      "  X_test[column] = 0\n",
      "<ipython-input-66-8eab85f2b3ab>:2: PerformanceWarning: DataFrame is highly fragmented.  This is usually the result of calling `frame.insert` many times, which has poor performance.  Consider joining all columns at once using pd.concat(axis=1) instead. To get a de-fragmented frame, use `newframe = frame.copy()`\n",
      "  X_test[column] = 0\n",
      "<ipython-input-66-8eab85f2b3ab>:2: PerformanceWarning: DataFrame is highly fragmented.  This is usually the result of calling `frame.insert` many times, which has poor performance.  Consider joining all columns at once using pd.concat(axis=1) instead. To get a de-fragmented frame, use `newframe = frame.copy()`\n",
      "  X_test[column] = 0\n",
      "<ipython-input-66-8eab85f2b3ab>:2: PerformanceWarning: DataFrame is highly fragmented.  This is usually the result of calling `frame.insert` many times, which has poor performance.  Consider joining all columns at once using pd.concat(axis=1) instead. To get a de-fragmented frame, use `newframe = frame.copy()`\n",
      "  X_test[column] = 0\n",
      "<ipython-input-66-8eab85f2b3ab>:2: PerformanceWarning: DataFrame is highly fragmented.  This is usually the result of calling `frame.insert` many times, which has poor performance.  Consider joining all columns at once using pd.concat(axis=1) instead. To get a de-fragmented frame, use `newframe = frame.copy()`\n",
      "  X_test[column] = 0\n",
      "<ipython-input-66-8eab85f2b3ab>:2: PerformanceWarning: DataFrame is highly fragmented.  This is usually the result of calling `frame.insert` many times, which has poor performance.  Consider joining all columns at once using pd.concat(axis=1) instead. To get a de-fragmented frame, use `newframe = frame.copy()`\n",
      "  X_test[column] = 0\n",
      "<ipython-input-66-8eab85f2b3ab>:2: PerformanceWarning: DataFrame is highly fragmented.  This is usually the result of calling `frame.insert` many times, which has poor performance.  Consider joining all columns at once using pd.concat(axis=1) instead. To get a de-fragmented frame, use `newframe = frame.copy()`\n",
      "  X_test[column] = 0\n",
      "<ipython-input-66-8eab85f2b3ab>:2: PerformanceWarning: DataFrame is highly fragmented.  This is usually the result of calling `frame.insert` many times, which has poor performance.  Consider joining all columns at once using pd.concat(axis=1) instead. To get a de-fragmented frame, use `newframe = frame.copy()`\n",
      "  X_test[column] = 0\n",
      "<ipython-input-66-8eab85f2b3ab>:2: PerformanceWarning: DataFrame is highly fragmented.  This is usually the result of calling `frame.insert` many times, which has poor performance.  Consider joining all columns at once using pd.concat(axis=1) instead. To get a de-fragmented frame, use `newframe = frame.copy()`\n",
      "  X_test[column] = 0\n",
      "<ipython-input-66-8eab85f2b3ab>:2: PerformanceWarning: DataFrame is highly fragmented.  This is usually the result of calling `frame.insert` many times, which has poor performance.  Consider joining all columns at once using pd.concat(axis=1) instead. To get a de-fragmented frame, use `newframe = frame.copy()`\n",
      "  X_test[column] = 0\n",
      "<ipython-input-66-8eab85f2b3ab>:2: PerformanceWarning: DataFrame is highly fragmented.  This is usually the result of calling `frame.insert` many times, which has poor performance.  Consider joining all columns at once using pd.concat(axis=1) instead. To get a de-fragmented frame, use `newframe = frame.copy()`\n",
      "  X_test[column] = 0\n",
      "<ipython-input-66-8eab85f2b3ab>:2: PerformanceWarning: DataFrame is highly fragmented.  This is usually the result of calling `frame.insert` many times, which has poor performance.  Consider joining all columns at once using pd.concat(axis=1) instead. To get a de-fragmented frame, use `newframe = frame.copy()`\n",
      "  X_test[column] = 0\n",
      "<ipython-input-66-8eab85f2b3ab>:2: PerformanceWarning: DataFrame is highly fragmented.  This is usually the result of calling `frame.insert` many times, which has poor performance.  Consider joining all columns at once using pd.concat(axis=1) instead. To get a de-fragmented frame, use `newframe = frame.copy()`\n",
      "  X_test[column] = 0\n",
      "<ipython-input-66-8eab85f2b3ab>:2: PerformanceWarning: DataFrame is highly fragmented.  This is usually the result of calling `frame.insert` many times, which has poor performance.  Consider joining all columns at once using pd.concat(axis=1) instead. To get a de-fragmented frame, use `newframe = frame.copy()`\n",
      "  X_test[column] = 0\n",
      "<ipython-input-66-8eab85f2b3ab>:2: PerformanceWarning: DataFrame is highly fragmented.  This is usually the result of calling `frame.insert` many times, which has poor performance.  Consider joining all columns at once using pd.concat(axis=1) instead. To get a de-fragmented frame, use `newframe = frame.copy()`\n",
      "  X_test[column] = 0\n",
      "<ipython-input-66-8eab85f2b3ab>:2: PerformanceWarning: DataFrame is highly fragmented.  This is usually the result of calling `frame.insert` many times, which has poor performance.  Consider joining all columns at once using pd.concat(axis=1) instead. To get a de-fragmented frame, use `newframe = frame.copy()`\n",
      "  X_test[column] = 0\n",
      "<ipython-input-66-8eab85f2b3ab>:2: PerformanceWarning: DataFrame is highly fragmented.  This is usually the result of calling `frame.insert` many times, which has poor performance.  Consider joining all columns at once using pd.concat(axis=1) instead. To get a de-fragmented frame, use `newframe = frame.copy()`\n",
      "  X_test[column] = 0\n",
      "<ipython-input-66-8eab85f2b3ab>:2: PerformanceWarning: DataFrame is highly fragmented.  This is usually the result of calling `frame.insert` many times, which has poor performance.  Consider joining all columns at once using pd.concat(axis=1) instead. To get a de-fragmented frame, use `newframe = frame.copy()`\n",
      "  X_test[column] = 0\n",
      "<ipython-input-66-8eab85f2b3ab>:2: PerformanceWarning: DataFrame is highly fragmented.  This is usually the result of calling `frame.insert` many times, which has poor performance.  Consider joining all columns at once using pd.concat(axis=1) instead. To get a de-fragmented frame, use `newframe = frame.copy()`\n",
      "  X_test[column] = 0\n",
      "<ipython-input-66-8eab85f2b3ab>:2: PerformanceWarning: DataFrame is highly fragmented.  This is usually the result of calling `frame.insert` many times, which has poor performance.  Consider joining all columns at once using pd.concat(axis=1) instead. To get a de-fragmented frame, use `newframe = frame.copy()`\n",
      "  X_test[column] = 0\n",
      "<ipython-input-66-8eab85f2b3ab>:2: PerformanceWarning: DataFrame is highly fragmented.  This is usually the result of calling `frame.insert` many times, which has poor performance.  Consider joining all columns at once using pd.concat(axis=1) instead. To get a de-fragmented frame, use `newframe = frame.copy()`\n",
      "  X_test[column] = 0\n",
      "<ipython-input-66-8eab85f2b3ab>:2: PerformanceWarning: DataFrame is highly fragmented.  This is usually the result of calling `frame.insert` many times, which has poor performance.  Consider joining all columns at once using pd.concat(axis=1) instead. To get a de-fragmented frame, use `newframe = frame.copy()`\n",
      "  X_test[column] = 0\n",
      "<ipython-input-66-8eab85f2b3ab>:2: PerformanceWarning: DataFrame is highly fragmented.  This is usually the result of calling `frame.insert` many times, which has poor performance.  Consider joining all columns at once using pd.concat(axis=1) instead. To get a de-fragmented frame, use `newframe = frame.copy()`\n",
      "  X_test[column] = 0\n",
      "<ipython-input-66-8eab85f2b3ab>:2: PerformanceWarning: DataFrame is highly fragmented.  This is usually the result of calling `frame.insert` many times, which has poor performance.  Consider joining all columns at once using pd.concat(axis=1) instead. To get a de-fragmented frame, use `newframe = frame.copy()`\n",
      "  X_test[column] = 0\n",
      "<ipython-input-66-8eab85f2b3ab>:2: PerformanceWarning: DataFrame is highly fragmented.  This is usually the result of calling `frame.insert` many times, which has poor performance.  Consider joining all columns at once using pd.concat(axis=1) instead. To get a de-fragmented frame, use `newframe = frame.copy()`\n",
      "  X_test[column] = 0\n",
      "<ipython-input-66-8eab85f2b3ab>:2: PerformanceWarning: DataFrame is highly fragmented.  This is usually the result of calling `frame.insert` many times, which has poor performance.  Consider joining all columns at once using pd.concat(axis=1) instead. To get a de-fragmented frame, use `newframe = frame.copy()`\n",
      "  X_test[column] = 0\n",
      "<ipython-input-66-8eab85f2b3ab>:2: PerformanceWarning: DataFrame is highly fragmented.  This is usually the result of calling `frame.insert` many times, which has poor performance.  Consider joining all columns at once using pd.concat(axis=1) instead. To get a de-fragmented frame, use `newframe = frame.copy()`\n",
      "  X_test[column] = 0\n",
      "<ipython-input-66-8eab85f2b3ab>:2: PerformanceWarning: DataFrame is highly fragmented.  This is usually the result of calling `frame.insert` many times, which has poor performance.  Consider joining all columns at once using pd.concat(axis=1) instead. To get a de-fragmented frame, use `newframe = frame.copy()`\n",
      "  X_test[column] = 0\n",
      "<ipython-input-66-8eab85f2b3ab>:2: PerformanceWarning: DataFrame is highly fragmented.  This is usually the result of calling `frame.insert` many times, which has poor performance.  Consider joining all columns at once using pd.concat(axis=1) instead. To get a de-fragmented frame, use `newframe = frame.copy()`\n",
      "  X_test[column] = 0\n",
      "<ipython-input-66-8eab85f2b3ab>:2: PerformanceWarning: DataFrame is highly fragmented.  This is usually the result of calling `frame.insert` many times, which has poor performance.  Consider joining all columns at once using pd.concat(axis=1) instead. To get a de-fragmented frame, use `newframe = frame.copy()`\n",
      "  X_test[column] = 0\n",
      "<ipython-input-66-8eab85f2b3ab>:2: PerformanceWarning: DataFrame is highly fragmented.  This is usually the result of calling `frame.insert` many times, which has poor performance.  Consider joining all columns at once using pd.concat(axis=1) instead. To get a de-fragmented frame, use `newframe = frame.copy()`\n",
      "  X_test[column] = 0\n",
      "<ipython-input-66-8eab85f2b3ab>:2: PerformanceWarning: DataFrame is highly fragmented.  This is usually the result of calling `frame.insert` many times, which has poor performance.  Consider joining all columns at once using pd.concat(axis=1) instead. To get a de-fragmented frame, use `newframe = frame.copy()`\n",
      "  X_test[column] = 0\n",
      "<ipython-input-66-8eab85f2b3ab>:2: PerformanceWarning: DataFrame is highly fragmented.  This is usually the result of calling `frame.insert` many times, which has poor performance.  Consider joining all columns at once using pd.concat(axis=1) instead. To get a de-fragmented frame, use `newframe = frame.copy()`\n",
      "  X_test[column] = 0\n",
      "<ipython-input-66-8eab85f2b3ab>:2: PerformanceWarning: DataFrame is highly fragmented.  This is usually the result of calling `frame.insert` many times, which has poor performance.  Consider joining all columns at once using pd.concat(axis=1) instead. To get a de-fragmented frame, use `newframe = frame.copy()`\n",
      "  X_test[column] = 0\n",
      "<ipython-input-66-8eab85f2b3ab>:2: PerformanceWarning: DataFrame is highly fragmented.  This is usually the result of calling `frame.insert` many times, which has poor performance.  Consider joining all columns at once using pd.concat(axis=1) instead. To get a de-fragmented frame, use `newframe = frame.copy()`\n",
      "  X_test[column] = 0\n",
      "<ipython-input-66-8eab85f2b3ab>:2: PerformanceWarning: DataFrame is highly fragmented.  This is usually the result of calling `frame.insert` many times, which has poor performance.  Consider joining all columns at once using pd.concat(axis=1) instead. To get a de-fragmented frame, use `newframe = frame.copy()`\n",
      "  X_test[column] = 0\n",
      "<ipython-input-66-8eab85f2b3ab>:2: PerformanceWarning: DataFrame is highly fragmented.  This is usually the result of calling `frame.insert` many times, which has poor performance.  Consider joining all columns at once using pd.concat(axis=1) instead. To get a de-fragmented frame, use `newframe = frame.copy()`\n",
      "  X_test[column] = 0\n",
      "<ipython-input-66-8eab85f2b3ab>:2: PerformanceWarning: DataFrame is highly fragmented.  This is usually the result of calling `frame.insert` many times, which has poor performance.  Consider joining all columns at once using pd.concat(axis=1) instead. To get a de-fragmented frame, use `newframe = frame.copy()`\n",
      "  X_test[column] = 0\n",
      "<ipython-input-66-8eab85f2b3ab>:2: PerformanceWarning: DataFrame is highly fragmented.  This is usually the result of calling `frame.insert` many times, which has poor performance.  Consider joining all columns at once using pd.concat(axis=1) instead. To get a de-fragmented frame, use `newframe = frame.copy()`\n",
      "  X_test[column] = 0\n",
      "<ipython-input-66-8eab85f2b3ab>:2: PerformanceWarning: DataFrame is highly fragmented.  This is usually the result of calling `frame.insert` many times, which has poor performance.  Consider joining all columns at once using pd.concat(axis=1) instead. To get a de-fragmented frame, use `newframe = frame.copy()`\n",
      "  X_test[column] = 0\n",
      "<ipython-input-66-8eab85f2b3ab>:2: PerformanceWarning: DataFrame is highly fragmented.  This is usually the result of calling `frame.insert` many times, which has poor performance.  Consider joining all columns at once using pd.concat(axis=1) instead. To get a de-fragmented frame, use `newframe = frame.copy()`\n",
      "  X_test[column] = 0\n",
      "<ipython-input-66-8eab85f2b3ab>:2: PerformanceWarning: DataFrame is highly fragmented.  This is usually the result of calling `frame.insert` many times, which has poor performance.  Consider joining all columns at once using pd.concat(axis=1) instead. To get a de-fragmented frame, use `newframe = frame.copy()`\n",
      "  X_test[column] = 0\n",
      "<ipython-input-66-8eab85f2b3ab>:2: PerformanceWarning: DataFrame is highly fragmented.  This is usually the result of calling `frame.insert` many times, which has poor performance.  Consider joining all columns at once using pd.concat(axis=1) instead. To get a de-fragmented frame, use `newframe = frame.copy()`\n",
      "  X_test[column] = 0\n",
      "<ipython-input-66-8eab85f2b3ab>:2: PerformanceWarning: DataFrame is highly fragmented.  This is usually the result of calling `frame.insert` many times, which has poor performance.  Consider joining all columns at once using pd.concat(axis=1) instead. To get a de-fragmented frame, use `newframe = frame.copy()`\n",
      "  X_test[column] = 0\n",
      "<ipython-input-66-8eab85f2b3ab>:2: PerformanceWarning: DataFrame is highly fragmented.  This is usually the result of calling `frame.insert` many times, which has poor performance.  Consider joining all columns at once using pd.concat(axis=1) instead. To get a de-fragmented frame, use `newframe = frame.copy()`\n",
      "  X_test[column] = 0\n",
      "<ipython-input-66-8eab85f2b3ab>:2: PerformanceWarning: DataFrame is highly fragmented.  This is usually the result of calling `frame.insert` many times, which has poor performance.  Consider joining all columns at once using pd.concat(axis=1) instead. To get a de-fragmented frame, use `newframe = frame.copy()`\n",
      "  X_test[column] = 0\n",
      "<ipython-input-66-8eab85f2b3ab>:2: PerformanceWarning: DataFrame is highly fragmented.  This is usually the result of calling `frame.insert` many times, which has poor performance.  Consider joining all columns at once using pd.concat(axis=1) instead. To get a de-fragmented frame, use `newframe = frame.copy()`\n",
      "  X_test[column] = 0\n",
      "<ipython-input-66-8eab85f2b3ab>:2: PerformanceWarning: DataFrame is highly fragmented.  This is usually the result of calling `frame.insert` many times, which has poor performance.  Consider joining all columns at once using pd.concat(axis=1) instead. To get a de-fragmented frame, use `newframe = frame.copy()`\n",
      "  X_test[column] = 0\n",
      "<ipython-input-66-8eab85f2b3ab>:2: PerformanceWarning: DataFrame is highly fragmented.  This is usually the result of calling `frame.insert` many times, which has poor performance.  Consider joining all columns at once using pd.concat(axis=1) instead. To get a de-fragmented frame, use `newframe = frame.copy()`\n",
      "  X_test[column] = 0\n",
      "<ipython-input-66-8eab85f2b3ab>:2: PerformanceWarning: DataFrame is highly fragmented.  This is usually the result of calling `frame.insert` many times, which has poor performance.  Consider joining all columns at once using pd.concat(axis=1) instead. To get a de-fragmented frame, use `newframe = frame.copy()`\n",
      "  X_test[column] = 0\n",
      "<ipython-input-66-8eab85f2b3ab>:2: PerformanceWarning: DataFrame is highly fragmented.  This is usually the result of calling `frame.insert` many times, which has poor performance.  Consider joining all columns at once using pd.concat(axis=1) instead. To get a de-fragmented frame, use `newframe = frame.copy()`\n",
      "  X_test[column] = 0\n",
      "<ipython-input-66-8eab85f2b3ab>:2: PerformanceWarning: DataFrame is highly fragmented.  This is usually the result of calling `frame.insert` many times, which has poor performance.  Consider joining all columns at once using pd.concat(axis=1) instead. To get a de-fragmented frame, use `newframe = frame.copy()`\n",
      "  X_test[column] = 0\n",
      "<ipython-input-66-8eab85f2b3ab>:2: PerformanceWarning: DataFrame is highly fragmented.  This is usually the result of calling `frame.insert` many times, which has poor performance.  Consider joining all columns at once using pd.concat(axis=1) instead. To get a de-fragmented frame, use `newframe = frame.copy()`\n",
      "  X_test[column] = 0\n",
      "<ipython-input-66-8eab85f2b3ab>:2: PerformanceWarning: DataFrame is highly fragmented.  This is usually the result of calling `frame.insert` many times, which has poor performance.  Consider joining all columns at once using pd.concat(axis=1) instead. To get a de-fragmented frame, use `newframe = frame.copy()`\n",
      "  X_test[column] = 0\n",
      "<ipython-input-66-8eab85f2b3ab>:2: PerformanceWarning: DataFrame is highly fragmented.  This is usually the result of calling `frame.insert` many times, which has poor performance.  Consider joining all columns at once using pd.concat(axis=1) instead. To get a de-fragmented frame, use `newframe = frame.copy()`\n",
      "  X_test[column] = 0\n",
      "<ipython-input-66-8eab85f2b3ab>:2: PerformanceWarning: DataFrame is highly fragmented.  This is usually the result of calling `frame.insert` many times, which has poor performance.  Consider joining all columns at once using pd.concat(axis=1) instead. To get a de-fragmented frame, use `newframe = frame.copy()`\n",
      "  X_test[column] = 0\n",
      "<ipython-input-66-8eab85f2b3ab>:2: PerformanceWarning: DataFrame is highly fragmented.  This is usually the result of calling `frame.insert` many times, which has poor performance.  Consider joining all columns at once using pd.concat(axis=1) instead. To get a de-fragmented frame, use `newframe = frame.copy()`\n",
      "  X_test[column] = 0\n",
      "<ipython-input-66-8eab85f2b3ab>:2: PerformanceWarning: DataFrame is highly fragmented.  This is usually the result of calling `frame.insert` many times, which has poor performance.  Consider joining all columns at once using pd.concat(axis=1) instead. To get a de-fragmented frame, use `newframe = frame.copy()`\n",
      "  X_test[column] = 0\n",
      "<ipython-input-66-8eab85f2b3ab>:2: PerformanceWarning: DataFrame is highly fragmented.  This is usually the result of calling `frame.insert` many times, which has poor performance.  Consider joining all columns at once using pd.concat(axis=1) instead. To get a de-fragmented frame, use `newframe = frame.copy()`\n",
      "  X_test[column] = 0\n",
      "<ipython-input-66-8eab85f2b3ab>:2: PerformanceWarning: DataFrame is highly fragmented.  This is usually the result of calling `frame.insert` many times, which has poor performance.  Consider joining all columns at once using pd.concat(axis=1) instead. To get a de-fragmented frame, use `newframe = frame.copy()`\n",
      "  X_test[column] = 0\n",
      "<ipython-input-66-8eab85f2b3ab>:2: PerformanceWarning: DataFrame is highly fragmented.  This is usually the result of calling `frame.insert` many times, which has poor performance.  Consider joining all columns at once using pd.concat(axis=1) instead. To get a de-fragmented frame, use `newframe = frame.copy()`\n",
      "  X_test[column] = 0\n",
      "<ipython-input-66-8eab85f2b3ab>:2: PerformanceWarning: DataFrame is highly fragmented.  This is usually the result of calling `frame.insert` many times, which has poor performance.  Consider joining all columns at once using pd.concat(axis=1) instead. To get a de-fragmented frame, use `newframe = frame.copy()`\n",
      "  X_test[column] = 0\n",
      "<ipython-input-66-8eab85f2b3ab>:2: PerformanceWarning: DataFrame is highly fragmented.  This is usually the result of calling `frame.insert` many times, which has poor performance.  Consider joining all columns at once using pd.concat(axis=1) instead. To get a de-fragmented frame, use `newframe = frame.copy()`\n",
      "  X_test[column] = 0\n",
      "<ipython-input-66-8eab85f2b3ab>:2: PerformanceWarning: DataFrame is highly fragmented.  This is usually the result of calling `frame.insert` many times, which has poor performance.  Consider joining all columns at once using pd.concat(axis=1) instead. To get a de-fragmented frame, use `newframe = frame.copy()`\n",
      "  X_test[column] = 0\n",
      "<ipython-input-66-8eab85f2b3ab>:2: PerformanceWarning: DataFrame is highly fragmented.  This is usually the result of calling `frame.insert` many times, which has poor performance.  Consider joining all columns at once using pd.concat(axis=1) instead. To get a de-fragmented frame, use `newframe = frame.copy()`\n",
      "  X_test[column] = 0\n",
      "<ipython-input-66-8eab85f2b3ab>:2: PerformanceWarning: DataFrame is highly fragmented.  This is usually the result of calling `frame.insert` many times, which has poor performance.  Consider joining all columns at once using pd.concat(axis=1) instead. To get a de-fragmented frame, use `newframe = frame.copy()`\n",
      "  X_test[column] = 0\n",
      "<ipython-input-66-8eab85f2b3ab>:2: PerformanceWarning: DataFrame is highly fragmented.  This is usually the result of calling `frame.insert` many times, which has poor performance.  Consider joining all columns at once using pd.concat(axis=1) instead. To get a de-fragmented frame, use `newframe = frame.copy()`\n",
      "  X_test[column] = 0\n",
      "<ipython-input-66-8eab85f2b3ab>:2: PerformanceWarning: DataFrame is highly fragmented.  This is usually the result of calling `frame.insert` many times, which has poor performance.  Consider joining all columns at once using pd.concat(axis=1) instead. To get a de-fragmented frame, use `newframe = frame.copy()`\n",
      "  X_test[column] = 0\n",
      "<ipython-input-66-8eab85f2b3ab>:2: PerformanceWarning: DataFrame is highly fragmented.  This is usually the result of calling `frame.insert` many times, which has poor performance.  Consider joining all columns at once using pd.concat(axis=1) instead. To get a de-fragmented frame, use `newframe = frame.copy()`\n",
      "  X_test[column] = 0\n",
      "<ipython-input-66-8eab85f2b3ab>:2: PerformanceWarning: DataFrame is highly fragmented.  This is usually the result of calling `frame.insert` many times, which has poor performance.  Consider joining all columns at once using pd.concat(axis=1) instead. To get a de-fragmented frame, use `newframe = frame.copy()`\n",
      "  X_test[column] = 0\n",
      "<ipython-input-66-8eab85f2b3ab>:2: PerformanceWarning: DataFrame is highly fragmented.  This is usually the result of calling `frame.insert` many times, which has poor performance.  Consider joining all columns at once using pd.concat(axis=1) instead. To get a de-fragmented frame, use `newframe = frame.copy()`\n",
      "  X_test[column] = 0\n",
      "<ipython-input-66-8eab85f2b3ab>:2: PerformanceWarning: DataFrame is highly fragmented.  This is usually the result of calling `frame.insert` many times, which has poor performance.  Consider joining all columns at once using pd.concat(axis=1) instead. To get a de-fragmented frame, use `newframe = frame.copy()`\n",
      "  X_test[column] = 0\n",
      "<ipython-input-66-8eab85f2b3ab>:2: PerformanceWarning: DataFrame is highly fragmented.  This is usually the result of calling `frame.insert` many times, which has poor performance.  Consider joining all columns at once using pd.concat(axis=1) instead. To get a de-fragmented frame, use `newframe = frame.copy()`\n",
      "  X_test[column] = 0\n",
      "<ipython-input-66-8eab85f2b3ab>:2: PerformanceWarning: DataFrame is highly fragmented.  This is usually the result of calling `frame.insert` many times, which has poor performance.  Consider joining all columns at once using pd.concat(axis=1) instead. To get a de-fragmented frame, use `newframe = frame.copy()`\n",
      "  X_test[column] = 0\n",
      "<ipython-input-66-8eab85f2b3ab>:2: PerformanceWarning: DataFrame is highly fragmented.  This is usually the result of calling `frame.insert` many times, which has poor performance.  Consider joining all columns at once using pd.concat(axis=1) instead. To get a de-fragmented frame, use `newframe = frame.copy()`\n",
      "  X_test[column] = 0\n",
      "<ipython-input-66-8eab85f2b3ab>:2: PerformanceWarning: DataFrame is highly fragmented.  This is usually the result of calling `frame.insert` many times, which has poor performance.  Consider joining all columns at once using pd.concat(axis=1) instead. To get a de-fragmented frame, use `newframe = frame.copy()`\n",
      "  X_test[column] = 0\n",
      "<ipython-input-66-8eab85f2b3ab>:2: PerformanceWarning: DataFrame is highly fragmented.  This is usually the result of calling `frame.insert` many times, which has poor performance.  Consider joining all columns at once using pd.concat(axis=1) instead. To get a de-fragmented frame, use `newframe = frame.copy()`\n",
      "  X_test[column] = 0\n",
      "<ipython-input-66-8eab85f2b3ab>:2: PerformanceWarning: DataFrame is highly fragmented.  This is usually the result of calling `frame.insert` many times, which has poor performance.  Consider joining all columns at once using pd.concat(axis=1) instead. To get a de-fragmented frame, use `newframe = frame.copy()`\n",
      "  X_test[column] = 0\n",
      "<ipython-input-66-8eab85f2b3ab>:2: PerformanceWarning: DataFrame is highly fragmented.  This is usually the result of calling `frame.insert` many times, which has poor performance.  Consider joining all columns at once using pd.concat(axis=1) instead. To get a de-fragmented frame, use `newframe = frame.copy()`\n",
      "  X_test[column] = 0\n",
      "<ipython-input-66-8eab85f2b3ab>:2: PerformanceWarning: DataFrame is highly fragmented.  This is usually the result of calling `frame.insert` many times, which has poor performance.  Consider joining all columns at once using pd.concat(axis=1) instead. To get a de-fragmented frame, use `newframe = frame.copy()`\n",
      "  X_test[column] = 0\n",
      "<ipython-input-66-8eab85f2b3ab>:2: PerformanceWarning: DataFrame is highly fragmented.  This is usually the result of calling `frame.insert` many times, which has poor performance.  Consider joining all columns at once using pd.concat(axis=1) instead. To get a de-fragmented frame, use `newframe = frame.copy()`\n",
      "  X_test[column] = 0\n",
      "<ipython-input-66-8eab85f2b3ab>:2: PerformanceWarning: DataFrame is highly fragmented.  This is usually the result of calling `frame.insert` many times, which has poor performance.  Consider joining all columns at once using pd.concat(axis=1) instead. To get a de-fragmented frame, use `newframe = frame.copy()`\n",
      "  X_test[column] = 0\n",
      "<ipython-input-66-8eab85f2b3ab>:2: PerformanceWarning: DataFrame is highly fragmented.  This is usually the result of calling `frame.insert` many times, which has poor performance.  Consider joining all columns at once using pd.concat(axis=1) instead. To get a de-fragmented frame, use `newframe = frame.copy()`\n",
      "  X_test[column] = 0\n",
      "<ipython-input-66-8eab85f2b3ab>:2: PerformanceWarning: DataFrame is highly fragmented.  This is usually the result of calling `frame.insert` many times, which has poor performance.  Consider joining all columns at once using pd.concat(axis=1) instead. To get a de-fragmented frame, use `newframe = frame.copy()`\n",
      "  X_test[column] = 0\n",
      "<ipython-input-66-8eab85f2b3ab>:2: PerformanceWarning: DataFrame is highly fragmented.  This is usually the result of calling `frame.insert` many times, which has poor performance.  Consider joining all columns at once using pd.concat(axis=1) instead. To get a de-fragmented frame, use `newframe = frame.copy()`\n",
      "  X_test[column] = 0\n",
      "<ipython-input-66-8eab85f2b3ab>:2: PerformanceWarning: DataFrame is highly fragmented.  This is usually the result of calling `frame.insert` many times, which has poor performance.  Consider joining all columns at once using pd.concat(axis=1) instead. To get a de-fragmented frame, use `newframe = frame.copy()`\n",
      "  X_test[column] = 0\n",
      "<ipython-input-66-8eab85f2b3ab>:2: PerformanceWarning: DataFrame is highly fragmented.  This is usually the result of calling `frame.insert` many times, which has poor performance.  Consider joining all columns at once using pd.concat(axis=1) instead. To get a de-fragmented frame, use `newframe = frame.copy()`\n",
      "  X_test[column] = 0\n",
      "<ipython-input-66-8eab85f2b3ab>:2: PerformanceWarning: DataFrame is highly fragmented.  This is usually the result of calling `frame.insert` many times, which has poor performance.  Consider joining all columns at once using pd.concat(axis=1) instead. To get a de-fragmented frame, use `newframe = frame.copy()`\n",
      "  X_test[column] = 0\n",
      "<ipython-input-66-8eab85f2b3ab>:2: PerformanceWarning: DataFrame is highly fragmented.  This is usually the result of calling `frame.insert` many times, which has poor performance.  Consider joining all columns at once using pd.concat(axis=1) instead. To get a de-fragmented frame, use `newframe = frame.copy()`\n",
      "  X_test[column] = 0\n",
      "<ipython-input-66-8eab85f2b3ab>:2: PerformanceWarning: DataFrame is highly fragmented.  This is usually the result of calling `frame.insert` many times, which has poor performance.  Consider joining all columns at once using pd.concat(axis=1) instead. To get a de-fragmented frame, use `newframe = frame.copy()`\n",
      "  X_test[column] = 0\n",
      "<ipython-input-66-8eab85f2b3ab>:2: PerformanceWarning: DataFrame is highly fragmented.  This is usually the result of calling `frame.insert` many times, which has poor performance.  Consider joining all columns at once using pd.concat(axis=1) instead. To get a de-fragmented frame, use `newframe = frame.copy()`\n",
      "  X_test[column] = 0\n",
      "<ipython-input-66-8eab85f2b3ab>:2: PerformanceWarning: DataFrame is highly fragmented.  This is usually the result of calling `frame.insert` many times, which has poor performance.  Consider joining all columns at once using pd.concat(axis=1) instead. To get a de-fragmented frame, use `newframe = frame.copy()`\n",
      "  X_test[column] = 0\n",
      "<ipython-input-66-8eab85f2b3ab>:2: PerformanceWarning: DataFrame is highly fragmented.  This is usually the result of calling `frame.insert` many times, which has poor performance.  Consider joining all columns at once using pd.concat(axis=1) instead. To get a de-fragmented frame, use `newframe = frame.copy()`\n",
      "  X_test[column] = 0\n",
      "<ipython-input-66-8eab85f2b3ab>:2: PerformanceWarning: DataFrame is highly fragmented.  This is usually the result of calling `frame.insert` many times, which has poor performance.  Consider joining all columns at once using pd.concat(axis=1) instead. To get a de-fragmented frame, use `newframe = frame.copy()`\n",
      "  X_test[column] = 0\n",
      "<ipython-input-66-8eab85f2b3ab>:2: PerformanceWarning: DataFrame is highly fragmented.  This is usually the result of calling `frame.insert` many times, which has poor performance.  Consider joining all columns at once using pd.concat(axis=1) instead. To get a de-fragmented frame, use `newframe = frame.copy()`\n",
      "  X_test[column] = 0\n",
      "<ipython-input-66-8eab85f2b3ab>:2: PerformanceWarning: DataFrame is highly fragmented.  This is usually the result of calling `frame.insert` many times, which has poor performance.  Consider joining all columns at once using pd.concat(axis=1) instead. To get a de-fragmented frame, use `newframe = frame.copy()`\n",
      "  X_test[column] = 0\n",
      "<ipython-input-66-8eab85f2b3ab>:2: PerformanceWarning: DataFrame is highly fragmented.  This is usually the result of calling `frame.insert` many times, which has poor performance.  Consider joining all columns at once using pd.concat(axis=1) instead. To get a de-fragmented frame, use `newframe = frame.copy()`\n",
      "  X_test[column] = 0\n",
      "<ipython-input-66-8eab85f2b3ab>:2: PerformanceWarning: DataFrame is highly fragmented.  This is usually the result of calling `frame.insert` many times, which has poor performance.  Consider joining all columns at once using pd.concat(axis=1) instead. To get a de-fragmented frame, use `newframe = frame.copy()`\n",
      "  X_test[column] = 0\n",
      "<ipython-input-66-8eab85f2b3ab>:2: PerformanceWarning: DataFrame is highly fragmented.  This is usually the result of calling `frame.insert` many times, which has poor performance.  Consider joining all columns at once using pd.concat(axis=1) instead. To get a de-fragmented frame, use `newframe = frame.copy()`\n",
      "  X_test[column] = 0\n",
      "<ipython-input-66-8eab85f2b3ab>:2: PerformanceWarning: DataFrame is highly fragmented.  This is usually the result of calling `frame.insert` many times, which has poor performance.  Consider joining all columns at once using pd.concat(axis=1) instead. To get a de-fragmented frame, use `newframe = frame.copy()`\n",
      "  X_test[column] = 0\n",
      "<ipython-input-66-8eab85f2b3ab>:2: PerformanceWarning: DataFrame is highly fragmented.  This is usually the result of calling `frame.insert` many times, which has poor performance.  Consider joining all columns at once using pd.concat(axis=1) instead. To get a de-fragmented frame, use `newframe = frame.copy()`\n",
      "  X_test[column] = 0\n",
      "<ipython-input-66-8eab85f2b3ab>:2: PerformanceWarning: DataFrame is highly fragmented.  This is usually the result of calling `frame.insert` many times, which has poor performance.  Consider joining all columns at once using pd.concat(axis=1) instead. To get a de-fragmented frame, use `newframe = frame.copy()`\n",
      "  X_test[column] = 0\n",
      "<ipython-input-66-8eab85f2b3ab>:2: PerformanceWarning: DataFrame is highly fragmented.  This is usually the result of calling `frame.insert` many times, which has poor performance.  Consider joining all columns at once using pd.concat(axis=1) instead. To get a de-fragmented frame, use `newframe = frame.copy()`\n",
      "  X_test[column] = 0\n",
      "<ipython-input-66-8eab85f2b3ab>:2: PerformanceWarning: DataFrame is highly fragmented.  This is usually the result of calling `frame.insert` many times, which has poor performance.  Consider joining all columns at once using pd.concat(axis=1) instead. To get a de-fragmented frame, use `newframe = frame.copy()`\n",
      "  X_test[column] = 0\n",
      "<ipython-input-66-8eab85f2b3ab>:2: PerformanceWarning: DataFrame is highly fragmented.  This is usually the result of calling `frame.insert` many times, which has poor performance.  Consider joining all columns at once using pd.concat(axis=1) instead. To get a de-fragmented frame, use `newframe = frame.copy()`\n",
      "  X_test[column] = 0\n",
      "<ipython-input-66-8eab85f2b3ab>:2: PerformanceWarning: DataFrame is highly fragmented.  This is usually the result of calling `frame.insert` many times, which has poor performance.  Consider joining all columns at once using pd.concat(axis=1) instead. To get a de-fragmented frame, use `newframe = frame.copy()`\n",
      "  X_test[column] = 0\n",
      "<ipython-input-66-8eab85f2b3ab>:2: PerformanceWarning: DataFrame is highly fragmented.  This is usually the result of calling `frame.insert` many times, which has poor performance.  Consider joining all columns at once using pd.concat(axis=1) instead. To get a de-fragmented frame, use `newframe = frame.copy()`\n",
      "  X_test[column] = 0\n",
      "<ipython-input-66-8eab85f2b3ab>:2: PerformanceWarning: DataFrame is highly fragmented.  This is usually the result of calling `frame.insert` many times, which has poor performance.  Consider joining all columns at once using pd.concat(axis=1) instead. To get a de-fragmented frame, use `newframe = frame.copy()`\n",
      "  X_test[column] = 0\n",
      "<ipython-input-66-8eab85f2b3ab>:2: PerformanceWarning: DataFrame is highly fragmented.  This is usually the result of calling `frame.insert` many times, which has poor performance.  Consider joining all columns at once using pd.concat(axis=1) instead. To get a de-fragmented frame, use `newframe = frame.copy()`\n",
      "  X_test[column] = 0\n",
      "<ipython-input-66-8eab85f2b3ab>:2: PerformanceWarning: DataFrame is highly fragmented.  This is usually the result of calling `frame.insert` many times, which has poor performance.  Consider joining all columns at once using pd.concat(axis=1) instead. To get a de-fragmented frame, use `newframe = frame.copy()`\n",
      "  X_test[column] = 0\n",
      "<ipython-input-66-8eab85f2b3ab>:2: PerformanceWarning: DataFrame is highly fragmented.  This is usually the result of calling `frame.insert` many times, which has poor performance.  Consider joining all columns at once using pd.concat(axis=1) instead. To get a de-fragmented frame, use `newframe = frame.copy()`\n",
      "  X_test[column] = 0\n",
      "<ipython-input-66-8eab85f2b3ab>:2: PerformanceWarning: DataFrame is highly fragmented.  This is usually the result of calling `frame.insert` many times, which has poor performance.  Consider joining all columns at once using pd.concat(axis=1) instead. To get a de-fragmented frame, use `newframe = frame.copy()`\n",
      "  X_test[column] = 0\n",
      "<ipython-input-66-8eab85f2b3ab>:2: PerformanceWarning: DataFrame is highly fragmented.  This is usually the result of calling `frame.insert` many times, which has poor performance.  Consider joining all columns at once using pd.concat(axis=1) instead. To get a de-fragmented frame, use `newframe = frame.copy()`\n",
      "  X_test[column] = 0\n",
      "<ipython-input-66-8eab85f2b3ab>:2: PerformanceWarning: DataFrame is highly fragmented.  This is usually the result of calling `frame.insert` many times, which has poor performance.  Consider joining all columns at once using pd.concat(axis=1) instead. To get a de-fragmented frame, use `newframe = frame.copy()`\n",
      "  X_test[column] = 0\n",
      "<ipython-input-66-8eab85f2b3ab>:2: PerformanceWarning: DataFrame is highly fragmented.  This is usually the result of calling `frame.insert` many times, which has poor performance.  Consider joining all columns at once using pd.concat(axis=1) instead. To get a de-fragmented frame, use `newframe = frame.copy()`\n",
      "  X_test[column] = 0\n",
      "<ipython-input-66-8eab85f2b3ab>:2: PerformanceWarning: DataFrame is highly fragmented.  This is usually the result of calling `frame.insert` many times, which has poor performance.  Consider joining all columns at once using pd.concat(axis=1) instead. To get a de-fragmented frame, use `newframe = frame.copy()`\n",
      "  X_test[column] = 0\n",
      "<ipython-input-66-8eab85f2b3ab>:2: PerformanceWarning: DataFrame is highly fragmented.  This is usually the result of calling `frame.insert` many times, which has poor performance.  Consider joining all columns at once using pd.concat(axis=1) instead. To get a de-fragmented frame, use `newframe = frame.copy()`\n",
      "  X_test[column] = 0\n",
      "<ipython-input-66-8eab85f2b3ab>:2: PerformanceWarning: DataFrame is highly fragmented.  This is usually the result of calling `frame.insert` many times, which has poor performance.  Consider joining all columns at once using pd.concat(axis=1) instead. To get a de-fragmented frame, use `newframe = frame.copy()`\n",
      "  X_test[column] = 0\n",
      "<ipython-input-66-8eab85f2b3ab>:2: PerformanceWarning: DataFrame is highly fragmented.  This is usually the result of calling `frame.insert` many times, which has poor performance.  Consider joining all columns at once using pd.concat(axis=1) instead. To get a de-fragmented frame, use `newframe = frame.copy()`\n",
      "  X_test[column] = 0\n",
      "<ipython-input-66-8eab85f2b3ab>:2: PerformanceWarning: DataFrame is highly fragmented.  This is usually the result of calling `frame.insert` many times, which has poor performance.  Consider joining all columns at once using pd.concat(axis=1) instead. To get a de-fragmented frame, use `newframe = frame.copy()`\n",
      "  X_test[column] = 0\n"
     ]
    }
   ],
   "source": [
    "for column in missing_columns:\n",
    "    X_test[column] = 0"
   ]
  },
  {
   "cell_type": "code",
   "execution_count": 67,
   "metadata": {
    "id": "ldiT72O-zTD6"
   },
   "outputs": [],
   "source": [
    "X_test = X_test[X.columns]"
   ]
  },
  {
   "cell_type": "code",
   "execution_count": 72,
   "metadata": {
    "id": "8_bS8kdPzxEB"
   },
   "outputs": [],
   "source": [
    "y_test_new = np.log(y_test['Sale_Price'])"
   ]
  },
  {
   "cell_type": "code",
   "execution_count": 71,
   "metadata": {
    "colab": {
     "base_uri": "https://localhost:8080/"
    },
    "id": "MNuBu4iFzzY3",
    "outputId": "4ce09b19-121d-426b-8c43-862a4d421b97"
   },
   "outputs": [
    {
     "data": {
      "text/plain": [
       "0      112000\n",
       "1      149000\n",
       "2      177000\n",
       "3      160000\n",
       "4      135000\n",
       "        ...  \n",
       "874    197000\n",
       "875    160500\n",
       "876    320000\n",
       "877    155000\n",
       "878    164000\n",
       "Name: Sale_Price, Length: 879, dtype: int64"
      ]
     },
     "execution_count": 71,
     "metadata": {},
     "output_type": "execute_result"
    }
   ],
   "source": [
    "y_test_new"
   ]
  },
  {
   "cell_type": "code",
   "execution_count": null,
   "metadata": {
    "id": "-XWV5Z_W0Lpi"
   },
   "outputs": [],
   "source": []
  }
 ],
 "metadata": {
  "colab": {
   "provenance": []
  },
  "kernelspec": {
   "display_name": "Python 3 (ipykernel)",
   "language": "python",
   "name": "python3"
  },
  "language_info": {
   "codemirror_mode": {
    "name": "ipython",
    "version": 3
   },
   "file_extension": ".py",
   "mimetype": "text/x-python",
   "name": "python",
   "nbconvert_exporter": "python",
   "pygments_lexer": "ipython3",
   "version": "3.10.7"
  }
 },
 "nbformat": 4,
 "nbformat_minor": 1
}

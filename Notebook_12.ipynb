{
 "cells": [
  {
   "cell_type": "markdown",
   "metadata": {
    "id": "8FzPm-6HJYBp"
   },
   "source": [
    "<img src=\"images/Picture0.png\" width=200x />\n",
    "\n",
    "# Notebook 12 - SciPy Basics\n",
    "\n",
    "## Instructions\n",
    "Read the material below and complete the exercises.\n",
    "\n",
    "Material covered in this notebook:\n",
    "\n",
    "- How to import the scipy module\n",
    "- how to use special functions in the SciPy module\n",
    "- How to integrate and take numerical derivatives\n",
    "- How to solve a simple ODE using SciPy\n",
    "\n",
    "### Credits\n",
    "Adapted from work of [J.R. Johansson](https://github.com/jrjohansson/scientific-python-lectures)\n",
    "\n",
    "See https://scipy-cookbook.readthedocs.io for more applications of `SciPy` and examples."
   ]
  },
  {
   "cell_type": "code",
   "execution_count": null,
   "metadata": {
    "id": "TDUR7jjyJzrx"
   },
   "outputs": [],
   "source": [
    "import numpy as np\n",
    "import matplotlib.pyplot as plt"
   ]
  },
  {
   "cell_type": "markdown",
   "metadata": {
    "id": "gYhlG2rWJYBt"
   },
   "source": [
    "## Introduction"
   ]
  },
  {
   "cell_type": "markdown",
   "metadata": {
    "id": "3vOo_SI6JYBu"
   },
   "source": [
    "`SciPy` in Python is an open-source library used for algorithms and solving many mathematical equations.\n",
    "The `SciPy` framework builds on top of the low-level `NumPy` framework for multidimensional arrays, and provides a large number of higher-level scientific algorithms. Some of the topics that `SciPy` covers are:\n",
    "\n",
    "- Special functions (`scipy.special`)\n",
    "- Integration (`scipy.integrate`)\n",
    "- Optimization (`scipy.optimize`)\n",
    "- Interpolation (`scipy.interpolate`)\n",
    "- Fourier Transforms (`scipy.fftpack`)\n",
    "- Signal Processing (`scipy.signal`)\n",
    "- Linear Algebra (`scipy.linalg`)\n",
    "- Sparse Eigenvalue Problems (`scipy.sparse`)\n",
    "- Statistics (`scipy.stats`)\n",
    "- Multi-dimensional image processing (`scipy.ndimage`)\n",
    "- File IO (`scipy.io`)\n",
    "Each of these submodules provides a number of functions and classes that can be used to solve problems in their respective topics."
   ]
  },
  {
   "cell_type": "markdown",
   "metadata": {
    "id": "O27N3uMyEoeD"
   },
   "source": [
    "In this note we will look at how to solve a system of ordinary differential equations.\n",
    "`SciPy` provides two different ways to solve ODEs: An API based on the function `odeint`, and object-oriented API based on the class `ode`. Usually `odeint` is easier to get started with, but the `ode` class offers some finer level of control.\n",
    "\n",
    "Here we will use the `odeint` functions. For more information about the class `ode`, try `help(ode)`. It does pretty much the same thing as `odeint`, but in an object-oriented fashion.\n",
    "\n",
    "To use `odeint`, first import it from the `scipy.integrate` module."
   ]
  },
  {
   "cell_type": "code",
   "execution_count": null,
   "metadata": {
    "id": "QyPWqnbeJYBu"
   },
   "outputs": [],
   "source": [
    "from scipy.integrate import odeint, ode"
   ]
  },
  {
   "cell_type": "markdown",
   "metadata": {
    "id": "3dQFTeznFRNB"
   },
   "source": [
    "A system of ODEs are usually formulated on standard form before it is attacked numerically. Recall that the standard form is:\n",
    "\n",
    "$y′=f(y,t)$\n",
    "\n",
    "where\n",
    "\n",
    "$y=[y1(t),y2(t),...,yn(t)]$\n",
    "\n",
    "and $f$ is some function that gives the derivatives of the function $y_i(t)$. To solve an ODE we need to know the function $f$ and an initial condition, $y(0)$.\n",
    "\n",
    "Once we have defined the Python function `f` and array `y_0` (that is $f$\n",
    " and $y(0)$ in the mathematical formulation), we can use the `odeint` function as:\n",
    "\n",
    "```\n",
    "y_t = odeint(f, y_0, t)\n",
    "```\n",
    "\n",
    "where `t` is and array with time-coordinates for which to solve the ODE problem. `y_t` is an array with one row for each point in time in `t`, where each column corresponds to a solution `y_i(t)` at that point in time.\n",
    "\n",
    "We will see how we can implement `f` and `y_0` in Python code in the examples below."
   ]
  },
  {
   "cell_type": "markdown",
   "metadata": {
    "id": "tnzwUTKSGHBr"
   },
   "source": [
    "**Example**: predator-prey equations.\n",
    "\n",
    "Let's consider a two-species predator-prey equations, described in detail [here](https://en.wikipedia.org/wiki/Lotka–Volterra_equations):\n",
    "\n",
    "> $dx/dt = \\alpha x-\\beta xy$ <br>\n",
    "> $dy/dt = \\delta xy -\\gamma y$\n"
   ]
  },
  {
   "cell_type": "code",
   "execution_count": null,
   "metadata": {
    "id": "qmjngZUfa-8_"
   },
   "outputs": [],
   "source": [
    "alpha = 1.\n",
    "beta = 0.1\n",
    "delta = 0.07\n",
    "gamma = 1.5\n",
    "\n",
    "def derivative(X, t):\n",
    "    \"\"\"\n",
    "    The right-hand side of the ODE\n",
    "    \"\"\"\n",
    "    x, y = X\n",
    "    dotx = x * (alpha - beta * y)\n",
    "    doty = y * (delta * x - gamma)\n",
    "    return np.array([dotx, doty])"
   ]
  },
  {
   "cell_type": "code",
   "execution_count": null,
   "metadata": {
    "id": "e5EszYO0H3B_"
   },
   "outputs": [],
   "source": [
    "# choose an initial state\n",
    "X0 = np.array([10, 5]) # 10 preys (rabbits) and 5 predators (foxes)"
   ]
  },
  {
   "cell_type": "code",
   "execution_count": null,
   "metadata": {
    "id": "8rdk0O--Ig46"
   },
   "outputs": [],
   "source": [
    "# time coodinate to solve the ODE for\n",
    "t = np.linspace(0, 15,  1000) "
   ]
  },
  {
   "cell_type": "markdown",
   "metadata": {
    "id": "fV-2JIqaNbrc"
   },
   "source": [
    "The following code integrates the predator-prey equations (`derivative`) over the time step `t`."
   ]
  },
  {
   "cell_type": "code",
   "execution_count": null,
   "metadata": {
    "id": "rNUiB-MfIoyw"
   },
   "outputs": [],
   "source": [
    "# solve the ODE problem\n",
    "X = odeint(derivative, X0, t)"
   ]
  },
  {
   "cell_type": "code",
   "execution_count": null,
   "metadata": {
    "id": "qCyoh9QWLBd4"
   },
   "outputs": [],
   "source": [
    "prey, predator = X.T"
   ]
  },
  {
   "cell_type": "markdown",
   "metadata": {
    "id": "js-PHBBBJj2A"
   },
   "source": [
    "We can now use `Matplotlib` to plot the evolution of both populations:"
   ]
  },
  {
   "cell_type": "code",
   "execution_count": null,
   "metadata": {
    "id": "tVVNih4NJXn4"
   },
   "outputs": [],
   "source": [
    "f1 = plt.figure()\n",
    "plt.plot(t, prey, 'r-', label='Preys')\n",
    "plt.plot(t, predator  , 'b-', label='Predators')\n",
    "plt.grid()\n",
    "plt.legend(loc='best')\n",
    "plt.xlabel('time')\n",
    "plt.ylabel('population')\n",
    "plt.title('Evolution of prey and predator populations')"
   ]
  }
 ],
 "metadata": {
  "colab": {
   "collapsed_sections": [],
   "provenance": []
  },
  "kernelspec": {
   "display_name": "Python 3 (ipykernel)",
   "language": "python",
   "name": "python3"
  },
  "language_info": {
   "codemirror_mode": {
    "name": "ipython",
    "version": 3
   },
   "file_extension": ".py",
   "mimetype": "text/x-python",
   "name": "python",
   "nbconvert_exporter": "python",
   "pygments_lexer": "ipython3",
   "version": "3.11.4"
  }
 },
 "nbformat": 4,
 "nbformat_minor": 1
}

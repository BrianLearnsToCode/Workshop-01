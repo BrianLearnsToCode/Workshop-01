{
 "cells": [
  {
   "cell_type": "markdown",
   "id": "c4e678b4",
   "metadata": {
    "id": "c4e678b4"
   },
   "source": [
    "<img src=\"images/Picture0.png\" width=200x />\n",
    "\n",
    "# Notebook 05a - Rock, Paper, Scissors\n",
    " \n",
    "\n",
    "## Instructions\n",
    "In this Notebook you will create a game: Rock, Paper, Scissors! \n",
    "\n",
    "If you’ve never played this game, here’s how it works:\n",
    "\n",
    "Each player puts one of their hands behind their back and will choose between: \n",
    "- rock (close fist)\n",
    "- paper (open hand)\n",
    "- scissors (extended index and major fingers mimicking scissors)\n",
    "    \n",
    "The rock beats scissors, the paper beats rock, and the scissors beat the paper.\n",
    "\n",
    "### Credits\n",
    "\n"
   ]
  },
  {
   "cell_type": "markdown",
   "id": "75637565",
   "metadata": {
    "id": "75637565"
   },
   "source": [
    "### 1. Create a list containing rock, paper, scissors."
   ]
  },
  {
   "cell_type": "code",
   "execution_count": 1,
   "id": "a7a3baf2",
   "metadata": {
    "id": "a7a3baf2"
   },
   "outputs": [],
   "source": [
    "game = ['rock','paper','scissors']"
   ]
  },
  {
   "cell_type": "markdown",
   "id": "5ecd51e2",
   "metadata": {
    "id": "5ecd51e2"
   },
   "source": [
    "### 2. Set up the computer\n",
    "- Assign a random play to the computer: In this step you need to create a function that randomly chooses rock, paper, or scissors. \n",
    "- The input should be the list created in Step 1. You want to choose randomly from this list, you can use the `random` module! \n"
   ]
  },
  {
   "cell_type": "code",
   "execution_count": 9,
   "id": "e3959221",
   "metadata": {
    "id": "e3959221"
   },
   "outputs": [
    {
     "name": "stdout",
     "output_type": "stream",
     "text": [
      "['BPF', 'LOG4', 'NV_MAGICCONST', 'RECIP_BPF', 'Random', 'SG_MAGICCONST', 'SystemRandom', 'TWOPI', '_ONE', '_Sequence', '_Set', '__all__', '__builtins__', '__cached__', '__doc__', '__file__', '__loader__', '__name__', '__package__', '__spec__', '_accumulate', '_acos', '_bisect', '_ceil', '_cos', '_e', '_exp', '_floor', '_index', '_inst', '_isfinite', '_log', '_os', '_pi', '_random', '_repeat', '_sha512', '_sin', '_sqrt', '_test', '_test_generator', '_urandom', '_warn', 'betavariate', 'choice', 'choices', 'expovariate', 'gammavariate', 'gauss', 'getrandbits', 'getstate', 'lognormvariate', 'normalvariate', 'paretovariate', 'randbytes', 'randint', 'random', 'randrange', 'sample', 'seed', 'setstate', 'shuffle', 'triangular', 'uniform', 'vonmisesvariate', 'weibullvariate']\n"
     ]
    }
   ],
   "source": [
    "import random as rdm\n",
    "print(dir(random))"
   ]
  },
  {
   "cell_type": "code",
   "execution_count": 14,
   "id": "d0ace2e4",
   "metadata": {},
   "outputs": [
    {
     "name": "stdout",
     "output_type": "stream",
     "text": [
      "Help on method randint in module random:\n",
      "\n",
      "randint(a, b) method of random.Random instance\n",
      "    Return random integer in range [a, b], including both end points.\n",
      "\n",
      "Help on method choice in module random:\n",
      "\n",
      "choice(seq) method of random.Random instance\n",
      "    Choose a random element from a non-empty sequence.\n",
      "\n"
     ]
    }
   ],
   "source": [
    "help(random.randint)\n",
    "help(random.choice)"
   ]
  },
  {
   "cell_type": "code",
   "execution_count": 15,
   "id": "3437d1a3",
   "metadata": {},
   "outputs": [
    {
     "data": {
      "text/plain": [
       "'rock'"
      ]
     },
     "execution_count": 15,
     "metadata": {},
     "output_type": "execute_result"
    }
   ],
   "source": [
    "random.choice(game)"
   ]
  },
  {
   "cell_type": "markdown",
   "id": "c2111ac0",
   "metadata": {
    "id": "c2111ac0"
   },
   "source": [
    "### 3. Create a function that asks for your input and tells you if you won or lost! \n",
    "Using step one and two, create a function that plays the game. \n",
    "\n",
    "- You can use the `input` function to ask the users input. \n",
    "- Use `if, elif`, and `else` statements. \n",
    "- Make sure the user knows that word spelling is important. You can `print` the instructions and also tell the player whenever the spelling is wrong. \n",
    "\n",
    "Remember the rules! \n",
    "\n"
   ]
  },
  {
   "cell_type": "code",
   "execution_count": 26,
   "id": "a3591296",
   "metadata": {
    "id": "a3591296"
   },
   "outputs": [],
   "source": [
    "def match():\n",
    "    pc = random.choice(game)\n",
    "    player = input()\n",
    "    pcn = game.index(pc)\n",
    "    pln = game.index(player)\n",
    "    if (pln - pcn + 1)%3 == 0:\n",
    "        print(pc,'lose')\n",
    "    elif pln == pcn:\n",
    "        print(pc,'even')\n",
    "    else:\n",
    "        print(pc,'win')\n"
   ]
  },
  {
   "cell_type": "code",
   "execution_count": 35,
   "id": "9d712d65",
   "metadata": {},
   "outputs": [
    {
     "name": "stdout",
     "output_type": "stream",
     "text": [
      "scissors\n",
      "scissors even\n"
     ]
    }
   ],
   "source": [
    "match()"
   ]
  },
  {
   "cell_type": "markdown",
   "id": "BNELUw0CRRMA",
   "metadata": {
    "id": "BNELUw0CRRMA"
   },
   "source": [
    "<hr>\n",
    "<font face=\"verdana\" style=\"font-size:30px\" color=\"blue\">---------- Optional Bonus Exercise ----------</font>\n",
    "\n",
    "Make the game so that you can play it multiple times. You can do so by asking the player if they want to continue playing! \n",
    "\n",
    "Hint: Use a while loop! "
   ]
  },
  {
   "cell_type": "code",
   "execution_count": 39,
   "id": "ff9b40a1",
   "metadata": {},
   "outputs": [],
   "source": [
    "def match():\n",
    "    print('input your choice, input exit to close')\n",
    "    player = input()\n",
    "    while player != 'exit':\n",
    "        pc = random.choice(game)\n",
    "        pcn = game.index(pc)\n",
    "        pln = game.index(player)\n",
    "        if (pln - pcn + 1)%3 == 0:\n",
    "            print(pc,'lose')\n",
    "        elif pln == pcn:\n",
    "            print(pc,'even')\n",
    "        else:\n",
    "            print(pc,'win')\n",
    "        player = input()\n",
    "            \n"
   ]
  },
  {
   "cell_type": "code",
   "execution_count": 40,
   "id": "wf8DI9LgVTwF",
   "metadata": {
    "id": "wf8DI9LgVTwF"
   },
   "outputs": [
    {
     "name": "stdout",
     "output_type": "stream",
     "text": [
      "input your choice, input exit to close\n",
      "rock\n",
      "scissors win\n",
      "rock\n",
      "scissors win\n",
      "rock\n",
      "paper lose\n",
      "exit\n"
     ]
    }
   ],
   "source": [
    "match()"
   ]
  },
  {
   "cell_type": "code",
   "execution_count": null,
   "id": "761819b6",
   "metadata": {},
   "outputs": [],
   "source": []
  }
 ],
 "metadata": {
  "colab": {
   "collapsed_sections": [],
   "provenance": []
  },
  "kernelspec": {
   "display_name": "Python 3 (ipykernel)",
   "language": "python",
   "name": "python3"
  },
  "language_info": {
   "codemirror_mode": {
    "name": "ipython",
    "version": 3
   },
   "file_extension": ".py",
   "mimetype": "text/x-python",
   "name": "python",
   "nbconvert_exporter": "python",
   "pygments_lexer": "ipython3",
   "version": "3.10.7"
  }
 },
 "nbformat": 4,
 "nbformat_minor": 5
}

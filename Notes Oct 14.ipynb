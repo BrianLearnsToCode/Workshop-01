{
 "cells": [
  {
   "cell_type": "code",
   "execution_count": 1,
   "id": "24f71607",
   "metadata": {},
   "outputs": [
    {
     "name": "stdout",
     "output_type": "stream",
     "text": [
      "Help on built-in function acos in module math:\n",
      "\n",
      "acos(x, /)\n",
      "    Return the arc cosine (measured in radians) of x.\n",
      "    \n",
      "    The result is between 0 and pi.\n",
      "\n"
     ]
    }
   ],
   "source": [
    "import math\n",
    "help(math.acos)"
   ]
  },
  {
   "cell_type": "code",
   "execution_count": 2,
   "id": "739b04ca",
   "metadata": {},
   "outputs": [
    {
     "ename": "TypeError",
     "evalue": "log() takes no keyword arguments",
     "output_type": "error",
     "traceback": [
      "\u001b[1;31m---------------------------------------------------------------------------\u001b[0m",
      "\u001b[1;31mTypeError\u001b[0m                                 Traceback (most recent call last)",
      "Cell \u001b[1;32mIn [2], line 1\u001b[0m\n\u001b[1;32m----> 1\u001b[0m \u001b[43mmath\u001b[49m\u001b[38;5;241;43m.\u001b[39;49m\u001b[43mlog\u001b[49m\u001b[43m(\u001b[49m\u001b[38;5;241;43m5\u001b[39;49m\u001b[43m,\u001b[49m\u001b[43mbase\u001b[49m\u001b[38;5;241;43m=\u001b[39;49m\u001b[38;5;241;43m2\u001b[39;49m\u001b[43m)\u001b[49m\n",
      "\u001b[1;31mTypeError\u001b[0m: log() takes no keyword arguments"
     ]
    }
   ],
   "source": [
    "math.log(5,base=2)"
   ]
  },
  {
   "cell_type": "markdown",
   "id": "7a62a24f",
   "metadata": {},
   "source": [
    "### optional in notebook 2 and 3"
   ]
  },
  {
   "cell_type": "code",
   "execution_count": 1,
   "id": "e6c478f6",
   "metadata": {},
   "outputs": [],
   "source": [
    "def myfunction():\n",
    "    \"\"\" my help \"\"\""
   ]
  },
  {
   "cell_type": "code",
   "execution_count": 2,
   "id": "83d5691e",
   "metadata": {},
   "outputs": [
    {
     "name": "stdout",
     "output_type": "stream",
     "text": [
      "Help on function myfunction in module __main__:\n",
      "\n",
      "myfunction()\n",
      "    my help\n",
      "\n"
     ]
    }
   ],
   "source": [
    "help(myfunction)"
   ]
  },
  {
   "cell_type": "code",
   "execution_count": 6,
   "id": "5e9bc48d",
   "metadata": {},
   "outputs": [
    {
     "ename": "TypeError",
     "evalue": "type() takes 1 or 3 arguments",
     "output_type": "error",
     "traceback": [
      "\u001b[1;31m---------------------------------------------------------------------------\u001b[0m",
      "\u001b[1;31mTypeError\u001b[0m                                 Traceback (most recent call last)",
      "Cell \u001b[1;32mIn [6], line 5\u001b[0m\n\u001b[0;32m      3\u001b[0m     \u001b[38;5;28;01mreturn\u001b[39;00m \u001b[38;5;241m1\u001b[39m,\u001b[38;5;241m2\u001b[39m\n\u001b[0;32m      4\u001b[0m \u001b[38;5;28mtype\u001b[39m(multiple_return())\n\u001b[1;32m----> 5\u001b[0m \u001b[38;5;28;43mtype\u001b[39;49m\u001b[43m(\u001b[49m\u001b[38;5;241;43m1\u001b[39;49m\u001b[43m,\u001b[49m\u001b[38;5;241;43m2\u001b[39;49m\u001b[43m)\u001b[49m\n",
      "\u001b[1;31mTypeError\u001b[0m: type() takes 1 or 3 arguments"
     ]
    }
   ],
   "source": [
    "\n",
    "def multiple_return():\n",
    "    return 1,2\n",
    "type(multiple_return())\n",
    "type(1,2)"
   ]
  },
  {
   "cell_type": "code",
   "execution_count": 20,
   "id": "6066e6cc",
   "metadata": {},
   "outputs": [
    {
     "name": "stdout",
     "output_type": "stream",
     "text": [
      "[]\n",
      "[]\n"
     ]
    }
   ],
   "source": [
    "(a,b)=([],[123])\n",
    "print(a)\n",
    "(c,d)=(a,b)\n",
    "print(c)"
   ]
  },
  {
   "cell_type": "code",
   "execution_count": 22,
   "id": "a33e86b7",
   "metadata": {},
   "outputs": [
    {
     "name": "stdout",
     "output_type": "stream",
     "text": [
      "[0]\n",
      "str\n"
     ]
    }
   ],
   "source": [
    "a=[1]\n",
    "c=a\n",
    "a[0]=0\n",
    "print(c)\n",
    "\n",
    "a='str'\n",
    "c=a\n",
    "a='otherstr'\n",
    "print(c)"
   ]
  },
  {
   "cell_type": "code",
   "execution_count": 33,
   "id": "f56b6100",
   "metadata": {},
   "outputs": [
    {
     "name": "stdout",
     "output_type": "stream",
     "text": [
      "['21', '12', '12', '12', '12']\n",
      "[[1], [1], [1], [1], [1]]\n"
     ]
    }
   ],
   "source": [
    "a = ['12']*5\n",
    "c= a\n",
    "c[0]='21'\n",
    "#a[0].extend('21')\n",
    "print(c)\n",
    "\n",
    "a = [[]]*5\n",
    "c = a\n",
    "c[0].append(1)\n",
    "print(a)"
   ]
  },
  {
   "cell_type": "code",
   "execution_count": 42,
   "id": "5c140bef",
   "metadata": {},
   "outputs": [],
   "source": [
    "#help(str)"
   ]
  },
  {
   "cell_type": "code",
   "execution_count": 35,
   "id": "bd2482a0",
   "metadata": {},
   "outputs": [
    {
     "name": "stdout",
     "output_type": "stream",
     "text": [
      "4\n"
     ]
    }
   ],
   "source": [
    "def f(*a,b):\n",
    "    print(b)\n",
    "f(1,2,3,b=4)"
   ]
  },
  {
   "cell_type": "code",
   "execution_count": 38,
   "id": "732914b3",
   "metadata": {},
   "outputs": [
    {
     "name": "stdout",
     "output_type": "stream",
     "text": [
      "[[0], [], [0]]\n"
     ]
    }
   ],
   "source": [
    "a = [[]]*3\n",
    "a[1]=[]\n",
    "a[0].append(0)\n",
    "print(a)"
   ]
  },
  {
   "cell_type": "code",
   "execution_count": 41,
   "id": "32e43d9a",
   "metadata": {},
   "outputs": [],
   "source": [
    "import numpy as np\n",
    "v =np.array([1,2,3])"
   ]
  },
  {
   "cell_type": "code",
   "execution_count": null,
   "id": "1dccc179",
   "metadata": {},
   "outputs": [],
   "source": [
    "#(1,) (1)"
   ]
  },
  {
   "cell_type": "code",
   "execution_count": 45,
   "id": "ee331377",
   "metadata": {},
   "outputs": [
    {
     "data": {
      "text/plain": [
       "numpy.ndarray"
      ]
     },
     "execution_count": 45,
     "metadata": {},
     "output_type": "execute_result"
    }
   ],
   "source": [
    "type(np.arange(1,10))"
   ]
  },
  {
   "cell_type": "code",
   "execution_count": 54,
   "id": "62b3931b",
   "metadata": {},
   "outputs": [
    {
     "data": {
      "text/plain": [
       "array([[ 1,  6],\n",
       "       [ 6, 36]])"
      ]
     },
     "execution_count": 54,
     "metadata": {},
     "output_type": "execute_result"
    }
   ],
   "source": [
    "v= np.matrix([1,6])\n",
    "np.array(v.T@v)"
   ]
  },
  {
   "cell_type": "code",
   "execution_count": 49,
   "id": "bcafcc5a",
   "metadata": {},
   "outputs": [
    {
     "name": "stdout",
     "output_type": "stream",
     "text": [
      "[[  0   2   6  12  20]\n",
      " [  0   4  12  24  40]\n",
      " [  0   6  18  36  60]\n",
      " [  0   8  24  48  80]\n",
      " [  0  10  30  60 100]]\n",
      "[[ True  True  True  True  True]\n",
      " [ True  True  True  True  True]\n",
      " [ True  True  True  True  True]\n",
      " [ True  True  True  True  True]\n",
      " [ True  True  True  True  True]]\n",
      "[[  0   0   0   0   0]\n",
      " [  2   4   6   8  10]\n",
      " [  6  12  18  24  30]\n",
      " [ 12  24  36  48  60]\n",
      " [ 20  40  60  80 100]]\n",
      "[ 40  80 120 160 200]\n",
      "[ 40  80 120 160 200]\n"
     ]
    }
   ],
   "source": [
    "A= np.arange(1,6).reshape(-1,1)@ np.arange(1,6).reshape(1,-1)\n",
    "v= np.arange(0,5)\n",
    "print(v*A,v*A == A*v,sep = '\\n')\n",
    "print(A*v.reshape(-1,1))\n",
    "print(v@A)\n",
    "print(A@v)"
   ]
  },
  {
   "cell_type": "code",
   "execution_count": 58,
   "id": "7322c106",
   "metadata": {},
   "outputs": [
    {
     "data": {
      "text/plain": [
       "array([[ 5,  6,  7,  8,  9],\n",
       "       [ 6,  8, 10, 12, 14],\n",
       "       [ 7, 10, 13, 16, 19],\n",
       "       [ 8, 12, 16, 20, 24],\n",
       "       [ 9, 14, 19, 24, 29]])"
      ]
     },
     "execution_count": 58,
     "metadata": {},
     "output_type": "execute_result"
    }
   ],
   "source": [
    "#array is a row vector, and it can be column vector if needed at @\n",
    "#better way to think about it, it is a 1-index thing. mat merge same dimension\n",
    "#matrix is a n*m matrix, with clear shape. matrix(array) is an 1*n matrix\n",
    "np.tensordot(A,A)\n",
    "A;A;A+1+3"
   ]
  },
  {
   "cell_type": "code",
   "execution_count": null,
   "id": "eb578143",
   "metadata": {},
   "outputs": [],
   "source": [
    "plt.subplots()"
   ]
  },
  {
   "cell_type": "code",
   "execution_count": 64,
   "id": "3f9ea8da",
   "metadata": {},
   "outputs": [
    {
     "data": {
      "text/plain": [
       "array([2, 3, 4])"
      ]
     },
     "execution_count": 64,
     "metadata": {},
     "output_type": "execute_result"
    }
   ],
   "source": [
    "A = np.arange(1,5,1)\n",
    "B = np.ones_like(A)\n",
    "A[A != B]"
   ]
  },
  {
   "cell_type": "code",
   "execution_count": null,
   "id": "2ee7f29b",
   "metadata": {},
   "outputs": [],
   "source": []
  }
 ],
 "metadata": {
  "kernelspec": {
   "display_name": "Python 3 (ipykernel)",
   "language": "python",
   "name": "python3"
  },
  "language_info": {
   "codemirror_mode": {
    "name": "ipython",
    "version": 3
   },
   "file_extension": ".py",
   "mimetype": "text/x-python",
   "name": "python",
   "nbconvert_exporter": "python",
   "pygments_lexer": "ipython3",
   "version": "3.10.7"
  }
 },
 "nbformat": 4,
 "nbformat_minor": 5
}

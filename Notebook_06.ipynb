{
 "cells": [
  {
   "cell_type": "markdown",
   "metadata": {
    "id": "SA6NTppk6RHc"
   },
   "source": [
    "<img src=\"images/Picture0.png\" width=200x />\n",
    "\n",
    "# Notebook 6 -- Functions and Methods\n",
    "\n",
    "## Instructions\n",
    "\n",
    "Read the material below and complete the exercises.\n",
    "\n",
    "Material covered in this notebook:\n",
    "- How to call a function\n",
    "- How to define a new function\n",
    "- Understanding arguments - default and named arguments\n",
    "\n",
    "### Credits\n",
    "- https://www.programiz.com/python-programming/function-argument\n",
    "- https://github.com/jrjohansson/scientific-python-lectures\n",
    "- https://stackabuse.com/variable-length-arguments-in-python-with-args-and-kwargs/\n",
    "- https://www.w3schools.com/python/python_lambda.asp"
   ]
  },
  {
   "cell_type": "markdown",
   "metadata": {
    "id": "LqSiHa-j6RHe"
   },
   "source": [
    "Python has several functions that are readily available for use. These functions are called built-in functions.\n",
    "\n",
    "Examples: `print()`, `help()`, `range()`, `sum()`, `len()`, etc."
   ]
  },
  {
   "cell_type": "code",
   "execution_count": null,
   "metadata": {
    "colab": {
     "base_uri": "https://localhost:8080/"
    },
    "executionInfo": {
     "elapsed": 11,
     "status": "ok",
     "timestamp": 1634607651131,
     "user": {
      "displayName": "Shinhae Park",
      "photoUrl": "https://lh3.googleusercontent.com/a/default-user=s64",
      "userId": "11307119081955472096"
     },
     "user_tz": 300
    },
    "id": "_0FmL5N06RHg",
    "outputId": "82978561-6ff0-4be9-bcc9-e161279b662a",
    "scrolled": true
   },
   "outputs": [],
   "source": [
    "help(sum)"
   ]
  },
  {
   "cell_type": "code",
   "execution_count": null,
   "metadata": {
    "colab": {
     "base_uri": "https://localhost:8080/"
    },
    "executionInfo": {
     "elapsed": 8,
     "status": "ok",
     "timestamp": 1634607651132,
     "user": {
      "displayName": "Shinhae Park",
      "photoUrl": "https://lh3.googleusercontent.com/a/default-user=s64",
      "userId": "11307119081955472096"
     },
     "user_tz": 300
    },
    "id": "kTdT8H8L6RHh",
    "outputId": "cf197e9c-b45f-4ffe-fc5e-e9b90d5b87b0"
   },
   "outputs": [],
   "source": [
    "my_list = list(range(1,11))\n",
    "\n",
    "print(my_list)\n",
    "\n",
    "print(sum(my_list))\n",
    "\n",
    "print(len(my_list))"
   ]
  },
  {
   "cell_type": "markdown",
   "metadata": {
    "id": "NfQEnVqX6RHi"
   },
   "source": [
    "A function in Python is defined using the keyword `def`, followed by a function name, a signature within parentheses `()`, and a colon `:`. The following code, with one additional level of indentation, is the function body."
   ]
  },
  {
   "cell_type": "code",
   "execution_count": null,
   "metadata": {
    "id": "e52iRtol6RHi"
   },
   "outputs": [],
   "source": [
    "# Creating a function\n",
    "def func0():   \n",
    "    print(\"test\")"
   ]
  },
  {
   "cell_type": "code",
   "execution_count": null,
   "metadata": {
    "colab": {
     "base_uri": "https://localhost:8080/"
    },
    "executionInfo": {
     "elapsed": 5,
     "status": "ok",
     "timestamp": 1634607655291,
     "user": {
      "displayName": "Shinhae Park",
      "photoUrl": "https://lh3.googleusercontent.com/a/default-user=s64",
      "userId": "11307119081955472096"
     },
     "user_tz": 300
    },
    "id": "deNFSFL96RHj",
    "outputId": "75ab0b3b-c227-484c-ba57-374d0801a8d7",
    "scrolled": true
   },
   "outputs": [],
   "source": [
    "# Calling a function\n",
    "func0()"
   ]
  },
  {
   "cell_type": "markdown",
   "metadata": {
    "id": "i66T3h1k6RHk"
   },
   "source": [
    "Optionally, but highly recommended, we can define a so called \"docstring\", which is a description of the functions purpose and behaivor. The docstring should follow directly after the function definition, before the code in the function body. The three sequential double quotes allow you to have a message running over multiple lines."
   ]
  },
  {
   "cell_type": "code",
   "execution_count": null,
   "metadata": {
    "id": "deCAbaF66RHk"
   },
   "outputs": [],
   "source": [
    "def func1(s):\n",
    "    \"\"\"\n",
    "    Print string 's' and tell how many characters it has.\n",
    "    English version\n",
    "    \"\"\"\n",
    "    \n",
    "    print(s + \" has \" + str(len(s)) + \" characters\")"
   ]
  },
  {
   "cell_type": "code",
   "execution_count": null,
   "metadata": {
    "colab": {
     "base_uri": "https://localhost:8080/"
    },
    "executionInfo": {
     "elapsed": 6,
     "status": "ok",
     "timestamp": 1634607657785,
     "user": {
      "displayName": "Shinhae Park",
      "photoUrl": "https://lh3.googleusercontent.com/a/default-user=s64",
      "userId": "11307119081955472096"
     },
     "user_tz": 300
    },
    "id": "NlvReABd6RHl",
    "outputId": "fa94062f-b863-4fed-86bf-bf0f17e78178",
    "scrolled": true
   },
   "outputs": [],
   "source": [
    "help(func1)"
   ]
  },
  {
   "cell_type": "code",
   "execution_count": null,
   "metadata": {
    "colab": {
     "base_uri": "https://localhost:8080/"
    },
    "executionInfo": {
     "elapsed": 5,
     "status": "ok",
     "timestamp": 1634607659036,
     "user": {
      "displayName": "Shinhae Park",
      "photoUrl": "https://lh3.googleusercontent.com/a/default-user=s64",
      "userId": "11307119081955472096"
     },
     "user_tz": 300
    },
    "id": "CXzGBqh36RHl",
    "outputId": "e73ab157-2ee0-4ed7-b92c-779b219a9eca"
   },
   "outputs": [],
   "source": [
    "func1(\"test\")"
   ]
  },
  {
   "cell_type": "markdown",
   "metadata": {
    "id": "THkbyhMC6RHm"
   },
   "source": [
    "Functions that returns a value use the `return` keyword:"
   ]
  },
  {
   "cell_type": "code",
   "execution_count": null,
   "metadata": {
    "id": "RyCRRO5G6RHm"
   },
   "outputs": [],
   "source": [
    "def square(x):\n",
    "    \"\"\"\n",
    "    Return the square of x.\n",
    "    \"\"\"\n",
    "    return x ** 2"
   ]
  },
  {
   "cell_type": "code",
   "execution_count": null,
   "metadata": {
    "colab": {
     "base_uri": "https://localhost:8080/"
    },
    "executionInfo": {
     "elapsed": 7,
     "status": "ok",
     "timestamp": 1634607663652,
     "user": {
      "displayName": "Shinhae Park",
      "photoUrl": "https://lh3.googleusercontent.com/a/default-user=s64",
      "userId": "11307119081955472096"
     },
     "user_tz": 300
    },
    "id": "51mag-_A6RHn",
    "outputId": "25ac7bc8-01b2-478e-e905-73612d05a0ac"
   },
   "outputs": [],
   "source": [
    "square(4)"
   ]
  },
  {
   "cell_type": "code",
   "execution_count": null,
   "metadata": {
    "id": "cM2I-CCY6RHn"
   },
   "outputs": [],
   "source": [
    "def sign(x):\n",
    "    \"\"\"\n",
    "    Return the sign of x.\n",
    "    \"\"\"\n",
    "    if x > 0:\n",
    "        return 'positive'\n",
    "    elif x < 0:\n",
    "        return 'negative'\n",
    "    else:\n",
    "        return 'zero'"
   ]
  },
  {
   "cell_type": "code",
   "execution_count": null,
   "metadata": {
    "colab": {
     "base_uri": "https://localhost:8080/"
    },
    "executionInfo": {
     "elapsed": 725,
     "status": "ok",
     "timestamp": 1634607666340,
     "user": {
      "displayName": "Shinhae Park",
      "photoUrl": "https://lh3.googleusercontent.com/a/default-user=s64",
      "userId": "11307119081955472096"
     },
     "user_tz": 300
    },
    "id": "ZzvsonwQ6RHo",
    "outputId": "af39ce03-9a33-471b-f1fa-f5979cab86f5"
   },
   "outputs": [],
   "source": [
    "for x in [-10, 0, 100]:\n",
    "    print(sign(x))"
   ]
  },
  {
   "cell_type": "markdown",
   "metadata": {
    "id": "-M7P4zjd6RHp"
   },
   "source": [
    "We can return multiple values from a function using tuples (tuples contain sets of stuff, like lists, but unlike a list, can't be changed (i.e., no appending, deleting, inserting, etc.) - read more [here](https://stackoverflow.com/questions/1708510/list-vs-tuple-when-to-use-each)):"
   ]
  },
  {
   "cell_type": "code",
   "execution_count": null,
   "metadata": {
    "id": "_FS2PglV6RHq"
   },
   "outputs": [],
   "source": [
    "def powers(x):\n",
    "    \"\"\"\n",
    "    Return a few powers of x.\n",
    "    \"\"\"\n",
    "    return x ** 2, x ** 3, x ** 4"
   ]
  },
  {
   "cell_type": "code",
   "execution_count": null,
   "metadata": {
    "colab": {
     "base_uri": "https://localhost:8080/"
    },
    "executionInfo": {
     "elapsed": 208,
     "status": "ok",
     "timestamp": 1634607671989,
     "user": {
      "displayName": "Shinhae Park",
      "photoUrl": "https://lh3.googleusercontent.com/a/default-user=s64",
      "userId": "11307119081955472096"
     },
     "user_tz": 300
    },
    "id": "aMSRtWkp6RHq",
    "outputId": "b01c9e9b-e8ba-4de3-fb16-6094f1ba62da"
   },
   "outputs": [],
   "source": [
    "powers(3)"
   ]
  },
  {
   "cell_type": "code",
   "execution_count": null,
   "metadata": {
    "colab": {
     "base_uri": "https://localhost:8080/"
    },
    "executionInfo": {
     "elapsed": 201,
     "status": "ok",
     "timestamp": 1634607672949,
     "user": {
      "displayName": "Shinhae Park",
      "photoUrl": "https://lh3.googleusercontent.com/a/default-user=s64",
      "userId": "11307119081955472096"
     },
     "user_tz": 300
    },
    "id": "9hgKC2K06RHr",
    "outputId": "a48776d6-9ca6-48f3-c908-2bdd647a44f9"
   },
   "outputs": [],
   "source": [
    "x2, x3, x4 = powers(3)\n",
    "\n",
    "print(x2, x3, x4)"
   ]
  },
  {
   "cell_type": "code",
   "execution_count": null,
   "metadata": {
    "colab": {
     "base_uri": "https://localhost:8080/"
    },
    "executionInfo": {
     "elapsed": 10,
     "status": "ok",
     "timestamp": 1634607673938,
     "user": {
      "displayName": "Shinhae Park",
      "photoUrl": "https://lh3.googleusercontent.com/a/default-user=s64",
      "userId": "11307119081955472096"
     },
     "user_tz": 300
    },
    "id": "tQeQ7btW6RHr",
    "outputId": "328c42d9-be52-487f-8c45-39ecef852178"
   },
   "outputs": [],
   "source": [
    "# Multiple return examples\n",
    "\n",
    "# tuple return\n",
    "def powers2(x):\n",
    "    return (x ** 2, x ** 3, x ** 4)\n",
    "\n",
    "print(powers2(4))\n",
    "\n",
    "\n",
    "# list return\n",
    "def powers3(x):\n",
    "    return [x ** 2, x ** 3, x ** 4]\n",
    "\n",
    "print(powers3(6))\n",
    "\n",
    "# dictionary return\n",
    "def powers3(x):\n",
    "    return {'ret1': x**2, 'ret2': x**3, 'ret3': x**4}\n",
    "\n",
    "print(powers3(8))"
   ]
  },
  {
   "cell_type": "markdown",
   "metadata": {
    "id": "yOetREhH6RHs"
   },
   "source": [
    "### Exercise\n",
    "\n",
    "Make a function that takes two arguments $x$ and $y$ and returns\n",
    "\n",
    "$$\n",
    "cos(x \\; \\pi) + sin(y \\; \\pi) \n",
    "$$\n",
    "\n",
    "Suppose your function was called $f$ then call\n",
    "\n",
    "f(2,3)\n",
    "\n",
    "What do you observe?\n",
    "\n"
   ]
  },
  {
   "cell_type": "code",
   "execution_count": null,
   "metadata": {
    "id": "oFhBh4br6RHt"
   },
   "outputs": [],
   "source": []
  },
  {
   "cell_type": "code",
   "execution_count": null,
   "metadata": {
    "id": "J4Ke4-PrNrJt"
   },
   "outputs": [],
   "source": []
  },
  {
   "cell_type": "markdown",
   "metadata": {
    "id": "2WxrXDt_6RHt"
   },
   "source": [
    "Now, if you have done programming in many languages you may be wondering about something.   How about types for arguments?\n",
    "\n",
    "I.e., why don't we write"
   ]
  },
  {
   "cell_type": "code",
   "execution_count": null,
   "metadata": {
    "id": "InnOZ6jd6RHt"
   },
   "outputs": [],
   "source": [
    "def f(x: int):\n",
    "    return x+2"
   ]
  },
  {
   "cell_type": "markdown",
   "metadata": {
    "id": "uoeTKmw86RHu"
   },
   "source": [
    "The idea is that Python uses \"Duck typing\".\n",
    "\n",
    "I.e., if it looks like a duck, it walks like a duck, and it sounds like a duck, then it is a duck.\n",
    "\n",
    "More precisely, as long as an object supports the necessary methods for a given type, it is treated as that type, even if it is more complex. In the cell above, even though we try to restrict our arguments to type *int*, we can still pass 1.0 as a valid argument.\n",
    "\n",
    "This means you have to be a little careful"
   ]
  },
  {
   "cell_type": "markdown",
   "metadata": {
    "id": "GsOome_W6RHu"
   },
   "source": [
    "### Exercise\n",
    "\n",
    "Make a function, that takes two arguments $x$ and $y$ and returns\n",
    "\n",
    "$$\n",
    "x+y \n",
    "$$\n",
    "\n",
    "Suppose your function was called $f$ then call\n",
    "\n",
    "f(2,3)\n",
    "\n",
    "f(\"2\",\"3\")\n",
    "\n",
    "What do you observe?\n"
   ]
  },
  {
   "cell_type": "code",
   "execution_count": null,
   "metadata": {
    "id": "mz4XHlds6RHu"
   },
   "outputs": [],
   "source": []
  },
  {
   "cell_type": "code",
   "execution_count": null,
   "metadata": {
    "id": "EMAUGMokOM0f"
   },
   "outputs": [],
   "source": []
  },
  {
   "cell_type": "markdown",
   "metadata": {
    "id": "ieSm66od6RHv"
   },
   "source": [
    "### Arguments"
   ]
  },
  {
   "cell_type": "markdown",
   "metadata": {
    "id": "vLg9nkQq6RHv"
   },
   "source": [
    "#### Default arguments\n",
    "We will often define functions to take optional keyword arguments, like this:"
   ]
  },
  {
   "cell_type": "code",
   "execution_count": null,
   "metadata": {
    "id": "1UJ1QvXy6RHv",
    "outputId": "4ca4e5e0-32dd-4b84-f538-d23463007aba"
   },
   "outputs": [],
   "source": [
    "def hello(name, loud=False):\n",
    "    if loud:\n",
    "        print('HELLO, %s' % name.upper())\n",
    "    else:\n",
    "        print('Hello, %s!' % name)\n",
    "\n",
    "hello('Bob')\n",
    "hello('Fred', loud=True)"
   ]
  },
  {
   "cell_type": "markdown",
   "metadata": {
    "id": "O1umNPjV6RHv"
   },
   "source": [
    "Non-default arguments cannot follow default arguments, e.g., `def hello(loud=False, name)` would generate a SyntaxError.\n"
   ]
  },
  {
   "cell_type": "markdown",
   "metadata": {
    "id": "aNhksz9b6RHw"
   },
   "source": [
    "#### Keyword arguments (named arguments)\n",
    " Python allows functions to be called using keyword (named) arguments. When we call functions in this way, the order (position) of the arguments can be changed. "
   ]
  },
  {
   "cell_type": "code",
   "execution_count": null,
   "metadata": {
    "id": "WDnzvWNg6RHw",
    "outputId": "a80bfbbb-b9ce-40e8-f308-a50e2ce73557"
   },
   "outputs": [],
   "source": [
    "# 2 keyword arguments\n",
    "hello(name = 'Fred', loud=True)\n",
    "\n",
    "# 2 keyword arguments (out of order)\n",
    "hello(loud=True, name = 'Fred')\n",
    "\n",
    "#1 positional, 1 keyword argument\n",
    "hello('Fred', loud=True)     "
   ]
  },
  {
   "cell_type": "markdown",
   "metadata": {
    "id": "Nd0BS9P36RHx"
   },
   "source": [
    "### Exercise\n",
    "\n",
    " 1. Make a function that takes a list of numbers and returns the mean of the list.\n",
    " 2. Make a function that checks whether a number is Prime or not.\n",
    " 3. Make a function that returns a list of all the prime numbers between 2 and input argument."
   ]
  },
  {
   "cell_type": "code",
   "execution_count": null,
   "metadata": {
    "id": "NwlUh6EN6RHx"
   },
   "outputs": [],
   "source": []
  },
  {
   "cell_type": "code",
   "execution_count": null,
   "metadata": {
    "id": "IGsVvkwq6RHx"
   },
   "outputs": [],
   "source": []
  },
  {
   "cell_type": "code",
   "execution_count": null,
   "metadata": {
    "id": "RynPg_Fz6RHx"
   },
   "outputs": [],
   "source": []
  },
  {
   "cell_type": "markdown",
   "metadata": {
    "id": "lMwOlwKU6RHx"
   },
   "source": [
    "#### Variable-length arguments\n",
    "\n",
    "Variable-length arguments, varargs for short, are arguments that can take an unspecified amount of input. Some functions have no arguments, others have multiple. There are times we have functions with arguments we don't know about beforehand, e.g., the `print()`, `format()` functions."
   ]
  },
  {
   "cell_type": "code",
   "execution_count": null,
   "metadata": {
    "id": "o92dlfdt6RHy",
    "outputId": "cc21f645-ac26-412b-9404-f0123e9833fc"
   },
   "outputs": [],
   "source": [
    "print()\n",
    "print('Hello', 'World', '', int(1), float(2), '3')"
   ]
  },
  {
   "cell_type": "markdown",
   "metadata": {
    "id": "YlOv3D2l6RHy"
   },
   "source": [
    "In Python, we can create functions taking an arbitrary number of arguments. With `*args` syntax, we can accept multiple arguments in iterable sequence Tuple."
   ]
  },
  {
   "cell_type": "code",
   "execution_count": null,
   "metadata": {
    "id": "XGwoUpbL6RHz",
    "outputId": "fcff8c83-16d8-4743-c388-6fc70aae4b34"
   },
   "outputs": [],
   "source": [
    "def find_min(*args):\n",
    "    \"\"\"\n",
    "    Returns the minimum of the numbers listed in the arguments.\n",
    "    \"\"\"\n",
    "    result = args[0]\n",
    "    for num in args:\n",
    "        if num < result:\n",
    "            result = num\n",
    "            \n",
    "    print(result)\n",
    "    return \n",
    "\n",
    "find_min(4, 5)\n",
    "find_min(4, 5, 6, 7, 2)"
   ]
  },
  {
   "cell_type": "markdown",
   "metadata": {
    "id": "tr97_jhG6RHz"
   },
   "source": [
    "You can use any other name than `args`. In the function definition, we use a single asterisk (*) before the parameter name to denote vararg. Here is an example."
   ]
  },
  {
   "cell_type": "code",
   "execution_count": null,
   "metadata": {
    "id": "gjztmQ6g6RHz",
    "outputId": "efd41fc0-f166-4d42-a2a7-8455425da2db"
   },
   "outputs": [],
   "source": [
    "def find_min(*numbers):\n",
    "    \"\"\"\n",
    "    Returns the minimum of the numbers listed as arguments.\n",
    "    \"\"\"\n",
    "    result = numbers[0]\n",
    "    for num in numbers:\n",
    "        if num < result:\n",
    "            result = num\n",
    "            \n",
    "    print(result)\n",
    "    return \n",
    "\n",
    "find_min(4, 5)\n",
    "find_min(4, 5, 6, 7, 2)"
   ]
  },
  {
   "cell_type": "markdown",
   "metadata": {
    "id": "WUE6pp5E6RH2"
   },
   "source": [
    "### Type hinting"
   ]
  },
  {
   "cell_type": "code",
   "execution_count": null,
   "metadata": {
    "colab": {
     "base_uri": "https://localhost:8080/"
    },
    "executionInfo": {
     "elapsed": 356,
     "status": "ok",
     "timestamp": 1634608277608,
     "user": {
      "displayName": "Shinhae Park",
      "photoUrl": "https://lh3.googleusercontent.com/a/default-user=s64",
      "userId": "11307119081955472096"
     },
     "user_tz": 300
    },
    "id": "FvSqZEFV6RH2",
    "outputId": "b375f0dd-ff29-44d7-c530-3022bfa1bb86",
    "scrolled": true
   },
   "outputs": [],
   "source": [
    "def tot_length1(word: str, num: int) -> int: \n",
    "    return len(word) * num\n",
    "\n",
    "tot_length1(\"i love you\", 10)"
   ]
  },
  {
   "cell_type": "code",
   "execution_count": null,
   "metadata": {
    "colab": {
     "base_uri": "https://localhost:8080/"
    },
    "executionInfo": {
     "elapsed": 6,
     "status": "ok",
     "timestamp": 1634608277808,
     "user": {
      "displayName": "Shinhae Park",
      "photoUrl": "https://lh3.googleusercontent.com/a/default-user=s64",
      "userId": "11307119081955472096"
     },
     "user_tz": 300
    },
    "id": "n-xPI-GA6RH2",
    "outputId": "67016456-4b0d-4bf0-9331-c3a94156e8e7"
   },
   "outputs": [],
   "source": [
    "def tot_length2(word: str, num: int) -> None:\n",
    "    print(len(word) * num)\n",
    "\n",
    "tot_length2(\"hello world!\", 10)"
   ]
  },
  {
   "cell_type": "markdown",
   "metadata": {
    "id": "FC0EWubjgdc6"
   },
   "source": [
    "### Exercise\n",
    "\n",
    "Search for the US dollars and Euros exchange rate, then write a lambda function that takes a number in euros and returns a string in currency format. \n",
    "E.g. \n",
    "> euro2dollar(10) > $11.58"
   ]
  },
  {
   "cell_type": "code",
   "execution_count": null,
   "metadata": {
    "id": "AWe42ZhjgeS2"
   },
   "outputs": [],
   "source": []
  },
  {
   "cell_type": "markdown",
   "metadata": {
    "id": "7oC69kFk6RH1"
   },
   "source": [
    "### Exercise\n",
    "\n",
    "Container with Most Water\n",
    "\n",
    "You are given an integer array height of length n. There are n vertical lines drawn such that the two endpoints of the ith line are (i, 0) and (i, height[i]).\n",
    "Find two lines that together with the x-axis form a container, such that the container contains the most water.\n",
    "Return the maximum amount of water a container can store.\n",
    "\n",
    "Here is one example for container with most water question\n",
    "\n",
    "Input: height = [1,8,6,2,5,4,8,3,7]\n",
    "\n",
    "Output: 49\n",
    "\n",
    "Explanation: The above vertical lines are represented by array [1,8,6,2,5,4,8,3,7]. In this case, the max area of water (blue section) the container can contain is 49.\n",
    "\n",
    "![container_with_most_water](https://s3-lc-upload.s3.amazonaws.com/uploads/2018/07/17/question_11.jpg)\n"
   ]
  },
  {
   "cell_type": "code",
   "execution_count": null,
   "metadata": {
    "id": "6d-DkwiI6RH1"
   },
   "outputs": [],
   "source": []
  },
  {
   "cell_type": "markdown",
   "metadata": {
    "id": "Ft1qi900_Fj9"
   },
   "source": [
    "<hr>\n",
    "<font face=\"verdana\" style=\"font-size:30px\" color=\"blue\">---------- Optional Advanced Material ----------</font>"
   ]
  },
  {
   "cell_type": "markdown",
   "metadata": {},
   "source": [
    "### Lambda expressions\n",
    " + A lambda function is a small anonymous function.\n",
    " + A lambda function can take any number of arguments, but can only have one expression."
   ]
  },
  {
   "cell_type": "code",
   "execution_count": null,
   "metadata": {},
   "outputs": [],
   "source": [
    "Max = lambda a, b : a if(a > b) else b\n",
    "\n",
    "Max(1, 2)"
   ]
  },
  {
   "cell_type": "code",
   "execution_count": null,
   "metadata": {},
   "outputs": [],
   "source": [
    "def mul_10(num):\n",
    "    return num * 10\n",
    "\n",
    "mul_10(5)"
   ]
  },
  {
   "cell_type": "code",
   "execution_count": null,
   "metadata": {},
   "outputs": [],
   "source": [
    "# lambda version of mul_10\n",
    "lambda_mul_10 = lambda x: x * 10\n",
    "\n",
    "print(type(lambda_mul_10))\n",
    "lambda_mul_10(5)"
   ]
  },
  {
   "cell_type": "code",
   "execution_count": null,
   "metadata": {},
   "outputs": [],
   "source": [
    "# use lambda as argument\n",
    "def func_final(x, y, func):\n",
    "    print(x * y * func(10))\n",
    "\n",
    "func_final(10, 10, lambda x: x * 1000)"
   ]
  },
  {
   "cell_type": "markdown",
   "metadata": {
    "id": "LMDuQnt6ctnd"
   },
   "source": [
    "####  Multiple keyword arguments\n",
    "\n",
    "Python can accept multiple keyword arguments, known as `**kwargs`. It behaves similarly to `*args`, but `**kwargs` stores the arguments in a dictionary so that it can preserve the names of the arguments.\n",
    "\n",
    "> ***args**    : arguments in tuple (vararg)\n",
    "\n",
    "> ****kwargs** : arguments in dictionary (named parameter)"
   ]
  },
  {
   "cell_type": "code",
   "execution_count": null,
   "metadata": {
    "id": "Sn5kmUU8cftr"
   },
   "outputs": [],
   "source": [
    "def kwargs_func(**kwargs): # you can use any other name than kwargs\n",
    "    print(kwargs)\n",
    "    for k,v in kwargs.items():\n",
    "        print('{0} is {1},'.format(k,v), end=' ')\n",
    "    print()\n",
    "\n",
    "\n",
    "kwargs_func(firstname=\"Jon\")\n",
    "kwargs_func(firstname=\"Jon\", lastname=\"Snow\", title=\"Night's Watch\")"
   ]
  },
  {
   "cell_type": "markdown",
   "metadata": {
    "id": "rgs75yOuc0Vj"
   },
   "source": [
    "#### Combining `*args` and `**kwargs`\n",
    "\n",
    "Positional arguments go before named arguments. Order of arguments:\n",
    "\n",
    "1. Known positional arguments\n",
    "2. `*args`\n",
    "3. Known named arguments\n",
    "4. `**kwargs`\n"
   ]
  },
  {
   "cell_type": "code",
   "execution_count": null,
   "metadata": {
    "id": "XJXiaLxLc3SY"
   },
   "outputs": [],
   "source": [
    "def example(arg_1, arg_2, *args, arg_3 = [], **kwargs): #arg_1, arg_2 : non-optional\n",
    "    print(arg_1, arg_2, args, arg_3, kwargs)\n",
    "\n",
    "example(10, 20)\n",
    "example(10, 20, 'Inmas', 'Python', 'Workshop', arg_3 = [1,2,3], month='10', day='23', year = '2021')"
   ]
  },
  {
   "cell_type": "markdown",
   "metadata": {
    "id": "chyJ9TZS6RH3"
   },
   "source": [
    "### Lambda, filter, map, and reduce\n",
    "`lambda` expressions are generally used when we need a function temporarily for a short period of time. They are often used inside functions `filter`, `map` and `reduce`."
   ]
  },
  {
   "cell_type": "code",
   "execution_count": null,
   "metadata": {
    "colab": {
     "base_uri": "https://localhost:8080/"
    },
    "executionInfo": {
     "elapsed": 10,
     "status": "ok",
     "timestamp": 1634608290202,
     "user": {
      "displayName": "Shinhae Park",
      "photoUrl": "https://lh3.googleusercontent.com/a/default-user=s64",
      "userId": "11307119081955472096"
     },
     "user_tz": 300
    },
    "id": "7OIVoF0f6RH4",
    "outputId": "bcd7b759-95c0-4993-aa5f-3b50eba008d0"
   },
   "outputs": [],
   "source": [
    "items = [1, 2, 3, 4, 5]\n",
    "squared = list(map(lambda x: x**2, items))\n",
    "\n",
    "squared"
   ]
  },
  {
   "cell_type": "code",
   "execution_count": null,
   "metadata": {
    "colab": {
     "base_uri": "https://localhost:8080/"
    },
    "executionInfo": {
     "elapsed": 9,
     "status": "ok",
     "timestamp": 1634608290203,
     "user": {
      "displayName": "Shinhae Park",
      "photoUrl": "https://lh3.googleusercontent.com/a/default-user=s64",
      "userId": "11307119081955472096"
     },
     "user_tz": 300
    },
    "id": "35JKGrRe6RH4",
    "outputId": "311e8017-680c-42b8-89ec-bacb2728fa59"
   },
   "outputs": [],
   "source": [
    "number_list = range(-5, 5)\n",
    "less_than_zero = list(filter(lambda x: x < 0, number_list))\n",
    "\n",
    "less_than_zero"
   ]
  },
  {
   "cell_type": "code",
   "execution_count": null,
   "metadata": {
    "colab": {
     "base_uri": "https://localhost:8080/"
    },
    "executionInfo": {
     "elapsed": 4,
     "status": "ok",
     "timestamp": 1634608290875,
     "user": {
      "displayName": "Shinhae Park",
      "photoUrl": "https://lh3.googleusercontent.com/a/default-user=s64",
      "userId": "11307119081955472096"
     },
     "user_tz": 300
    },
    "id": "KXWWDUZC6RH5",
    "outputId": "a00947e5-b938-45ad-ba3b-e197bd761073"
   },
   "outputs": [],
   "source": [
    "from functools import reduce\n",
    "\n",
    "product = reduce((lambda x, y: x * y), [1, 2, 3, 4])\n",
    "\n",
    "product"
   ]
  },
  {
   "cell_type": "markdown",
   "metadata": {
    "id": "kcxr0MRv6RH2"
   },
   "source": [
    "### Nested functions (Closure)"
   ]
  },
  {
   "cell_type": "code",
   "execution_count": null,
   "metadata": {
    "colab": {
     "base_uri": "https://localhost:8080/"
    },
    "executionInfo": {
     "elapsed": 195,
     "status": "ok",
     "timestamp": 1634608283304,
     "user": {
      "displayName": "Shinhae Park",
      "photoUrl": "https://lh3.googleusercontent.com/a/default-user=s64",
      "userId": "11307119081955472096"
     },
     "user_tz": 300
    },
    "id": "SdH2eTOM6RH2",
    "outputId": "2a65e1f4-c58b-4c84-aa64-98b6b7883ebf",
    "scrolled": true
   },
   "outputs": [],
   "source": [
    "def calc(): # outer enclosing function\n",
    "    a = 3\n",
    "    b = 5\n",
    "    def mul_add(x): # the nested function\n",
    "        return a * x + b  # use nonlocal variables a and b\n",
    "    return mul_add # returns the nested function\n",
    " \n",
    "c = calc()\n",
    "print(c(1), c(2), c(3), c(4), c(5))"
   ]
  }
 ],
 "metadata": {
  "colab": {
   "collapsed_sections": [],
   "name": "Notebook8_Functions.ipynb",
   "provenance": [],
   "toc_visible": true
  },
  "kernelspec": {
   "display_name": "Python 3 (ipykernel)",
   "language": "python",
   "name": "python3"
  },
  "language_info": {
   "codemirror_mode": {
    "name": "ipython",
    "version": 3
   },
   "file_extension": ".py",
   "mimetype": "text/x-python",
   "name": "python",
   "nbconvert_exporter": "python",
   "pygments_lexer": "ipython3",
   "version": "3.11.4"
  }
 },
 "nbformat": 4,
 "nbformat_minor": 1
}

{
 "cells": [
  {
   "cell_type": "markdown",
   "metadata": {
    "id": "SA6NTppk6RHc"
   },
   "source": [
    "<img src=\"images/Picture0.png\" width=200x />\n",
    "\n",
    "# Notebook 6 -- Functions and Methods\n",
    "\n",
    "## Instructions\n",
    "\n",
    "Read the material below and complete the exercises.\n",
    "\n",
    "Material covered in this notebook.\n",
    "- How to call a function\n",
    "- How to define a new function\n",
    "- Understanding arguments - default and named arguments\n",
    "\n",
    "### Credits\n",
    "- https://www.programiz.com/python-programming/function-argument\n",
    "- https://github.com/jrjohansson/scientific-python-lectures\n",
    "- https://stackabuse.com/variable-length-arguments-in-python-with-args-and-kwargs/\n",
    "- https://www.w3schools.com/python/python_lambda.asp"
   ]
  },
  {
   "cell_type": "markdown",
   "metadata": {
    "id": "LqSiHa-j6RHe"
   },
   "source": [
    "* Python has several functions that are readily available for use. These functions are called built-in functions.\n",
    "* Examples: \n",
    "  > range(), sum(), len(), etc."
   ]
  },
  {
   "cell_type": "code",
   "execution_count": null,
   "metadata": {
    "colab": {
     "base_uri": "https://localhost:8080/"
    },
    "executionInfo": {
     "elapsed": 11,
     "status": "ok",
     "timestamp": 1634607651131,
     "user": {
      "displayName": "Shinhae Park",
      "photoUrl": "https://lh3.googleusercontent.com/a/default-user=s64",
      "userId": "11307119081955472096"
     },
     "user_tz": 300
    },
    "id": "_0FmL5N06RHg",
    "outputId": "82978561-6ff0-4be9-bcc9-e161279b662a",
    "scrolled": true
   },
   "outputs": [
    {
     "name": "stdout",
     "output_type": "stream",
     "text": [
      "Help on built-in function sum in module builtins:\n",
      "\n",
      "sum(iterable, start=0, /)\n",
      "    Return the sum of a 'start' value (default: 0) plus an iterable of numbers\n",
      "    \n",
      "    When the iterable is empty, return the start value.\n",
      "    This function is intended specifically for use with numeric values and may\n",
      "    reject non-numeric types.\n",
      "\n"
     ]
    }
   ],
   "source": [
    "help(sum)"
   ]
  },
  {
   "cell_type": "code",
   "execution_count": null,
   "metadata": {
    "colab": {
     "base_uri": "https://localhost:8080/"
    },
    "executionInfo": {
     "elapsed": 8,
     "status": "ok",
     "timestamp": 1634607651132,
     "user": {
      "displayName": "Shinhae Park",
      "photoUrl": "https://lh3.googleusercontent.com/a/default-user=s64",
      "userId": "11307119081955472096"
     },
     "user_tz": 300
    },
    "id": "kTdT8H8L6RHh",
    "outputId": "cf197e9c-b45f-4ffe-fc5e-e9b90d5b87b0"
   },
   "outputs": [
    {
     "name": "stdout",
     "output_type": "stream",
     "text": [
      "[1, 2, 3, 4, 5, 6, 7, 8, 9, 10]\n",
      "55\n",
      "10\n"
     ]
    }
   ],
   "source": [
    "my_list = list(range(1,11))\n",
    "\n",
    "print(my_list)\n",
    "\n",
    "print(sum(my_list))\n",
    "\n",
    "print(len(my_list))"
   ]
  },
  {
   "cell_type": "markdown",
   "metadata": {
    "id": "NfQEnVqX6RHi"
   },
   "source": [
    "* A function in Python is defined using the keyword `def`, followed by a function name, a signature within parentheses `()`, and a colon `:`. The following code, with one additional level of indentation, is the function body."
   ]
  },
  {
   "cell_type": "code",
   "execution_count": null,
   "metadata": {
    "id": "e52iRtol6RHi"
   },
   "outputs": [],
   "source": [
    "# creating a function\n",
    "def func0():   \n",
    "    print(\"test\")"
   ]
  },
  {
   "cell_type": "code",
   "execution_count": null,
   "metadata": {
    "colab": {
     "base_uri": "https://localhost:8080/"
    },
    "executionInfo": {
     "elapsed": 5,
     "status": "ok",
     "timestamp": 1634607655291,
     "user": {
      "displayName": "Shinhae Park",
      "photoUrl": "https://lh3.googleusercontent.com/a/default-user=s64",
      "userId": "11307119081955472096"
     },
     "user_tz": 300
    },
    "id": "deNFSFL96RHj",
    "outputId": "75ab0b3b-c227-484c-ba57-374d0801a8d7",
    "scrolled": true
   },
   "outputs": [
    {
     "name": "stdout",
     "output_type": "stream",
     "text": [
      "test\n"
     ]
    }
   ],
   "source": [
    "# calling a function\n",
    "func0()"
   ]
  },
  {
   "cell_type": "markdown",
   "metadata": {
    "id": "i66T3h1k6RHk"
   },
   "source": [
    "Optionally, but highly recommended, we can define a so called \"docstring\", which is a description of the functions purpose and behaivor. The docstring should follow directly after the function definition, before the code in the function body."
   ]
  },
  {
   "cell_type": "code",
   "execution_count": null,
   "metadata": {
    "id": "deCAbaF66RHk"
   },
   "outputs": [],
   "source": [
    "def func1(s):\n",
    "    \"\"\"\n",
    "    Print a string 's' and tell how many characters it has    \n",
    "    \"\"\"\n",
    "    \n",
    "    print(s + \" has \" + str(len(s)) + \" characters\")"
   ]
  },
  {
   "cell_type": "code",
   "execution_count": null,
   "metadata": {
    "colab": {
     "base_uri": "https://localhost:8080/"
    },
    "executionInfo": {
     "elapsed": 6,
     "status": "ok",
     "timestamp": 1634607657785,
     "user": {
      "displayName": "Shinhae Park",
      "photoUrl": "https://lh3.googleusercontent.com/a/default-user=s64",
      "userId": "11307119081955472096"
     },
     "user_tz": 300
    },
    "id": "NlvReABd6RHl",
    "outputId": "fa94062f-b863-4fed-86bf-bf0f17e78178",
    "scrolled": true
   },
   "outputs": [
    {
     "name": "stdout",
     "output_type": "stream",
     "text": [
      "Help on function func1 in module __main__:\n",
      "\n",
      "func1(s)\n",
      "    Print a string 's' and tell how many characters it has\n",
      "\n"
     ]
    }
   ],
   "source": [
    "help(func1)"
   ]
  },
  {
   "cell_type": "code",
   "execution_count": null,
   "metadata": {
    "colab": {
     "base_uri": "https://localhost:8080/"
    },
    "executionInfo": {
     "elapsed": 5,
     "status": "ok",
     "timestamp": 1634607659036,
     "user": {
      "displayName": "Shinhae Park",
      "photoUrl": "https://lh3.googleusercontent.com/a/default-user=s64",
      "userId": "11307119081955472096"
     },
     "user_tz": 300
    },
    "id": "CXzGBqh36RHl",
    "outputId": "e73ab157-2ee0-4ed7-b92c-779b219a9eca"
   },
   "outputs": [
    {
     "name": "stdout",
     "output_type": "stream",
     "text": [
      "test has 4 characters\n"
     ]
    }
   ],
   "source": [
    "func1(\"test\")"
   ]
  },
  {
   "cell_type": "markdown",
   "metadata": {
    "id": "THkbyhMC6RHm"
   },
   "source": [
    "Functions that returns a value use the `return` keyword:"
   ]
  },
  {
   "cell_type": "code",
   "execution_count": null,
   "metadata": {
    "id": "RyCRRO5G6RHm"
   },
   "outputs": [],
   "source": [
    "def square(x):\n",
    "    \"\"\"\n",
    "    Return the square of x.\n",
    "    \"\"\"\n",
    "    return x ** 2"
   ]
  },
  {
   "cell_type": "code",
   "execution_count": null,
   "metadata": {
    "colab": {
     "base_uri": "https://localhost:8080/"
    },
    "executionInfo": {
     "elapsed": 7,
     "status": "ok",
     "timestamp": 1634607663652,
     "user": {
      "displayName": "Shinhae Park",
      "photoUrl": "https://lh3.googleusercontent.com/a/default-user=s64",
      "userId": "11307119081955472096"
     },
     "user_tz": 300
    },
    "id": "51mag-_A6RHn",
    "outputId": "25ac7bc8-01b2-478e-e905-73612d05a0ac"
   },
   "outputs": [
    {
     "data": {
      "text/plain": [
       "16"
      ]
     },
     "execution_count": 9,
     "metadata": {},
     "output_type": "execute_result"
    }
   ],
   "source": [
    "square(4)"
   ]
  },
  {
   "cell_type": "code",
   "execution_count": null,
   "metadata": {
    "id": "cM2I-CCY6RHn"
   },
   "outputs": [],
   "source": [
    "def sign(x):\n",
    "    \"\"\"\n",
    "    Return the sign of x.\n",
    "    \"\"\"\n",
    "    if x > 0:\n",
    "        return 'positive'\n",
    "    elif x < 0:\n",
    "        return 'negative'\n",
    "    else:\n",
    "        return 'zero'"
   ]
  },
  {
   "cell_type": "code",
   "execution_count": null,
   "metadata": {
    "colab": {
     "base_uri": "https://localhost:8080/"
    },
    "executionInfo": {
     "elapsed": 725,
     "status": "ok",
     "timestamp": 1634607666340,
     "user": {
      "displayName": "Shinhae Park",
      "photoUrl": "https://lh3.googleusercontent.com/a/default-user=s64",
      "userId": "11307119081955472096"
     },
     "user_tz": 300
    },
    "id": "ZzvsonwQ6RHo",
    "outputId": "af39ce03-9a33-471b-f1fa-f5979cab86f5"
   },
   "outputs": [
    {
     "name": "stdout",
     "output_type": "stream",
     "text": [
      "negative\n",
      "zero\n",
      "positive\n"
     ]
    }
   ],
   "source": [
    "for x in [-10, 0, 100]:\n",
    "    print(sign(x))"
   ]
  },
  {
   "cell_type": "markdown",
   "metadata": {
    "id": "-M7P4zjd6RHp"
   },
   "source": [
    "We can return multiple values from a function using tuples (tuples contain sets of stuff, like lists, but unlike a list, can't be changed (i.e., no appending, deleting, inserting, etc.) - read more [here](https://stackoverflow.com/questions/1708510/list-vs-tuple-when-to-use-each)):"
   ]
  },
  {
   "cell_type": "code",
   "execution_count": null,
   "metadata": {
    "id": "_FS2PglV6RHq"
   },
   "outputs": [],
   "source": [
    "def powers(x):\n",
    "    \"\"\"\n",
    "    Return a few powers of x.\n",
    "    \"\"\"\n",
    "    return x ** 2, x ** 3, x ** 4"
   ]
  },
  {
   "cell_type": "code",
   "execution_count": null,
   "metadata": {
    "colab": {
     "base_uri": "https://localhost:8080/"
    },
    "executionInfo": {
     "elapsed": 208,
     "status": "ok",
     "timestamp": 1634607671989,
     "user": {
      "displayName": "Shinhae Park",
      "photoUrl": "https://lh3.googleusercontent.com/a/default-user=s64",
      "userId": "11307119081955472096"
     },
     "user_tz": 300
    },
    "id": "aMSRtWkp6RHq",
    "outputId": "b01c9e9b-e8ba-4de3-fb16-6094f1ba62da"
   },
   "outputs": [
    {
     "data": {
      "text/plain": [
       "(9, 27, 81)"
      ]
     },
     "execution_count": 13,
     "metadata": {},
     "output_type": "execute_result"
    }
   ],
   "source": [
    "powers(3)"
   ]
  },
  {
   "cell_type": "code",
   "execution_count": null,
   "metadata": {
    "colab": {
     "base_uri": "https://localhost:8080/"
    },
    "executionInfo": {
     "elapsed": 201,
     "status": "ok",
     "timestamp": 1634607672949,
     "user": {
      "displayName": "Shinhae Park",
      "photoUrl": "https://lh3.googleusercontent.com/a/default-user=s64",
      "userId": "11307119081955472096"
     },
     "user_tz": 300
    },
    "id": "9hgKC2K06RHr",
    "outputId": "a48776d6-9ca6-48f3-c908-2bdd647a44f9"
   },
   "outputs": [
    {
     "name": "stdout",
     "output_type": "stream",
     "text": [
      "9 27 81\n"
     ]
    }
   ],
   "source": [
    "x2, x3, x4 = powers(3)\n",
    "\n",
    "print(x2, x3, x4)"
   ]
  },
  {
   "cell_type": "code",
   "execution_count": null,
   "metadata": {
    "colab": {
     "base_uri": "https://localhost:8080/"
    },
    "executionInfo": {
     "elapsed": 10,
     "status": "ok",
     "timestamp": 1634607673938,
     "user": {
      "displayName": "Shinhae Park",
      "photoUrl": "https://lh3.googleusercontent.com/a/default-user=s64",
      "userId": "11307119081955472096"
     },
     "user_tz": 300
    },
    "id": "tQeQ7btW6RHr",
    "outputId": "328c42d9-be52-487f-8c45-39ecef852178"
   },
   "outputs": [
    {
     "name": "stdout",
     "output_type": "stream",
     "text": [
      "(16, 64, 256)\n",
      "[36, 216, 1296]\n",
      "{'ret1': 64, 'ret2': 512, 'ret3': 4096}\n"
     ]
    }
   ],
   "source": [
    "# Multiple return examples\n",
    "\n",
    "# tuple return\n",
    "def powers2(x):\n",
    "    return (x ** 2, x ** 3, x ** 4)\n",
    "\n",
    "print(powers2(4))\n",
    "\n",
    "\n",
    "# list return\n",
    "def powers3(x):\n",
    "    return [x ** 2, x ** 3, x ** 4]\n",
    "\n",
    "print(powers3(6))\n",
    "\n",
    "# dictionary return\n",
    "def powers3(x):\n",
    "    return {'ret1': x**2, 'ret2': x**3, 'ret3': x**4}\n",
    "\n",
    "print(powers3(8))"
   ]
  },
  {
   "cell_type": "markdown",
   "metadata": {
    "id": "yOetREhH6RHs"
   },
   "source": [
    "<font face=\"verdana\" style=\"font-size:30px\" color=\"red\">Your turn</font>\n",
    "\n",
    "Make a function that takes two arguements $x$ and $y$ and returns\n",
    "\n",
    "$$\n",
    "cos(x \\; \\pi) + sin(y \\; \\pi) \n",
    "$$\n",
    "\n",
    "Suppose your function was called $f$ then call\n",
    "\n",
    "f(2,3)\n",
    "\n",
    "What do you observe?\n",
    "\n"
   ]
  },
  {
   "cell_type": "code",
   "execution_count": null,
   "metadata": {
    "id": "oFhBh4br6RHt"
   },
   "outputs": [],
   "source": []
  },
  {
   "cell_type": "code",
   "execution_count": null,
   "metadata": {
    "id": "J4Ke4-PrNrJt"
   },
   "outputs": [],
   "source": []
  },
  {
   "cell_type": "markdown",
   "metadata": {
    "id": "2WxrXDt_6RHt"
   },
   "source": [
    "Now, if you have done programming in many languages you may be wondering about something.   How about types for arguments?\n",
    "\n",
    "I.e., why don't we write"
   ]
  },
  {
   "cell_type": "code",
   "execution_count": null,
   "metadata": {
    "id": "InnOZ6jd6RHt"
   },
   "outputs": [],
   "source": [
    "def f(x: int):\n",
    "    return x+2"
   ]
  },
  {
   "cell_type": "markdown",
   "metadata": {
    "id": "uoeTKmw86RHu"
   },
   "source": [
    "The idea is that Python uses \"Duck typing\".\n",
    "\n",
    "I.e., if it looks like a duck, it walks like a duck, and it sounds like a duck, then it is a duck.\n",
    "\n",
    "This means you have to be a little careful"
   ]
  },
  {
   "cell_type": "markdown",
   "metadata": {
    "id": "GsOome_W6RHu"
   },
   "source": [
    "<font face=\"verdana\" style=\"font-size:30px\" color=\"red\">Your turn</font>\n",
    "\n",
    "Make a function, that takes two arguements $x$ and $y$ and returns\n",
    "\n",
    "$$\n",
    "x+y \n",
    "$$\n",
    "\n",
    "Suppose your function was called $f$ then call\n",
    "\n",
    "f(2,3)\n",
    "\n",
    "f(\"2\",\"3\")\n",
    "\n",
    "What do you observe?\n"
   ]
  },
  {
   "cell_type": "code",
   "execution_count": null,
   "metadata": {
    "id": "mz4XHlds6RHu"
   },
   "outputs": [],
   "source": []
  },
  {
   "cell_type": "code",
   "execution_count": null,
   "metadata": {
    "id": "EMAUGMokOM0f"
   },
   "outputs": [],
   "source": []
  },
  {
   "cell_type": "markdown",
   "metadata": {
    "id": "ieSm66od6RHv"
   },
   "source": [
    "### Arguments"
   ]
  },
  {
   "cell_type": "markdown",
   "metadata": {
    "id": "vLg9nkQq6RHv"
   },
   "source": [
    "#### Default argument\n",
    "We will often define functions to take optional keyword arguments, like this:"
   ]
  },
  {
   "cell_type": "code",
   "execution_count": null,
   "metadata": {
    "id": "1UJ1QvXy6RHv",
    "outputId": "4ca4e5e0-32dd-4b84-f538-d23463007aba"
   },
   "outputs": [
    {
     "name": "stdout",
     "output_type": "stream",
     "text": [
      "Hello, Bob!\n",
      "HELLO, FRED\n"
     ]
    }
   ],
   "source": [
    "def hello(name, loud=False):\n",
    "    if loud:\n",
    "        print('HELLO, %s' % name.upper())\n",
    "    else:\n",
    "        print('Hello, %s!' % name)\n",
    "\n",
    "hello('Bob')\n",
    "hello('Fred', loud=True)"
   ]
  },
  {
   "cell_type": "markdown",
   "metadata": {
    "id": "O1umNPjV6RHv"
   },
   "source": [
    "Non-default arguments cannot follow default arguments. \n",
    "* e.g.\n",
    "> def hello(loud=False, name) >> SyntaxError\n"
   ]
  },
  {
   "cell_type": "markdown",
   "metadata": {
    "id": "aNhksz9b6RHw"
   },
   "source": [
    "#### keyword arguments (named arguments)\n",
    " Python allows functions to be called using keyword (named) arguments. When we call functions in this way, the order (position) of the arguments can be changed. "
   ]
  },
  {
   "cell_type": "code",
   "execution_count": null,
   "metadata": {
    "id": "WDnzvWNg6RHw",
    "outputId": "a80bfbbb-b9ce-40e8-f308-a50e2ce73557"
   },
   "outputs": [
    {
     "name": "stdout",
     "output_type": "stream",
     "text": [
      "HELLO, FRED\n",
      "HELLO, FRED\n",
      "HELLO, FRED\n"
     ]
    }
   ],
   "source": [
    "# 2 keyword arguments\n",
    "hello(name = 'Fred', loud=True)\n",
    "\n",
    "# 2 keyword arguments (out of order)\n",
    "hello(loud=True, name = 'Fred')\n",
    "\n",
    "#1 positional, 1 keyword argument\n",
    "hello('Fred', loud=True)     "
   ]
  },
  {
   "cell_type": "markdown",
   "metadata": {
    "id": "Nd0BS9P36RHx"
   },
   "source": [
    "<font face=\"verdana\" style=\"font-size:30px\" color=\"red\">Your turn</font>\n",
    "\n",
    " 1. Make a function that takes a list of numbers and returns the mean of the list.\n",
    " 2. Make a function that checks whether a number is Prime or not.\n",
    " 3. Make a function that returns the number of prime numbers between 2 and input argument."
   ]
  },
  {
   "cell_type": "code",
   "execution_count": null,
   "metadata": {
    "id": "NwlUh6EN6RHx"
   },
   "outputs": [],
   "source": []
  },
  {
   "cell_type": "code",
   "execution_count": null,
   "metadata": {
    "id": "IGsVvkwq6RHx"
   },
   "outputs": [],
   "source": []
  },
  {
   "cell_type": "code",
   "execution_count": null,
   "metadata": {
    "id": "RynPg_Fz6RHx"
   },
   "outputs": [],
   "source": []
  },
  {
   "cell_type": "markdown",
   "metadata": {
    "id": "lMwOlwKU6RHx"
   },
   "source": [
    "#### Variable-Length Arguments\n",
    "\n",
    "Variable-length arguments, varargs for short, are arguments that can take an unspecified amount of input. Some functions have no arguments, others have multiple. There are times we have functions with arguments we don't know about beforehand.\n",
    "\n",
    " - e.g)\n",
    "   - `print`\n",
    "   - `format`"
   ]
  },
  {
   "cell_type": "code",
   "execution_count": null,
   "metadata": {
    "id": "o92dlfdt6RHy",
    "outputId": "cc21f645-ac26-412b-9404-f0123e9833fc"
   },
   "outputs": [
    {
     "name": "stdout",
     "output_type": "stream",
     "text": [
      "\n",
      "Hello World  1 2.0 3\n"
     ]
    }
   ],
   "source": [
    "print()\n",
    "print('Hello', 'World', '', int(1), float(2), '3')"
   ]
  },
  {
   "cell_type": "markdown",
   "metadata": {
    "id": "YlOv3D2l6RHy"
   },
   "source": [
    "In Python, we can create functions taking an arbitrary number of arguments. With `*args` syntax, we can accept multiple arguments in iterable sequence Tuple."
   ]
  },
  {
   "cell_type": "code",
   "execution_count": null,
   "metadata": {
    "id": "XGwoUpbL6RHz",
    "outputId": "fcff8c83-16d8-4743-c388-6fc70aae4b34"
   },
   "outputs": [
    {
     "name": "stdout",
     "output_type": "stream",
     "text": [
      "4\n",
      "2\n"
     ]
    }
   ],
   "source": [
    "def find_min(*args):\n",
    "    \"\"\"\n",
    "    Returns a minimum of the nums.\n",
    "    \"\"\"\n",
    "    result = args[0]\n",
    "    for num in args:\n",
    "        if num < result:\n",
    "            result = num\n",
    "            \n",
    "    print(result)\n",
    "    return \n",
    "\n",
    "find_min(4, 5)\n",
    "find_min(4, 5, 6, 7, 2)"
   ]
  },
  {
   "cell_type": "markdown",
   "metadata": {
    "id": "tr97_jhG6RHz"
   },
   "source": [
    "You can use any other name than `args`. In the function definition, we use a single asterisk (*) before the parameter name to denote vararg. Here is an example."
   ]
  },
  {
   "cell_type": "code",
   "execution_count": null,
   "metadata": {
    "id": "gjztmQ6g6RHz",
    "outputId": "efd41fc0-f166-4d42-a2a7-8455425da2db"
   },
   "outputs": [
    {
     "name": "stdout",
     "output_type": "stream",
     "text": [
      "4\n",
      "2\n"
     ]
    }
   ],
   "source": [
    "def find_min(*numbers):\n",
    "    \"\"\"\n",
    "    Returns a minimum of the nums.\n",
    "    \"\"\"\n",
    "    result = numbers[0]\n",
    "    for num in numbers:\n",
    "        if num < result:\n",
    "            result = num\n",
    "            \n",
    "    print(result)\n",
    "    return \n",
    "\n",
    "find_min(4, 5)\n",
    "find_min(4, 5, 6, 7, 2)"
   ]
  },
  {
   "cell_type": "markdown",
   "metadata": {
    "id": "7ck_R4m-fUgH"
   },
   "source": [
    "### Lambda Expression\n",
    " + A lambda function is a small anonymous function.\n",
    " + A lambda function can take any number of arguments, but can only have one expression."
   ]
  },
  {
   "cell_type": "code",
   "execution_count": null,
   "metadata": {
    "id": "nX5QLPFvfaMp"
   },
   "outputs": [],
   "source": [
    "Max = lambda a, b : a if(a > b) else b\n",
    "\n",
    "Max(1, 2)"
   ]
  },
  {
   "cell_type": "code",
   "execution_count": null,
   "metadata": {
    "id": "n5HJfdfjfdMh"
   },
   "outputs": [],
   "source": [
    "def mul_10(num):\n",
    "    return num * 10\n",
    "\n",
    "mul_10(5)"
   ]
  },
  {
   "cell_type": "code",
   "execution_count": null,
   "metadata": {
    "id": "9DkZpDoxfnV9"
   },
   "outputs": [],
   "source": [
    "# lambda version of mul_10\n",
    "lambda_mul_10 = lambda x: x * 10\n",
    "\n",
    "print(type(lambda_mul_10))\n",
    "lambda_mul_10(5)"
   ]
  },
  {
   "cell_type": "code",
   "execution_count": null,
   "metadata": {
    "id": "jEMJ9E8Vf0L8"
   },
   "outputs": [],
   "source": [
    "# use lambda as argument\n",
    "def func_final(x, y, func):\n",
    "    print(x * y * func(10))\n",
    "\n",
    "func_final(10, 10, lambda x: x * 1000)"
   ]
  },
  {
   "cell_type": "markdown",
   "metadata": {
    "id": "WUE6pp5E6RH2"
   },
   "source": [
    "### Type hinting"
   ]
  },
  {
   "cell_type": "code",
   "execution_count": null,
   "metadata": {
    "colab": {
     "base_uri": "https://localhost:8080/"
    },
    "executionInfo": {
     "elapsed": 356,
     "status": "ok",
     "timestamp": 1634608277608,
     "user": {
      "displayName": "Shinhae Park",
      "photoUrl": "https://lh3.googleusercontent.com/a/default-user=s64",
      "userId": "11307119081955472096"
     },
     "user_tz": 300
    },
    "id": "FvSqZEFV6RH2",
    "outputId": "b375f0dd-ff29-44d7-c530-3022bfa1bb86",
    "scrolled": true
   },
   "outputs": [
    {
     "data": {
      "text/plain": [
       "100"
      ]
     },
     "execution_count": 33,
     "metadata": {},
     "output_type": "execute_result"
    }
   ],
   "source": [
    "def tot_length1(word: str, num: int) -> int: \n",
    "    return len(word) * num\n",
    "\n",
    "tot_length1(\"i love you\", 10)"
   ]
  },
  {
   "cell_type": "code",
   "execution_count": null,
   "metadata": {
    "colab": {
     "base_uri": "https://localhost:8080/"
    },
    "executionInfo": {
     "elapsed": 6,
     "status": "ok",
     "timestamp": 1634608277808,
     "user": {
      "displayName": "Shinhae Park",
      "photoUrl": "https://lh3.googleusercontent.com/a/default-user=s64",
      "userId": "11307119081955472096"
     },
     "user_tz": 300
    },
    "id": "n-xPI-GA6RH2",
    "outputId": "67016456-4b0d-4bf0-9331-c3a94156e8e7"
   },
   "outputs": [
    {
     "name": "stdout",
     "output_type": "stream",
     "text": [
      "120\n"
     ]
    }
   ],
   "source": [
    "def tot_length2(word: str, num: int) -> None:\n",
    "    print(len(word) * num)\n",
    "\n",
    "tot_length2(\"hello world!\", 10)"
   ]
  },
  {
   "cell_type": "markdown",
   "metadata": {
    "id": "FC0EWubjgdc6"
   },
   "source": [
    "<font face=\"verdana\" style=\"font-size:30px\" color=\"red\">Your turn</font>\n",
    "\n",
    "Search for the US dollars and Euros exchange rate, then write a lambda function that takes a number in euros and returns a string in currency format. \n",
    "E.g. \n",
    "> euro2dollar(10) > $11.58"
   ]
  },
  {
   "cell_type": "code",
   "execution_count": null,
   "metadata": {
    "id": "AWe42ZhjgeS2"
   },
   "outputs": [],
   "source": []
  },
  {
   "cell_type": "markdown",
   "metadata": {
    "id": "7oC69kFk6RH1"
   },
   "source": [
    "<font face=\"verdana\" style=\"font-size:30px\" color=\"red\">Your turn</font>\n",
    "\n",
    "Trapping rainwater problem: \n",
    "\n",
    "An elevation map shows the different heights at different points on a region on a map. Given $n$ non-negative integers representing an elevation map where the width of each bar is 1, find the maximum amount of water that can be trapped within the map after rainning (assuming infinite rainfall).\n",
    "\n",
    "For example, if elevation_map = [7, 0, 4, 2, 5, 0, 6, 4, 0, 5], total units of trapped water is 25.\n",
    "![Water Trap ex](https://www.techiedelight.com/wp-content/uploads/Rain-Water-Trapping.png)\n",
    "\n",
    "Hint: Traverse the list and find the highest bars on the left and right sides. "
   ]
  },
  {
   "cell_type": "code",
   "execution_count": null,
   "metadata": {
    "id": "6d-DkwiI6RH1"
   },
   "outputs": [],
   "source": []
  },
  {
   "cell_type": "markdown",
   "metadata": {
    "id": "Ft1qi900_Fj9"
   },
   "source": [
    "# Optional Advanced Material"
   ]
  },
  {
   "cell_type": "markdown",
   "metadata": {
    "id": "LMDuQnt6ctnd"
   },
   "source": [
    "####  Multiple Keyword Arguments\n",
    "\n",
    "Python can accept multiple keyword arguments, known as `**kwargs`. It behaves similarly to `*args`, but `**kwargs` stores the arguments in a dictionary so that it can preserve the names of the arguments.\n",
    "\n",
    "> ***args**    : arguments in tuple (vararg)\n",
    "\n",
    "> ****kwargs** : arguments in dictionary (named parameter)"
   ]
  },
  {
   "cell_type": "code",
   "execution_count": null,
   "metadata": {
    "id": "Sn5kmUU8cftr"
   },
   "outputs": [],
   "source": [
    "def kwargs_func(**kwargs): # you can use any other name than kwargs\n",
    "    print(kwargs)\n",
    "    for k,v in kwargs.items():\n",
    "        print('{0} is {1},'.format(k,v), end=' ')\n",
    "    print()\n",
    "\n",
    "\n",
    "kwargs_func(firstname=\"Jon\")\n",
    "kwargs_func(firstname=\"Jon\", lastname=\"Snow\", title=\"Night's Watch\")"
   ]
  },
  {
   "cell_type": "markdown",
   "metadata": {
    "id": "rgs75yOuc0Vj"
   },
   "source": [
    "#### Combining `*args` and `**kwargs`\n",
    "\n",
    "Positional arguments go before named arguments. Order of arguments:\n",
    "\n",
    "1. Known positional arguments\n",
    "2. `*args`\n",
    "3. Known named arguments\n",
    "4. `**kwargs`\n"
   ]
  },
  {
   "cell_type": "code",
   "execution_count": null,
   "metadata": {
    "id": "XJXiaLxLc3SY"
   },
   "outputs": [],
   "source": [
    "def example(arg_1, arg_2, *args, arg_3 = [], **kwargs): #arg_1, arg_2 : non-optional\n",
    "    print(arg_1, arg_2, args, arg_3, kwargs)\n",
    "\n",
    "example(10, 20)\n",
    "example(10, 20, 'Inmas', 'Python', 'Workshop', arg_3 = [1,2,3], month='10', day='23', year = '2021')"
   ]
  },
  {
   "cell_type": "markdown",
   "metadata": {
    "id": "chyJ9TZS6RH3"
   },
   "source": [
    "### Lambda, filter, map and reduce\n",
    "`lambda` expressions are generally used when we need a function temporarily for a short period of time. They are often used inside functions `filter`, `map` and `reduce`."
   ]
  },
  {
   "cell_type": "code",
   "execution_count": null,
   "metadata": {
    "colab": {
     "base_uri": "https://localhost:8080/"
    },
    "executionInfo": {
     "elapsed": 10,
     "status": "ok",
     "timestamp": 1634608290202,
     "user": {
      "displayName": "Shinhae Park",
      "photoUrl": "https://lh3.googleusercontent.com/a/default-user=s64",
      "userId": "11307119081955472096"
     },
     "user_tz": 300
    },
    "id": "7OIVoF0f6RH4",
    "outputId": "bcd7b759-95c0-4993-aa5f-3b50eba008d0"
   },
   "outputs": [
    {
     "data": {
      "text/plain": [
       "[1, 4, 9, 16, 25]"
      ]
     },
     "execution_count": 41,
     "metadata": {},
     "output_type": "execute_result"
    }
   ],
   "source": [
    "items = [1, 2, 3, 4, 5]\n",
    "squared = list(map(lambda x: x**2, items))\n",
    "\n",
    "squared"
   ]
  },
  {
   "cell_type": "code",
   "execution_count": null,
   "metadata": {
    "colab": {
     "base_uri": "https://localhost:8080/"
    },
    "executionInfo": {
     "elapsed": 9,
     "status": "ok",
     "timestamp": 1634608290203,
     "user": {
      "displayName": "Shinhae Park",
      "photoUrl": "https://lh3.googleusercontent.com/a/default-user=s64",
      "userId": "11307119081955472096"
     },
     "user_tz": 300
    },
    "id": "35JKGrRe6RH4",
    "outputId": "311e8017-680c-42b8-89ec-bacb2728fa59"
   },
   "outputs": [
    {
     "data": {
      "text/plain": [
       "[-5, -4, -3, -2, -1]"
      ]
     },
     "execution_count": 42,
     "metadata": {},
     "output_type": "execute_result"
    }
   ],
   "source": [
    "number_list = range(-5, 5)\n",
    "less_than_zero = list(filter(lambda x: x < 0, number_list))\n",
    "\n",
    "less_than_zero"
   ]
  },
  {
   "cell_type": "code",
   "execution_count": null,
   "metadata": {
    "colab": {
     "base_uri": "https://localhost:8080/"
    },
    "executionInfo": {
     "elapsed": 4,
     "status": "ok",
     "timestamp": 1634608290875,
     "user": {
      "displayName": "Shinhae Park",
      "photoUrl": "https://lh3.googleusercontent.com/a/default-user=s64",
      "userId": "11307119081955472096"
     },
     "user_tz": 300
    },
    "id": "KXWWDUZC6RH5",
    "outputId": "a00947e5-b938-45ad-ba3b-e197bd761073"
   },
   "outputs": [
    {
     "data": {
      "text/plain": [
       "24"
      ]
     },
     "execution_count": 43,
     "metadata": {},
     "output_type": "execute_result"
    }
   ],
   "source": [
    "from functools import reduce\n",
    "\n",
    "product = reduce((lambda x, y: x * y), [1, 2, 3, 4])\n",
    "\n",
    "product"
   ]
  },
  {
   "cell_type": "markdown",
   "metadata": {
    "id": "kcxr0MRv6RH2"
   },
   "source": [
    "### Nested functions (Closure)"
   ]
  },
  {
   "cell_type": "code",
   "execution_count": null,
   "metadata": {
    "colab": {
     "base_uri": "https://localhost:8080/"
    },
    "executionInfo": {
     "elapsed": 195,
     "status": "ok",
     "timestamp": 1634608283304,
     "user": {
      "displayName": "Shinhae Park",
      "photoUrl": "https://lh3.googleusercontent.com/a/default-user=s64",
      "userId": "11307119081955472096"
     },
     "user_tz": 300
    },
    "id": "SdH2eTOM6RH2",
    "outputId": "2a65e1f4-c58b-4c84-aa64-98b6b7883ebf",
    "scrolled": true
   },
   "outputs": [
    {
     "name": "stdout",
     "output_type": "stream",
     "text": [
      "8 11 14 17 20\n"
     ]
    }
   ],
   "source": [
    "def calc(): # outer enclosing function\n",
    "    a = 3\n",
    "    b = 5\n",
    "    def mul_add(x): # the nested function\n",
    "        return a * x + b  # use nonlocal variables a and b\n",
    "    return mul_add # returns the nested function\n",
    " \n",
    "c = calc()\n",
    "print(c(1), c(2), c(3), c(4), c(5))"
   ]
  }
 ],
 "metadata": {
  "colab": {
   "collapsed_sections": [],
   "name": "Notebook8_Functions.ipynb",
   "provenance": [],
   "toc_visible": true
  },
  "kernelspec": {
   "display_name": "Python 3 (ipykernel)",
   "language": "python",
   "name": "python3"
  },
  "language_info": {
   "codemirror_mode": {
    "name": "ipython",
    "version": 3
   },
   "file_extension": ".py",
   "mimetype": "text/x-python",
   "name": "python",
   "nbconvert_exporter": "python",
   "pygments_lexer": "ipython3",
   "version": "3.11.4"
  }
 },
 "nbformat": 4,
 "nbformat_minor": 1
}

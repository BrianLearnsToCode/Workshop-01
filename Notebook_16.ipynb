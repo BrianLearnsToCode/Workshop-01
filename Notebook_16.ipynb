{
 "cells": [
  {
   "cell_type": "markdown",
   "id": "2b086218",
   "metadata": {
    "id": "7ddf1365"
   },
   "source": [
    "<img src=\"images/Picture0.png\" width=200x />\n",
    "\n",
    "# Notebook 16 - Project 2\n",
    "# Analyzing Redfin Data\n",
    "\n",
    "## Instructions\n",
    "\n",
    "Redfin is a real-estate brokerage and they post available houses on their website [redfin.com](https://www.redfin.com). We will download housing data from their site to study.\n",
    "\n",
    "Follow the instructions [here](https://support.redfin.com/hc/en-us/articles/360016476931-Downloading-Data) to download some housing data from redfin.com. Save the file in the same location as this notebook. Then use the `pandas` function `read_csv()` to read the information from the file you downloaded. Clean up the data as necessary using techniques you learned in the Pandas notebook.\n",
    "\n",
    "### Credits\n"
   ]
  },
  {
   "cell_type": "code",
   "execution_count": 1,
   "id": "63059911",
   "metadata": {},
   "outputs": [],
   "source": [
    "import pandas as pd\n",
    "file = 'data/redfin_bloomington_IN.csv'\n",
    "redfin = pd.read_csv(file)"
   ]
  },
  {
   "cell_type": "code",
   "execution_count": 2,
   "id": "abeedf50",
   "metadata": {},
   "outputs": [
    {
     "data": {
      "text/plain": [
       "Index(['SALE TYPE', 'SOLD DATE', 'PROPERTY TYPE', 'ADDRESS', 'CITY',\n",
       "       'STATE OR PROVINCE', 'ZIP OR POSTAL CODE', 'PRICE', 'BEDS', 'BATHS',\n",
       "       'LOCATION', 'SQUARE FEET', 'LOT SIZE', 'YEAR BUILT', 'DAYS ON MARKET',\n",
       "       '$/SQUARE FEET', 'HOA/MONTH', 'STATUS', 'NEXT OPEN HOUSE START TIME',\n",
       "       'NEXT OPEN HOUSE END TIME', 'URL', 'SOURCE', 'MLS#', 'FAVORITE',\n",
       "       'INTERESTED', 'LATITUDE', 'LONGITUDE'],\n",
       "      dtype='object')"
      ]
     },
     "execution_count": 2,
     "metadata": {},
     "output_type": "execute_result"
    }
   ],
   "source": [
    "redfin.rename(columns = {'URL (SEE https://www.redfin.com/buy-a-home/comparative-market-analysis FOR INFO ON PRICING)' : 'URL'},inplace = True)\n",
    "redfin.columns"
   ]
  },
  {
   "cell_type": "code",
   "execution_count": 11,
   "id": "336bc0cf",
   "metadata": {},
   "outputs": [
    {
     "data": {
      "text/plain": [
       "<Axes: >"
      ]
     },
     "execution_count": 11,
     "metadata": {},
     "output_type": "execute_result"
    },
    {
     "data": {
      "image/png": "[encoded data removed]",
      "text/plain": [
       "<Figure size 640x480 with 1 Axes>"
      ]
     },
     "metadata": {},
     "output_type": "display_data"
    }
   ],
   "source": [
    "redfin['YEAR BUILT'].hist()"
   ]
  },
  {
   "cell_type": "code",
   "execution_count": 7,
   "id": "97346313",
   "metadata": {
    "scrolled": true
   },
   "outputs": [
    {
     "data": {
      "text/plain": [
       "(178, 23)"
      ]
     },
     "execution_count": 7,
     "metadata": {},
     "output_type": "execute_result"
    }
   ],
   "source": [
    "col_count = redfin.shape[1]\n",
    "new_col = []\n",
    "for index,column in enumerate(redfin.columns):\n",
    "    if(redfin[column].isna().sum() < redfin.shape[0]*0.5):\n",
    "        new_col = [*new_col,column]\n",
    "ccr = redfin[new_col]\n",
    "ccr = ccr.dropna()\n",
    "ccr.shape"
   ]
  },
  {
   "cell_type": "code",
   "execution_count": 8,
   "id": "efbbaca3",
   "metadata": {},
   "outputs": [],
   "source": [
    "ccr.drop(['SALE TYPE',\n",
    "          'ADDRESS',\n",
    "          'CITY',\n",
    "          'SOURCE',\n",
    "          'STATE OR PROVINCE',\n",
    "          'STATUS',\n",
    "          'URL',\n",
    "          'MLS#',\n",
    "          'FAVORITE',\n",
    "          'INTERESTED'],axis = 1 ,inplace = True)\n",
    "ccr.drop(['ZIP OR POSTAL CODE','LOCATION','DAYS ON MARKET','LATITUDE','LONGITUDE'],axis=1,inplace= True)"
   ]
  },
  {
   "cell_type": "code",
   "execution_count": 9,
   "id": "886f75bb",
   "metadata": {},
   "outputs": [
    {
     "data": {
      "text/html": [
       "<div>\n",
       "<style scoped>\n",
       "    .dataframe tbody tr th:only-of-type {\n",
       "        vertical-align: middle;\n",
       "    }\n",
       "\n",
       "    .dataframe tbody tr th {\n",
       "        vertical-align: top;\n",
       "    }\n",
       "\n",
       "    .dataframe thead th {\n",
       "        text-align: right;\n",
       "    }\n",
       "</style>\n",
       "<table border=\"1\" class=\"dataframe\">\n",
       "  <thead>\n",
       "    <tr style=\"text-align: right;\">\n",
       "      <th></th>\n",
       "      <th>PROPERTY TYPE</th>\n",
       "      <th>PRICE</th>\n",
       "      <th>BEDS</th>\n",
       "      <th>BATHS</th>\n",
       "      <th>SQUARE FEET</th>\n",
       "      <th>LOT SIZE</th>\n",
       "      <th>YEAR BUILT</th>\n",
       "      <th>$/SQUARE FEET</th>\n",
       "    </tr>\n",
       "  </thead>\n",
       "  <tbody>\n",
       "    <tr>\n",
       "      <th>1</th>\n",
       "      <td>Single Family Residential</td>\n",
       "      <td>250000</td>\n",
       "      <td>4.0</td>\n",
       "      <td>3.0</td>\n",
       "      <td>2500.0</td>\n",
       "      <td>20473.0</td>\n",
       "      <td>1973.0</td>\n",
       "      <td>100.0</td>\n",
       "    </tr>\n",
       "    <tr>\n",
       "      <th>2</th>\n",
       "      <td>Single Family Residential</td>\n",
       "      <td>340000</td>\n",
       "      <td>3.0</td>\n",
       "      <td>3.0</td>\n",
       "      <td>3008.0</td>\n",
       "      <td>8276.0</td>\n",
       "      <td>2009.0</td>\n",
       "      <td>113.0</td>\n",
       "    </tr>\n",
       "    <tr>\n",
       "      <th>3</th>\n",
       "      <td>Single Family Residential</td>\n",
       "      <td>142900</td>\n",
       "      <td>1.0</td>\n",
       "      <td>1.0</td>\n",
       "      <td>462.0</td>\n",
       "      <td>8276.0</td>\n",
       "      <td>1950.0</td>\n",
       "      <td>309.0</td>\n",
       "    </tr>\n",
       "    <tr>\n",
       "      <th>5</th>\n",
       "      <td>Townhouse</td>\n",
       "      <td>220000</td>\n",
       "      <td>3.0</td>\n",
       "      <td>2.5</td>\n",
       "      <td>1280.0</td>\n",
       "      <td>650.0</td>\n",
       "      <td>2010.0</td>\n",
       "      <td>172.0</td>\n",
       "    </tr>\n",
       "    <tr>\n",
       "      <th>6</th>\n",
       "      <td>Single Family Residential</td>\n",
       "      <td>329900</td>\n",
       "      <td>3.0</td>\n",
       "      <td>3.0</td>\n",
       "      <td>2612.0</td>\n",
       "      <td>87120.0</td>\n",
       "      <td>1969.0</td>\n",
       "      <td>126.0</td>\n",
       "    </tr>\n",
       "  </tbody>\n",
       "</table>\n",
       "</div>"
      ],
      "text/plain": [
       "               PROPERTY TYPE   PRICE  BEDS  BATHS  SQUARE FEET  LOT SIZE  \\\n",
       "1  Single Family Residential  250000   4.0    3.0       2500.0   20473.0   \n",
       "2  Single Family Residential  340000   3.0    3.0       3008.0    8276.0   \n",
       "3  Single Family Residential  142900   1.0    1.0        462.0    8276.0   \n",
       "5                  Townhouse  220000   3.0    2.5       1280.0     650.0   \n",
       "6  Single Family Residential  329900   3.0    3.0       2612.0   87120.0   \n",
       "\n",
       "   YEAR BUILT  $/SQUARE FEET  \n",
       "1      1973.0          100.0  \n",
       "2      2009.0          113.0  \n",
       "3      1950.0          309.0  \n",
       "5      2010.0          172.0  \n",
       "6      1969.0          126.0  "
      ]
     },
     "execution_count": 9,
     "metadata": {},
     "output_type": "execute_result"
    }
   ],
   "source": [
    "ccr.head()"
   ]
  },
  {
   "cell_type": "markdown",
   "id": "ba2ee2b3",
   "metadata": {
    "id": "9d4e410e"
   },
   "source": [
    "# Project\n",
    "\n",
    "Use the skills you've learned to analyze this data. Here are some ideas, but please come up with your own additional ideas:\n",
    "- Make plots to visualize the data \n",
    "    - Use everything you have learned so far using Matplotlib\n",
    "- Use linear regression to predict one of the variables from one or both of the others\n",
    "- Calculate statistics on the data\n",
    "    - You can use the Numpy or Pandas modules, both have a lot of statistical functions. \n",
    "- Find a probability distribution for the price data \n",
    "- Repeat the steps above for more data from a different neighborhood or city. Compare.\n",
    "\n",
    "**Create a PowerPoint presentation to present your findings to others.**"
   ]
  },
  {
   "cell_type": "code",
   "execution_count": 18,
   "id": "6a7511bd",
   "metadata": {
    "id": "jMrvCvHb2_CV"
   },
   "outputs": [
    {
     "data": {
      "text/plain": [
       "<Axes: >"
      ]
     },
     "execution_count": 18,
     "metadata": {},
     "output_type": "execute_result"
    },
    {
     "data": {
      "image/png": "[encoded data removed]",
      "text/plain": [
       "<Figure size 640x480 with 1 Axes>"
      ]
     },
     "metadata": {},
     "output_type": "display_data"
    }
   ],
   "source": [
    "ccr['YEAR BUILT'].hist()"
   ]
  },
  {
   "cell_type": "code",
   "execution_count": 12,
   "id": "5e971be2",
   "metadata": {},
   "outputs": [
    {
     "ename": "ModuleNotFoundError",
     "evalue": "No module named 'seaborn'",
     "output_type": "error",
     "traceback": [
      "\u001b[1;31m---------------------------------------------------------------------------\u001b[0m",
      "\u001b[1;31mModuleNotFoundError\u001b[0m                       Traceback (most recent call last)",
      "Cell \u001b[1;32mIn [12], line 1\u001b[0m\n\u001b[1;32m----> 1\u001b[0m \u001b[38;5;28;01mimport\u001b[39;00m \u001b[38;5;21;01mseaborn\u001b[39;00m\n",
      "\u001b[1;31mModuleNotFoundError\u001b[0m: No module named 'seaborn'"
     ]
    }
   ],
   "source": [
    "import seaborn"
   ]
  },
  {
   "cell_type": "code",
   "execution_count": 13,
   "id": "c344a181",
   "metadata": {},
   "outputs": [],
   "source": [
    "#import seaborn as sns\n",
    "#sns.lmplot(data = df, x = 'SQUARE FEET', y = 'PRICE');"
   ]
  },
  {
   "cell_type": "markdown",
   "id": "d1fa2098",
   "metadata": {},
   "source": [
    "### Linear Regression"
   ]
  },
  {
   "cell_type": "code",
   "execution_count": 19,
   "id": "69e5779f",
   "metadata": {},
   "outputs": [
    {
     "ename": "ModuleNotFoundError",
     "evalue": "No module named 'seaborn'",
     "output_type": "error",
     "traceback": [
      "\u001b[1;31m---------------------------------------------------------------------------\u001b[0m",
      "\u001b[1;31mModuleNotFoundError\u001b[0m                       Traceback (most recent call last)",
      "Cell \u001b[1;32mIn [19], line 1\u001b[0m\n\u001b[1;32m----> 1\u001b[0m \u001b[38;5;28;01mimport\u001b[39;00m \u001b[38;5;21;01mseaborn\u001b[39;00m\n",
      "\u001b[1;31mModuleNotFoundError\u001b[0m: No module named 'seaborn'"
     ]
    }
   ],
   "source": [
    "import matplotlib.pyplot as plt"
   ]
  },
  {
   "cell_type": "code",
   "execution_count": null,
   "id": "3718222d",
   "metadata": {},
   "outputs": [],
   "source": []
  }
 ],
 "metadata": {
  "colab": {
   "collapsed_sections": [],
   "name": "Notebook14_Redfin_Mini_project.ipynb",
   "provenance": []
  },
  "kernelspec": {
   "display_name": "Python 3 (ipykernel)",
   "language": "python",
   "name": "python3"
  },
  "language_info": {
   "codemirror_mode": {
    "name": "ipython",
    "version": 3
   },
   "file_extension": ".py",
   "mimetype": "text/x-python",
   "name": "python",
   "nbconvert_exporter": "python",
   "pygments_lexer": "ipython3",
   "version": "3.10.7"
  }
 },
 "nbformat": 4,
 "nbformat_minor": 5
}

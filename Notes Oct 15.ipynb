{
 "cells": [
  {
   "cell_type": "code",
   "execution_count": 2,
   "id": "272799fe",
   "metadata": {},
   "outputs": [],
   "source": [
    "import pandas as pd\n",
    "file = \"data/cereal.csv\" #this finds the file in the \"data\" folder (assuming \"data\" is in the same folder as your notebook)\n",
    "cereal_df = pd.read_csv(file,sep = ';')"
   ]
  },
  {
   "cell_type": "code",
   "execution_count": 3,
   "id": "43d039e0",
   "metadata": {},
   "outputs": [],
   "source": [
    "#df.method returns a new df : normal\n",
    "#df.method changes the original df : inplace\n",
    "\n",
    "#list.methods() often inplace  list.append()\n",
    "#methods() often normal?   sorted(mylist)"
   ]
  },
  {
   "cell_type": "markdown",
   "id": "1a8a2dd1",
   "metadata": {},
   "source": [
    "https://stackoverflow.com/questions/38886080/python-pandas-series-why-use-loc#:~:text=loc%20and%20.,iloc%20to%20avoid%20unexpected%20results.%22&text=Essentially%2C%20there%20are%20fall%20backs,t%20specify%20the%20indexing%20technique. \n",
    "\n",
    "why loc instead of []"
   ]
  }
 ],
 "metadata": {
  "kernelspec": {
   "display_name": "Python 3 (ipykernel)",
   "language": "python",
   "name": "python3"
  },
  "language_info": {
   "codemirror_mode": {
    "name": "ipython",
    "version": 3
   },
   "file_extension": ".py",
   "mimetype": "text/x-python",
   "name": "python",
   "nbconvert_exporter": "python",
   "pygments_lexer": "ipython3",
   "version": "3.10.7"
  }
 },
 "nbformat": 4,
 "nbformat_minor": 5
}

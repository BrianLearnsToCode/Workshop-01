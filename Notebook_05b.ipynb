{
 "cells": [
  {
   "cell_type": "markdown",
   "id": "6b7baa68",
   "metadata": {
    "id": "6b7baa68"
   },
   "source": [
    "<img src=\"images/Picture0.png\" width=200x />\n",
    "\n",
    "# Notebook 05b - Hangman\n",
    "\n",
    "## Instructions\n",
    "\n",
    "In this notebook, you are going to combine the concepts you’ve learned so far and build a text-based game, the classic Hangman.\n",
    "\n",
    "If you’ve never played Hangman, here’s how it works:\n",
    "1. Player One picks a secret word and draws a line for each letter in it (you will use an underscore to represent each line).\n",
    "2. Player Two tries to guess the word one letter at a time.\n",
    "3. If Player Two guesses a letter correctly, Player One replaces the corresponding underscore with the correct letter. In this version of the game, if a letter appears twice in a word, you have to guess it twice. OR If Player Two guesses incorrectly, Player One draws a body part of a hanged stick figure (starting with the head). In this version, we will count the number of guesses remaining rather than drawing a stick figure.\n",
    "4. If Player Two completes the word before the drawing of the hangman is complete, they win. If not, they lose.\n",
    "\n",
    "In your program, the computer will be Player One, and the person guessing will be Player Two.\n",
    "\n",
    "Are you ready to build Hangman?\n",
    "\n",
    "### Credits\n",
    "\n",
    "[Code Mag](https://icodemag.com/creating-a-simple-hangman-game-in-python/)\n",
    "\n"
   ]
  }
 ],
 "metadata": {
  "colab": {
   "collapsed_sections": [],
   "provenance": []
  },
  "kernelspec": {
   "display_name": "Python 3 (ipykernel)",
   "language": "python",
   "name": "python3"
  },
  "language_info": {
   "codemirror_mode": {
    "name": "ipython",
    "version": 3
   },
   "file_extension": ".py",
   "mimetype": "text/x-python",
   "name": "python",
   "nbconvert_exporter": "python",
   "pygments_lexer": "ipython3",
   "version": "3.11.4"
  }
 },
 "nbformat": 4,
 "nbformat_minor": 5
}

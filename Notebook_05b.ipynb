{
 "cells": [
  {
   "cell_type": "markdown",
   "id": "6b7baa68",
   "metadata": {
    "id": "6b7baa68"
   },
   "source": [
    "<img src=\"images/Picture0.png\" width=200x />\n",
    "\n",
    "# Notebook 05b - Hangman\n",
    "\n",
    "## Instructions\n",
    "\n",
    "In this notebook, you are going to combine the concepts you’ve learned so far and build a text-based game, the classic Hangman.\n",
    "\n",
    "If you’ve never played Hangman, here’s how it works:\n",
    "1. Player One picks a secret word and draws a line for each letter in it (you will use an underscore to represent each line).\n",
    "2. Player Two tries to guess the word one letter at a time.\n",
    "3. If Player Two guesses a letter correctly, Player One replaces the corresponding underscore with the correct letter. In this version of the game, if a letter appears twice in a word, you have to guess it twice. OR If Player Two guesses incorrectly, Player One draws a body part of a hanged stick figure (starting with the head). In this version, we will count the number of guesses remaining rather than drawing a stick figure.\n",
    "4. If Player Two completes the word before the drawing of the hangman is complete, they win. If not, they lose.\n",
    "\n",
    "In your program, the computer will be Player One, and the person guessing will be Player Two.\n",
    "\n",
    "Are you ready to build Hangman?\n",
    "\n",
    "### Credits\n",
    "\n",
    "[Code Mag](https://icodemag.com/creating-a-simple-hangman-game-in-python/)\n",
    "\n"
   ]
  },
  {
   "cell_type": "markdown",
   "id": "6f3b9c53",
   "metadata": {},
   "source": [
    "### 1. Create a list of words."
   ]
  },
  {
   "cell_type": "code",
   "execution_count": null,
   "id": "0e97f5e1",
   "metadata": {},
   "outputs": [],
   "source": []
  },
  {
   "cell_type": "markdown",
   "id": "938e4914",
   "metadata": {},
   "source": [
    "### 2.  Create game statistics.\n",
    "Below we will create a few variables to store the game statistics.\n",
    "- An empty list called `userGuesslist`\n",
    "- An empty list called `userGuesses`\n",
    "- A variable called `playGame` set as `True`\n"
   ]
  },
  {
   "cell_type": "code",
   "execution_count": null,
   "id": "b04168cf",
   "metadata": {},
   "outputs": [],
   "source": []
  },
  {
   "cell_type": "markdown",
   "id": "c611de44",
   "metadata": {},
   "source": [
    "### 3. Create the game introduction. \n",
    "- Prompt the player for their name and store it in a variable, you can use the `input()` function. \n",
    "\n",
    "- Before starting the game, display some details about the game (rules and such).\n",
    "- Use the `time` module’s `sleep()` function to pause for a few seconds between the displays."
   ]
  },
  {
   "cell_type": "code",
   "execution_count": null,
   "id": "1ce90d24",
   "metadata": {},
   "outputs": [],
   "source": []
  },
  {
   "cell_type": "markdown",
   "id": "227f622e",
   "metadata": {},
   "source": [
    "### 4. Choosing a random word. \n",
    "Allow the program to choose a random word from the desired list. You can use the `random` module!  There's multiple ways to do this part. "
   ]
  },
  {
   "cell_type": "code",
   "execution_count": null,
   "id": "b4284e73",
   "metadata": {},
   "outputs": [],
   "source": []
  },
  {
   "cell_type": "markdown",
   "id": "55292cb2",
   "metadata": {},
   "source": [
    "### 5. Showing blank lines for every letter in the chosen word. \n",
    "- After the random word is chosen by the program we want to show the player placeholders (we are using blank lines in this program) for every letter in the chosen word. \n",
    "- The number of placeholders indicates the length of the word to be guessed.\n",
    "\n",
    "\n",
    "Below convert our `secretWord` to a list and store it in a variable called `secretWordList`. Note we have the \n",
    "```\n",
    "if playGame: \n",
    "```\n",
    "statement, this is because we want to play the game whenever \n",
    "```\n",
    "playGame = True\n",
    "```"
   ]
  },
  {
   "cell_type": "code",
   "execution_count": null,
   "id": "45534e9f",
   "metadata": {},
   "outputs": [],
   "source": []
  }
 ],
 "metadata": {
  "colab": {
   "collapsed_sections": [],
   "provenance": []
  },
  "kernelspec": {
   "display_name": "Python 3 (ipykernel)",
   "language": "python",
   "name": "python3"
  },
  "language_info": {
   "codemirror_mode": {
    "name": "ipython",
    "version": 3
   },
   "file_extension": ".py",
   "mimetype": "text/x-python",
   "name": "python",
   "nbconvert_exporter": "python",
   "pygments_lexer": "ipython3",
   "version": "3.11.4"
  }
 },
 "nbformat": 4,
 "nbformat_minor": 5
}

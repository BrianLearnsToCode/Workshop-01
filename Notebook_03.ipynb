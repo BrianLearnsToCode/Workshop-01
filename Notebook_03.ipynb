{
 "cells": [
  {
   "cell_type": "markdown",
   "id": "af4ee8a4",
   "metadata": {
    "id": "af4ee8a4"
   },
   "source": [
    "<img src=\"images/Picture0.png\" width=200x />\n",
    "\n",
    "# Notebook 03 - Modules\n",
    "\n",
    "## Instructions\n",
    "Read the material below and complete the exercises.\n",
    "\n",
    "Material covered in this notebook:\n",
    "\n",
    "- How to import the a module\n",
    "- How to call methods in a module\n",
    "- How to create your own modules\n",
    "\n",
    "### Credits\n",
    "notebook.community\n"
   ]
  },
  {
   "cell_type": "markdown",
   "id": "99a9d433",
   "metadata": {},
   "source": [
    "Most of the functionality in Python is provided by *modules*. The Python Standard Library is a large collection of modules that provides *cross-platform* implementations of common facilities such as access to the operating system, file I/O, string management, network communication, and much more.\n",
    "\n",
    "To use a module in a Python program it first has to be imported. A module can be imported using the `import` statement. For example, to import the module `math`, which contains many standard mathematical functions, we can do: "
   ]
  },
  {
   "cell_type": "code",
   "execution_count": 1,
   "id": "8a693245",
   "metadata": {
    "id": "8a693245"
   },
   "outputs": [],
   "source": [
    "import math"
   ]
  },
  {
   "cell_type": "markdown",
   "id": "6c58f9b5",
   "metadata": {
    "id": "6c58f9b5"
   },
   "source": [
    "This includes the whole module and makes it available for use later in the program. For example, we can do:"
   ]
  },
  {
   "cell_type": "code",
   "execution_count": 2,
   "id": "6fee5cab",
   "metadata": {
    "colab": {
     "base_uri": "https://localhost:8080/"
    },
    "executionInfo": {
     "elapsed": 12,
     "status": "ok",
     "timestamp": 1666798111171,
     "user": {
      "displayName": "Salma Tarmoun",
      "userId": "08567866362427820231"
     },
     "user_tz": 240
    },
    "id": "6fee5cab",
    "outputId": "a1e0bf5b-af80-4200-d335-6cd968962dde"
   },
   "outputs": [
    {
     "name": "stdout",
     "output_type": "stream",
     "text": [
      "1.0\n"
     ]
    }
   ],
   "source": [
    "x = math.cos(2 * math.pi)\n",
    "\n",
    "print(x)"
   ]
  },
  {
   "cell_type": "markdown",
   "id": "8da439b2",
   "metadata": {
    "id": "8da439b2"
   },
   "source": [
    "We can also import a module with a different name for easier coding: "
   ]
  },
  {
   "cell_type": "code",
   "execution_count": 4,
   "id": "7cf2a011",
   "metadata": {
    "colab": {
     "base_uri": "https://localhost:8080/"
    },
    "executionInfo": {
     "elapsed": 199,
     "status": "ok",
     "timestamp": 1666798120987,
     "user": {
      "displayName": "Salma Tarmoun",
      "userId": "08567866362427820231"
     },
     "user_tz": 240
    },
    "id": "7cf2a011",
    "outputId": "9f563901-570e-463b-c7a5-0110a8c53658"
   },
   "outputs": [
    {
     "name": "stdout",
     "output_type": "stream",
     "text": [
      "1.0\n"
     ]
    }
   ],
   "source": [
    "import math as m\n",
    "x = m.cos(2 * m.pi)\n",
    "\n",
    "print(x)"
   ]
  },
  {
   "cell_type": "markdown",
   "id": "e57377e0",
   "metadata": {
    "id": "e57377e0"
   },
   "source": [
    "Alternatively, we can chose to import all symbols (functions and variables) in a module to the current namespace (so that we don't need to use the prefix \"math.\" every time we use something from the math module:"
   ]
  },
  {
   "cell_type": "code",
   "execution_count": 5,
   "id": "81d4e379",
   "metadata": {
    "colab": {
     "base_uri": "https://localhost:8080/"
    },
    "executionInfo": {
     "elapsed": 280,
     "status": "ok",
     "timestamp": 1666798127094,
     "user": {
      "displayName": "Salma Tarmoun",
      "userId": "08567866362427820231"
     },
     "user_tz": 240
    },
    "id": "81d4e379",
    "outputId": "f14bc21a-f003-4b7a-bcb7-2759afb75be8"
   },
   "outputs": [
    {
     "name": "stdout",
     "output_type": "stream",
     "text": [
      "1.0\n"
     ]
    }
   ],
   "source": [
    "from math import *\n",
    "\n",
    "x = cos(2 * pi)\n",
    "\n",
    "print(x)"
   ]
  },
  {
   "cell_type": "markdown",
   "id": "b6586509",
   "metadata": {
    "id": "b6586509"
   },
   "source": [
    "This pattern can be very convenient, but in large programs that include many modules it is often a good idea to keep the symbols from each module in their own namespaces, by using the import math pattern. This would elminate potentially confusing problems with name space collisions.\n",
    "As a third alternative, we can chose to import only a few selected symbols from a module by explicitly listing which ones we want to import instead of using the wildcard character '\\*':"
   ]
  },
  {
   "cell_type": "code",
   "execution_count": 6,
   "id": "18d4825b",
   "metadata": {
    "id": "18d4825b",
    "outputId": "cad00150-1bf2-41fc-e68d-bee713ec2438"
   },
   "outputs": [
    {
     "name": "stdout",
     "output_type": "stream",
     "text": [
      "1.0\n"
     ]
    }
   ],
   "source": [
    "from math import cos, pi\n",
    "\n",
    "x = cos(2 * pi)\n",
    "\n",
    "print(x)"
   ]
  },
  {
   "cell_type": "markdown",
   "id": "742fb849",
   "metadata": {
    "id": "742fb849"
   },
   "source": [
    "Once a module is imported, we can list the symbols it provides using the `dir` function:"
   ]
  },
  {
   "cell_type": "code",
   "execution_count": 7,
   "id": "ecce00fe",
   "metadata": {
    "id": "ecce00fe",
    "outputId": "00e6a2b5-07af-4dcd-aec2-4953661dac36"
   },
   "outputs": [
    {
     "name": "stdout",
     "output_type": "stream",
     "text": [
      "['__doc__', '__loader__', '__name__', '__package__', '__spec__', 'acos', 'acosh', 'asin', 'asinh', 'atan', 'atan2', 'atanh', 'ceil', 'comb', 'copysign', 'cos', 'cosh', 'degrees', 'dist', 'e', 'erf', 'erfc', 'exp', 'expm1', 'fabs', 'factorial', 'floor', 'fmod', 'frexp', 'fsum', 'gamma', 'gcd', 'hypot', 'inf', 'isclose', 'isfinite', 'isinf', 'isnan', 'isqrt', 'lcm', 'ldexp', 'lgamma', 'log', 'log10', 'log1p', 'log2', 'modf', 'nan', 'nextafter', 'perm', 'pi', 'pow', 'prod', 'radians', 'remainder', 'sin', 'sinh', 'sqrt', 'tan', 'tanh', 'tau', 'trunc', 'ulp']\n"
     ]
    }
   ],
   "source": [
    "print(dir(math))"
   ]
  },
  {
   "cell_type": "markdown",
   "id": "335efd70",
   "metadata": {
    "id": "335efd70"
   },
   "source": [
    "Using the function `help` we can get a description of each function (almost... not all functions have docstrings, as they are technically called, but the vast majority of functions are documented this way). Note how the `help` function allows you to see the arguments that the function takes in."
   ]
  },
  {
   "cell_type": "code",
   "execution_count": 13,
   "id": "4777dc39",
   "metadata": {
    "id": "4777dc39",
    "outputId": "5f51058a-5e29-4cf2-9a9a-10551d42a87b"
   },
   "outputs": [
    {
     "name": "stdout",
     "output_type": "stream",
     "text": [
      "Help on built-in function hypot in module math:\n",
      "\n",
      "hypot(...)\n",
      "    hypot(*coordinates) -> value\n",
      "    \n",
      "    Multidimensional Euclidean distance from the origin to a point.\n",
      "    \n",
      "    Roughly equivalent to:\n",
      "        sqrt(sum(x**2 for x in coordinates))\n",
      "    \n",
      "    For a two dimensional point (x, y), gives the hypotenuse\n",
      "    using the Pythagorean theorem:  sqrt(x*x + y*y).\n",
      "    \n",
      "    For example, the hypotenuse of a 3/4/5 right triangle is:\n",
      "    \n",
      "        >>> hypot(3.0, 4.0)\n",
      "        5.0\n",
      "\n"
     ]
    }
   ],
   "source": [
    "help(math.hypot)\n"
   ]
  },
  {
   "cell_type": "markdown",
   "id": "GsVia-mhi9bm",
   "metadata": {
    "id": "GsVia-mhi9bm"
   },
   "source": [
    "It is often tempting to use a search engine instead of the `help` function. However, learning how to use `help` is important, especially when using custom modules written by colleagues and not published on the Internet.\n"
   ]
  },
  {
   "cell_type": "markdown",
   "id": "21078633",
   "metadata": {
    "id": "21078633"
   },
   "source": [
    "### Exercise\n",
    "\n",
    "Calculate the logarithm of 5 with base 5. "
   ]
  },
  {
   "cell_type": "code",
   "execution_count": 20,
   "id": "0effc23d",
   "metadata": {
    "id": "0effc23d"
   },
   "outputs": [
    {
     "name": "stdout",
     "output_type": "stream",
     "text": [
      "['__doc__', '__loader__', '__name__', '__package__', '__spec__', 'acos', 'acosh', 'asin', 'asinh', 'atan', 'atan2', 'atanh', 'ceil', 'comb', 'copysign', 'cos', 'cosh', 'degrees', 'dist', 'e', 'erf', 'erfc', 'exp', 'expm1', 'fabs', 'factorial', 'floor', 'fmod', 'frexp', 'fsum', 'gamma', 'gcd', 'hypot', 'inf', 'isclose', 'isfinite', 'isinf', 'isnan', 'isqrt', 'lcm', 'ldexp', 'lgamma', 'log', 'log10', 'log1p', 'log2', 'modf', 'nan', 'nextafter', 'perm', 'pi', 'pow', 'prod', 'radians', 'remainder', 'sin', 'sinh', 'sqrt', 'tan', 'tanh', 'tau', 'trunc', 'ulp']\n",
      "Help on built-in function log in module math:\n",
      "\n",
      "log(...)\n",
      "    log(x, [base=math.e])\n",
      "    Return the logarithm of x to the given base.\n",
      "    \n",
      "    If the base not specified, returns the natural logarithm (base e) of x.\n",
      "\n"
     ]
    },
    {
     "data": {
      "text/plain": [
       "1.0"
      ]
     },
     "execution_count": 20,
     "metadata": {},
     "output_type": "execute_result"
    }
   ],
   "source": [
    "print(dir(math))\n",
    "help(math.log)\n",
    "log(5,5)"
   ]
  },
  {
   "cell_type": "markdown",
   "id": "48c3d2a7",
   "metadata": {
    "id": "48c3d2a7"
   },
   "source": [
    "We can also use the `help` function directly on modules: Try\n",
    "\n",
    "    help(math) \n",
    "\n",
    "Some very useful modules form the Python standard library are `os`, `sys`, `math`, `shutil`, `re`, `subprocess`, `multiprocessing`, `threading`. \n",
    "\n",
    "A complete lists of standard modules for Python 2 and Python 3 are available at http://docs.python.org/2/library/ and http://docs.python.org/3/library/, respectively."
   ]
  },
  {
   "cell_type": "markdown",
   "id": "064be971",
   "metadata": {
    "id": "064be971"
   },
   "source": [
    "### Exercise\n",
    "\n",
    "Using the `math` module, calculate the ceiling of 4.5867 "
   ]
  },
  {
   "cell_type": "code",
   "execution_count": 22,
   "id": "231e4524",
   "metadata": {
    "id": "231e4524"
   },
   "outputs": [
    {
     "data": {
      "text/plain": [
       "5"
      ]
     },
     "execution_count": 22,
     "metadata": {},
     "output_type": "execute_result"
    }
   ],
   "source": [
    "from math import ceil\n",
    "ceil(4.5867)"
   ]
  },
  {
   "cell_type": "markdown",
   "id": "c8b8a479",
   "metadata": {
    "id": "c8b8a479"
   },
   "source": [
    "### Exercise\n",
    "\n",
    "Using the `matplotlib` module, plot the following lists with the `plot` function: \n",
    "x= [1, 3, 4, 5]\n",
    "y= [1, 7, 5, 10]\n",
    "\n",
    "Hint: Use the `help` function to figure out how `plot` works, or just use Google!"
   ]
  },
  {
   "cell_type": "code",
   "execution_count": 32,
   "id": "f8e8fae1",
   "metadata": {
    "id": "f8e8fae1"
   },
   "outputs": [],
   "source": [
    "import matplotlib.pyplot as plt"
   ]
  },
  {
   "cell_type": "code",
   "execution_count": 34,
   "id": "a39b3181",
   "metadata": {
    "id": "a39b3181"
   },
   "outputs": [
    {
     "data": {
      "text/plain": [
       "[<matplotlib.lines.Line2D at 0x1f97398ae60>]"
      ]
     },
     "execution_count": 34,
     "metadata": {},
     "output_type": "execute_result"
    },
    {
     "data": {
      "image/png": "[encoded data removed]",
      "text/plain": [
       "<Figure size 640x480 with 1 Axes>"
      ]
     },
     "metadata": {},
     "output_type": "display_data"
    }
   ],
   "source": [
    "x= [1,3,4,5]\n",
    "y = [1,7,5,10]\n",
    "plt.plot(x,y)"
   ]
  },
  {
   "cell_type": "code",
   "execution_count": null,
   "id": "025d5793",
   "metadata": {
    "id": "025d5793"
   },
   "outputs": [],
   "source": []
  },
  {
   "cell_type": "markdown",
   "id": "858105b9",
   "metadata": {
    "id": "858105b9"
   },
   "source": [
    "### Congrats, you just made your first plot!"
   ]
  },
  {
   "cell_type": "markdown",
   "id": "62ad6465",
   "metadata": {
    "id": "62ad6465"
   },
   "source": [
    "# Matplotlib\n",
    "\n",
    "`matplotlib` is the most popular data visualization library within the Python programming language. We will mainly use `pyplot`, which is a module from `matplotlib`, and discuss its main functions and give examples on how to use them. \n",
    "\n",
    "There are many tutorials out there that will help you build the type of graph you want:\n",
    "* [Official Matplotlib Tutorials](https://matplotlib.org/3.3.3/tutorials/index.html)\n",
    "* [Adding Flair To Your Graph](https://data-flair.training/blogs/python-matplotlib-tutorial/)\n",
    "* [More information at the Matplotlib web page](http://matplotlib.org/)"
   ]
  },
  {
   "cell_type": "markdown",
   "id": "309b41c9",
   "metadata": {
    "id": "309b41c9"
   },
   "source": [
    "### Exercise\n",
    "\n",
    "The function `plot` takes in a lot of arguments (marker, color, label). Read the docstring to see if you can plot the same lists but each point is marked by a <font color=\"green\">green</font> triangle and the line is dashed (--). "
   ]
  },
  {
   "cell_type": "code",
   "execution_count": 35,
   "id": "496b250d",
   "metadata": {
    "id": "496b250d"
   },
   "outputs": [
    {
     "name": "stdout",
     "output_type": "stream",
     "text": [
      "Help on function plot in module matplotlib.pyplot:\n",
      "\n",
      "plot(*args, scalex=True, scaley=True, data=None, **kwargs)\n",
      "    Plot y versus x as lines and/or markers.\n",
      "    \n",
      "    Call signatures::\n",
      "    \n",
      "        plot([x], y, [fmt], *, data=None, **kwargs)\n",
      "        plot([x], y, [fmt], [x2], y2, [fmt2], ..., **kwargs)\n",
      "    \n",
      "    The coordinates of the points or line nodes are given by *x*, *y*.\n",
      "    \n",
      "    The optional parameter *fmt* is a convenient way for defining basic\n",
      "    formatting like color, marker and linestyle. It's a shortcut string\n",
      "    notation described in the *Notes* section below.\n",
      "    \n",
      "    >>> plot(x, y)        # plot x and y using default line style and color\n",
      "    >>> plot(x, y, 'bo')  # plot x and y using blue circle markers\n",
      "    >>> plot(y)           # plot y using x as index array 0..N-1\n",
      "    >>> plot(y, 'r+')     # ditto, but with red plusses\n",
      "    \n",
      "    You can use `.Line2D` properties as keyword arguments for more\n",
      "    control on the appearance. Line properties and *fmt* can be mixed.\n",
      "    The following two calls yield identical results:\n",
      "    \n",
      "    >>> plot(x, y, 'go--', linewidth=2, markersize=12)\n",
      "    >>> plot(x, y, color='green', marker='o', linestyle='dashed',\n",
      "    ...      linewidth=2, markersize=12)\n",
      "    \n",
      "    When conflicting with *fmt*, keyword arguments take precedence.\n",
      "    \n",
      "    \n",
      "    **Plotting labelled data**\n",
      "    \n",
      "    There's a convenient way for plotting objects with labelled data (i.e.\n",
      "    data that can be accessed by index ``obj['y']``). Instead of giving\n",
      "    the data in *x* and *y*, you can provide the object in the *data*\n",
      "    parameter and just give the labels for *x* and *y*::\n",
      "    \n",
      "    >>> plot('xlabel', 'ylabel', data=obj)\n",
      "    \n",
      "    All indexable objects are supported. This could e.g. be a `dict`, a\n",
      "    `pandas.DataFrame` or a structured numpy array.\n",
      "    \n",
      "    \n",
      "    **Plotting multiple sets of data**\n",
      "    \n",
      "    There are various ways to plot multiple sets of data.\n",
      "    \n",
      "    - The most straight forward way is just to call `plot` multiple times.\n",
      "      Example:\n",
      "    \n",
      "      >>> plot(x1, y1, 'bo')\n",
      "      >>> plot(x2, y2, 'go')\n",
      "    \n",
      "    - If *x* and/or *y* are 2D arrays a separate data set will be drawn\n",
      "      for every column. If both *x* and *y* are 2D, they must have the\n",
      "      same shape. If only one of them is 2D with shape (N, m) the other\n",
      "      must have length N and will be used for every data set m.\n",
      "    \n",
      "      Example:\n",
      "    \n",
      "      >>> x = [1, 2, 3]\n",
      "      >>> y = np.array([[1, 2], [3, 4], [5, 6]])\n",
      "      >>> plot(x, y)\n",
      "    \n",
      "      is equivalent to:\n",
      "    \n",
      "      >>> for col in range(y.shape[1]):\n",
      "      ...     plot(x, y[:, col])\n",
      "    \n",
      "    - The third way is to specify multiple sets of *[x]*, *y*, *[fmt]*\n",
      "      groups::\n",
      "    \n",
      "      >>> plot(x1, y1, 'g^', x2, y2, 'g-')\n",
      "    \n",
      "      In this case, any additional keyword argument applies to all\n",
      "      datasets. Also, this syntax cannot be combined with the *data*\n",
      "      parameter.\n",
      "    \n",
      "    By default, each line is assigned a different style specified by a\n",
      "    'style cycle'. The *fmt* and line property parameters are only\n",
      "    necessary if you want explicit deviations from these defaults.\n",
      "    Alternatively, you can also change the style cycle using\n",
      "    :rc:`axes.prop_cycle`.\n",
      "    \n",
      "    \n",
      "    Parameters\n",
      "    ----------\n",
      "    x, y : array-like or scalar\n",
      "        The horizontal / vertical coordinates of the data points.\n",
      "        *x* values are optional and default to ``range(len(y))``.\n",
      "    \n",
      "        Commonly, these parameters are 1D arrays.\n",
      "    \n",
      "        They can also be scalars, or two-dimensional (in that case, the\n",
      "        columns represent separate data sets).\n",
      "    \n",
      "        These arguments cannot be passed as keywords.\n",
      "    \n",
      "    fmt : str, optional\n",
      "        A format string, e.g. 'ro' for red circles. See the *Notes*\n",
      "        section for a full description of the format strings.\n",
      "    \n",
      "        Format strings are just an abbreviation for quickly setting\n",
      "        basic line properties. All of these and more can also be\n",
      "        controlled by keyword arguments.\n",
      "    \n",
      "        This argument cannot be passed as keyword.\n",
      "    \n",
      "    data : indexable object, optional\n",
      "        An object with labelled data. If given, provide the label names to\n",
      "        plot in *x* and *y*.\n",
      "    \n",
      "        .. note::\n",
      "            Technically there's a slight ambiguity in calls where the\n",
      "            second label is a valid *fmt*. ``plot('n', 'o', data=obj)``\n",
      "            could be ``plt(x, y)`` or ``plt(y, fmt)``. In such cases,\n",
      "            the former interpretation is chosen, but a warning is issued.\n",
      "            You may suppress the warning by adding an empty format string\n",
      "            ``plot('n', 'o', '', data=obj)``.\n",
      "    \n",
      "    Returns\n",
      "    -------\n",
      "    list of `.Line2D`\n",
      "        A list of lines representing the plotted data.\n",
      "    \n",
      "    Other Parameters\n",
      "    ----------------\n",
      "    scalex, scaley : bool, default: True\n",
      "        These parameters determine if the view limits are adapted to the\n",
      "        data limits. The values are passed on to\n",
      "        `~.axes.Axes.autoscale_view`.\n",
      "    \n",
      "    **kwargs : `.Line2D` properties, optional\n",
      "        *kwargs* are used to specify properties like a line label (for\n",
      "        auto legends), linewidth, antialiasing, marker face color.\n",
      "        Example::\n",
      "    \n",
      "        >>> plot([1, 2, 3], [1, 2, 3], 'go-', label='line 1', linewidth=2)\n",
      "        >>> plot([1, 2, 3], [1, 4, 9], 'rs', label='line 2')\n",
      "    \n",
      "        If you specify multiple lines with one plot call, the kwargs apply\n",
      "        to all those lines. In case the label object is iterable, each\n",
      "        element is used as labels for each set of data.\n",
      "    \n",
      "        Here is a list of available `.Line2D` properties:\n",
      "    \n",
      "        Properties:\n",
      "        agg_filter: a filter function, which takes a (m, n, 3) float array and a dpi value, and returns a (m, n, 3) array and two offsets from the bottom left corner of the image\n",
      "        alpha: scalar or None\n",
      "        animated: bool\n",
      "        antialiased or aa: bool\n",
      "        clip_box: `.Bbox`\n",
      "        clip_on: bool\n",
      "        clip_path: Patch or (Path, Transform) or None\n",
      "        color or c: color\n",
      "        dash_capstyle: `.CapStyle` or {'butt', 'projecting', 'round'}\n",
      "        dash_joinstyle: `.JoinStyle` or {'miter', 'round', 'bevel'}\n",
      "        dashes: sequence of floats (on/off ink in points) or (None, None)\n",
      "        data: (2, N) array or two 1D arrays\n",
      "        drawstyle or ds: {'default', 'steps', 'steps-pre', 'steps-mid', 'steps-post'}, default: 'default'\n",
      "        figure: `.Figure`\n",
      "        fillstyle: {'full', 'left', 'right', 'bottom', 'top', 'none'}\n",
      "        gapcolor: color or None\n",
      "        gid: str\n",
      "        in_layout: bool\n",
      "        label: object\n",
      "        linestyle or ls: {'-', '--', '-.', ':', '', (offset, on-off-seq), ...}\n",
      "        linewidth or lw: float\n",
      "        marker: marker style string, `~.path.Path` or `~.markers.MarkerStyle`\n",
      "        markeredgecolor or mec: color\n",
      "        markeredgewidth or mew: float\n",
      "        markerfacecolor or mfc: color\n",
      "        markerfacecoloralt or mfcalt: color\n",
      "        markersize or ms: float\n",
      "        markevery: None or int or (int, int) or slice or list[int] or float or (float, float) or list[bool]\n",
      "        mouseover: bool\n",
      "        path_effects: `.AbstractPathEffect`\n",
      "        picker: float or callable[[Artist, Event], tuple[bool, dict]]\n",
      "        pickradius: unknown\n",
      "        rasterized: bool\n",
      "        sketch_params: (scale: float, length: float, randomness: float)\n",
      "        snap: bool or None\n",
      "        solid_capstyle: `.CapStyle` or {'butt', 'projecting', 'round'}\n",
      "        solid_joinstyle: `.JoinStyle` or {'miter', 'round', 'bevel'}\n",
      "        transform: unknown\n",
      "        url: str\n",
      "        visible: bool\n",
      "        xdata: 1D array\n",
      "        ydata: 1D array\n",
      "        zorder: float\n",
      "    \n",
      "    See Also\n",
      "    --------\n",
      "    scatter : XY scatter plot with markers of varying size and/or color (\n",
      "        sometimes also called bubble chart).\n",
      "    \n",
      "    Notes\n",
      "    -----\n",
      "    **Format Strings**\n",
      "    \n",
      "    A format string consists of a part for color, marker and line::\n",
      "    \n",
      "        fmt = '[marker][line][color]'\n",
      "    \n",
      "    Each of them is optional. If not provided, the value from the style\n",
      "    cycle is used. Exception: If ``line`` is given, but no ``marker``,\n",
      "    the data will be a line without markers.\n",
      "    \n",
      "    Other combinations such as ``[color][marker][line]`` are also\n",
      "    supported, but note that their parsing may be ambiguous.\n",
      "    \n",
      "    **Markers**\n",
      "    \n",
      "    =============   ===============================\n",
      "    character       description\n",
      "    =============   ===============================\n",
      "    ``'.'``         point marker\n",
      "    ``','``         pixel marker\n",
      "    ``'o'``         circle marker\n",
      "    ``'v'``         triangle_down marker\n",
      "    ``'^'``         triangle_up marker\n",
      "    ``'<'``         triangle_left marker\n",
      "    ``'>'``         triangle_right marker\n",
      "    ``'1'``         tri_down marker\n",
      "    ``'2'``         tri_up marker\n",
      "    ``'3'``         tri_left marker\n",
      "    ``'4'``         tri_right marker\n",
      "    ``'8'``         octagon marker\n",
      "    ``'s'``         square marker\n",
      "    ``'p'``         pentagon marker\n",
      "    ``'P'``         plus (filled) marker\n",
      "    ``'*'``         star marker\n",
      "    ``'h'``         hexagon1 marker\n",
      "    ``'H'``         hexagon2 marker\n",
      "    ``'+'``         plus marker\n",
      "    ``'x'``         x marker\n",
      "    ``'X'``         x (filled) marker\n",
      "    ``'D'``         diamond marker\n",
      "    ``'d'``         thin_diamond marker\n",
      "    ``'|'``         vline marker\n",
      "    ``'_'``         hline marker\n",
      "    =============   ===============================\n",
      "    \n",
      "    **Line Styles**\n",
      "    \n",
      "    =============    ===============================\n",
      "    character        description\n",
      "    =============    ===============================\n",
      "    ``'-'``          solid line style\n",
      "    ``'--'``         dashed line style\n",
      "    ``'-.'``         dash-dot line style\n",
      "    ``':'``          dotted line style\n",
      "    =============    ===============================\n",
      "    \n",
      "    Example format strings::\n",
      "    \n",
      "        'b'    # blue markers with default shape\n",
      "        'or'   # red circles\n",
      "        '-g'   # green solid line\n",
      "        '--'   # dashed line with default color\n",
      "        '^k:'  # black triangle_up markers connected by a dotted line\n",
      "    \n",
      "    **Colors**\n",
      "    \n",
      "    The supported color abbreviations are the single letter codes\n",
      "    \n",
      "    =============    ===============================\n",
      "    character        color\n",
      "    =============    ===============================\n",
      "    ``'b'``          blue\n",
      "    ``'g'``          green\n",
      "    ``'r'``          red\n",
      "    ``'c'``          cyan\n",
      "    ``'m'``          magenta\n",
      "    ``'y'``          yellow\n",
      "    ``'k'``          black\n",
      "    ``'w'``          white\n",
      "    =============    ===============================\n",
      "    \n",
      "    and the ``'CN'`` colors that index into the default property cycle.\n",
      "    \n",
      "    If the color is the only part of the format string, you can\n",
      "    additionally use any  `matplotlib.colors` spec, e.g. full names\n",
      "    (``'green'``) or hex strings (``'#008000'``).\n",
      "\n"
     ]
    }
   ],
   "source": [
    "help(plt.plot)"
   ]
  },
  {
   "cell_type": "code",
   "execution_count": 41,
   "id": "937bef2c",
   "metadata": {},
   "outputs": [
    {
     "data": {
      "text/plain": [
       "[<matplotlib.lines.Line2D at 0x1f973abdc30>]"
      ]
     },
     "execution_count": 41,
     "metadata": {},
     "output_type": "execute_result"
    },
    {
     "data": {
      "image/png": "[encoded data removed]",
      "text/plain": [
       "<Figure size 640x480 with 1 Axes>"
      ]
     },
     "metadata": {},
     "output_type": "display_data"
    }
   ],
   "source": [
    "y = list(range(10,0,-1))\n",
    "plt.plot(y,'bo')"
   ]
  },
  {
   "cell_type": "markdown",
   "id": "bdea01b9",
   "metadata": {
    "id": "bdea01b9"
   },
   "source": [
    "In the event that you are using a .py script, you always need to write `plt.show()` after finishing your graph. This will allow you to see the graph you have created. "
   ]
  },
  {
   "cell_type": "markdown",
   "id": "3b864ca4",
   "metadata": {
    "id": "3b864ca4"
   },
   "source": [
    "Let's add some flair to our graph. The following functions will help us:\n",
    "\n",
    "* `plt.title()`: Set a title, which appears above the plot.\n",
    "* `plt.grid()`: Configure the grid lines in the figure. To enable grid lines in the plot, use plt.grid(True).\n",
    "* `plt.legend()`: Place a legend in the figure.\n",
    "* `plt.xlabel()` and `plt.ylabel()`: Set labels for the axes. \n",
    "* `plt.xlim()` and `plt.ylim()`: Set the limit ranges for the axes "
   ]
  },
  {
   "cell_type": "code",
   "execution_count": 52,
   "id": "4e58852d",
   "metadata": {
    "id": "4e58852d",
    "outputId": "925bab42-c168-43ea-e160-95188ec6a12b"
   },
   "outputs": [
    {
     "data": {
      "image/png": "[encoded data removed]",
      "text/plain": [
       "<Figure size 640x480 with 1 Axes>"
      ]
     },
     "metadata": {},
     "output_type": "display_data"
    }
   ],
   "source": [
    "plt.plot([1,3,4,5], [1,7,5,10],label='$\\\\alpha^2$')\n",
    "plt.title('Simple Linear Graph') #title\n",
    "plt.grid(True) #gridlines\n",
    "plt.xlabel('x values') #label for x\n",
    "plt.ylabel('y values') #label for y\n",
    "plt.xlim([0, 7]) #limits for x axis\n",
    "plt.ylim([0, 15]) #limits for y axis\n",
    "plt.legend() #add a legend\n",
    "plt.show()"
   ]
  },
  {
   "cell_type": "markdown",
   "id": "98d464b9",
   "metadata": {
    "id": "98d464b9"
   },
   "source": [
    "\n",
    "Note how we have a warning \"No artists with labels found to put in legend.\". This is because we actually need to label each graph in order to create the legend. \n",
    "\n",
    "\n",
    "### Exercise\n",
    "\n",
    "Where should the label go?"
   ]
  },
  {
   "cell_type": "code",
   "execution_count": 48,
   "id": "d5b32b68",
   "metadata": {
    "id": "d5b32b68"
   },
   "outputs": [
    {
     "name": "stdout",
     "output_type": "stream",
     "text": [
      "Help on function xlabel in module matplotlib.pyplot:\n",
      "\n",
      "xlabel(xlabel, fontdict=None, labelpad=None, *, loc=None, **kwargs)\n",
      "    Set the label for the x-axis.\n",
      "    \n",
      "    Parameters\n",
      "    ----------\n",
      "    xlabel : str\n",
      "        The label text.\n",
      "    \n",
      "    labelpad : float, default: :rc:`axes.labelpad`\n",
      "        Spacing in points from the Axes bounding box including ticks\n",
      "        and tick labels.  If None, the previous value is left as is.\n",
      "    \n",
      "    loc : {'left', 'center', 'right'}, default: :rc:`xaxis.labellocation`\n",
      "        The label position. This is a high-level alternative for passing\n",
      "        parameters *x* and *horizontalalignment*.\n",
      "    \n",
      "    Other Parameters\n",
      "    ----------------\n",
      "    **kwargs : `.Text` properties\n",
      "        `.Text` properties control the appearance of the label.\n",
      "    \n",
      "    See Also\n",
      "    --------\n",
      "    text : Documents the properties supported by `.Text`.\n",
      "\n"
     ]
    }
   ],
   "source": [
    "help(plt.xlabel)"
   ]
  },
  {
   "cell_type": "markdown",
   "id": "uy7OMtpkbqAW",
   "metadata": {
    "id": "uy7OMtpkbqAW"
   },
   "source": []
  },
  {
   "cell_type": "markdown",
   "id": "M6fsu__BQeTH",
   "metadata": {
    "id": "M6fsu__BQeTH"
   },
   "source": [
    "## Optional Exercises\n",
    "\n",
    "If you're already done and want to challenge yourself, check out the topic below! "
   ]
  },
  {
   "cell_type": "markdown",
   "id": "dd818b7e",
   "metadata": {
    "id": "dd818b7e"
   },
   "source": [
    "### Creating our own modules \n",
    "\n",
    "Most of the time we will want to create our own functions and use them when necessary. To do this we can create our own modules! \n",
    "\n",
    "The file name is the module name with the suffix .py appended. Within a module, the module’s name (as a string) is available as the value of the global variable `__name__`. \n",
    "\n",
    "### Exercise\n",
    "Use your favorite text editor to create a file called \"helloworld.py\" in the current directory with the following contents\n",
    "\n",
    "```\n",
    "# This file will print \"Hello world!\"\n",
    "def printHello():\n",
    "    print(\"Hello World!\")\n",
    "    ```\n",
    "\n"
   ]
  },
  {
   "cell_type": "markdown",
   "id": "c675a5cc",
   "metadata": {
    "id": "c675a5cc"
   },
   "source": [
    "Now enter the Python interpreter and import this module with the following command:"
   ]
  },
  {
   "cell_type": "code",
   "execution_count": null,
   "id": "d88c0990",
   "metadata": {
    "id": "d88c0990"
   },
   "outputs": [],
   "source": [
    "from helloworld import printHello"
   ]
  },
  {
   "cell_type": "markdown",
   "id": "2d69e99b",
   "metadata": {
    "id": "2d69e99b"
   },
   "source": [
    "Now we can use the functions inside the \"helloworld.py\" script. "
   ]
  },
  {
   "cell_type": "code",
   "execution_count": null,
   "id": "99fbb5e0",
   "metadata": {
    "id": "99fbb5e0",
    "outputId": "af74d5bf-f9e1-448b-d470-b22f7ba62bf7"
   },
   "outputs": [],
   "source": [
    "printHello()"
   ]
  },
  {
   "cell_type": "markdown",
   "id": "4552214d",
   "metadata": {
    "id": "4552214d"
   },
   "source": [
    "## LaTeX\n",
    "If you have a working LaTeX installation in your computer, you can have publication-quality plots. The results are very nice, especially when you take care to use the same fonts in your figures as in the main document.\n",
    "\n",
    "Let's see the the graph below..."
   ]
  },
  {
   "cell_type": "code",
   "execution_count": null,
   "id": "78e9bc67",
   "metadata": {
    "colab": {
     "base_uri": "https://localhost:8080/",
     "height": 301
    },
    "executionInfo": {
     "elapsed": 303,
     "status": "ok",
     "timestamp": 1634743009222,
     "user": {
      "displayName": "Adriana Morales Miranda",
      "photoUrl": "https://lh3.googleusercontent.com/a/default-user=s64",
      "userId": "02653100314428723174"
     },
     "user_tz": 300
    },
    "id": "78e9bc67",
    "outputId": "fa890280-2073-4b30-f5ac-66442338d3d8",
    "scrolled": true
   },
   "outputs": [],
   "source": [
    "plt.plot([1,2,3,4], [1,4,9,16], color= 'magenta')\n",
    "plt.title(\"Plot $x^2$\")\n",
    "plt.xlabel('$x$ values')\n",
    "plt.ylabel(\"$f(x)= x^2$\")\n",
    "plt.show()"
   ]
  },
  {
   "cell_type": "markdown",
   "id": "9d688e46",
   "metadata": {
    "id": "9d688e46"
   },
   "source": [
    "Note how we used LateX commands to make the label nicer! We can include LateX code by just putting the code inside dollar signs inside a string. "
   ]
  },
  {
   "cell_type": "markdown",
   "id": "XZc-hZJkJ9D_",
   "metadata": {
    "id": "XZc-hZJkJ9D_"
   },
   "source": [
    "## Fibonacci function\n",
    "\n",
    "If you're already familiar with writing functions, here's an exercise for you to try! Else functions are covered in notebook 6 - you can come back to this after you've worked through that notebook!"
   ]
  },
  {
   "cell_type": "markdown",
   "id": "990323e3",
   "metadata": {
    "id": "990323e3"
   },
   "source": [
    "### Exercise\n",
    "\n",
    "Create a file called \"fibo.py\". In the file write two functions:\n",
    "- One function called `fibo1` that **prints** the Fibonacci series up to $n$. \n",
    "- One function called `fibo2` that **returns** the Fibonacci series up to $n$.\n",
    "\n",
    "Import the module and use the functions to calculate the first 5 Fibonacci numbers."
   ]
  },
  {
   "cell_type": "code",
   "execution_count": null,
   "id": "ba184dd9",
   "metadata": {
    "id": "ba184dd9"
   },
   "outputs": [],
   "source": []
  }
 ],
 "metadata": {
  "colab": {
   "collapsed_sections": [],
   "provenance": []
  },
  "kernelspec": {
   "display_name": "Python 3 (ipykernel)",
   "language": "python",
   "name": "python3"
  },
  "language_info": {
   "codemirror_mode": {
    "name": "ipython",
    "version": 3
   },
   "file_extension": ".py",
   "mimetype": "text/x-python",
   "name": "python",
   "nbconvert_exporter": "python",
   "pygments_lexer": "ipython3",
   "version": "3.10.7"
  }
 },
 "nbformat": 4,
 "nbformat_minor": 5
}

{
 "cells": [
  {
   "cell_type": "markdown",
   "id": "af4ee8a4",
   "metadata": {
    "id": "af4ee8a4"
   },
   "source": [
    "<img src=\"images/Picture0.png\" width=200x />\n",
    "\n",
    "# Notebook 03 - Modules\n",
    "\n",
    "## Instructions\n",
    "Read the material below and complete the exercises.\n",
    "\n",
    "Material covered in this notebook:\n",
    "\n",
    "- How to import the a module\n",
    "- How to call methods in a module\n",
    "- How to create your own modules\n",
    "\n",
    "### Credits\n"
   ]
  },
  {
   "cell_type": "markdown",
   "id": "99a9d433",
   "metadata": {},
   "source": [
    "Most of the functionality in Python is provided by *modules*. The Python Standard Library is a large collection of modules that provides *cross-platform* implementations of common facilities such as access to the operating system, file I/O, string management, network communication, and much more.\n",
    "\n",
    "To use a module in a Python program it first has to be imported. A module can be imported using the `import` statement. For example, to import the module `math`, which contains many standard mathematical functions, we can do: "
   ]
  },
  {
   "cell_type": "code",
   "execution_count": null,
   "id": "8a693245",
   "metadata": {
    "id": "8a693245"
   },
   "outputs": [],
   "source": [
    "import math"
   ]
  },
  {
   "cell_type": "markdown",
   "id": "6c58f9b5",
   "metadata": {
    "id": "6c58f9b5"
   },
   "source": [
    "This includes the whole module and makes it available for use later in the program. For example, we can do:"
   ]
  },
  {
   "cell_type": "code",
   "execution_count": null,
   "id": "6fee5cab",
   "metadata": {
    "colab": {
     "base_uri": "https://localhost:8080/"
    },
    "executionInfo": {
     "elapsed": 12,
     "status": "ok",
     "timestamp": 1666798111171,
     "user": {
      "displayName": "Salma Tarmoun",
      "userId": "08567866362427820231"
     },
     "user_tz": 240
    },
    "id": "6fee5cab",
    "outputId": "a1e0bf5b-af80-4200-d335-6cd968962dde"
   },
   "outputs": [
    {
     "name": "stdout",
     "output_type": "stream",
     "text": [
      "1.0\n"
     ]
    }
   ],
   "source": [
    "x = math.cos(2 * math.pi)\n",
    "\n",
    "print(x)"
   ]
  },
  {
   "cell_type": "markdown",
   "id": "8da439b2",
   "metadata": {
    "id": "8da439b2"
   },
   "source": [
    "We can also import a module with a different name for easier coding: "
   ]
  },
  {
   "cell_type": "code",
   "execution_count": null,
   "id": "7cf2a011",
   "metadata": {
    "colab": {
     "base_uri": "https://localhost:8080/"
    },
    "executionInfo": {
     "elapsed": 199,
     "status": "ok",
     "timestamp": 1666798120987,
     "user": {
      "displayName": "Salma Tarmoun",
      "userId": "08567866362427820231"
     },
     "user_tz": 240
    },
    "id": "7cf2a011",
    "outputId": "9f563901-570e-463b-c7a5-0110a8c53658"
   },
   "outputs": [
    {
     "name": "stdout",
     "output_type": "stream",
     "text": [
      "1.0\n"
     ]
    }
   ],
   "source": [
    "import math as m\n",
    "x = m.cos(2 * math.pi)\n",
    "\n",
    "print(x)"
   ]
  },
  {
   "cell_type": "markdown",
   "id": "e57377e0",
   "metadata": {
    "id": "e57377e0"
   },
   "source": [
    "Alternatively, we can chose to import all symbols (functions and variables) in a module to the current namespace (so that we don't need to use the prefix \"math.\" every time we use something from the math module:"
   ]
  },
  {
   "cell_type": "code",
   "execution_count": null,
   "id": "81d4e379",
   "metadata": {
    "colab": {
     "base_uri": "https://localhost:8080/"
    },
    "executionInfo": {
     "elapsed": 280,
     "status": "ok",
     "timestamp": 1666798127094,
     "user": {
      "displayName": "Salma Tarmoun",
      "userId": "08567866362427820231"
     },
     "user_tz": 240
    },
    "id": "81d4e379",
    "outputId": "f14bc21a-f003-4b7a-bcb7-2759afb75be8"
   },
   "outputs": [
    {
     "name": "stdout",
     "output_type": "stream",
     "text": [
      "1.0\n"
     ]
    }
   ],
   "source": [
    "from math import *\n",
    "\n",
    "x = cos(2 * pi)\n",
    "\n",
    "print(x)"
   ]
  },
  {
   "cell_type": "markdown",
   "id": "b6586509",
   "metadata": {
    "id": "b6586509"
   },
   "source": [
    "This pattern can be very convenient, but in large programs that include many modules it is often a good idea to keep the symbols from each module in their own namespaces, by using the import math pattern. This would elminate potentially confusing problems with name space collisions.\n",
    "As a third alternative, we can chose to import only a few selected symbols from a module by explicitly listing which ones we want to import instead of using the wildcard character *:"
   ]
  },
  {
   "cell_type": "code",
   "execution_count": null,
   "id": "18d4825b",
   "metadata": {
    "id": "18d4825b",
    "outputId": "cad00150-1bf2-41fc-e68d-bee713ec2438"
   },
   "outputs": [
    {
     "name": "stdout",
     "output_type": "stream",
     "text": [
      "1.0\n"
     ]
    }
   ],
   "source": [
    "from math import cos, pi\n",
    "\n",
    "x = cos(2 * pi)\n",
    "\n",
    "print(x)"
   ]
  },
  {
   "cell_type": "markdown",
   "id": "742fb849",
   "metadata": {
    "id": "742fb849"
   },
   "source": [
    "Once a module is imported, we can list the symbols it provides using the `dir` function:"
   ]
  },
  {
   "cell_type": "code",
   "execution_count": null,
   "id": "ecce00fe",
   "metadata": {
    "id": "ecce00fe",
    "outputId": "00e6a2b5-07af-4dcd-aec2-4953661dac36"
   },
   "outputs": [
    {
     "name": "stdout",
     "output_type": "stream",
     "text": [
      "['__doc__', '__file__', '__loader__', '__name__', '__package__', '__spec__', 'acos', 'acosh', 'asin', 'asinh', 'atan', 'atan2', 'atanh', 'ceil', 'comb', 'copysign', 'cos', 'cosh', 'degrees', 'dist', 'e', 'erf', 'erfc', 'exp', 'expm1', 'fabs', 'factorial', 'floor', 'fmod', 'frexp', 'fsum', 'gamma', 'gcd', 'hypot', 'inf', 'isclose', 'isfinite', 'isinf', 'isnan', 'isqrt', 'ldexp', 'lgamma', 'log', 'log10', 'log1p', 'log2', 'modf', 'nan', 'perm', 'pi', 'pow', 'prod', 'radians', 'remainder', 'sin', 'sinh', 'sqrt', 'tan', 'tanh', 'tau', 'trunc']\n"
     ]
    }
   ],
   "source": [
    "print(dir(math))"
   ]
  },
  {
   "cell_type": "markdown",
   "id": "335efd70",
   "metadata": {
    "id": "335efd70"
   },
   "source": [
    "Using the function `help` we can get a description of each function (almost... not all functions have docstrings, as they are technically called, but the vast majority of functions are documented this way). Note how the `help` function allows you to see the arguments that the function takes in."
   ]
  },
  {
   "cell_type": "code",
   "execution_count": null,
   "id": "4777dc39",
   "metadata": {
    "id": "4777dc39",
    "outputId": "5f51058a-5e29-4cf2-9a9a-10551d42a87b"
   },
   "outputs": [
    {
     "name": "stdout",
     "output_type": "stream",
     "text": [
      "Help on built-in function log in module math:\n",
      "\n",
      "log(...)\n",
      "    log(x, [base=math.e])\n",
      "    Return the logarithm of x to the given base.\n",
      "    \n",
      "    If the base not specified, returns the natural logarithm (base e) of x.\n",
      "\n"
     ]
    }
   ],
   "source": [
    "help(math.log)"
   ]
  },
  {
   "cell_type": "markdown",
   "id": "GsVia-mhi9bm",
   "metadata": {
    "id": "GsVia-mhi9bm"
   },
   "source": [
    "Most people don't use the`help` function, and just use a search engine. It's important that you learn how to search for things! \n"
   ]
  },
  {
   "cell_type": "markdown",
   "id": "21078633",
   "metadata": {
    "id": "21078633"
   },
   "source": [
    "<font face=\"verdana\" style=\"font-size:30px\" color=\"red\">Your turn</font>\n",
    "\n",
    "Calculate the logarithm of 5 with base 5. "
   ]
  },
  {
   "cell_type": "code",
   "execution_count": null,
   "id": "0effc23d",
   "metadata": {
    "id": "0effc23d"
   },
   "outputs": [],
   "source": []
  },
  {
   "cell_type": "markdown",
   "id": "48c3d2a7",
   "metadata": {
    "id": "48c3d2a7"
   },
   "source": [
    "We can also use the `help` function directly on modules: Try\n",
    "\n",
    "    help(math) \n",
    "\n",
    "Some very useful modules form the Python standard library are `os`, `sys`, `math`, `shutil`, `re`, `subprocess`, `multiprocessing`, `threading`. \n",
    "\n",
    "A complete lists of standard modules for Python 2 and Python 3 are available at http://docs.python.org/2/library/ and http://docs.python.org/3/library/, respectively."
   ]
  },
  {
   "cell_type": "markdown",
   "id": "064be971",
   "metadata": {
    "id": "064be971"
   },
   "source": [
    "<font face=\"verdana\" style=\"font-size:30px\" color=\"red\">Your turn</font>\n",
    "\n",
    "Using the `math` module calculate the ceiling of 4.5867 "
   ]
  },
  {
   "cell_type": "code",
   "execution_count": null,
   "id": "231e4524",
   "metadata": {
    "id": "231e4524"
   },
   "outputs": [],
   "source": []
  },
  {
   "cell_type": "markdown",
   "id": "c8b8a479",
   "metadata": {
    "id": "c8b8a479"
   },
   "source": [
    "<font face=\"verdana\" style=\"font-size:30px\" color=\"red\">Your turn</font>\n",
    "\n",
    "Using the `matplotlib.pyplot` module, plot the following lists with the `plot` function: \n",
    "x= [1, 3, 4, 5]\n",
    "y= [1, 7, 5, 10]\n",
    "\n",
    "Hint: Use the help function to figure out how `plot` works, or just use Google!"
   ]
  },
  {
   "cell_type": "code",
   "execution_count": null,
   "id": "f8e8fae1",
   "metadata": {
    "id": "f8e8fae1"
   },
   "outputs": [],
   "source": [
    "import matplotlib.pyplot as plt"
   ]
  },
  {
   "cell_type": "code",
   "execution_count": null,
   "id": "a39b3181",
   "metadata": {
    "id": "a39b3181"
   },
   "outputs": [],
   "source": []
  },
  {
   "cell_type": "code",
   "execution_count": null,
   "id": "025d5793",
   "metadata": {
    "id": "025d5793"
   },
   "outputs": [],
   "source": []
  },
  {
   "cell_type": "markdown",
   "id": "858105b9",
   "metadata": {
    "id": "858105b9"
   },
   "source": [
    "### Congrats, you just made your first plot!"
   ]
  },
  {
   "cell_type": "markdown",
   "id": "62ad6465",
   "metadata": {
    "id": "62ad6465"
   },
   "source": [
    "# Matplotlib\n",
    "\n",
    "`matplotlib` is the most popular data visualization library within the Python programming language. We will mainly use `pyplot`, which is a module from `matplotlib`, and discuss its main functions and give examples on how to use them. \n",
    "\n",
    "There's a lot of tutorials out there that will help you build the type of graph you want: \n",
    "* [Official Matplotlib Tutorials](https://matplotlib.org/3.3.3/tutorials/index.html)\n",
    "* [Adding Flair To Your Graph](https://data-flair.training/blogs/python-matplotlib-tutorial/)\n",
    "* [More information at the Matplotlib web page](http://matplotlib.org/)"
   ]
  },
  {
   "cell_type": "markdown",
   "id": "309b41c9",
   "metadata": {
    "id": "309b41c9"
   },
   "source": [
    "<font face=\"verdana\" style=\"font-size:30px\" color=\"red\">Your turn</font>\n",
    "\n",
    "The function `plot` takes in a lot of arguments (marker, color, label). Read the docstring to see if you can plot the same lists but each point is marked by a <font color=\"green\">green</font> triangle and the line is dashed (--). "
   ]
  },
  {
   "cell_type": "code",
   "execution_count": null,
   "id": "496b250d",
   "metadata": {
    "id": "496b250d"
   },
   "outputs": [],
   "source": []
  },
  {
   "cell_type": "markdown",
   "id": "bdea01b9",
   "metadata": {
    "id": "bdea01b9"
   },
   "source": [
    "In the event that you are using a .py script, you always need to write `plt.show()` after finishing your graph. This will allow you to see the graph you have created. "
   ]
  },
  {
   "cell_type": "markdown",
   "id": "3b864ca4",
   "metadata": {
    "id": "3b864ca4"
   },
   "source": [
    "Let's add some flair to our graph. The following functions will help us:\n",
    "\n",
    "* `plt.title()`: Set a title, which appears above the plot.\n",
    "* `plt.grid()`: Configure the grid lines in the figure. To enable grid lines in the plot, use plt.grid(True).\n",
    "* `plt.legend()`: Place a legend in the figure.\n",
    "* `plt.xlabel()` and `plt.ylabel()`: Set labels for the axes. \n",
    "* `plt.xlim()` and `plt.ylim()`: Set the limit ranges for the axes "
   ]
  },
  {
   "cell_type": "code",
   "execution_count": null,
   "id": "4e58852d",
   "metadata": {
    "id": "4e58852d",
    "outputId": "925bab42-c168-43ea-e160-95188ec6a12b"
   },
   "outputs": [
    {
     "name": "stderr",
     "output_type": "stream",
     "text": [
      "No handles with labels found to put in legend.\n"
     ]
    },
    {
     "data": {
      "image/png": "[encoded data removed]",
      "text/plain": [
       "<Figure size 432x288 with 1 Axes>"
      ]
     },
     "metadata": {
      "needs_background": "light"
     },
     "output_type": "display_data"
    }
   ],
   "source": [
    "plt.plot([1,3,4,5], [1,7,5,10])\n",
    "plt.title('Simple Linear Graph') #title\n",
    "plt.grid(True) #gridlines\n",
    "plt.xlabel('x values') #label for x\n",
    "plt.ylabel('y values') #label for y\n",
    "plt.xlim([0, 7]) #limits for x axis\n",
    "plt.ylim([0, 15]) #limits for y axis\n",
    "plt.legend() #add a legend\n",
    "plt.show() "
   ]
  },
  {
   "cell_type": "markdown",
   "id": "98d464b9",
   "metadata": {
    "id": "98d464b9"
   },
   "source": [
    "#### <font color=\"red\"> Oh no! </font> \n",
    "Note how we have a warning \"No handles with labels found to put in legend.\". This is because we actually need to label each graph in order to create the legend. \n",
    "\n",
    "\n",
    "<font face=\"verdana\" style=\"font-size:30px\" color=\"red\">Your turn</font>\n",
    "Where should the label go?"
   ]
  },
  {
   "cell_type": "code",
   "execution_count": null,
   "id": "d5b32b68",
   "metadata": {
    "id": "d5b32b68"
   },
   "outputs": [],
   "source": []
  },
  {
   "cell_type": "markdown",
   "id": "uy7OMtpkbqAW",
   "metadata": {
    "id": "uy7OMtpkbqAW"
   },
   "source": []
  },
  {
   "cell_type": "markdown",
   "id": "M6fsu__BQeTH",
   "metadata": {
    "id": "M6fsu__BQeTH"
   },
   "source": [
    "# **Extra**\n",
    "\n",
    "If you're already done and want to challenge yourself, check out the topic below! "
   ]
  },
  {
   "cell_type": "markdown",
   "id": "dd818b7e",
   "metadata": {
    "id": "dd818b7e"
   },
   "source": [
    "## Creating our own modules \n",
    "\n",
    "Most of the time we will want to create our own functions and use them when necessary. To do this we can create our own modules! \n",
    "\n",
    "The file name is the module name with the suffix .py appended. Within a module, the module’s name (as a string) is available as the value of the global variable `__name__`. For instance, use your favorite text editor to create a file called \"helloworld.py\" in the current directory with the following contents\n",
    "\n",
    "`#This file will print hello world \n",
    "def printinghello():\n",
    "    print(\"Hello World!\") `\n",
    "\n",
    "For a step by step explanation go to the \"Creating your own modules\" file. \n"
   ]
  },
  {
   "cell_type": "markdown",
   "id": "c675a5cc",
   "metadata": {
    "id": "c675a5cc"
   },
   "source": [
    "Now enter the Python interpreter and import this module with the following command:"
   ]
  },
  {
   "cell_type": "code",
   "execution_count": null,
   "id": "d88c0990",
   "metadata": {
    "id": "d88c0990"
   },
   "outputs": [],
   "source": [
    "from helloworld import printinghello"
   ]
  },
  {
   "cell_type": "markdown",
   "id": "2d69e99b",
   "metadata": {
    "id": "2d69e99b"
   },
   "source": [
    "Now we can use the functions inside the \"helloworld.py\" script. "
   ]
  },
  {
   "cell_type": "code",
   "execution_count": null,
   "id": "99fbb5e0",
   "metadata": {
    "id": "99fbb5e0",
    "outputId": "af74d5bf-f9e1-448b-d470-b22f7ba62bf7"
   },
   "outputs": [
    {
     "name": "stdout",
     "output_type": "stream",
     "text": [
      "Hello World!\n"
     ]
    }
   ],
   "source": [
    "printinghello()"
   ]
  },
  {
   "cell_type": "markdown",
   "id": "tHh0WMlvTHdM",
   "metadata": {
    "id": "tHh0WMlvTHdM"
   },
   "source": [
    "<font face=\"verdana\" style=\"font-size:30px\" color=\"red\">Your Turn</font>\n",
    "\n",
    "Create a module that **shows** the graph of the first 10 prime numbers. Make sure the graph has a title and labels. "
   ]
  },
  {
   "cell_type": "code",
   "execution_count": null,
   "id": "QEReCyWXTcRa",
   "metadata": {
    "id": "QEReCyWXTcRa"
   },
   "outputs": [],
   "source": []
  },
  {
   "cell_type": "markdown",
   "id": "4552214d",
   "metadata": {
    "id": "4552214d"
   },
   "source": [
    "## LaTeX\n",
    "If you have a working LaTeX installation in your computer, you can have publication-quality plots. The results are very nice, especially when you take care to use the same fonts in your figures as in the main document.\n",
    "\n",
    "Let's see the the graph below..."
   ]
  },
  {
   "cell_type": "code",
   "execution_count": null,
   "id": "78e9bc67",
   "metadata": {
    "colab": {
     "base_uri": "https://localhost:8080/",
     "height": 301
    },
    "executionInfo": {
     "elapsed": 303,
     "status": "ok",
     "timestamp": 1634743009222,
     "user": {
      "displayName": "Adriana Morales Miranda",
      "photoUrl": "https://lh3.googleusercontent.com/a/default-user=s64",
      "userId": "02653100314428723174"
     },
     "user_tz": 300
    },
    "id": "78e9bc67",
    "outputId": "fa890280-2073-4b30-f5ac-66442338d3d8"
   },
   "outputs": [
    {
     "data": {
      "image/png": "[encoded data removed]",
      "text/plain": [
       "<Figure size 432x288 with 1 Axes>"
      ]
     },
     "metadata": {
      "needs_background": "light"
     },
     "output_type": "display_data"
    }
   ],
   "source": [
    "plt.plot([1,2,3,4], [1,4,9,16], color= 'magenta')\n",
    "plt.title(\"Plot $x^2$\")\n",
    "plt.xlabel('$x$ values')\n",
    "plt.ylabel(\"$f(x)= x^2$\")\n",
    "plt.show()"
   ]
  },
  {
   "cell_type": "markdown",
   "id": "9d688e46",
   "metadata": {
    "id": "9d688e46"
   },
   "source": [
    "Note how we used LateX commands to make the label nicer! We can include LateX code by just putting the code inside dollar signs inside a string. "
   ]
  },
  {
   "cell_type": "markdown",
   "id": "XZc-hZJkJ9D_",
   "metadata": {
    "id": "XZc-hZJkJ9D_"
   },
   "source": [
    "## Fibonacci Excercise\n",
    "\n",
    "After we discuss functions you can come back to this! "
   ]
  },
  {
   "cell_type": "markdown",
   "id": "990323e3",
   "metadata": {
    "id": "990323e3"
   },
   "source": [
    "<font face=\"verdana\" style=\"font-size:30px\" color=\"red\">Your Turn</font>\n",
    "\n",
    "Create a file called \"fibo.py\". In the file write two functions:\n",
    "- One function called `fibo1` that **prints** the Fibonacci series up to $n$. \n",
    "- One function called `fibo2` that **returns** the Fibonacci series up to $n$.\n",
    "\n",
    "Import the module and use the functions to calculate the first 5 Fibonacci numbers."
   ]
  },
  {
   "cell_type": "code",
   "execution_count": null,
   "id": "ba184dd9",
   "metadata": {
    "id": "ba184dd9"
   },
   "outputs": [],
   "source": []
  },
  {
   "cell_type": "code",
   "execution_count": null,
   "id": "c7298081",
   "metadata": {
    "id": "c7298081"
   },
   "outputs": [],
   "source": []
  }
 ],
 "metadata": {
  "colab": {
   "collapsed_sections": [],
   "provenance": []
  },
  "kernelspec": {
   "display_name": "Python 3 (ipykernel)",
   "language": "python",
   "name": "python3"
  },
  "language_info": {
   "codemirror_mode": {
    "name": "ipython",
    "version": 3
   },
   "file_extension": ".py",
   "mimetype": "text/x-python",
   "name": "python",
   "nbconvert_exporter": "python",
   "pygments_lexer": "ipython3",
   "version": "3.11.4"
  }
 },
 "nbformat": 4,
 "nbformat_minor": 5
}

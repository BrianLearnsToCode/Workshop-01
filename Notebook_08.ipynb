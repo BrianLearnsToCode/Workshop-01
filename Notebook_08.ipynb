{
 "cells": [
  {
   "cell_type": "markdown",
   "id": "cb5140ef",
   "metadata": {},
   "source": [
    "<img src=\"images/Picture0.png\" width=200x />\n",
    "\n",
    "# Notebook 08 - A Short Primer on Debugging\n",
    "Code development is a rewarding experience which can provide great short-term reward. On the flip side, code which does not behave as anticipated can be an extremely frustrating experience. And there we are, debugging and starting to brain-loop over our own code. This section will provide few tips and pointers on how to investigate your faulty code and hopefully reduce your frustrations.\n",
    "\n",
    "## Instructions\n",
    "Read the material below and complete the exercises.\n",
    "\n",
    "Material covered in this notebook:\n",
    "\n",
    "- How to call the Python degugger\n",
    "- Basic commands in the debugger\n",
    "- What to do after importing faulty module \n",
    "\n",
    "### Credits\n",
    "- Original version from Martin-D.Lacasse @ INMAS\n",
    "- Dice game example from [pdb_tutorial](https://github.com/spiside/pdb-tutorial) under MIT license\n"
   ]
  },
  {
   "cell_type": "markdown",
   "id": "5ae979a7",
   "metadata": {},
   "source": [
    "## The Poorman Debugger\n",
    "A very common approach to debugging is to scatter `print()` statements all over your code. Python is great for that purpose as it natively understands how to print almost any object it creates. This approach is easy, but not particularly efficient as one deals with large arrays. We'll try to cover a few scenarios and give you a few better strategies for debugging your code.\n",
    "\n",
    "## Debugging modules\n",
    "When debugging modules, it is important to import them again after changes are made. Unfortunately, the way to reload modules has changed a few times and evolved depending on which version of Python you are running. For Python version after 3.4, this is done using the `importlib` module as `import` will not re-import a module already imported. Let's see how this works in practice with a very simple example. Another way to re-import a module is to restart your kernel all together, but this is not always practical.\n",
    "\n",
    "First we will learn how to import modules from subdirectories. Here, the module *faultyModule* is located in a directory called *Code_08*. Just notice how the directory becomes considered as a unifying module."
   ]
  },
  {
   "cell_type": "code",
   "execution_count": 1,
   "id": "64c8d71f",
   "metadata": {},
   "outputs": [],
   "source": [
    "from Code_08 import faultyModule"
   ]
  },
  {
   "cell_type": "markdown",
   "id": "58f813b0",
   "metadata": {},
   "source": [
    "We can investigate what is in this module using the `dir()` function and the `__doc__` strings."
   ]
  },
  {
   "cell_type": "code",
   "execution_count": 2,
   "id": "49d29e93",
   "metadata": {},
   "outputs": [
    {
     "data": {
      "text/plain": [
       "['__builtins__',\n",
       " '__cached__',\n",
       " '__doc__',\n",
       " '__file__',\n",
       " '__loader__',\n",
       " '__name__',\n",
       " '__package__',\n",
       " '__spec__',\n",
       " 'computePi']"
      ]
     },
     "execution_count": 2,
     "metadata": {},
     "output_type": "execute_result"
    }
   ],
   "source": [
    "dir(faultyModule)"
   ]
  },
  {
   "cell_type": "code",
   "execution_count": 3,
   "id": "517470d2",
   "metadata": {},
   "outputs": [
    {
     "name": "stdout",
     "output_type": "stream",
     "text": [
      "\n",
      "A faulty module to demonstrate the use of importlib.reload()\n",
      "\n",
      "Compute pi/4 using arctan() Taylor series and print Pi on std output\n"
     ]
    }
   ],
   "source": [
    "print(faultyModule.__doc__)\n",
    "print(faultyModule.computePi.__doc__)"
   ]
  },
  {
   "cell_type": "markdown",
   "id": "5e332f84",
   "metadata": {},
   "source": [
    "Now let's run the only function in this module."
   ]
  },
  {
   "cell_type": "code",
   "execution_count": 4,
   "id": "cbdb21f5",
   "metadata": {},
   "outputs": [
    {
     "ename": "UnboundLocalError",
     "evalue": "cannot access local variable 'p' where it is not associated with a value",
     "output_type": "error",
     "traceback": [
      "\u001b[1;31m---------------------------------------------------------------------------\u001b[0m",
      "\u001b[1;31mUnboundLocalError\u001b[0m                         Traceback (most recent call last)",
      "Cell \u001b[1;32mIn[4], line 1\u001b[0m\n\u001b[1;32m----> 1\u001b[0m faultyModule\u001b[38;5;241m.\u001b[39mcomputePi()\n",
      "File \u001b[1;32m~\\OneDrive\\Documents\\JHU\\INMAS\\Workshops\\1- Python\\Final 2022\\github\\Code_08\\faultyModule.py:10\u001b[0m, in \u001b[0;36mcomputePi\u001b[1;34m()\u001b[0m\n\u001b[0;32m      8\u001b[0m sign \u001b[38;5;241m=\u001b[39m \u001b[38;5;241m1\u001b[39m\n\u001b[0;32m      9\u001b[0m \u001b[38;5;28;01mwhile\u001b[39;00m n \u001b[38;5;241m<\u001b[39m \u001b[38;5;241m1000000\u001b[39m:\n\u001b[1;32m---> 10\u001b[0m     p \u001b[38;5;241m+\u001b[39m\u001b[38;5;241m=\u001b[39m sign\u001b[38;5;241m/\u001b[39mn\n\u001b[0;32m     11\u001b[0m     sign \u001b[38;5;241m*\u001b[39m\u001b[38;5;241m=\u001b[39m \u001b[38;5;241m-\u001b[39m\u001b[38;5;241m1\u001b[39m\n\u001b[0;32m     12\u001b[0m     n \u001b[38;5;241m+\u001b[39m\u001b[38;5;241m=\u001b[39m \u001b[38;5;241m2\u001b[39m\n",
      "\u001b[1;31mUnboundLocalError\u001b[0m: cannot access local variable 'p' where it is not associated with a value"
     ]
    }
   ],
   "source": [
    "faultyModule.computePi()"
   ]
  },
  {
   "cell_type": "markdown",
   "id": "fd11385e",
   "metadata": {},
   "source": [
    "Oops! Now edit the code in another Jupyter tab and fix the problem. First `import` and try to run again. It won't work. Try `reload` and run again."
   ]
  },
  {
   "cell_type": "code",
   "execution_count": null,
   "id": "c5b7fb7f",
   "metadata": {},
   "outputs": [],
   "source": [
    "# import importlib\n",
    "# importlib.reload(Code_08/faultyModule)\n",
    "from Code_08 import faultyModule\n",
    "faultyModule.computePi()"
   ]
  },
  {
   "cell_type": "markdown",
   "id": "6bcb1b5a",
   "metadata": {},
   "source": [
    "This was an easy bug to find as Python's run-time diagnostics have significantly improved with version number. Other situations require to slowly go through the code and interrogate the various variables. This can be done with `pdb`, the Python debugger which we will cover shortly.\n",
    "\n",
    "Another common problem with Python is when a module is not found while importing it. This can be diagnosed using the following code before the import statement."
   ]
  },
  {
   "cell_type": "code",
   "execution_count": null,
   "id": "11e5b727",
   "metadata": {},
   "outputs": [],
   "source": [
    "import sys\n",
    "import os\n",
    "# print(sys.path)\n",
    "for dir in sys.path:\n",
    "    print('\"'+dir+'\"', os.path.isfile(os.path.join(dir, 'Code_08/faultyModule.py')))"
   ]
  },
  {
   "cell_type": "markdown",
   "id": "e1fb0672",
   "metadata": {},
   "source": [
    "## Debugging code\n"
   ]
  },
  {
   "cell_type": "markdown",
   "id": "c0d160da",
   "metadata": {},
   "source": [
    "The Python debugger can be run interactively, or through Jupyter as"
   ]
  },
  {
   "cell_type": "code",
   "execution_count": 5,
   "id": "5bde5807",
   "metadata": {},
   "outputs": [
    {
     "name": "stdout",
     "output_type": "stream",
     "text": [
      "Automatic pdb calling has been turned ON\n"
     ]
    }
   ],
   "source": [
    "%pdb on"
   ]
  },
  {
   "cell_type": "markdown",
   "id": "93d2548d",
   "metadata": {},
   "source": [
    "From now on, the Python debugger will be called when an exception is raised, or when a breakpoint is set. We will now go though the exercise of debugging a game written by Spiro Sideris to learn arithmetics by adding values on a series of dice. Let's play it a few runs until..."
   ]
  },
  {
   "cell_type": "code",
   "execution_count": 6,
   "id": "d6690374",
   "metadata": {},
   "outputs": [
    {
     "name": "stdout",
     "output_type": "stream",
     "text": [
      "Add the values of the dice\n",
      "It's really that easy\n",
      "What are you doing with your life.\n",
      "Round 1\n",
      "\n",
      "---------\n",
      "|*     *|\n",
      "|*     *|\n",
      "|*     *|\n",
      "---------\n",
      "---------\n",
      "|*      |\n",
      "|   *   |\n",
      "|      *|\n",
      "---------\n",
      "---------\n",
      "|*     *|\n",
      "|   *   |\n",
      "|*     *|\n",
      "---------\n",
      "---------\n",
      "|*     *|\n",
      "|*     *|\n",
      "|*     *|\n",
      "---------\n",
      "---------\n",
      "|*      |\n",
      "|   *   |\n",
      "|      *|\n",
      "---------\n",
      "Sigh. What is your guess?: 24\n",
      "Sorry that's wrong\n",
      "The answer is: 5\n",
      "Like seriously, how could you mess that up\n",
      "Wins: 0 Loses 1\n",
      "Would you like to play again?[Y/n]: n\n"
     ]
    },
    {
     "ename": "UnnecessaryError",
     "evalue": "You actually called this function...",
     "output_type": "error",
     "traceback": [
      "\u001b[1;31m---------------------------------------------------------------------------\u001b[0m",
      "\u001b[1;31mUnnecessaryError\u001b[0m                          Traceback (most recent call last)",
      "File \u001b[1;32m~\\OneDrive\\Documents\\JHU\\INMAS\\Workshops\\1- Python\\Final 2022\\github\\Code_08\\main.py:13\u001b[0m\n\u001b[0;32m      9\u001b[0m     GameRunner\u001b[38;5;241m.\u001b[39mrun()\n\u001b[0;32m     12\u001b[0m \u001b[38;5;28;01mif\u001b[39;00m \u001b[38;5;18m__name__\u001b[39m \u001b[38;5;241m==\u001b[39m \u001b[38;5;124m\"\u001b[39m\u001b[38;5;124m__main__\u001b[39m\u001b[38;5;124m\"\u001b[39m:\n\u001b[1;32m---> 13\u001b[0m     main()\n",
      "File \u001b[1;32m~\\OneDrive\\Documents\\JHU\\INMAS\\Workshops\\1- Python\\Final 2022\\github\\Code_08\\main.py:9\u001b[0m, in \u001b[0;36mmain\u001b[1;34m()\u001b[0m\n\u001b[0;32m      6\u001b[0m \u001b[38;5;28mprint\u001b[39m(\u001b[38;5;124m\"\u001b[39m\u001b[38;5;124mIt\u001b[39m\u001b[38;5;124m'\u001b[39m\u001b[38;5;124ms really that easy\u001b[39m\u001b[38;5;124m\"\u001b[39m)\n\u001b[0;32m      7\u001b[0m \u001b[38;5;28mprint\u001b[39m(\u001b[38;5;124m\"\u001b[39m\u001b[38;5;124mWhat are you doing with your life.\u001b[39m\u001b[38;5;124m\"\u001b[39m)\n\u001b[1;32m----> 9\u001b[0m GameRunner\u001b[38;5;241m.\u001b[39mrun()\n",
      "File \u001b[1;32m~\\OneDrive\\Documents\\JHU\\INMAS\\Workshops\\1- Python\\Final 2022\\github\\Code_08\\dicegame\\runner.py:60\u001b[0m, in \u001b[0;36mGameRunner.run\u001b[1;34m(cls)\u001b[0m\n\u001b[0;32m     58\u001b[0m     \u001b[38;5;28;01mcontinue\u001b[39;00m\n\u001b[0;32m     59\u001b[0m \u001b[38;5;28;01melse\u001b[39;00m:\n\u001b[1;32m---> 60\u001b[0m     i_just_throw_an_exception()\n",
      "File \u001b[1;32m~\\OneDrive\\Documents\\JHU\\INMAS\\Workshops\\1- Python\\Final 2022\\github\\Code_08\\dicegame\\utils.py:11\u001b[0m, in \u001b[0;36mi_just_throw_an_exception\u001b[1;34m()\u001b[0m\n\u001b[0;32m      8\u001b[0m     value \u001b[38;5;241m+\u001b[39m\u001b[38;5;241m=\u001b[39m \u001b[38;5;241m1\u001b[39m\n\u001b[0;32m     10\u001b[0m some_value \u001b[38;5;241m=\u001b[39m \u001b[38;5;124m\"\u001b[39m\u001b[38;5;124mI don\u001b[39m\u001b[38;5;124m'\u001b[39m\u001b[38;5;124mt know what you were expecting\u001b[39m\u001b[38;5;124m\"\u001b[39m\n\u001b[1;32m---> 11\u001b[0m \u001b[38;5;28;01mraise\u001b[39;00m UnnecessaryError(\u001b[38;5;124m\"\u001b[39m\u001b[38;5;124mYou actually called this function...\u001b[39m\u001b[38;5;124m\"\u001b[39m)\n",
      "\u001b[1;31mUnnecessaryError\u001b[0m: You actually called this function..."
     ]
    },
    {
     "name": "stdout",
     "output_type": "stream",
     "text": [
      "> \u001b[1;32mc:\\users\\marti\\onedrive\\documents\\jhu\\inmas\\workshops\\1- python\\final 2022\\github\\code_08\\dicegame\\utils.py\u001b[0m(11)\u001b[0;36mi_just_throw_an_exception\u001b[1;34m()\u001b[0m\n",
      "\u001b[1;32m      7 \u001b[1;33m    \u001b[1;32mdef\u001b[0m \u001b[0msome_inner_function\u001b[0m\u001b[1;33m(\u001b[0m\u001b[1;33m)\u001b[0m\u001b[1;33m:\u001b[0m\u001b[1;33m\u001b[0m\u001b[1;33m\u001b[0m\u001b[0m\n",
      "\u001b[0m\u001b[1;32m      8 \u001b[1;33m        \u001b[0mvalue\u001b[0m \u001b[1;33m+=\u001b[0m \u001b[1;36m1\u001b[0m\u001b[1;33m\u001b[0m\u001b[1;33m\u001b[0m\u001b[0m\n",
      "\u001b[0m\u001b[1;32m      9 \u001b[1;33m\u001b[1;33m\u001b[0m\u001b[0m\n",
      "\u001b[0m\u001b[1;32m     10 \u001b[1;33m    \u001b[0msome_value\u001b[0m \u001b[1;33m=\u001b[0m \u001b[1;34m\"I don't know what you were expecting\"\u001b[0m\u001b[1;33m\u001b[0m\u001b[1;33m\u001b[0m\u001b[0m\n",
      "\u001b[0m\u001b[1;32m---> 11 \u001b[1;33m    \u001b[1;32mraise\u001b[0m \u001b[0mUnnecessaryError\u001b[0m\u001b[1;33m(\u001b[0m\u001b[1;34m\"You actually called this function...\"\u001b[0m\u001b[1;33m)\u001b[0m\u001b[1;33m\u001b[0m\u001b[1;33m\u001b[0m\u001b[0m\n",
      "\u001b[0m\n",
      "ipdb> q\n"
     ]
    }
   ],
   "source": [
    "%run Code_08/main.py"
   ]
  },
  {
   "cell_type": "markdown",
   "id": "febf13ee",
   "metadata": {},
   "source": [
    "The game seems to be broken as the dice are not added correctly, and an exception gets thrown when we quit playing for some reason. As you can see, the debugger was called once an exception happened. This is shown by the pdb prompt and the additional input rectangle. \n",
    "\n",
    "At this point, we haven't discussed how to use pdb. So let's turn it off, but before we need to quit the debugger at the `ipdb>` prompt by typing 'q'."
   ]
  },
  {
   "cell_type": "code",
   "execution_count": null,
   "id": "45632437",
   "metadata": {
    "scrolled": true
   },
   "outputs": [],
   "source": [
    "%pdb off"
   ]
  },
  {
   "cell_type": "markdown",
   "id": "13a04701",
   "metadata": {},
   "source": [
    "With only a few commands, you will be able to achieve a lot in pdb. Here they are:\n",
    "- l (list)- Display 11 lines from where the current execution line is\n",
    "- s (step) - Execute one step from the current execution line\n",
    "- n (next) - Execute one step in the current function without going down in subfunctions\n",
    "- b (break) ... - set a break point at...\n",
    "- r (return) - Continue execution in current function until it returns\n",
    "- c (continue) - Continue the execution until next break point if any, or program termination\n",
    "- h (help) - Will list all commands. 'help list' will give you help on list\n",
    "- q (quit) - quit debugger.\n",
    "\n",
    "Typing the name of a variable will display its value. This means that variables called 'r', or 'l' are out of luck. Remember this when calling your variables in Python. Regardless of the software development environment that you use, these debugging commands are always the same. \n",
    "\n",
    "We will now manually set a breakpoint in the code. In another tab, edit file 'Code_08/main.py' and add a line as follows:\n",
    "```python\n",
    "from dicegame.runner import GameRunner\n",
    "\n",
    "\n",
    "def main():\n",
    "    print(\"Add the values of the dice\")\n",
    "    print(\"It's really that easy\")\n",
    "    print(\"What are you doing with your life.\")\n",
    "    import pdb; pdb.set_trace() # add pdb here\n",
    "    GameRunner.run()\n",
    "\n",
    "\n",
    "if __name__ == \"__main__\":\n",
    "    main()\n",
    "\n",
    "```\n",
    "Now let's run it again... And slowly go through the instructions in the next cell by typing these commands at the `>ipdb` prompt.\n"
   ]
  },
  {
   "cell_type": "code",
   "execution_count": null,
   "id": "df64a379",
   "metadata": {},
   "outputs": [],
   "source": [
    "%run Code_08/main.py"
   ]
  },
  {
   "cell_type": "markdown",
   "id": "a8eda0ad",
   "metadata": {},
   "source": [
    "The line we added hasn't done much except stop the execution of the script right after the `set_trace()` line, before entering the `run()` function. This allows us to slowly step through the code (using the 's' command). The displayed '->' in the source code shows where the execution is at. One step and we enter the run() function. One more and we land on variable 'c' that is getting initialized. Bad name, as it would conflict with the c(ontinue) command of the debugger if we were to interrogate its value. Its value, however,  can still be displayed using `print(c)` at the debugger's prompt. Now let's use 'n' to avoid going down in the rabbit hole of called sub functions.\n",
    "- Call 'n' a few more times until you get to the `for` loop on line 31.\n",
    "- Look at the length of the `for` loop by typing `len(runner.dice)`.\n",
    "- At this point, we could call 'n' 5 more times, but instead we will set a breakpoint at line 34 using `b 34`.\n",
    "- Using 'c' (continue) we can execute until this new breakpoint. We just jumped over the `for` loop.\n",
    "- Breakpoints can be displayed by using the 'b' command without any argument. To clear the break point we just hit, we use the 'clear Num' function on the 'Num' displayed in the leftmost column. Therefore, 'cl 1' would clear the breakpoint we just set.\n",
    "- We are still at line 34 of the runner.py source file.\n",
    "\n",
    "- Our script had two issues: (1) It couldn't add dice properly and (2) it threw an exception after quiting to play. Line 37 contains the statement where dice are added. The addition error has to be where the `guess == runner.answer()` equality condition. We 'n' to line 35 where we will need to input our answer. \n",
    "- We 'n' again to line 37 where we will step 's' to go into `runner.answer()` and investigate.\n",
    "- Our first step into `runner.answer()` lands on line 15 on the `answer()` definition. It doesn't look like the `total` variable is correctly adding the values of the dice.\n",
    "- Jump into the `for` loop on line 18 by either setting a breakpoint and continue, or using next a few times.\n",
    "- Use `dir(die)` to check whether a `die` has an attibute which would contain its value. \n",
    "- We can compare the value of the die with what is shown using `die.value` and `die.show()`. Note that the `\\n` characters can be interpreted using `print(die.show())`. Value and die seem to match. The error is that total does not properly add values while it is iterating over the dice. We found one bug and its solution so that you now know how to fix the `answer()` method.\n",
    "\n",
    "- We can now continue and try to find the other bug. We instruct the debugger to return from the answer() function by typing 'r' and jump to the last line (19) of the answer() function.\n",
    "- 'total' will display the value of the variable, confirming that the loop is counting dice rather than adding their values.\n",
    "\n",
    "<div class=\"alert alert-block alert-info\">\n",
    "    - (Optional) The script contains a few more bugs. Use the `pdb` commands you just learnt to investigate and fix the game.\n",
    "    <br>- (Optional) File 'Code_08/README.md' contains additional topics such as post-mortem analysis. These methods are helpful for debugging a script after a crash as opposed to interactively as we did.\n",
    "</div>\n",
    "\n"
   ]
  }
 ],
 "metadata": {
  "kernelspec": {
   "display_name": "Python 3 (ipykernel)",
   "language": "python",
   "name": "python3"
  },
  "language_info": {
   "codemirror_mode": {
    "name": "ipython",
    "version": 3
   },
   "file_extension": ".py",
   "mimetype": "text/x-python",
   "name": "python",
   "nbconvert_exporter": "python",
   "pygments_lexer": "ipython3",
   "version": "3.11.4"
  }
 },
 "nbformat": 4,
 "nbformat_minor": 5
}

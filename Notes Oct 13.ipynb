{
 "cells": [
  {
   "cell_type": "markdown",
   "id": "00142d8b",
   "metadata": {},
   "source": [
    "gitpush"
   ]
  },
  {
   "cell_type": "code",
   "execution_count": 34,
   "id": "6c930d72",
   "metadata": {},
   "outputs": [],
   "source": [
    "#best way to great a list of consecutive intergers\n",
    "#is it \n",
    "list(range(1,13))\n",
    "#or \n",
    "months = [i for i in range(1,13)]"
   ]
  },
  {
   "cell_type": "code",
   "execution_count": 25,
   "id": "ec0cb6ad",
   "metadata": {},
   "outputs": [
    {
     "name": "stdout",
     "output_type": "stream",
     "text": [
      "1 2 3 4 5 6 7 8 9 10 11 12\n"
     ]
    }
   ],
   "source": [
    "print(*months)"
   ]
  },
  {
   "cell_type": "code",
   "execution_count": 26,
   "id": "6f478566",
   "metadata": {},
   "outputs": [
    {
     "data": {
      "text/plain": [
       "[12, 1, 2]"
      ]
     },
     "execution_count": 26,
     "metadata": {},
     "output_type": "execute_result"
    }
   ],
   "source": [
    "months[-1:]+months[0:2]"
   ]
  },
  {
   "cell_type": "code",
   "execution_count": 27,
   "id": "8ba3d61c",
   "metadata": {},
   "outputs": [
    {
     "name": "stdout",
     "output_type": "stream",
     "text": [
      "['Jan', 2, 3, 4, 5, 6, 7, 8, 9, 10, 11, 12]\n"
     ]
    }
   ],
   "source": [
    "refer = months\n",
    "refer[0] = 'Jan'\n",
    "print(months)"
   ]
  },
  {
   "cell_type": "code",
   "execution_count": 28,
   "id": "9dd0b621",
   "metadata": {},
   "outputs": [
    {
     "name": "stdout",
     "output_type": "stream",
     "text": [
      "['Jan', 2, 3, 4, 5, 6, 7, 8, 9, 10, 11, 12]\n"
     ]
    }
   ],
   "source": [
    "refert = list(months)\n",
    "refer[0] = 'Jan'\n",
    "print(months)"
   ]
  },
  {
   "cell_type": "code",
   "execution_count": 29,
   "id": "45d165f7",
   "metadata": {},
   "outputs": [
    {
     "name": "stdout",
     "output_type": "stream",
     "text": [
      "['u', 'n', 'i', 'v', 'e', 'r', 's', 'i', 't', 'y', ' ', 'o', 'f', ' ', 'I', 'l', 'l', 'i', 'n', 'o', 'i', 's']\n"
     ]
    },
    {
     "data": {
      "text/plain": [
       "'University of Illinois'"
      ]
     },
     "execution_count": 29,
     "metadata": {},
     "output_type": "execute_result"
    }
   ],
   "source": [
    "university_name = \"university of Illinois\"\n",
    "unl = list(university_name)\n",
    "print(unl)\n",
    "unl[0]='U'\n",
    "''.join(unl)"
   ]
  },
  {
   "cell_type": "code",
   "execution_count": 30,
   "id": "eb239f93",
   "metadata": {},
   "outputs": [
    {
     "data": {
      "text/plain": [
       "True"
      ]
     },
     "execution_count": 30,
     "metadata": {},
     "output_type": "execute_result"
    }
   ],
   "source": [
    "5 not in [1,3,4] # how much time it takes"
   ]
  },
  {
   "cell_type": "code",
   "execution_count": 32,
   "id": "453f4504",
   "metadata": {},
   "outputs": [
    {
     "name": "stdout",
     "output_type": "stream",
     "text": [
      "No\n"
     ]
    }
   ],
   "source": [
    "if []:\n",
    "    print('Yes')\n",
    "else:\n",
    "    print('No')"
   ]
  },
  {
   "cell_type": "code",
   "execution_count": 40,
   "id": "e9e1a26a",
   "metadata": {},
   "outputs": [
    {
     "data": {
      "text/plain": [
       "<zip at 0x1fec19040c0>"
      ]
     },
     "execution_count": 40,
     "metadata": {},
     "output_type": "execute_result"
    }
   ],
   "source": [
    "inverse_count = list(range(12,0,-1))\n",
    "zip(months,inverse_count)"
   ]
  },
  {
   "cell_type": "code",
   "execution_count": 41,
   "id": "da4f5f11",
   "metadata": {},
   "outputs": [
    {
     "name": "stdout",
     "output_type": "stream",
     "text": [
      "Yeah\n"
     ]
    }
   ],
   "source": [
    "if type('') is str:\n",
    "    print('Yeah')"
   ]
  },
  {
   "cell_type": "code",
   "execution_count": null,
   "id": "b0773a57",
   "metadata": {},
   "outputs": [],
   "source": []
  }
 ],
 "metadata": {
  "kernelspec": {
   "display_name": "Python 3 (ipykernel)",
   "language": "python",
   "name": "python3"
  },
  "language_info": {
   "codemirror_mode": {
    "name": "ipython",
    "version": 3
   },
   "file_extension": ".py",
   "mimetype": "text/x-python",
   "name": "python",
   "nbconvert_exporter": "python",
   "pygments_lexer": "ipython3",
   "version": "3.10.7"
  }
 },
 "nbformat": 4,
 "nbformat_minor": 5
}
